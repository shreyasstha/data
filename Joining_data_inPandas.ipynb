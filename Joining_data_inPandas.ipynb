{
  "nbformat": 4,
  "nbformat_minor": 0,
  "metadata": {
    "colab": {
      "provenance": [],
      "toc_visible": true,
      "authorship_tag": "ABX9TyOonGpIaO+PLx2QZb9RBmUL",
      "include_colab_link": true
    },
    "kernelspec": {
      "name": "python3",
      "display_name": "Python 3"
    },
    "language_info": {
      "name": "python"
    }
  },
  "cells": [
    {
      "cell_type": "markdown",
      "metadata": {
        "id": "view-in-github",
        "colab_type": "text"
      },
      "source": [
        "<a href=\"https://colab.research.google.com/github/shreyasstha/data/blob/main/Joining_data_inPandas.ipynb\" target=\"_parent\"><img src=\"https://colab.research.google.com/assets/colab-badge.svg\" alt=\"Open In Colab\"/></a>"
      ]
    },
    {
      "cell_type": "code",
      "execution_count": 1,
      "metadata": {
        "colab": {
          "base_uri": "https://localhost:8080/"
        },
        "id": "aSmDmXnOMF-t",
        "outputId": "3c6bca2c-3bf8-4e74-a8c1-b7dd91ffc5a4"
      },
      "outputs": [
        {
          "output_type": "stream",
          "name": "stdout",
          "text": [
            "   student_id student_name  age  gender\n",
            "0         101        Alice   20  Female\n",
            "1         102          Bob   22    Male\n",
            "2         103      Charlie   21    Male\n",
            "3         104        David   23    Male\n",
            "4         105          Eva   22  Female\n",
            "   student_id  subject  score\n",
            "0         101     Math     88\n",
            "1         102  Science     75\n",
            "2         103  English     92\n",
            "3         101  Science     81\n",
            "4         104     Math     67\n",
            "5         105  English     78\n",
            "6         102     Math     85\n",
            "   subject teacher_name classroom\n",
            "0     Math    Mr.Sharma      A101\n",
            "1  Science     Ms.Karki      B202\n",
            "2  English    Mrs.Joshi      C303\n",
            "3   Nepali      Mr.Lama      D404\n"
          ]
        }
      ],
      "source": [
        "import pandas as pd\n",
        "\n",
        "student = pd.read_csv(\"student.csv\")\n",
        "score = pd.read_csv(\"score.csv\")\n",
        "classroom = pd.read_csv(\"classroom.csv\")\n",
        "\n",
        "print(student)\n",
        "print(score)\n",
        "print(classroom)"
      ]
    },
    {
      "cell_type": "markdown",
      "source": [
        "#merge table"
      ],
      "metadata": {
        "id": "_nkKbxQrtdBT"
      }
    },
    {
      "cell_type": "code",
      "source": [
        "student_details = pd.merge(student, score, on=\"student_id\")\n",
        "print(student_details)"
      ],
      "metadata": {
        "colab": {
          "base_uri": "https://localhost:8080/"
        },
        "id": "VLyQ1ps-OIeZ",
        "outputId": "d8eadc79-9772-43c8-cff3-70eaf83e4c9e"
      },
      "execution_count": 2,
      "outputs": [
        {
          "output_type": "stream",
          "name": "stdout",
          "text": [
            "   student_id student_name  age  gender  subject  score\n",
            "0         101        Alice   20  Female     Math     88\n",
            "1         101        Alice   20  Female  Science     81\n",
            "2         102          Bob   22    Male  Science     75\n",
            "3         102          Bob   22    Male     Math     85\n",
            "4         103      Charlie   21    Male  English     92\n",
            "5         104        David   23    Male     Math     67\n",
            "6         105          Eva   22  Female  English     78\n"
          ]
        }
      ]
    },
    {
      "cell_type": "code",
      "source": [
        "print(student.merge(score, on=\"student_id\", how=\"left\"))\n",
        "#left_join =>all the rows from left side and only the rows from right side with matching values\n",
        "#join = inner, left, right, outer\n",
        "#same result as above"
      ],
      "metadata": {
        "colab": {
          "base_uri": "https://localhost:8080/"
        },
        "id": "gdX3gweUO535",
        "outputId": "b9e6b6b0-076e-4e72-88d8-17776eb65bf4"
      },
      "execution_count": 3,
      "outputs": [
        {
          "output_type": "stream",
          "name": "stdout",
          "text": [
            "   student_id student_name  age  gender  subject  score\n",
            "0         101        Alice   20  Female     Math     88\n",
            "1         101        Alice   20  Female  Science     81\n",
            "2         102          Bob   22    Male  Science     75\n",
            "3         102          Bob   22    Male     Math     85\n",
            "4         103      Charlie   21    Male  English     92\n",
            "5         104        David   23    Male     Math     67\n",
            "6         105          Eva   22  Female  English     78\n"
          ]
        }
      ]
    },
    {
      "cell_type": "code",
      "source": [
        "score_to_subject = score.merge(classroom, on=\"subject\")\n",
        "\n",
        "c = score_to_subject[\"subject\"] == \"English\"\n",
        "english = score_to_subject[c]\n",
        "\n",
        "c = score_to_subject[\"subject\"] == \"Math\"\n",
        "math = score_to_subject[c]\n",
        "\n",
        "english_math = english.merge(math, on=\"subject\", how=\"outer\", suffixes=(\"_eng\", \"_math\"))\n",
        "\n",
        "print(english_math)"
      ],
      "metadata": {
        "colab": {
          "base_uri": "https://localhost:8080/"
        },
        "id": "OQxJLYbXZqy9",
        "outputId": "c7d0f137-8fcd-4a31-99b1-e7fda33dfbdc"
      },
      "execution_count": 4,
      "outputs": [
        {
          "output_type": "stream",
          "name": "stdout",
          "text": [
            "   student_id_eng  subject  score_eng teacher_name_eng classroom_eng  \\\n",
            "0           103.0  English       92.0        Mrs.Joshi          C303   \n",
            "1           105.0  English       78.0        Mrs.Joshi          C303   \n",
            "2             NaN     Math        NaN              NaN           NaN   \n",
            "3             NaN     Math        NaN              NaN           NaN   \n",
            "4             NaN     Math        NaN              NaN           NaN   \n",
            "\n",
            "   student_id_math  score_math teacher_name_math classroom_math  \n",
            "0              NaN         NaN               NaN            NaN  \n",
            "1              NaN         NaN               NaN            NaN  \n",
            "2            101.0        88.0         Mr.Sharma           A101  \n",
            "3            104.0        67.0         Mr.Sharma           A101  \n",
            "4            102.0        85.0         Mr.Sharma           A101  \n"
          ]
        }
      ]
    },
    {
      "cell_type": "code",
      "source": [
        "student_score = pd.merge(student ,score, on=\"student_id\")\n",
        "\n",
        "print(student_score)\n",
        "\n",
        "print(student.shape)\n",
        "print(student_score.shape)"
      ],
      "metadata": {
        "colab": {
          "base_uri": "https://localhost:8080/"
        },
        "id": "eY2ETVhcPJtJ",
        "outputId": "c2258ae7-d49d-4b22-df0e-7cb241751b7d"
      },
      "execution_count": null,
      "outputs": [
        {
          "output_type": "stream",
          "name": "stdout",
          "text": [
            "   student_id student_name  age  gender  subject  score\n",
            "0         101        Alice   20  Female     Math     88\n",
            "1         101        Alice   20  Female  Science     81\n",
            "2         102          Bob   22    Male  Science     75\n",
            "3         102          Bob   22    Male     Math     85\n",
            "4         103      Charlie   21    Male  English     92\n",
            "5         104        David   23    Male     Math     67\n",
            "6         105          Eva   22  Female  English     78\n",
            "(5, 4)\n",
            "(7, 6)\n"
          ]
        }
      ]
    },
    {
      "cell_type": "code",
      "source": [
        "# First join students with scores\n",
        "student_scores = pd.merge(student, score, on=\"student_id\")\n",
        "\n",
        "# Then join with classrooms using the subject\n",
        "full_data = pd.merge(student_scores, classroom, on=\"subject\")\n",
        "\n",
        "print(full_data)\n"
      ],
      "metadata": {
        "id": "LuzaqhAmT8wT",
        "colab": {
          "base_uri": "https://localhost:8080/"
        },
        "outputId": "d0832874-7d1a-4086-8090-9fc6b988e7e3"
      },
      "execution_count": null,
      "outputs": [
        {
          "output_type": "stream",
          "name": "stdout",
          "text": [
            "   student_id student_name  age  gender  subject  score teacher_name classroom\n",
            "0         101        Alice   20  Female     Math     88    Mr.Sharma      A101\n",
            "1         101        Alice   20  Female  Science     81     Ms.Karki      B202\n",
            "2         102          Bob   22    Male  Science     75     Ms.Karki      B202\n",
            "3         102          Bob   22    Male     Math     85    Mr.Sharma      A101\n",
            "4         103      Charlie   21    Male  English     92    Mrs.Joshi      C303\n",
            "5         104        David   23    Male     Math     67    Mr.Sharma      A101\n",
            "6         105          Eva   22  Female  English     78    Mrs.Joshi      C303\n"
          ]
        }
      ]
    },
    {
      "cell_type": "code",
      "source": [
        "print(score.merge(classroom, on=\"subject\"))"
      ],
      "metadata": {
        "colab": {
          "base_uri": "https://localhost:8080/"
        },
        "id": "gWzBxB05OaZ0",
        "outputId": "de445ba5-103f-4e6e-d91f-f1b8e0acf4e9"
      },
      "execution_count": null,
      "outputs": [
        {
          "output_type": "stream",
          "name": "stdout",
          "text": [
            "   student_id  subject  score teacher_name classroom\n",
            "0         101     Math     88    Mr.Sharma      A101\n",
            "1         102  Science     75     Ms.Karki      B202\n",
            "2         103  English     92    Mrs.Joshi      C303\n",
            "3         101  Science     81     Ms.Karki      B202\n",
            "4         104     Math     67    Mr.Sharma      A101\n",
            "5         105  English     78    Mrs.Joshi      C303\n",
            "6         102     Math     85    Mr.Sharma      A101\n"
          ]
        }
      ]
    },
    {
      "cell_type": "code",
      "source": [
        "student_score_classromm = student.merge(score, on =\"student_id\")\\\n",
        "                                 .merge(classroom, on =\"subject\")\n",
        "print(student_score_classromm)"
      ],
      "metadata": {
        "colab": {
          "base_uri": "https://localhost:8080/"
        },
        "id": "cWhml3GJSIFt",
        "outputId": "dbea3395-cfef-47a3-f7c0-5ef5799d9537"
      },
      "execution_count": null,
      "outputs": [
        {
          "output_type": "stream",
          "name": "stdout",
          "text": [
            "   student_id student_name  age  gender  subject  score teacher_name classroom\n",
            "0         101        Alice   20  Female     Math     88    Mr.Sharma      A101\n",
            "1         101        Alice   20  Female  Science     81     Ms.Karki      B202\n",
            "2         102          Bob   22    Male  Science     75     Ms.Karki      B202\n",
            "3         102          Bob   22    Male     Math     85    Mr.Sharma      A101\n",
            "4         103      Charlie   21    Male  English     92    Mrs.Joshi      C303\n",
            "5         104        David   23    Male     Math     67    Mr.Sharma      A101\n",
            "6         105          Eva   22  Female  English     78    Mrs.Joshi      C303\n"
          ]
        }
      ]
    },
    {
      "cell_type": "code",
      "source": [
        "student_score_classromm.groupby(\"subject\").agg(\"sum\").plot(kind=\"bar\", y= \"score\")"
      ],
      "metadata": {
        "colab": {
          "base_uri": "https://localhost:8080/",
          "height": 509
        },
        "id": "ZZPQhB16S0Gy",
        "outputId": "5f6ae85e-5ec8-41f1-84db-800ecb221d06"
      },
      "execution_count": null,
      "outputs": [
        {
          "output_type": "execute_result",
          "data": {
            "text/plain": [
              "<Axes: xlabel='subject'>"
            ]
          },
          "metadata": {},
          "execution_count": 29
        },
        {
          "output_type": "display_data",
          "data": {
            "text/plain": [
              "<Figure size 640x480 with 1 Axes>"
            ],
            "image/png": "[encoded data removed]"
          },
          "metadata": {}
        }
      ]
    },
    {
      "cell_type": "markdown",
      "source": [
        "#filtering join"
      ],
      "metadata": {
        "id": "ln6xQ1e8tVXM"
      }
    },
    {
      "cell_type": "code",
      "source": [
        "student_score = student.merge(score, on=\"student_id\",\n",
        "                            how='left', indicator=True)  #indicator gives _merge column\n",
        "print(student_score)\n"
      ],
      "metadata": {
        "id": "zc0nYPN7TH0B",
        "colab": {
          "base_uri": "https://localhost:8080/"
        },
        "outputId": "1eac70a5-721b-4be4-efe1-b01050190ded"
      },
      "execution_count": 5,
      "outputs": [
        {
          "output_type": "stream",
          "name": "stdout",
          "text": [
            "   student_id student_name  age  gender  subject  score _merge\n",
            "0         101        Alice   20  Female     Math     88   both\n",
            "1         101        Alice   20  Female  Science     81   both\n",
            "2         102          Bob   22    Male  Science     75   both\n",
            "3         102          Bob   22    Male     Math     85   both\n",
            "4         103      Charlie   21    Male  English     92   both\n",
            "5         104        David   23    Male     Math     67   both\n",
            "6         105          Eva   22  Female  English     78   both\n"
          ]
        }
      ]
    },
    {
      "cell_type": "code",
      "source": [
        "st_id_list = student.loc[student_score[\"_merge\"] == \"both\", \"student_id\"]\n",
        "print(st_id_list)"
      ],
      "metadata": {
        "colab": {
          "base_uri": "https://localhost:8080/"
        },
        "id": "ebwGT_NOt8tc",
        "outputId": "b0f76471-089f-4be2-a12f-cd939f6eb4d3"
      },
      "execution_count": 6,
      "outputs": [
        {
          "output_type": "stream",
          "name": "stdout",
          "text": [
            "0    101\n",
            "1    102\n",
            "2    103\n",
            "3    104\n",
            "4    105\n",
            "Name: student_id, dtype: int64\n"
          ]
        }
      ]
    },
    {
      "cell_type": "code",
      "source": [
        "print(student[student[\"student_id\"].isin(st_id_list)])"
      ],
      "metadata": {
        "colab": {
          "base_uri": "https://localhost:8080/"
        },
        "id": "fGjJCc2duZQe",
        "outputId": "a7d31c7f-d93e-4074-db75-ff246cbdb446"
      },
      "execution_count": 7,
      "outputs": [
        {
          "output_type": "stream",
          "name": "stdout",
          "text": [
            "   student_id student_name  age  gender\n",
            "0         101        Alice   20  Female\n",
            "1         102          Bob   22    Male\n",
            "2         103      Charlie   21    Male\n",
            "3         104        David   23    Male\n",
            "4         105          Eva   22  Female\n"
          ]
        }
      ]
    },
    {
      "cell_type": "code",
      "source": [
        "#merge scoere and classroom\n",
        "score_class = score.merge(classroom, on=\"subject\", how=\"inner\")\n",
        "print(score_class)"
      ],
      "metadata": {
        "colab": {
          "base_uri": "https://localhost:8080/"
        },
        "id": "hR_r0h6VuyPE",
        "outputId": "6d496678-69bb-480b-e749-6970b08b4dcd"
      },
      "execution_count": 11,
      "outputs": [
        {
          "output_type": "stream",
          "name": "stdout",
          "text": [
            "   student_id  subject  score teacher_name classroom\n",
            "0         101     Math     88    Mr.Sharma      A101\n",
            "1         102  Science     75     Ms.Karki      B202\n",
            "2         103  English     92    Mrs.Joshi      C303\n",
            "3         101  Science     81     Ms.Karki      B202\n",
            "4         104     Math     67    Mr.Sharma      A101\n",
            "5         105  English     78    Mrs.Joshi      C303\n",
            "6         102     Math     85    Mr.Sharma      A101\n"
          ]
        }
      ]
    },
    {
      "cell_type": "code",
      "source": [
        "# Use .isin() to subset\n",
        "top_studet = score[score['subject'].isin(score_class[\"subject\"])]\n",
        "print(top_studet)"
      ],
      "metadata": {
        "colab": {
          "base_uri": "https://localhost:8080/"
        },
        "id": "1yLZrCyvvyM1",
        "outputId": "8e161814-0fd0-49da-c696-7beff198024b"
      },
      "execution_count": 12,
      "outputs": [
        {
          "output_type": "stream",
          "name": "stdout",
          "text": [
            "   student_id  subject  score\n",
            "0         101     Math     88\n",
            "1         102  Science     75\n",
            "2         103  English     92\n",
            "3         101  Science     81\n",
            "4         104     Math     67\n",
            "5         105  English     78\n",
            "6         102     Math     85\n"
          ]
        }
      ]
    },
    {
      "cell_type": "code",
      "source": [
        "cnt_by_id = top_studet.groupby(['student_id'], as_index=False).agg({'subject':\"count\"})\n",
        "print(cnt_by_id)"
      ],
      "metadata": {
        "colab": {
          "base_uri": "https://localhost:8080/"
        },
        "id": "AqsDjb6Zvy2b",
        "outputId": "b9203928-9fa3-4d86-9a07-ab21784274df"
      },
      "execution_count": 13,
      "outputs": [
        {
          "output_type": "stream",
          "name": "stdout",
          "text": [
            "   student_id  subject\n",
            "0         101        2\n",
            "1         102        2\n",
            "2         103        1\n",
            "3         104        1\n",
            "4         105        1\n"
          ]
        }
      ]
    },
    {
      "cell_type": "code",
      "source": [
        "# Merge the genres table to cnt_by_gid on gid and print\n",
        "print(cnt_by_id.merge(student, on=\"student_id\"))"
      ],
      "metadata": {
        "colab": {
          "base_uri": "https://localhost:8080/"
        },
        "id": "7F-a4P9Cv0cl",
        "outputId": "1f3efae2-e7dd-4fac-feb7-cef221b2f1f7"
      },
      "execution_count": 14,
      "outputs": [
        {
          "output_type": "stream",
          "name": "stdout",
          "text": [
            "   student_id  subject student_name  age  gender\n",
            "0         101        2        Alice   20  Female\n",
            "1         102        2          Bob   22    Male\n",
            "2         103        1      Charlie   21    Male\n",
            "3         104        1        David   23    Male\n",
            "4         105        1          Eva   22  Female\n"
          ]
        }
      ]
    },
    {
      "cell_type": "markdown",
      "source": [
        "#concatenate vertically"
      ],
      "metadata": {
        "id": "mDNWDCEGwlSc"
      }
    },
    {
      "cell_type": "code",
      "source": [
        "student_by_score = pd.concat([student, score])\n",
        "print(student_by_score)"
      ],
      "metadata": {
        "id": "m5WDMKW4wpwK",
        "colab": {
          "base_uri": "https://localhost:8080/"
        },
        "outputId": "f8c25376-5b4c-4008-b375-3573c227be1a"
      },
      "execution_count": 18,
      "outputs": [
        {
          "output_type": "stream",
          "name": "stdout",
          "text": [
            "   student_id student_name   age  gender  subject  score\n",
            "0         101        Alice  20.0  Female      NaN    NaN\n",
            "1         102          Bob  22.0    Male      NaN    NaN\n",
            "2         103      Charlie  21.0    Male      NaN    NaN\n",
            "3         104        David  23.0    Male      NaN    NaN\n",
            "4         105          Eva  22.0  Female      NaN    NaN\n",
            "0         101          NaN   NaN     NaN     Math   88.0\n",
            "1         102          NaN   NaN     NaN  Science   75.0\n",
            "2         103          NaN   NaN     NaN  English   92.0\n",
            "3         101          NaN   NaN     NaN  Science   81.0\n",
            "4         104          NaN   NaN     NaN     Math   67.0\n",
            "5         105          NaN   NaN     NaN  English   78.0\n",
            "6         102          NaN   NaN     NaN     Math   85.0\n"
          ]
        }
      ]
    },
    {
      "cell_type": "code",
      "source": [
        "import pandas as pd\n",
        "\n",
        "# Table 1: English scores\n",
        "english = pd.DataFrame({\n",
        "    \"student_id\": [101, 103],\n",
        "    \"subject\": [\"English\", \"English\"],\n",
        "    \"score\": [92, 85]\n",
        "})\n",
        "\n",
        "# Table 2: Math scores\n",
        "math = pd.DataFrame({\n",
        "    \"student_id\": [101, 102, 103],\n",
        "    \"subject\": [\"Math\", \"Math\", \"Math\"],\n",
        "    \"score\": [88, 75, 70]\n",
        "})\n"
      ],
      "metadata": {
        "id": "Ql8Ndb-zy36M"
      },
      "execution_count": 19,
      "outputs": []
    },
    {
      "cell_type": "code",
      "source": [
        "combined_scores = pd.concat([english, math], ignore_index=True)\n",
        "print(combined_scores)\n"
      ],
      "metadata": {
        "colab": {
          "base_uri": "https://localhost:8080/"
        },
        "id": "HrY1CXQr0cRu",
        "outputId": "c6e20852-f2ff-444e-b9d8-ae992fc10ff1"
      },
      "execution_count": 20,
      "outputs": [
        {
          "output_type": "stream",
          "name": "stdout",
          "text": [
            "   student_id  subject  score\n",
            "0         101  English     92\n",
            "1         103  English     85\n",
            "2         101     Math     88\n",
            "3         102     Math     75\n",
            "4         103     Math     70\n"
          ]
        }
      ]
    },
    {
      "cell_type": "code",
      "source": [
        "combined_side_by_side = pd.concat([english, math], keys=[\"English\", \"Math\"])\n",
        "print(combined_side_by_side)"
      ],
      "metadata": {
        "colab": {
          "base_uri": "https://localhost:8080/"
        },
        "id": "Ao7B7ACE0ct3",
        "outputId": "aed884c8-d124-45cf-d8bf-c5443c1d47b4"
      },
      "execution_count": 23,
      "outputs": [
        {
          "output_type": "stream",
          "name": "stdout",
          "text": [
            "                    subject  score\n",
            "        student_id                \n",
            "English 101         English     92\n",
            "        103         English     85\n",
            "Math    101            Math     88\n",
            "        102            Math     75\n",
            "        103            Math     70\n"
          ]
        }
      ]
    },
    {
      "cell_type": "code",
      "source": [
        "student.merge(score, on=\"student_id\", how=\"inner\", validate=\"one_to_many\")\n",
        "#validating a merge"
      ],
      "metadata": {
        "colab": {
          "base_uri": "https://localhost:8080/",
          "height": 269
        },
        "id": "IBI3HfnB0lGv",
        "outputId": "1c8c017a-6011-4af2-b0c9-256142980647"
      },
      "execution_count": 27,
      "outputs": [
        {
          "output_type": "execute_result",
          "data": {
            "text/plain": [
              "   student_id student_name  age  gender  subject  score\n",
              "0         101        Alice   20  Female     Math     88\n",
              "1         101        Alice   20  Female  Science     81\n",
              "2         102          Bob   22    Male  Science     75\n",
              "3         102          Bob   22    Male     Math     85\n",
              "4         103      Charlie   21    Male  English     92\n",
              "5         104        David   23    Male     Math     67\n",
              "6         105          Eva   22  Female  English     78"
            ],
            "text/html": [
              "\n",
              "  <div id=\"df-516ec3d7-ba86-4b02-ad39-67bddd0cb5f0\" class=\"colab-df-container\">\n",
              "    <div>\n",
              "<style scoped>\n",
              "    .dataframe tbody tr th:only-of-type {\n",
              "        vertical-align: middle;\n",
              "    }\n",
              "\n",
              "    .dataframe tbody tr th {\n",
              "        vertical-align: top;\n",
              "    }\n",
              "\n",
              "    .dataframe thead th {\n",
              "        text-align: right;\n",
              "    }\n",
              "</style>\n",
              "<table border=\"1\" class=\"dataframe\">\n",
              "  <thead>\n",
              "    <tr style=\"text-align: right;\">\n",
              "      <th></th>\n",
              "      <th>student_id</th>\n",
              "      <th>student_name</th>\n",
              "      <th>age</th>\n",
              "      <th>gender</th>\n",
              "      <th>subject</th>\n",
              "      <th>score</th>\n",
              "    </tr>\n",
              "  </thead>\n",
              "  <tbody>\n",
              "    <tr>\n",
              "      <th>0</th>\n",
              "      <td>101</td>\n",
              "      <td>Alice</td>\n",
              "      <td>20</td>\n",
              "      <td>Female</td>\n",
              "      <td>Math</td>\n",
              "      <td>88</td>\n",
              "    </tr>\n",
              "    <tr>\n",
              "      <th>1</th>\n",
              "      <td>101</td>\n",
              "      <td>Alice</td>\n",
              "      <td>20</td>\n",
              "      <td>Female</td>\n",
              "      <td>Science</td>\n",
              "      <td>81</td>\n",
              "    </tr>\n",
              "    <tr>\n",
              "      <th>2</th>\n",
              "      <td>102</td>\n",
              "      <td>Bob</td>\n",
              "      <td>22</td>\n",
              "      <td>Male</td>\n",
              "      <td>Science</td>\n",
              "      <td>75</td>\n",
              "    </tr>\n",
              "    <tr>\n",
              "      <th>3</th>\n",
              "      <td>102</td>\n",
              "      <td>Bob</td>\n",
              "      <td>22</td>\n",
              "      <td>Male</td>\n",
              "      <td>Math</td>\n",
              "      <td>85</td>\n",
              "    </tr>\n",
              "    <tr>\n",
              "      <th>4</th>\n",
              "      <td>103</td>\n",
              "      <td>Charlie</td>\n",
              "      <td>21</td>\n",
              "      <td>Male</td>\n",
              "      <td>English</td>\n",
              "      <td>92</td>\n",
              "    </tr>\n",
              "    <tr>\n",
              "      <th>5</th>\n",
              "      <td>104</td>\n",
              "      <td>David</td>\n",
              "      <td>23</td>\n",
              "      <td>Male</td>\n",
              "      <td>Math</td>\n",
              "      <td>67</td>\n",
              "    </tr>\n",
              "    <tr>\n",
              "      <th>6</th>\n",
              "      <td>105</td>\n",
              "      <td>Eva</td>\n",
              "      <td>22</td>\n",
              "      <td>Female</td>\n",
              "      <td>English</td>\n",
              "      <td>78</td>\n",
              "    </tr>\n",
              "  </tbody>\n",
              "</table>\n",
              "</div>\n",
              "    <div class=\"colab-df-buttons\">\n",
              "\n",
              "  <div class=\"colab-df-container\">\n",
              "    <button class=\"colab-df-convert\" onclick=\"convertToInteractive('df-516ec3d7-ba86-4b02-ad39-67bddd0cb5f0')\"\n",
              "            title=\"Convert this dataframe to an interactive table.\"\n",
              "            style=\"display:none;\">\n",
              "\n",
              "  <svg xmlns=\"http://www.w3.org/2000/svg\" height=\"24px\" viewBox=\"0 -960 960 960\">\n",
              "    <path d=\"M120-120v-720h720v720H120Zm60-500h600v-160H180v160Zm220 220h160v-160H400v160Zm0 220h160v-160H400v160ZM180-400h160v-160H180v160Zm440 0h160v-160H620v160ZM180-180h160v-160H180v160Zm440 0h160v-160H620v160Z\"/>\n",
              "  </svg>\n",
              "    </button>\n",
              "\n",
              "  <style>\n",
              "    .colab-df-container {\n",
              "      display:flex;\n",
              "      gap: 12px;\n",
              "    }\n",
              "\n",
              "    .colab-df-convert {\n",
              "      background-color: #E8F0FE;\n",
              "      border: none;\n",
              "      border-radius: 50%;\n",
              "      cursor: pointer;\n",
              "      display: none;\n",
              "      fill: #1967D2;\n",
              "      height: 32px;\n",
              "      padding: 0 0 0 0;\n",
              "      width: 32px;\n",
              "    }\n",
              "\n",
              "    .colab-df-convert:hover {\n",
              "      background-color: #E2EBFA;\n",
              "      box-shadow: 0px 1px 2px rgba(60, 64, 67, 0.3), 0px 1px 3px 1px rgba(60, 64, 67, 0.15);\n",
              "      fill: #174EA6;\n",
              "    }\n",
              "\n",
              "    .colab-df-buttons div {\n",
              "      margin-bottom: 4px;\n",
              "    }\n",
              "\n",
              "    [theme=dark] .colab-df-convert {\n",
              "      background-color: #3B4455;\n",
              "      fill: #D2E3FC;\n",
              "    }\n",
              "\n",
              "    [theme=dark] .colab-df-convert:hover {\n",
              "      background-color: #434B5C;\n",
              "      box-shadow: 0px 1px 3px 1px rgba(0, 0, 0, 0.15);\n",
              "      filter: drop-shadow(0px 1px 2px rgba(0, 0, 0, 0.3));\n",
              "      fill: #FFFFFF;\n",
              "    }\n",
              "  </style>\n",
              "\n",
              "    <script>\n",
              "      const buttonEl =\n",
              "        document.querySelector('#df-516ec3d7-ba86-4b02-ad39-67bddd0cb5f0 button.colab-df-convert');\n",
              "      buttonEl.style.display =\n",
              "        google.colab.kernel.accessAllowed ? 'block' : 'none';\n",
              "\n",
              "      async function convertToInteractive(key) {\n",
              "        const element = document.querySelector('#df-516ec3d7-ba86-4b02-ad39-67bddd0cb5f0');\n",
              "        const dataTable =\n",
              "          await google.colab.kernel.invokeFunction('convertToInteractive',\n",
              "                                                    [key], {});\n",
              "        if (!dataTable) return;\n",
              "\n",
              "        const docLinkHtml = 'Like what you see? Visit the ' +\n",
              "          '<a target=\"_blank\" href=https://colab.research.google.com/notebooks/data_table.ipynb>data table notebook</a>'\n",
              "          + ' to learn more about interactive tables.';\n",
              "        element.innerHTML = '';\n",
              "        dataTable['output_type'] = 'display_data';\n",
              "        await google.colab.output.renderOutput(dataTable, element);\n",
              "        const docLink = document.createElement('div');\n",
              "        docLink.innerHTML = docLinkHtml;\n",
              "        element.appendChild(docLink);\n",
              "      }\n",
              "    </script>\n",
              "  </div>\n",
              "\n",
              "\n",
              "    <div id=\"df-8504dcae-bc2c-4d1f-81c3-7ef5d9f1c60f\">\n",
              "      <button class=\"colab-df-quickchart\" onclick=\"quickchart('df-8504dcae-bc2c-4d1f-81c3-7ef5d9f1c60f')\"\n",
              "                title=\"Suggest charts\"\n",
              "                style=\"display:none;\">\n",
              "\n",
              "<svg xmlns=\"http://www.w3.org/2000/svg\" height=\"24px\"viewBox=\"0 0 24 24\"\n",
              "     width=\"24px\">\n",
              "    <g>\n",
              "        <path d=\"M19 3H5c-1.1 0-2 .9-2 2v14c0 1.1.9 2 2 2h14c1.1 0 2-.9 2-2V5c0-1.1-.9-2-2-2zM9 17H7v-7h2v7zm4 0h-2V7h2v10zm4 0h-2v-4h2v4z\"/>\n",
              "    </g>\n",
              "</svg>\n",
              "      </button>\n",
              "\n",
              "<style>\n",
              "  .colab-df-quickchart {\n",
              "      --bg-color: #E8F0FE;\n",
              "      --fill-color: #1967D2;\n",
              "      --hover-bg-color: #E2EBFA;\n",
              "      --hover-fill-color: #174EA6;\n",
              "      --disabled-fill-color: #AAA;\n",
              "      --disabled-bg-color: #DDD;\n",
              "  }\n",
              "\n",
              "  [theme=dark] .colab-df-quickchart {\n",
              "      --bg-color: #3B4455;\n",
              "      --fill-color: #D2E3FC;\n",
              "      --hover-bg-color: #434B5C;\n",
              "      --hover-fill-color: #FFFFFF;\n",
              "      --disabled-bg-color: #3B4455;\n",
              "      --disabled-fill-color: #666;\n",
              "  }\n",
              "\n",
              "  .colab-df-quickchart {\n",
              "    background-color: var(--bg-color);\n",
              "    border: none;\n",
              "    border-radius: 50%;\n",
              "    cursor: pointer;\n",
              "    display: none;\n",
              "    fill: var(--fill-color);\n",
              "    height: 32px;\n",
              "    padding: 0;\n",
              "    width: 32px;\n",
              "  }\n",
              "\n",
              "  .colab-df-quickchart:hover {\n",
              "    background-color: var(--hover-bg-color);\n",
              "    box-shadow: 0 1px 2px rgba(60, 64, 67, 0.3), 0 1px 3px 1px rgba(60, 64, 67, 0.15);\n",
              "    fill: var(--button-hover-fill-color);\n",
              "  }\n",
              "\n",
              "  .colab-df-quickchart-complete:disabled,\n",
              "  .colab-df-quickchart-complete:disabled:hover {\n",
              "    background-color: var(--disabled-bg-color);\n",
              "    fill: var(--disabled-fill-color);\n",
              "    box-shadow: none;\n",
              "  }\n",
              "\n",
              "  .colab-df-spinner {\n",
              "    border: 2px solid var(--fill-color);\n",
              "    border-color: transparent;\n",
              "    border-bottom-color: var(--fill-color);\n",
              "    animation:\n",
              "      spin 1s steps(1) infinite;\n",
              "  }\n",
              "\n",
              "  @keyframes spin {\n",
              "    0% {\n",
              "      border-color: transparent;\n",
              "      border-bottom-color: var(--fill-color);\n",
              "      border-left-color: var(--fill-color);\n",
              "    }\n",
              "    20% {\n",
              "      border-color: transparent;\n",
              "      border-left-color: var(--fill-color);\n",
              "      border-top-color: var(--fill-color);\n",
              "    }\n",
              "    30% {\n",
              "      border-color: transparent;\n",
              "      border-left-color: var(--fill-color);\n",
              "      border-top-color: var(--fill-color);\n",
              "      border-right-color: var(--fill-color);\n",
              "    }\n",
              "    40% {\n",
              "      border-color: transparent;\n",
              "      border-right-color: var(--fill-color);\n",
              "      border-top-color: var(--fill-color);\n",
              "    }\n",
              "    60% {\n",
              "      border-color: transparent;\n",
              "      border-right-color: var(--fill-color);\n",
              "    }\n",
              "    80% {\n",
              "      border-color: transparent;\n",
              "      border-right-color: var(--fill-color);\n",
              "      border-bottom-color: var(--fill-color);\n",
              "    }\n",
              "    90% {\n",
              "      border-color: transparent;\n",
              "      border-bottom-color: var(--fill-color);\n",
              "    }\n",
              "  }\n",
              "</style>\n",
              "\n",
              "      <script>\n",
              "        async function quickchart(key) {\n",
              "          const quickchartButtonEl =\n",
              "            document.querySelector('#' + key + ' button');\n",
              "          quickchartButtonEl.disabled = true;  // To prevent multiple clicks.\n",
              "          quickchartButtonEl.classList.add('colab-df-spinner');\n",
              "          try {\n",
              "            const charts = await google.colab.kernel.invokeFunction(\n",
              "                'suggestCharts', [key], {});\n",
              "          } catch (error) {\n",
              "            console.error('Error during call to suggestCharts:', error);\n",
              "          }\n",
              "          quickchartButtonEl.classList.remove('colab-df-spinner');\n",
              "          quickchartButtonEl.classList.add('colab-df-quickchart-complete');\n",
              "        }\n",
              "        (() => {\n",
              "          let quickchartButtonEl =\n",
              "            document.querySelector('#df-8504dcae-bc2c-4d1f-81c3-7ef5d9f1c60f button');\n",
              "          quickchartButtonEl.style.display =\n",
              "            google.colab.kernel.accessAllowed ? 'block' : 'none';\n",
              "        })();\n",
              "      </script>\n",
              "    </div>\n",
              "\n",
              "    </div>\n",
              "  </div>\n"
            ],
            "application/vnd.google.colaboratory.intrinsic+json": {
              "type": "dataframe",
              "summary": "{\n  \"name\": \"student\",\n  \"rows\": 7,\n  \"fields\": [\n    {\n      \"column\": \"student_id\",\n      \"properties\": {\n        \"dtype\": \"number\",\n        \"std\": 1,\n        \"min\": 101,\n        \"max\": 105,\n        \"num_unique_values\": 5,\n        \"samples\": [\n          102,\n          105,\n          103\n        ],\n        \"semantic_type\": \"\",\n        \"description\": \"\"\n      }\n    },\n    {\n      \"column\": \"student_name\",\n      \"properties\": {\n        \"dtype\": \"string\",\n        \"num_unique_values\": 5,\n        \"samples\": [\n          \"Bob\",\n          \"Eva\",\n          \"Charlie\"\n        ],\n        \"semantic_type\": \"\",\n        \"description\": \"\"\n      }\n    },\n    {\n      \"column\": \"age\",\n      \"properties\": {\n        \"dtype\": \"number\",\n        \"std\": 1,\n        \"min\": 20,\n        \"max\": 23,\n        \"num_unique_values\": 4,\n        \"samples\": [\n          22,\n          23,\n          20\n        ],\n        \"semantic_type\": \"\",\n        \"description\": \"\"\n      }\n    },\n    {\n      \"column\": \"gender\",\n      \"properties\": {\n        \"dtype\": \"category\",\n        \"num_unique_values\": 2,\n        \"samples\": [\n          \"Male\",\n          \"Female\"\n        ],\n        \"semantic_type\": \"\",\n        \"description\": \"\"\n      }\n    },\n    {\n      \"column\": \"subject\",\n      \"properties\": {\n        \"dtype\": \"category\",\n        \"num_unique_values\": 3,\n        \"samples\": [\n          \"Math\",\n          \"Science\"\n        ],\n        \"semantic_type\": \"\",\n        \"description\": \"\"\n      }\n    },\n    {\n      \"column\": \"score\",\n      \"properties\": {\n        \"dtype\": \"number\",\n        \"std\": 8,\n        \"min\": 67,\n        \"max\": 92,\n        \"num_unique_values\": 7,\n        \"samples\": [\n          88,\n          81\n        ],\n        \"semantic_type\": \"\",\n        \"description\": \"\"\n      }\n    }\n  ]\n}"
            }
          },
          "metadata": {},
          "execution_count": 27
        }
      ]
    },
    {
      "cell_type": "code",
      "source": [
        "#merge_ordered()\n",
        "\n",
        "# Stock price table 1\n",
        "stock_a = pd.DataFrame({\n",
        "    \"date\": [\"2024-01-01\", \"2024-01-03\", \"2024-01-05\"],\n",
        "    \"price_a\": [100, 102, 105]\n",
        "})\n",
        "\n",
        "# Stock price table 2\n",
        "stock_b = pd.DataFrame({\n",
        "    \"date\": [\"2024-01-02\", \"2024-01-03\", \"2024-01-04\"],\n",
        "    \"price_b\": [200, 202, 204]\n",
        "})\n",
        "\n",
        "# Merge while maintaining order by date\n",
        "merged = pd.merge_ordered(stock_a, stock_b, on=\"date\", how=\"outer\")\n",
        "\n",
        "print(merged)\n"
      ],
      "metadata": {
        "colab": {
          "base_uri": "https://localhost:8080/"
        },
        "id": "-4veaZii5GIr",
        "outputId": "8f77bc8c-52e3-4b8a-bf9d-c7dbba8433f0"
      },
      "execution_count": 28,
      "outputs": [
        {
          "output_type": "stream",
          "name": "stdout",
          "text": [
            "         date  price_a  price_b\n",
            "0  2024-01-01    100.0      NaN\n",
            "1  2024-01-02      NaN    200.0\n",
            "2  2024-01-03    102.0    202.0\n",
            "3  2024-01-04      NaN    204.0\n",
            "4  2024-01-05    105.0      NaN\n"
          ]
        }
      ]
    },
    {
      "cell_type": "code",
      "source": [
        "student_score = pd.merge_ordered(student, score,  on=\"student_id\", fill_method=\"ffill\")\n",
        "print(student_score)\n"
      ],
      "metadata": {
        "colab": {
          "base_uri": "https://localhost:8080/"
        },
        "id": "RWwMCoSe9SlO",
        "outputId": "e63799fa-b225-4cc0-d6ad-3b403c6ae3b9"
      },
      "execution_count": 30,
      "outputs": [
        {
          "output_type": "stream",
          "name": "stdout",
          "text": [
            "   student_id student_name  age  gender  subject  score\n",
            "0         101        Alice   20  Female     Math     88\n",
            "1         101        Alice   20  Female  Science     81\n",
            "2         102          Bob   22    Male  Science     75\n",
            "3         102          Bob   22    Male     Math     85\n",
            "4         103      Charlie   21    Male  English     92\n",
            "5         104        David   23    Male     Math     67\n",
            "6         105          Eva   22  Female  English     78\n"
          ]
        }
      ]
    },
    {
      "cell_type": "code",
      "source": [
        "result = pd.merge_ordered(student_score,classroom,on=\"subject\", fill_method=\"ffill\")\n",
        "print(result)\n"
      ],
      "metadata": {
        "colab": {
          "base_uri": "https://localhost:8080/"
        },
        "id": "k7s-s_Z0-WuY",
        "outputId": "0bbff4d5-cc90-4b8b-e73b-29fbcbc6a9d4"
      },
      "execution_count": 32,
      "outputs": [
        {
          "output_type": "stream",
          "name": "stdout",
          "text": [
            "   student_id student_name  age  gender  subject  score teacher_name classroom\n",
            "0         103      Charlie   21    Male  English     92    Mrs.Joshi      C303\n",
            "1         105          Eva   22  Female  English     78    Mrs.Joshi      C303\n",
            "2         101        Alice   20  Female     Math     88    Mr.Sharma      A101\n",
            "3         102          Bob   22    Male     Math     85    Mr.Sharma      A101\n",
            "4         104        David   23    Male     Math     67    Mr.Sharma      A101\n",
            "5         104        David   23    Male   Nepali     67      Mr.Lama      D404\n",
            "6         101        Alice   20  Female  Science     81     Ms.Karki      B202\n",
            "7         102          Bob   22    Male  Science     75     Ms.Karki      B202\n"
          ]
        }
      ]
    },
    {
      "cell_type": "markdown",
      "source": [
        "#merge_asof()"
      ],
      "metadata": {
        "id": "IP6ES7BMCuMA"
      }
    },
    {
      "cell_type": "code",
      "source": [
        "\n",
        "import pandas as pd\n",
        "\n",
        "# Student table with timestamp (like enrollment date)\n",
        "student = pd.DataFrame({\n",
        "    \"student_id\": [1, 2, 3],\n",
        "    \"name\": [\"Alice\", \"Bob\", \"Charlie\"],\n",
        "    \"enroll_date\": [\"2023-01-01\", \"2023-01-05\", \"2023-01-08\"]\n",
        "})\n",
        "student[\"enroll_date\"] = pd.to_datetime(student[\"enroll_date\"])\n",
        "\n",
        "# Score table with timestamps\n",
        "score = pd.DataFrame({\n",
        "    \"student_id\": [1, 1, 2, 3],\n",
        "    \"score_date\": [\"2023-01-10\", \"2023-01-20\", \"2023-01-11\", \"2023-01-25\"],\n",
        "    \"subject\": [\"Math\", \"English\", \"Science\", \"Math\"],\n",
        "    \"score\": [88, 92, 76, 85]\n",
        "})\n",
        "score[\"score_date\"] = pd.to_datetime(score[\"score_date\"])\n"
      ],
      "metadata": {
        "id": "FQzudTC8-jWm"
      },
      "execution_count": 33,
      "outputs": []
    },
    {
      "cell_type": "code",
      "source": [
        "student = student.sort_values(\"enroll_date\")\n",
        "score = score.sort_values(\"score_date\")\n"
      ],
      "metadata": {
        "id": "9zHQ1CwHC3JO"
      },
      "execution_count": 34,
      "outputs": []
    },
    {
      "cell_type": "code",
      "source": [
        "merged = pd.merge_asof(\n",
        "    score,\n",
        "    student,\n",
        "    left_on=\"score_date\",\n",
        "    right_on=\"enroll_date\",\n",
        "    by=\"student_id\",\n",
        "    direction=\"backward\"\n",
        ")\n",
        "print(merged)\n"
      ],
      "metadata": {
        "colab": {
          "base_uri": "https://localhost:8080/"
        },
        "id": "-UJgFABCC3le",
        "outputId": "23d6123a-00b0-4e58-ff7f-b6e9c4fbd863"
      },
      "execution_count": 36,
      "outputs": [
        {
          "output_type": "stream",
          "name": "stdout",
          "text": [
            "   student_id score_date  subject  score     name enroll_date\n",
            "0           1 2023-01-10     Math     88    Alice  2023-01-01\n",
            "1           2 2023-01-11  Science     76      Bob  2023-01-05\n",
            "2           1 2023-01-20  English     92    Alice  2023-01-01\n",
            "3           3 2023-01-25     Math     85  Charlie  2023-01-08\n"
          ]
        }
      ]
    },
    {
      "cell_type": "markdown",
      "source": [
        "#query"
      ],
      "metadata": {
        "id": "kew6kDkFDeFY"
      }
    },
    {
      "cell_type": "code",
      "source": [
        "score.query(\"score > 50\")"
      ],
      "metadata": {
        "colab": {
          "base_uri": "https://localhost:8080/",
          "height": 175
        },
        "id": "X1pWgfkPDCvw",
        "outputId": "f81b9711-ccba-42d9-d196-b5119d0c3bb8"
      },
      "execution_count": 40,
      "outputs": [
        {
          "output_type": "execute_result",
          "data": {
            "text/plain": [
              "   student_id score_date  subject  score\n",
              "0           1 2023-01-10     Math     88\n",
              "2           2 2023-01-11  Science     76\n",
              "1           1 2023-01-20  English     92\n",
              "3           3 2023-01-25     Math     85"
            ],
            "text/html": [
              "\n",
              "  <div id=\"df-a568f238-a3e5-458e-8a8e-aa2f10c7224a\" class=\"colab-df-container\">\n",
              "    <div>\n",
              "<style scoped>\n",
              "    .dataframe tbody tr th:only-of-type {\n",
              "        vertical-align: middle;\n",
              "    }\n",
              "\n",
              "    .dataframe tbody tr th {\n",
              "        vertical-align: top;\n",
              "    }\n",
              "\n",
              "    .dataframe thead th {\n",
              "        text-align: right;\n",
              "    }\n",
              "</style>\n",
              "<table border=\"1\" class=\"dataframe\">\n",
              "  <thead>\n",
              "    <tr style=\"text-align: right;\">\n",
              "      <th></th>\n",
              "      <th>student_id</th>\n",
              "      <th>score_date</th>\n",
              "      <th>subject</th>\n",
              "      <th>score</th>\n",
              "    </tr>\n",
              "  </thead>\n",
              "  <tbody>\n",
              "    <tr>\n",
              "      <th>0</th>\n",
              "      <td>1</td>\n",
              "      <td>2023-01-10</td>\n",
              "      <td>Math</td>\n",
              "      <td>88</td>\n",
              "    </tr>\n",
              "    <tr>\n",
              "      <th>2</th>\n",
              "      <td>2</td>\n",
              "      <td>2023-01-11</td>\n",
              "      <td>Science</td>\n",
              "      <td>76</td>\n",
              "    </tr>\n",
              "    <tr>\n",
              "      <th>1</th>\n",
              "      <td>1</td>\n",
              "      <td>2023-01-20</td>\n",
              "      <td>English</td>\n",
              "      <td>92</td>\n",
              "    </tr>\n",
              "    <tr>\n",
              "      <th>3</th>\n",
              "      <td>3</td>\n",
              "      <td>2023-01-25</td>\n",
              "      <td>Math</td>\n",
              "      <td>85</td>\n",
              "    </tr>\n",
              "  </tbody>\n",
              "</table>\n",
              "</div>\n",
              "    <div class=\"colab-df-buttons\">\n",
              "\n",
              "  <div class=\"colab-df-container\">\n",
              "    <button class=\"colab-df-convert\" onclick=\"convertToInteractive('df-a568f238-a3e5-458e-8a8e-aa2f10c7224a')\"\n",
              "            title=\"Convert this dataframe to an interactive table.\"\n",
              "            style=\"display:none;\">\n",
              "\n",
              "  <svg xmlns=\"http://www.w3.org/2000/svg\" height=\"24px\" viewBox=\"0 -960 960 960\">\n",
              "    <path d=\"M120-120v-720h720v720H120Zm60-500h600v-160H180v160Zm220 220h160v-160H400v160Zm0 220h160v-160H400v160ZM180-400h160v-160H180v160Zm440 0h160v-160H620v160ZM180-180h160v-160H180v160Zm440 0h160v-160H620v160Z\"/>\n",
              "  </svg>\n",
              "    </button>\n",
              "\n",
              "  <style>\n",
              "    .colab-df-container {\n",
              "      display:flex;\n",
              "      gap: 12px;\n",
              "    }\n",
              "\n",
              "    .colab-df-convert {\n",
              "      background-color: #E8F0FE;\n",
              "      border: none;\n",
              "      border-radius: 50%;\n",
              "      cursor: pointer;\n",
              "      display: none;\n",
              "      fill: #1967D2;\n",
              "      height: 32px;\n",
              "      padding: 0 0 0 0;\n",
              "      width: 32px;\n",
              "    }\n",
              "\n",
              "    .colab-df-convert:hover {\n",
              "      background-color: #E2EBFA;\n",
              "      box-shadow: 0px 1px 2px rgba(60, 64, 67, 0.3), 0px 1px 3px 1px rgba(60, 64, 67, 0.15);\n",
              "      fill: #174EA6;\n",
              "    }\n",
              "\n",
              "    .colab-df-buttons div {\n",
              "      margin-bottom: 4px;\n",
              "    }\n",
              "\n",
              "    [theme=dark] .colab-df-convert {\n",
              "      background-color: #3B4455;\n",
              "      fill: #D2E3FC;\n",
              "    }\n",
              "\n",
              "    [theme=dark] .colab-df-convert:hover {\n",
              "      background-color: #434B5C;\n",
              "      box-shadow: 0px 1px 3px 1px rgba(0, 0, 0, 0.15);\n",
              "      filter: drop-shadow(0px 1px 2px rgba(0, 0, 0, 0.3));\n",
              "      fill: #FFFFFF;\n",
              "    }\n",
              "  </style>\n",
              "\n",
              "    <script>\n",
              "      const buttonEl =\n",
              "        document.querySelector('#df-a568f238-a3e5-458e-8a8e-aa2f10c7224a button.colab-df-convert');\n",
              "      buttonEl.style.display =\n",
              "        google.colab.kernel.accessAllowed ? 'block' : 'none';\n",
              "\n",
              "      async function convertToInteractive(key) {\n",
              "        const element = document.querySelector('#df-a568f238-a3e5-458e-8a8e-aa2f10c7224a');\n",
              "        const dataTable =\n",
              "          await google.colab.kernel.invokeFunction('convertToInteractive',\n",
              "                                                    [key], {});\n",
              "        if (!dataTable) return;\n",
              "\n",
              "        const docLinkHtml = 'Like what you see? Visit the ' +\n",
              "          '<a target=\"_blank\" href=https://colab.research.google.com/notebooks/data_table.ipynb>data table notebook</a>'\n",
              "          + ' to learn more about interactive tables.';\n",
              "        element.innerHTML = '';\n",
              "        dataTable['output_type'] = 'display_data';\n",
              "        await google.colab.output.renderOutput(dataTable, element);\n",
              "        const docLink = document.createElement('div');\n",
              "        docLink.innerHTML = docLinkHtml;\n",
              "        element.appendChild(docLink);\n",
              "      }\n",
              "    </script>\n",
              "  </div>\n",
              "\n",
              "\n",
              "    <div id=\"df-bf209e0a-c1ff-4897-87be-367853ec118a\">\n",
              "      <button class=\"colab-df-quickchart\" onclick=\"quickchart('df-bf209e0a-c1ff-4897-87be-367853ec118a')\"\n",
              "                title=\"Suggest charts\"\n",
              "                style=\"display:none;\">\n",
              "\n",
              "<svg xmlns=\"http://www.w3.org/2000/svg\" height=\"24px\"viewBox=\"0 0 24 24\"\n",
              "     width=\"24px\">\n",
              "    <g>\n",
              "        <path d=\"M19 3H5c-1.1 0-2 .9-2 2v14c0 1.1.9 2 2 2h14c1.1 0 2-.9 2-2V5c0-1.1-.9-2-2-2zM9 17H7v-7h2v7zm4 0h-2V7h2v10zm4 0h-2v-4h2v4z\"/>\n",
              "    </g>\n",
              "</svg>\n",
              "      </button>\n",
              "\n",
              "<style>\n",
              "  .colab-df-quickchart {\n",
              "      --bg-color: #E8F0FE;\n",
              "      --fill-color: #1967D2;\n",
              "      --hover-bg-color: #E2EBFA;\n",
              "      --hover-fill-color: #174EA6;\n",
              "      --disabled-fill-color: #AAA;\n",
              "      --disabled-bg-color: #DDD;\n",
              "  }\n",
              "\n",
              "  [theme=dark] .colab-df-quickchart {\n",
              "      --bg-color: #3B4455;\n",
              "      --fill-color: #D2E3FC;\n",
              "      --hover-bg-color: #434B5C;\n",
              "      --hover-fill-color: #FFFFFF;\n",
              "      --disabled-bg-color: #3B4455;\n",
              "      --disabled-fill-color: #666;\n",
              "  }\n",
              "\n",
              "  .colab-df-quickchart {\n",
              "    background-color: var(--bg-color);\n",
              "    border: none;\n",
              "    border-radius: 50%;\n",
              "    cursor: pointer;\n",
              "    display: none;\n",
              "    fill: var(--fill-color);\n",
              "    height: 32px;\n",
              "    padding: 0;\n",
              "    width: 32px;\n",
              "  }\n",
              "\n",
              "  .colab-df-quickchart:hover {\n",
              "    background-color: var(--hover-bg-color);\n",
              "    box-shadow: 0 1px 2px rgba(60, 64, 67, 0.3), 0 1px 3px 1px rgba(60, 64, 67, 0.15);\n",
              "    fill: var(--button-hover-fill-color);\n",
              "  }\n",
              "\n",
              "  .colab-df-quickchart-complete:disabled,\n",
              "  .colab-df-quickchart-complete:disabled:hover {\n",
              "    background-color: var(--disabled-bg-color);\n",
              "    fill: var(--disabled-fill-color);\n",
              "    box-shadow: none;\n",
              "  }\n",
              "\n",
              "  .colab-df-spinner {\n",
              "    border: 2px solid var(--fill-color);\n",
              "    border-color: transparent;\n",
              "    border-bottom-color: var(--fill-color);\n",
              "    animation:\n",
              "      spin 1s steps(1) infinite;\n",
              "  }\n",
              "\n",
              "  @keyframes spin {\n",
              "    0% {\n",
              "      border-color: transparent;\n",
              "      border-bottom-color: var(--fill-color);\n",
              "      border-left-color: var(--fill-color);\n",
              "    }\n",
              "    20% {\n",
              "      border-color: transparent;\n",
              "      border-left-color: var(--fill-color);\n",
              "      border-top-color: var(--fill-color);\n",
              "    }\n",
              "    30% {\n",
              "      border-color: transparent;\n",
              "      border-left-color: var(--fill-color);\n",
              "      border-top-color: var(--fill-color);\n",
              "      border-right-color: var(--fill-color);\n",
              "    }\n",
              "    40% {\n",
              "      border-color: transparent;\n",
              "      border-right-color: var(--fill-color);\n",
              "      border-top-color: var(--fill-color);\n",
              "    }\n",
              "    60% {\n",
              "      border-color: transparent;\n",
              "      border-right-color: var(--fill-color);\n",
              "    }\n",
              "    80% {\n",
              "      border-color: transparent;\n",
              "      border-right-color: var(--fill-color);\n",
              "      border-bottom-color: var(--fill-color);\n",
              "    }\n",
              "    90% {\n",
              "      border-color: transparent;\n",
              "      border-bottom-color: var(--fill-color);\n",
              "    }\n",
              "  }\n",
              "</style>\n",
              "\n",
              "      <script>\n",
              "        async function quickchart(key) {\n",
              "          const quickchartButtonEl =\n",
              "            document.querySelector('#' + key + ' button');\n",
              "          quickchartButtonEl.disabled = true;  // To prevent multiple clicks.\n",
              "          quickchartButtonEl.classList.add('colab-df-spinner');\n",
              "          try {\n",
              "            const charts = await google.colab.kernel.invokeFunction(\n",
              "                'suggestCharts', [key], {});\n",
              "          } catch (error) {\n",
              "            console.error('Error during call to suggestCharts:', error);\n",
              "          }\n",
              "          quickchartButtonEl.classList.remove('colab-df-spinner');\n",
              "          quickchartButtonEl.classList.add('colab-df-quickchart-complete');\n",
              "        }\n",
              "        (() => {\n",
              "          let quickchartButtonEl =\n",
              "            document.querySelector('#df-bf209e0a-c1ff-4897-87be-367853ec118a button');\n",
              "          quickchartButtonEl.style.display =\n",
              "            google.colab.kernel.accessAllowed ? 'block' : 'none';\n",
              "        })();\n",
              "      </script>\n",
              "    </div>\n",
              "\n",
              "    </div>\n",
              "  </div>\n"
            ],
            "application/vnd.google.colaboratory.intrinsic+json": {
              "type": "dataframe",
              "summary": "{\n  \"name\": \"score\",\n  \"rows\": 4,\n  \"fields\": [\n    {\n      \"column\": \"student_id\",\n      \"properties\": {\n        \"dtype\": \"number\",\n        \"std\": 0,\n        \"min\": 1,\n        \"max\": 3,\n        \"num_unique_values\": 3,\n        \"samples\": [\n          1,\n          2,\n          3\n        ],\n        \"semantic_type\": \"\",\n        \"description\": \"\"\n      }\n    },\n    {\n      \"column\": \"score_date\",\n      \"properties\": {\n        \"dtype\": \"date\",\n        \"min\": \"2023-01-10 00:00:00\",\n        \"max\": \"2023-01-25 00:00:00\",\n        \"num_unique_values\": 4,\n        \"samples\": [\n          \"2023-01-11 00:00:00\",\n          \"2023-01-25 00:00:00\",\n          \"2023-01-10 00:00:00\"\n        ],\n        \"semantic_type\": \"\",\n        \"description\": \"\"\n      }\n    },\n    {\n      \"column\": \"subject\",\n      \"properties\": {\n        \"dtype\": \"string\",\n        \"num_unique_values\": 3,\n        \"samples\": [\n          \"Math\",\n          \"Science\",\n          \"English\"\n        ],\n        \"semantic_type\": \"\",\n        \"description\": \"\"\n      }\n    },\n    {\n      \"column\": \"score\",\n      \"properties\": {\n        \"dtype\": \"number\",\n        \"std\": 6,\n        \"min\": 76,\n        \"max\": 92,\n        \"num_unique_values\": 4,\n        \"samples\": [\n          76,\n          85,\n          88\n        ],\n        \"semantic_type\": \"\",\n        \"description\": \"\"\n      }\n    }\n  ]\n}"
            }
          },
          "metadata": {},
          "execution_count": 40
        }
      ]
    },
    {
      "cell_type": "code",
      "source": [
        "score.query(\"score > 50 and score <90\")"
      ],
      "metadata": {
        "colab": {
          "base_uri": "https://localhost:8080/",
          "height": 143
        },
        "id": "YGaVSYMCDFhy",
        "outputId": "677d242f-9330-4eb0-c841-155f80057366"
      },
      "execution_count": 45,
      "outputs": [
        {
          "output_type": "execute_result",
          "data": {
            "text/plain": [
              "   student_id score_date  subject  score\n",
              "0           1 2023-01-10     Math     88\n",
              "2           2 2023-01-11  Science     76\n",
              "3           3 2023-01-25     Math     85"
            ],
            "text/html": [
              "\n",
              "  <div id=\"df-2ccf049b-42fa-488b-8ed8-8fe2afb2ad8c\" class=\"colab-df-container\">\n",
              "    <div>\n",
              "<style scoped>\n",
              "    .dataframe tbody tr th:only-of-type {\n",
              "        vertical-align: middle;\n",
              "    }\n",
              "\n",
              "    .dataframe tbody tr th {\n",
              "        vertical-align: top;\n",
              "    }\n",
              "\n",
              "    .dataframe thead th {\n",
              "        text-align: right;\n",
              "    }\n",
              "</style>\n",
              "<table border=\"1\" class=\"dataframe\">\n",
              "  <thead>\n",
              "    <tr style=\"text-align: right;\">\n",
              "      <th></th>\n",
              "      <th>student_id</th>\n",
              "      <th>score_date</th>\n",
              "      <th>subject</th>\n",
              "      <th>score</th>\n",
              "    </tr>\n",
              "  </thead>\n",
              "  <tbody>\n",
              "    <tr>\n",
              "      <th>0</th>\n",
              "      <td>1</td>\n",
              "      <td>2023-01-10</td>\n",
              "      <td>Math</td>\n",
              "      <td>88</td>\n",
              "    </tr>\n",
              "    <tr>\n",
              "      <th>2</th>\n",
              "      <td>2</td>\n",
              "      <td>2023-01-11</td>\n",
              "      <td>Science</td>\n",
              "      <td>76</td>\n",
              "    </tr>\n",
              "    <tr>\n",
              "      <th>3</th>\n",
              "      <td>3</td>\n",
              "      <td>2023-01-25</td>\n",
              "      <td>Math</td>\n",
              "      <td>85</td>\n",
              "    </tr>\n",
              "  </tbody>\n",
              "</table>\n",
              "</div>\n",
              "    <div class=\"colab-df-buttons\">\n",
              "\n",
              "  <div class=\"colab-df-container\">\n",
              "    <button class=\"colab-df-convert\" onclick=\"convertToInteractive('df-2ccf049b-42fa-488b-8ed8-8fe2afb2ad8c')\"\n",
              "            title=\"Convert this dataframe to an interactive table.\"\n",
              "            style=\"display:none;\">\n",
              "\n",
              "  <svg xmlns=\"http://www.w3.org/2000/svg\" height=\"24px\" viewBox=\"0 -960 960 960\">\n",
              "    <path d=\"M120-120v-720h720v720H120Zm60-500h600v-160H180v160Zm220 220h160v-160H400v160Zm0 220h160v-160H400v160ZM180-400h160v-160H180v160Zm440 0h160v-160H620v160ZM180-180h160v-160H180v160Zm440 0h160v-160H620v160Z\"/>\n",
              "  </svg>\n",
              "    </button>\n",
              "\n",
              "  <style>\n",
              "    .colab-df-container {\n",
              "      display:flex;\n",
              "      gap: 12px;\n",
              "    }\n",
              "\n",
              "    .colab-df-convert {\n",
              "      background-color: #E8F0FE;\n",
              "      border: none;\n",
              "      border-radius: 50%;\n",
              "      cursor: pointer;\n",
              "      display: none;\n",
              "      fill: #1967D2;\n",
              "      height: 32px;\n",
              "      padding: 0 0 0 0;\n",
              "      width: 32px;\n",
              "    }\n",
              "\n",
              "    .colab-df-convert:hover {\n",
              "      background-color: #E2EBFA;\n",
              "      box-shadow: 0px 1px 2px rgba(60, 64, 67, 0.3), 0px 1px 3px 1px rgba(60, 64, 67, 0.15);\n",
              "      fill: #174EA6;\n",
              "    }\n",
              "\n",
              "    .colab-df-buttons div {\n",
              "      margin-bottom: 4px;\n",
              "    }\n",
              "\n",
              "    [theme=dark] .colab-df-convert {\n",
              "      background-color: #3B4455;\n",
              "      fill: #D2E3FC;\n",
              "    }\n",
              "\n",
              "    [theme=dark] .colab-df-convert:hover {\n",
              "      background-color: #434B5C;\n",
              "      box-shadow: 0px 1px 3px 1px rgba(0, 0, 0, 0.15);\n",
              "      filter: drop-shadow(0px 1px 2px rgba(0, 0, 0, 0.3));\n",
              "      fill: #FFFFFF;\n",
              "    }\n",
              "  </style>\n",
              "\n",
              "    <script>\n",
              "      const buttonEl =\n",
              "        document.querySelector('#df-2ccf049b-42fa-488b-8ed8-8fe2afb2ad8c button.colab-df-convert');\n",
              "      buttonEl.style.display =\n",
              "        google.colab.kernel.accessAllowed ? 'block' : 'none';\n",
              "\n",
              "      async function convertToInteractive(key) {\n",
              "        const element = document.querySelector('#df-2ccf049b-42fa-488b-8ed8-8fe2afb2ad8c');\n",
              "        const dataTable =\n",
              "          await google.colab.kernel.invokeFunction('convertToInteractive',\n",
              "                                                    [key], {});\n",
              "        if (!dataTable) return;\n",
              "\n",
              "        const docLinkHtml = 'Like what you see? Visit the ' +\n",
              "          '<a target=\"_blank\" href=https://colab.research.google.com/notebooks/data_table.ipynb>data table notebook</a>'\n",
              "          + ' to learn more about interactive tables.';\n",
              "        element.innerHTML = '';\n",
              "        dataTable['output_type'] = 'display_data';\n",
              "        await google.colab.output.renderOutput(dataTable, element);\n",
              "        const docLink = document.createElement('div');\n",
              "        docLink.innerHTML = docLinkHtml;\n",
              "        element.appendChild(docLink);\n",
              "      }\n",
              "    </script>\n",
              "  </div>\n",
              "\n",
              "\n",
              "    <div id=\"df-de143bc7-b046-45aa-a779-abffd88334eb\">\n",
              "      <button class=\"colab-df-quickchart\" onclick=\"quickchart('df-de143bc7-b046-45aa-a779-abffd88334eb')\"\n",
              "                title=\"Suggest charts\"\n",
              "                style=\"display:none;\">\n",
              "\n",
              "<svg xmlns=\"http://www.w3.org/2000/svg\" height=\"24px\"viewBox=\"0 0 24 24\"\n",
              "     width=\"24px\">\n",
              "    <g>\n",
              "        <path d=\"M19 3H5c-1.1 0-2 .9-2 2v14c0 1.1.9 2 2 2h14c1.1 0 2-.9 2-2V5c0-1.1-.9-2-2-2zM9 17H7v-7h2v7zm4 0h-2V7h2v10zm4 0h-2v-4h2v4z\"/>\n",
              "    </g>\n",
              "</svg>\n",
              "      </button>\n",
              "\n",
              "<style>\n",
              "  .colab-df-quickchart {\n",
              "      --bg-color: #E8F0FE;\n",
              "      --fill-color: #1967D2;\n",
              "      --hover-bg-color: #E2EBFA;\n",
              "      --hover-fill-color: #174EA6;\n",
              "      --disabled-fill-color: #AAA;\n",
              "      --disabled-bg-color: #DDD;\n",
              "  }\n",
              "\n",
              "  [theme=dark] .colab-df-quickchart {\n",
              "      --bg-color: #3B4455;\n",
              "      --fill-color: #D2E3FC;\n",
              "      --hover-bg-color: #434B5C;\n",
              "      --hover-fill-color: #FFFFFF;\n",
              "      --disabled-bg-color: #3B4455;\n",
              "      --disabled-fill-color: #666;\n",
              "  }\n",
              "\n",
              "  .colab-df-quickchart {\n",
              "    background-color: var(--bg-color);\n",
              "    border: none;\n",
              "    border-radius: 50%;\n",
              "    cursor: pointer;\n",
              "    display: none;\n",
              "    fill: var(--fill-color);\n",
              "    height: 32px;\n",
              "    padding: 0;\n",
              "    width: 32px;\n",
              "  }\n",
              "\n",
              "  .colab-df-quickchart:hover {\n",
              "    background-color: var(--hover-bg-color);\n",
              "    box-shadow: 0 1px 2px rgba(60, 64, 67, 0.3), 0 1px 3px 1px rgba(60, 64, 67, 0.15);\n",
              "    fill: var(--button-hover-fill-color);\n",
              "  }\n",
              "\n",
              "  .colab-df-quickchart-complete:disabled,\n",
              "  .colab-df-quickchart-complete:disabled:hover {\n",
              "    background-color: var(--disabled-bg-color);\n",
              "    fill: var(--disabled-fill-color);\n",
              "    box-shadow: none;\n",
              "  }\n",
              "\n",
              "  .colab-df-spinner {\n",
              "    border: 2px solid var(--fill-color);\n",
              "    border-color: transparent;\n",
              "    border-bottom-color: var(--fill-color);\n",
              "    animation:\n",
              "      spin 1s steps(1) infinite;\n",
              "  }\n",
              "\n",
              "  @keyframes spin {\n",
              "    0% {\n",
              "      border-color: transparent;\n",
              "      border-bottom-color: var(--fill-color);\n",
              "      border-left-color: var(--fill-color);\n",
              "    }\n",
              "    20% {\n",
              "      border-color: transparent;\n",
              "      border-left-color: var(--fill-color);\n",
              "      border-top-color: var(--fill-color);\n",
              "    }\n",
              "    30% {\n",
              "      border-color: transparent;\n",
              "      border-left-color: var(--fill-color);\n",
              "      border-top-color: var(--fill-color);\n",
              "      border-right-color: var(--fill-color);\n",
              "    }\n",
              "    40% {\n",
              "      border-color: transparent;\n",
              "      border-right-color: var(--fill-color);\n",
              "      border-top-color: var(--fill-color);\n",
              "    }\n",
              "    60% {\n",
              "      border-color: transparent;\n",
              "      border-right-color: var(--fill-color);\n",
              "    }\n",
              "    80% {\n",
              "      border-color: transparent;\n",
              "      border-right-color: var(--fill-color);\n",
              "      border-bottom-color: var(--fill-color);\n",
              "    }\n",
              "    90% {\n",
              "      border-color: transparent;\n",
              "      border-bottom-color: var(--fill-color);\n",
              "    }\n",
              "  }\n",
              "</style>\n",
              "\n",
              "      <script>\n",
              "        async function quickchart(key) {\n",
              "          const quickchartButtonEl =\n",
              "            document.querySelector('#' + key + ' button');\n",
              "          quickchartButtonEl.disabled = true;  // To prevent multiple clicks.\n",
              "          quickchartButtonEl.classList.add('colab-df-spinner');\n",
              "          try {\n",
              "            const charts = await google.colab.kernel.invokeFunction(\n",
              "                'suggestCharts', [key], {});\n",
              "          } catch (error) {\n",
              "            console.error('Error during call to suggestCharts:', error);\n",
              "          }\n",
              "          quickchartButtonEl.classList.remove('colab-df-spinner');\n",
              "          quickchartButtonEl.classList.add('colab-df-quickchart-complete');\n",
              "        }\n",
              "        (() => {\n",
              "          let quickchartButtonEl =\n",
              "            document.querySelector('#df-de143bc7-b046-45aa-a779-abffd88334eb button');\n",
              "          quickchartButtonEl.style.display =\n",
              "            google.colab.kernel.accessAllowed ? 'block' : 'none';\n",
              "        })();\n",
              "      </script>\n",
              "    </div>\n",
              "\n",
              "    </div>\n",
              "  </div>\n"
            ],
            "application/vnd.google.colaboratory.intrinsic+json": {
              "type": "dataframe",
              "summary": "{\n  \"name\": \"score\",\n  \"rows\": 3,\n  \"fields\": [\n    {\n      \"column\": \"student_id\",\n      \"properties\": {\n        \"dtype\": \"number\",\n        \"std\": 1,\n        \"min\": 1,\n        \"max\": 3,\n        \"num_unique_values\": 3,\n        \"samples\": [\n          1,\n          2,\n          3\n        ],\n        \"semantic_type\": \"\",\n        \"description\": \"\"\n      }\n    },\n    {\n      \"column\": \"score_date\",\n      \"properties\": {\n        \"dtype\": \"date\",\n        \"min\": \"2023-01-10 00:00:00\",\n        \"max\": \"2023-01-25 00:00:00\",\n        \"num_unique_values\": 3,\n        \"samples\": [\n          \"2023-01-10 00:00:00\",\n          \"2023-01-11 00:00:00\",\n          \"2023-01-25 00:00:00\"\n        ],\n        \"semantic_type\": \"\",\n        \"description\": \"\"\n      }\n    },\n    {\n      \"column\": \"subject\",\n      \"properties\": {\n        \"dtype\": \"string\",\n        \"num_unique_values\": 2,\n        \"samples\": [\n          \"Science\",\n          \"Math\"\n        ],\n        \"semantic_type\": \"\",\n        \"description\": \"\"\n      }\n    },\n    {\n      \"column\": \"score\",\n      \"properties\": {\n        \"dtype\": \"number\",\n        \"std\": 6,\n        \"min\": 76,\n        \"max\": 88,\n        \"num_unique_values\": 3,\n        \"samples\": [\n          88,\n          76\n        ],\n        \"semantic_type\": \"\",\n        \"description\": \"\"\n      }\n    }\n  ]\n}"
            }
          },
          "metadata": {},
          "execution_count": 45
        }
      ]
    },
    {
      "cell_type": "code",
      "source": [],
      "metadata": {
        "id": "Dg3vZKfeDVKu"
      },
      "execution_count": null,
      "outputs": []
    }
  ]
}