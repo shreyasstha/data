{
  "nbformat": 4,
  "nbformat_minor": 0,
  "metadata": {
    "colab": {
      "provenance": [],
      "toc_visible": true,
      "authorship_tag": "ABX9TyMw8LQzMKGtTuhBm0VoHfYW",
      "include_colab_link": true
    },
    "kernelspec": {
      "name": "python3",
      "display_name": "Python 3"
    },
    "language_info": {
      "name": "python"
    }
  },
  "cells": [
    {
      "cell_type": "markdown",
      "metadata": {
        "id": "view-in-github",
        "colab_type": "text"
      },
      "source": [
        "<a href=\"https://colab.research.google.com/github/shreyasstha/data/blob/main/Joining_data_inPandas.ipynb\" target=\"_parent\"><img src=\"https://colab.research.google.com/assets/colab-badge.svg\" alt=\"Open In Colab\"/></a>"
      ]
    },
    {
      "cell_type": "code",
      "execution_count": 2,
      "metadata": {
        "colab": {
          "base_uri": "https://localhost:8080/"
        },
        "id": "aSmDmXnOMF-t",
        "outputId": "cfdefa2a-251b-4bf4-9357-98acd361f8c4"
      },
      "outputs": [
        {
          "output_type": "stream",
          "name": "stdout",
          "text": [
            "   student_id student_name  age  gender\n",
            "0         101        Alice   20  Female\n",
            "1         102          Bob   22    Male\n",
            "2         103      Charlie   21    Male\n",
            "3         104        David   23    Male\n",
            "4         105          Eva   22  Female\n",
            "   student_id  subject  score\n",
            "0         101     Math     88\n",
            "1         102  Science     75\n",
            "2         103  English     92\n",
            "3         101  Science     81\n",
            "4         104     Math     67\n",
            "5         105  English     78\n",
            "6         102     Math     85\n",
            "   subject teacher_name classroom\n",
            "0     Math    Mr.Sharma      A101\n",
            "1  Science     Ms.Karki      B202\n",
            "2  English    Mrs.Joshi      C303\n",
            "3   Nepali      Mr.Lama      D404\n"
          ]
        }
      ],
      "source": [
        "import pandas as pd\n",
        "\n",
        "student = pd.read_csv(\"student.csv\")\n",
        "score = pd.read_csv(\"score.csv\")\n",
        "classroom = pd.read_csv(\"classroom.csv\")\n",
        "\n",
        "print(student)\n",
        "print(score)\n",
        "print(classroom)"
      ]
    },
    {
      "cell_type": "markdown",
      "source": [
        "#merge table"
      ],
      "metadata": {
        "id": "_nkKbxQrtdBT"
      }
    },
    {
      "cell_type": "code",
      "source": [
        "student_details = pd.merge(student, score, on=\"student_id\")\n",
        "print(student_details)"
      ],
      "metadata": {
        "colab": {
          "base_uri": "https://localhost:8080/"
        },
        "id": "VLyQ1ps-OIeZ",
        "outputId": "983a33da-f06e-40a8-a6ec-a92896ec8ee8"
      },
      "execution_count": null,
      "outputs": [
        {
          "output_type": "stream",
          "name": "stdout",
          "text": [
            "   student_id student_name  age  gender  subject  score\n",
            "0         101        Alice   20  Female     Math     88\n",
            "1         101        Alice   20  Female  Science     81\n",
            "2         102          Bob   22    Male  Science     75\n",
            "3         102          Bob   22    Male     Math     85\n",
            "4         103      Charlie   21    Male  English     92\n",
            "5         104        David   23    Male     Math     67\n",
            "6         105          Eva   22  Female  English     78\n"
          ]
        }
      ]
    },
    {
      "cell_type": "code",
      "source": [
        "print(student.merge(score, on=\"student_id\", how=\"left\"))\n",
        "#left_join =>all the rows from left side and only the rows from right side with matching values\n",
        "#join = inner, left, right, outer\n",
        "#same result as above"
      ],
      "metadata": {
        "colab": {
          "base_uri": "https://localhost:8080/"
        },
        "id": "gdX3gweUO535",
        "outputId": "6ca2d20d-c6d0-422d-cd79-515fd53f71ff"
      },
      "execution_count": null,
      "outputs": [
        {
          "output_type": "stream",
          "name": "stdout",
          "text": [
            "   student_id student_name  age  gender  subject  score\n",
            "0         101        Alice   20  Female     Math     88\n",
            "1         101        Alice   20  Female  Science     81\n",
            "2         102          Bob   22    Male  Science     75\n",
            "3         102          Bob   22    Male     Math     85\n",
            "4         103      Charlie   21    Male  English     92\n",
            "5         104        David   23    Male     Math     67\n",
            "6         105          Eva   22  Female  English     78\n"
          ]
        }
      ]
    },
    {
      "cell_type": "code",
      "source": [
        "score_to_subject = score.merge(classroom, on=\"subject\")\n",
        "\n",
        "c = score_to_subject[\"subject\"] == \"English\"\n",
        "english = score_to_subject[c]\n",
        "\n",
        "c = score_to_subject[\"subject\"] == \"Math\"\n",
        "math = score_to_subject[c]\n",
        "\n",
        "english_math = english.merge(math, on=\"subject\", how=\"outer\", suffixes=(\"_eng\", \"_math\"))\n",
        "\n",
        "print(english_math)"
      ],
      "metadata": {
        "colab": {
          "base_uri": "https://localhost:8080/"
        },
        "id": "OQxJLYbXZqy9",
        "outputId": "bb2fcd34-6a2d-4980-b41e-53d87061250e"
      },
      "execution_count": null,
      "outputs": [
        {
          "output_type": "stream",
          "name": "stdout",
          "text": [
            "   student_id_eng  subject  score_eng teacher_name_eng classroom_eng  \\\n",
            "0           103.0  English       92.0        Mrs.Joshi          C303   \n",
            "1           105.0  English       78.0        Mrs.Joshi          C303   \n",
            "2             NaN     Math        NaN              NaN           NaN   \n",
            "3             NaN     Math        NaN              NaN           NaN   \n",
            "4             NaN     Math        NaN              NaN           NaN   \n",
            "\n",
            "   student_id_math  score_math teacher_name_math classroom_math  \n",
            "0              NaN         NaN               NaN            NaN  \n",
            "1              NaN         NaN               NaN            NaN  \n",
            "2            101.0        88.0         Mr.Sharma           A101  \n",
            "3            104.0        67.0         Mr.Sharma           A101  \n",
            "4            102.0        85.0         Mr.Sharma           A101  \n"
          ]
        }
      ]
    },
    {
      "cell_type": "code",
      "source": [
        "student_score = pd.merge(student ,score, on=\"student_id\")\n",
        "\n",
        "print(student_score)\n",
        "\n",
        "print(student.shape)\n",
        "print(student_score.shape)"
      ],
      "metadata": {
        "colab": {
          "base_uri": "https://localhost:8080/"
        },
        "id": "eY2ETVhcPJtJ",
        "outputId": "c2258ae7-d49d-4b22-df0e-7cb241751b7d"
      },
      "execution_count": null,
      "outputs": [
        {
          "output_type": "stream",
          "name": "stdout",
          "text": [
            "   student_id student_name  age  gender  subject  score\n",
            "0         101        Alice   20  Female     Math     88\n",
            "1         101        Alice   20  Female  Science     81\n",
            "2         102          Bob   22    Male  Science     75\n",
            "3         102          Bob   22    Male     Math     85\n",
            "4         103      Charlie   21    Male  English     92\n",
            "5         104        David   23    Male     Math     67\n",
            "6         105          Eva   22  Female  English     78\n",
            "(5, 4)\n",
            "(7, 6)\n"
          ]
        }
      ]
    },
    {
      "cell_type": "code",
      "source": [
        "# First join students with scores\n",
        "student_scores = pd.merge(student, score, on=\"student_id\")\n",
        "\n",
        "# Then join with classrooms using the subject\n",
        "full_data = pd.merge(student_scores, classroom, on=\"subject\")\n",
        "\n",
        "print(full_data)\n"
      ],
      "metadata": {
        "id": "LuzaqhAmT8wT",
        "colab": {
          "base_uri": "https://localhost:8080/"
        },
        "outputId": "d0832874-7d1a-4086-8090-9fc6b988e7e3"
      },
      "execution_count": null,
      "outputs": [
        {
          "output_type": "stream",
          "name": "stdout",
          "text": [
            "   student_id student_name  age  gender  subject  score teacher_name classroom\n",
            "0         101        Alice   20  Female     Math     88    Mr.Sharma      A101\n",
            "1         101        Alice   20  Female  Science     81     Ms.Karki      B202\n",
            "2         102          Bob   22    Male  Science     75     Ms.Karki      B202\n",
            "3         102          Bob   22    Male     Math     85    Mr.Sharma      A101\n",
            "4         103      Charlie   21    Male  English     92    Mrs.Joshi      C303\n",
            "5         104        David   23    Male     Math     67    Mr.Sharma      A101\n",
            "6         105          Eva   22  Female  English     78    Mrs.Joshi      C303\n"
          ]
        }
      ]
    },
    {
      "cell_type": "code",
      "source": [
        "print(score.merge(classroom, on=\"subject\"))"
      ],
      "metadata": {
        "colab": {
          "base_uri": "https://localhost:8080/"
        },
        "id": "gWzBxB05OaZ0",
        "outputId": "de445ba5-103f-4e6e-d91f-f1b8e0acf4e9"
      },
      "execution_count": null,
      "outputs": [
        {
          "output_type": "stream",
          "name": "stdout",
          "text": [
            "   student_id  subject  score teacher_name classroom\n",
            "0         101     Math     88    Mr.Sharma      A101\n",
            "1         102  Science     75     Ms.Karki      B202\n",
            "2         103  English     92    Mrs.Joshi      C303\n",
            "3         101  Science     81     Ms.Karki      B202\n",
            "4         104     Math     67    Mr.Sharma      A101\n",
            "5         105  English     78    Mrs.Joshi      C303\n",
            "6         102     Math     85    Mr.Sharma      A101\n"
          ]
        }
      ]
    },
    {
      "cell_type": "code",
      "source": [
        "student_score_classromm = student.merge(score, on =\"student_id\")\\\n",
        "                                 .merge(classroom, on =\"subject\")\n",
        "print(student_score_classromm)"
      ],
      "metadata": {
        "colab": {
          "base_uri": "https://localhost:8080/"
        },
        "id": "cWhml3GJSIFt",
        "outputId": "dbea3395-cfef-47a3-f7c0-5ef5799d9537"
      },
      "execution_count": null,
      "outputs": [
        {
          "output_type": "stream",
          "name": "stdout",
          "text": [
            "   student_id student_name  age  gender  subject  score teacher_name classroom\n",
            "0         101        Alice   20  Female     Math     88    Mr.Sharma      A101\n",
            "1         101        Alice   20  Female  Science     81     Ms.Karki      B202\n",
            "2         102          Bob   22    Male  Science     75     Ms.Karki      B202\n",
            "3         102          Bob   22    Male     Math     85    Mr.Sharma      A101\n",
            "4         103      Charlie   21    Male  English     92    Mrs.Joshi      C303\n",
            "5         104        David   23    Male     Math     67    Mr.Sharma      A101\n",
            "6         105          Eva   22  Female  English     78    Mrs.Joshi      C303\n"
          ]
        }
      ]
    },
    {
      "cell_type": "code",
      "source": [
        "student_score_classromm.groupby(\"subject\").agg(\"sum\").plot(kind=\"bar\", y= \"score\")"
      ],
      "metadata": {
        "colab": {
          "base_uri": "https://localhost:8080/",
          "height": 509
        },
        "id": "ZZPQhB16S0Gy",
        "outputId": "5f6ae85e-5ec8-41f1-84db-800ecb221d06"
      },
      "execution_count": null,
      "outputs": [
        {
          "output_type": "execute_result",
          "data": {
            "text/plain": [
              "<Axes: xlabel='subject'>"
            ]
          },
          "metadata": {},
          "execution_count": 29
        },
        {
          "output_type": "display_data",
          "data": {
            "text/plain": [
              "<Figure size 640x480 with 1 Axes>"
            ],
            "image/png": "[encoded data removed]"
          },
          "metadata": {}
        }
      ]
    },
    {
      "cell_type": "markdown",
      "source": [
        "#filtering join"
      ],
      "metadata": {
        "id": "ln6xQ1e8tVXM"
      }
    },
    {
      "cell_type": "code",
      "source": [
        "student_score = student.merge(score, on=\"student_id\",\n",
        "                            how='left', indicator=True)  #indicator gives _merge column\n",
        "print(student_score)\n"
      ],
      "metadata": {
        "id": "zc0nYPN7TH0B",
        "colab": {
          "base_uri": "https://localhost:8080/"
        },
        "outputId": "64213587-0b26-4b6b-d234-8edbc9c92976"
      },
      "execution_count": 8,
      "outputs": [
        {
          "output_type": "stream",
          "name": "stdout",
          "text": [
            "   student_id student_name  age  gender  subject  score _merge\n",
            "0         101        Alice   20  Female     Math     88   both\n",
            "1         101        Alice   20  Female  Science     81   both\n",
            "2         102          Bob   22    Male  Science     75   both\n",
            "3         102          Bob   22    Male     Math     85   both\n",
            "4         103      Charlie   21    Male  English     92   both\n",
            "5         104        David   23    Male     Math     67   both\n",
            "6         105          Eva   22  Female  English     78   both\n"
          ]
        }
      ]
    },
    {
      "cell_type": "code",
      "source": [
        "st_id_list = student.loc[student_score[\"_merge\"] == \"both\", \"student_id\"]\n",
        "print(st_id_list)"
      ],
      "metadata": {
        "colab": {
          "base_uri": "https://localhost:8080/"
        },
        "id": "ebwGT_NOt8tc",
        "outputId": "8b2a83de-8ce0-4962-c57c-b9574a378025"
      },
      "execution_count": 9,
      "outputs": [
        {
          "output_type": "stream",
          "name": "stdout",
          "text": [
            "0    101\n",
            "1    102\n",
            "2    103\n",
            "3    104\n",
            "4    105\n",
            "Name: student_id, dtype: int64\n"
          ]
        }
      ]
    },
    {
      "cell_type": "code",
      "source": [
        "print(student[student[\"student_id\"].isin(st_id_list)])"
      ],
      "metadata": {
        "colab": {
          "base_uri": "https://localhost:8080/"
        },
        "id": "fGjJCc2duZQe",
        "outputId": "ed8f860d-e98a-46b4-e947-0528e8e22e79"
      },
      "execution_count": 10,
      "outputs": [
        {
          "output_type": "stream",
          "name": "stdout",
          "text": [
            "   student_id student_name  age  gender\n",
            "0         101        Alice   20  Female\n",
            "1         102          Bob   22    Male\n",
            "2         103      Charlie   21    Male\n",
            "3         104        David   23    Male\n",
            "4         105          Eva   22  Female\n"
          ]
        }
      ]
    },
    {
      "cell_type": "code",
      "source": [
        "#merge scoere and classroom\n",
        "score_class = score.merge(classroom, on=\"subject\", how=\"inner\")\n",
        "print(score_class)"
      ],
      "metadata": {
        "colab": {
          "base_uri": "https://localhost:8080/"
        },
        "id": "hR_r0h6VuyPE",
        "outputId": "aeec0e29-2fc3-419a-c8df-a09831bbc984"
      },
      "execution_count": 12,
      "outputs": [
        {
          "output_type": "stream",
          "name": "stdout",
          "text": [
            "   student_id  subject  score teacher_name classroom\n",
            "0         101     Math     88    Mr.Sharma      A101\n",
            "1         102  Science     75     Ms.Karki      B202\n",
            "2         103  English     92    Mrs.Joshi      C303\n",
            "3         101  Science     81     Ms.Karki      B202\n",
            "4         104     Math     67    Mr.Sharma      A101\n",
            "5         105  English     78    Mrs.Joshi      C303\n",
            "6         102     Math     85    Mr.Sharma      A101\n"
          ]
        }
      ]
    },
    {
      "cell_type": "code",
      "source": [
        "# Use .isin() to subset\n",
        "top_studet = score[score['subject'].isin(score_class[\"subject\"])]\n",
        "print(top_studet)"
      ],
      "metadata": {
        "colab": {
          "base_uri": "https://localhost:8080/"
        },
        "id": "1yLZrCyvvyM1",
        "outputId": "2ef92ab4-61d3-4878-f0d7-b42909a0e60b"
      },
      "execution_count": 15,
      "outputs": [
        {
          "output_type": "stream",
          "name": "stdout",
          "text": [
            "   student_id  subject  score\n",
            "0         101     Math     88\n",
            "1         102  Science     75\n",
            "2         103  English     92\n",
            "3         101  Science     81\n",
            "4         104     Math     67\n",
            "5         105  English     78\n",
            "6         102     Math     85\n"
          ]
        }
      ]
    },
    {
      "cell_type": "code",
      "source": [
        "cnt_by_id = top_studet.groupby(['student_id'], as_index=False).agg({'subject':\"count\"})\n",
        "print(cnt_by_id)"
      ],
      "metadata": {
        "colab": {
          "base_uri": "https://localhost:8080/"
        },
        "id": "AqsDjb6Zvy2b",
        "outputId": "1854558e-ae1e-4630-bbfa-19162cb3af88"
      },
      "execution_count": 21,
      "outputs": [
        {
          "output_type": "stream",
          "name": "stdout",
          "text": [
            "   student_id  subject\n",
            "0         101        2\n",
            "1         102        2\n",
            "2         103        1\n",
            "3         104        1\n",
            "4         105        1\n"
          ]
        }
      ]
    },
    {
      "cell_type": "code",
      "source": [
        "# Merge the genres table to cnt_by_gid on gid and print\n",
        "print(cnt_by_id.merge(student, on=\"student_id\"))"
      ],
      "metadata": {
        "colab": {
          "base_uri": "https://localhost:8080/"
        },
        "id": "7F-a4P9Cv0cl",
        "outputId": "525de964-e825-406a-ffa9-b8e6f2b8b0b6"
      },
      "execution_count": 22,
      "outputs": [
        {
          "output_type": "stream",
          "name": "stdout",
          "text": [
            "   student_id  subject student_name  age  gender\n",
            "0         101        2        Alice   20  Female\n",
            "1         102        2          Bob   22    Male\n",
            "2         103        1      Charlie   21    Male\n",
            "3         104        1        David   23    Male\n",
            "4         105        1          Eva   22  Female\n"
          ]
        }
      ]
    },
    {
      "cell_type": "code",
      "source": [],
      "metadata": {
        "id": "m5WDMKW4wpwK"
      },
      "execution_count": null,
      "outputs": []
    }
  ]
}