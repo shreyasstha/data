{
  "cells": [
    {
      "cell_type": "markdown",
      "metadata": {
        "id": "view-in-github",
        "colab_type": "text"
      },
      "source": [
        "<a href=\"https://colab.research.google.com/github/shreyasstha/data/blob/main/calculator.ipynb\" target=\"_parent\"><img src=\"https://colab.research.google.com/assets/colab-badge.svg\" alt=\"Open In Colab\"/></a>"
      ]
    },
    {
      "cell_type": "code",
      "execution_count": null,
      "metadata": {
        "colab": {
          "background_save": true,
          "base_uri": "https://localhost:8080/"
        },
        "id": "BPYGPBvE6IQY",
        "outputId": "4f094292-5027-474a-a12f-b9f385780fad"
      },
      "outputs": [
        {
          "name": "stdout",
          "output_type": "stream",
          "text": [
            "Basic Calculator \n",
            "1. Add\n",
            "2. Subtract\n",
            "3. Multiply\n",
            "4. Divide\n"
          ]
        }
      ],
      "source": [
        "def calculator():\n",
        "    print(\"Basic Calculator \")\n",
        "    print(\"1. Add\\n2. Subtract\\n3. Multiply\\n4. Divide\")\n",
        "\n",
        "    choice = input(\"Choose operation (1/2/3/4): \")\n",
        "\n",
        "    num1 = float(input(\"Enter first number: \"))\n",
        "    num2 = float(input(\"Enter second number: \"))\n",
        "\n",
        "    if choice == '1':\n",
        "        print(\"Result:\", num1 + num2)\n",
        "    elif choice == '2':\n",
        "        print(\"Result:\", num1 - num2)\n",
        "    elif choice == '3':\n",
        "        print(\"Result:\", num1 * num2)\n",
        "    elif choice == '4':\n",
        "        if num2 == 0:\n",
        "            print(\"Error: Cannot divide by zero.\")\n",
        "        else:\n",
        "            print(\"Result:\", num1 / num2)\n",
        "    else:\n",
        "        print(\"Invalid choice.\")\n",
        "\n",
        "calculator()\n"
      ]
    }
  ],
  "metadata": {
    "colab": {
      "toc_visible": true,
      "provenance": [],
      "authorship_tag": "ABX9TyOdrZnM77fBvNwx0qnVDWm5",
      "include_colab_link": true
    },
    "kernelspec": {
      "display_name": "Python 3",
      "name": "python3"
    },
    "language_info": {
      "name": "python"
    }
  },
  "nbformat": 4,
  "nbformat_minor": 0
}