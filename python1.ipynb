{
  "nbformat": 4,
  "nbformat_minor": 0,
  "metadata": {
    "colab": {
      "provenance": [],
      "authorship_tag": "ABX9TyMCiKghYnBQJ0L8jTKmNYa5",
      "include_colab_link": true
    },
    "kernelspec": {
      "name": "python3",
      "display_name": "Python 3"
    },
    "language_info": {
      "name": "python"
    }
  },
  "cells": [
    {
      "cell_type": "markdown",
      "metadata": {
        "id": "view-in-github",
        "colab_type": "text"
      },
      "source": [
        "<a href=\"https://colab.research.google.com/github/shreyasstha/data/blob/main/python1.ipynb\" target=\"_parent\"><img src=\"https://colab.research.google.com/assets/colab-badge.svg\" alt=\"Open In Colab\"/></a>"
      ]
    },
    {
      "cell_type": "code",
      "execution_count": null,
      "metadata": {
        "colab": {
          "base_uri": "https://localhost:8080/"
        },
        "id": "Mql3Cjdki_0P",
        "outputId": "53fcb814-23d0-4d87-9c4f-6c6029c8584e"
      },
      "outputs": [
        {
          "output_type": "stream",
          "name": "stdout",
          "text": [
            "hello world\n"
          ]
        }
      ],
      "source": [
        "print(\"hello world\")"
      ]
    },
    {
      "cell_type": "code",
      "source": [
        "name = input(\"enter your name\")\n",
        "print(name)"
      ],
      "metadata": {
        "colab": {
          "base_uri": "https://localhost:8080/"
        },
        "id": "QgRWrvLujnOg",
        "outputId": "3d13a61d-86f0-4795-e7a6-eb200bf9b9cb"
      },
      "execution_count": null,
      "outputs": [
        {
          "output_type": "stream",
          "name": "stdout",
          "text": [
            "enter your nameshreya\n",
            "shreya\n"
          ]
        }
      ]
    },
    {
      "cell_type": "code",
      "source": [
        "type(a)"
      ],
      "metadata": {
        "colab": {
          "base_uri": "https://localhost:8080/"
        },
        "id": "rH8dIlkKjvrA",
        "outputId": "a3676abc-d077-4e6b-da05-a45fd9e5e1b9"
      },
      "execution_count": null,
      "outputs": [
        {
          "output_type": "execute_result",
          "data": {
            "text/plain": [
              "int"
            ]
          },
          "metadata": {},
          "execution_count": 5
        }
      ]
    },
    {
      "cell_type": "code",
      "source": [
        "a = input(\"Enter first num\")\n",
        "b = input(\"Enter second num\")\n",
        "print(a+b)"
      ],
      "metadata": {
        "colab": {
          "base_uri": "https://localhost:8080/"
        },
        "id": "ZPJ6tWAljznQ",
        "outputId": "92bfe12a-2e09-419a-a1c1-2e2840583658"
      },
      "execution_count": null,
      "outputs": [
        {
          "output_type": "stream",
          "name": "stdout",
          "text": [
            "Enter first num5\n",
            "Enter second num5\n",
            "55\n"
          ]
        }
      ]
    },
    {
      "cell_type": "code",
      "source": [
        "a =int( input(\"Enter first num\"))\n",
        "b = int(input(\"Enter second num\"))\n",
        "print(a+b)"
      ],
      "metadata": {
        "colab": {
          "base_uri": "https://localhost:8080/"
        },
        "id": "uqB0dCqwkFkv",
        "outputId": "1a454fdd-fe76-4a94-9093-cf60bf0d5d73"
      },
      "execution_count": null,
      "outputs": [
        {
          "output_type": "stream",
          "name": "stdout",
          "text": [
            "Enter first num5\n",
            "Enter second num5\n",
            "10\n"
          ]
        }
      ]
    },
    {
      "cell_type": "markdown",
      "source": [
        "type conversion"
      ],
      "metadata": {
        "id": "s6zbKrbBkWZZ"
      }
    },
    {
      "cell_type": "code",
      "source": [
        "print(4+4.4)"
      ],
      "metadata": {
        "colab": {
          "base_uri": "https://localhost:8080/"
        },
        "id": "426m87G9kYzZ",
        "outputId": "c227189c-729c-4c45-c073-4b26f8fa4b40"
      },
      "execution_count": null,
      "outputs": [
        {
          "output_type": "stream",
          "name": "stdout",
          "text": [
            "8.4\n"
          ]
        }
      ]
    },
    {
      "cell_type": "code",
      "source": [
        "print(4+'4')"
      ],
      "metadata": {
        "colab": {
          "base_uri": "https://localhost:8080/",
          "height": 141
        },
        "id": "eri0Vfvmken_",
        "outputId": "eb28dec7-8f54-4a4e-edb8-1bb91e4ea51b"
      },
      "execution_count": null,
      "outputs": [
        {
          "output_type": "error",
          "ename": "TypeError",
          "evalue": "unsupported operand type(s) for +: 'int' and 'str'",
          "traceback": [
            "\u001b[0;31m---------------------------------------------------------------------------\u001b[0m",
            "\u001b[0;31mTypeError\u001b[0m                                 Traceback (most recent call last)",
            "\u001b[0;32m/tmp/ipython-input-9-2014239834.py\u001b[0m in \u001b[0;36m<cell line: 0>\u001b[0;34m()\u001b[0m\n\u001b[0;32m----> 1\u001b[0;31m \u001b[0mprint\u001b[0m\u001b[0;34m(\u001b[0m\u001b[0;36m4\u001b[0m\u001b[0;34m+\u001b[0m\u001b[0;34m'4'\u001b[0m\u001b[0;34m)\u001b[0m\u001b[0;34m\u001b[0m\u001b[0;34m\u001b[0m\u001b[0m\n\u001b[0m",
            "\u001b[0;31mTypeError\u001b[0m: unsupported operand type(s) for +: 'int' and 'str'"
          ]
        }
      ]
    },
    {
      "cell_type": "code",
      "source": [
        "print(4+float('4'))"
      ],
      "metadata": {
        "colab": {
          "base_uri": "https://localhost:8080/"
        },
        "id": "DmIzJ2Vakhoo",
        "outputId": "087a19c0-78e1-4e40-a069-d53f1f9de5bb"
      },
      "execution_count": null,
      "outputs": [
        {
          "output_type": "stream",
          "name": "stdout",
          "text": [
            "8.0\n"
          ]
        }
      ]
    },
    {
      "cell_type": "code",
      "source": [
        "#float literaals\n",
        "float_1=10.5\n",
        "float_2=1.5e3\n",
        "float_3=1.5e-3\n",
        "print(float_1, float_2, float_3)"
      ],
      "metadata": {
        "colab": {
          "base_uri": "https://localhost:8080/"
        },
        "id": "Khp48j9Iky1g",
        "outputId": "f1b3fd47-06aa-4b76-84f8-b7eedc9067e2"
      },
      "execution_count": null,
      "outputs": [
        {
          "output_type": "stream",
          "name": "stdout",
          "text": [
            "10.5 1500.0 0.0015\n"
          ]
        }
      ]
    },
    {
      "cell_type": "code",
      "source": [
        "#complex literals\n",
        "x=5+3.14j\n",
        "print(x,x.imag, x.real)"
      ],
      "metadata": {
        "colab": {
          "base_uri": "https://localhost:8080/"
        },
        "id": "ScQxmbhJk1pv",
        "outputId": "f770ce9a-8242-4cb0-beae-d4e2d2f3e59c"
      },
      "execution_count": null,
      "outputs": [
        {
          "output_type": "stream",
          "name": "stdout",
          "text": [
            "(5+3.14j) 3.14 5.0\n"
          ]
        }
      ]
    },
    {
      "cell_type": "code",
      "source": [
        "a=True+1  #true=1\n",
        "b=False+6 #false=0\n",
        "print(a)\n",
        "print(b)"
      ],
      "metadata": {
        "colab": {
          "base_uri": "https://localhost:8080/"
        },
        "id": "fvtQBoENk6rQ",
        "outputId": "1c611080-9ea0-4585-aa8c-c900f09b714d"
      },
      "execution_count": null,
      "outputs": [
        {
          "output_type": "stream",
          "name": "stdout",
          "text": [
            "2\n",
            "6\n"
          ]
        }
      ]
    },
    {
      "cell_type": "markdown",
      "source": [
        "operation arithmetic"
      ],
      "metadata": {
        "id": "pfiMhknMlGGI"
      }
    },
    {
      "cell_type": "code",
      "source": [
        "print(2+3)\n",
        "print(9-5)\n",
        "print(3*2)\n",
        "print(3/2)"
      ],
      "metadata": {
        "colab": {
          "base_uri": "https://localhost:8080/"
        },
        "id": "_WK6n47OlI2X",
        "outputId": "70cf936c-cc2a-49cc-f960-f9f16e736d8f"
      },
      "execution_count": null,
      "outputs": [
        {
          "output_type": "stream",
          "name": "stdout",
          "text": [
            "5\n",
            "4\n",
            "6\n",
            "1.5\n"
          ]
        }
      ]
    },
    {
      "cell_type": "code",
      "source": [
        "print(3 % 2)#remainder\n",
        "print(3**2) #power\n",
        "print(3//2) #integer division"
      ],
      "metadata": {
        "colab": {
          "base_uri": "https://localhost:8080/"
        },
        "id": "-EQunzZDlK7w",
        "outputId": "44b6de4c-8f90-4d15-bd65-81f050f1bbae"
      },
      "execution_count": null,
      "outputs": [
        {
          "output_type": "stream",
          "name": "stdout",
          "text": [
            "1\n",
            "9\n",
            "1\n"
          ]
        }
      ]
    },
    {
      "cell_type": "code",
      "source": [
        "#relational\n",
        "a=5\n",
        "a += 10 #a=a+10\n",
        "print(a)"
      ],
      "metadata": {
        "colab": {
          "base_uri": "https://localhost:8080/"
        },
        "id": "RNGIIUhalPKX",
        "outputId": "d54ee5ee-404c-4b39-de71-176bed535f40"
      },
      "execution_count": null,
      "outputs": [
        {
          "output_type": "stream",
          "name": "stdout",
          "text": [
            "15\n"
          ]
        }
      ]
    },
    {
      "cell_type": "code",
      "source": [
        "#logical\n",
        "username=\"shreya\"\n",
        "password=\"38ss\"\n",
        "\n",
        "input_username=input(\"Enter username\")\n",
        "input_password=input(\"Enter password\")\n",
        "\n",
        "if input_username == username and input_password == password:\n",
        "    print(\"Login Sucess\")\n",
        "else:\n",
        "    print(\"Credential Mismatch\")\n",
        "print(\"Exection complete\")"
      ],
      "metadata": {
        "colab": {
          "base_uri": "https://localhost:8080/"
        },
        "id": "MYdnz8UMlTRH",
        "outputId": "dc3ed4ad-d8cd-46f9-b4e4-86d19d986525"
      },
      "execution_count": null,
      "outputs": [
        {
          "output_type": "stream",
          "name": "stdout",
          "text": [
            "Enter usernameshreya\n",
            "Enter passwordss38\n",
            "Credential Mismatch\n",
            "Exection complete\n"
          ]
        }
      ]
    },
    {
      "cell_type": "code",
      "source": [
        "\n",
        "username=\"shreya\"\n",
        "password=\"38ss\"\n",
        "\n",
        "input_username=input(\"Enter username\")\n",
        "input_password=input(\"Enter password\")\n",
        "\n",
        "if input_username == username and input_password == password:\n",
        "    print(\"Login Sucess\")\n",
        "elif input_username == username:\n",
        "    print(\"password mismatch\")\n",
        "elif input_password == password:\n",
        "    print(\"username mismatch\")\n",
        "else:\n",
        "    print(\"Credential Mismatch\")\n",
        "print(\"Exection complete\")"
      ],
      "metadata": {
        "colab": {
          "base_uri": "https://localhost:8080/"
        },
        "id": "49EYA-Nklbyw",
        "outputId": "62803367-8768-4895-87b9-9fdb805b06a1"
      },
      "execution_count": null,
      "outputs": [
        {
          "output_type": "stream",
          "name": "stdout",
          "text": [
            "Enter usernamehcfgjhjk\n",
            "Enter password38ss\n",
            "username mismatch\n",
            "Exection complete\n"
          ]
        }
      ]
    },
    {
      "cell_type": "code",
      "source": [
        "a=int(input(\"Enter first number: \"))\n",
        "b=int(input(\"Enter second number: \"))\n",
        "c=int(input(\"Enter third number: \"))\n",
        "\n",
        "if a<b and a<c:\n",
        "    print(a,\"is minimum\")\n",
        "elif b<c:\n",
        "    print(b,\"is minimum\")\n",
        "else:\n",
        "    print(c,\"is minimum\")"
      ],
      "metadata": {
        "colab": {
          "base_uri": "https://localhost:8080/"
        },
        "id": "gbVZFuxulkNo",
        "outputId": "91132802-6346-4d16-da6e-9827735317b7"
      },
      "execution_count": null,
      "outputs": [
        {
          "output_type": "stream",
          "name": "stdout",
          "text": [
            "Enter first number: 4\n",
            "Enter second number: 5\n",
            "Enter third number: 8\n",
            "4 is minimum\n"
          ]
        }
      ]
    },
    {
      "cell_type": "code",
      "source": [
        "#menudrivenprogram\n",
        "fnum=int(input(\"Enter the first number\"))\n",
        "inum=int(input(\"Enter second number\"))\n",
        "\n",
        "op= input(\"Enter the operation\")\n"
      ],
      "metadata": {
        "colab": {
          "base_uri": "https://localhost:8080/"
        },
        "id": "gB7qWODQlpE1",
        "outputId": "0177eb39-ee11-485c-98e3-b6c45792340c"
      },
      "execution_count": null,
      "outputs": [
        {
          "name": "stdout",
          "output_type": "stream",
          "text": [
            "Enter the first number5\n",
            "Enter second number7\n",
            "Enter the operation*\n"
          ]
        }
      ]
    }
  ]
}