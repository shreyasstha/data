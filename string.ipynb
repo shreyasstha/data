{
  "nbformat": 4,
  "nbformat_minor": 0,
  "metadata": {
    "colab": {
      "provenance": [],
      "authorship_tag": "ABX9TyP7k0BKwPcGj0Psyi3rr0l4",
      "include_colab_link": true
    },
    "kernelspec": {
      "name": "python3",
      "display_name": "Python 3"
    },
    "language_info": {
      "name": "python"
    }
  },
  "cells": [
    {
      "cell_type": "markdown",
      "metadata": {
        "id": "view-in-github",
        "colab_type": "text"
      },
      "source": [
        "<a href=\"https://colab.research.google.com/github/shreyasstha/data/blob/main/string.ipynb\" target=\"_parent\"><img src=\"https://colab.research.google.com/assets/colab-badge.svg\" alt=\"Open In Colab\"/></a>"
      ]
    },
    {
      "cell_type": "code",
      "execution_count": null,
      "metadata": {
        "id": "dX4LUKXno9af"
      },
      "outputs": [],
      "source": [
        "#Creating strings\n",
        "s1 = \"Hello\"\n",
        "s2 = 'Hi'\n",
        "s3 = \"What's up?\"\n",
        "s4 = '''Nothing special'''\n",
        "s5 = \"\"\"Are you lying\"\"\"\n",
        "s6 = 'Tell me your \"Lucky\"number'\n",
        "s7 = str(1234)"
      ]
    },
    {
      "cell_type": "code",
      "source": [
        "print(s1, s2, s3, s4, s5, s6, s7)"
      ],
      "metadata": {
        "colab": {
          "base_uri": "https://localhost:8080/"
        },
        "id": "yszxNrDMrCW_",
        "outputId": "fd97dfcd-16e0-490d-d486-3f6ce0854f1d"
      },
      "execution_count": null,
      "outputs": [
        {
          "output_type": "stream",
          "name": "stdout",
          "text": [
            "Hello Hi What's up? Nothing special Are you lying Tell me your \"Lucky\"number 1234\n"
          ]
        }
      ]
    },
    {
      "cell_type": "code",
      "source": [
        "print(s1, s2, s3, s4, s5, s6, s7, sep=\"\\n\")"
      ],
      "metadata": {
        "colab": {
          "base_uri": "https://localhost:8080/"
        },
        "id": "kCLQpHx9rElt",
        "outputId": "cab40517-c23f-4ddf-faee-3c818832de3e"
      },
      "execution_count": null,
      "outputs": [
        {
          "output_type": "stream",
          "name": "stdout",
          "text": [
            "Hello\n",
            "Hi\n",
            "What's up?\n",
            "Nothing special\n",
            "Are you lying\n",
            "Tell me your \"Lucky\"number\n",
            "1234\n"
          ]
        }
      ]
    },
    {
      "cell_type": "code",
      "source": [
        "s = \"Learn Python \"\n",
        "print(s[:])"
      ],
      "metadata": {
        "colab": {
          "base_uri": "https://localhost:8080/"
        },
        "id": "81cKd2-mrM31",
        "outputId": "d7c6c691-f40e-4f1b-d117-df9357f05cb0"
      },
      "execution_count": null,
      "outputs": [
        {
          "output_type": "stream",
          "name": "stdout",
          "text": [
            "Learn Python \n"
          ]
        }
      ]
    },
    {
      "cell_type": "code",
      "source": [
        "s = \" learn python\"\n",
        "print(s[:5])"
      ],
      "metadata": {
        "colab": {
          "base_uri": "https://localhost:8080/"
        },
        "id": "r9j8p7E7rRGM",
        "outputId": "b5bd9d4c-0726-4660-bff1-ef0b655a711f"
      },
      "execution_count": null,
      "outputs": [
        {
          "output_type": "stream",
          "name": "stdout",
          "text": [
            " lear\n"
          ]
        }
      ]
    },
    {
      "cell_type": "code",
      "source": [
        "s = \" learn python\"\n",
        "print(s[2:8])"
      ],
      "metadata": {
        "colab": {
          "base_uri": "https://localhost:8080/"
        },
        "id": "sxLnlivYrZYS",
        "outputId": "7727c2e5-5282-4437-c794-f5b26e66f9ef"
      },
      "execution_count": null,
      "outputs": [
        {
          "output_type": "stream",
          "name": "stdout",
          "text": [
            "earn p\n"
          ]
        }
      ]
    },
    {
      "cell_type": "code",
      "source": [
        "s = \" learn python\"\n",
        "print(s[-5])"
      ],
      "metadata": {
        "colab": {
          "base_uri": "https://localhost:8080/"
        },
        "id": "lfrYZt6jrftM",
        "outputId": "34f1e476-801d-482d-f602-2613ed9c6a3a"
      },
      "execution_count": null,
      "outputs": [
        {
          "output_type": "stream",
          "name": "stdout",
          "text": [
            "y\n"
          ]
        }
      ]
    },
    {
      "cell_type": "code",
      "source": [
        "s = \"Learn python with Ashok\"\n",
        "print(s[6:12])"
      ],
      "metadata": {
        "colab": {
          "base_uri": "https://localhost:8080/"
        },
        "id": "pvrOtjAWrm7c",
        "outputId": "0c37091a-ae31-4eef-f809-31e0306acbd1"
      },
      "execution_count": null,
      "outputs": [
        {
          "output_type": "stream",
          "name": "stdout",
          "text": [
            "python\n"
          ]
        }
      ]
    },
    {
      "cell_type": "code",
      "source": [
        "s =\"Learn python with Ashok\"\n",
        "print(s[0:23:2])\n",
        "#[start: end: step]"
      ],
      "metadata": {
        "colab": {
          "base_uri": "https://localhost:8080/"
        },
        "id": "p9HbuYT4rrz8",
        "outputId": "54b5efed-acf5-4876-d0f7-1cb307e10f33"
      },
      "execution_count": null,
      "outputs": [
        {
          "output_type": "stream",
          "name": "stdout",
          "text": [
            "Lanpto ihAhk\n"
          ]
        }
      ]
    },
    {
      "cell_type": "code",
      "source": [
        "s =\"Learn python \"\n",
        "print(s.upper())\n",
        "print(s.lower())"
      ],
      "metadata": {
        "colab": {
          "base_uri": "https://localhost:8080/"
        },
        "id": "IhKMp403rvCb",
        "outputId": "f0896617-d509-49a8-e155-70b584638048"
      },
      "execution_count": null,
      "outputs": [
        {
          "output_type": "stream",
          "name": "stdout",
          "text": [
            "LEARN PYTHON \n",
            "learn python \n"
          ]
        }
      ]
    },
    {
      "cell_type": "markdown",
      "source": [
        "#editing and deleting string"
      ],
      "metadata": {
        "id": "Keb5N6Der6eO"
      }
    },
    {
      "cell_type": "code",
      "source": [
        "my_cart = ['brush', 'books']\n",
        "print(my_cart[0])\n",
        "my_cart[0] = 'water'\n",
        "print(my_cart)"
      ],
      "metadata": {
        "colab": {
          "base_uri": "https://localhost:8080/"
        },
        "id": "JR_NeqS7r7Iz",
        "outputId": "39a476f0-d301-48b8-fbcb-486fe01502a2"
      },
      "execution_count": null,
      "outputs": [
        {
          "output_type": "stream",
          "name": "stdout",
          "text": [
            "brush\n",
            "['water', 'books']\n"
          ]
        }
      ]
    },
    {
      "cell_type": "code",
      "source": [
        "my_cart = ('brush', 'books') #tuples are immutable whereas list are mutable(can be change)\n",
        "print(my_cart[0])\n",
        "my_cart[0] = 'water'\n",
        "print(my_cart)"
      ],
      "metadata": {
        "colab": {
          "base_uri": "https://localhost:8080/",
          "height": 228
        },
        "id": "0EDgRDgFsDZ0",
        "outputId": "c2a6dd35-b27f-4406-a4e4-82a1cbb303d1"
      },
      "execution_count": null,
      "outputs": [
        {
          "output_type": "stream",
          "name": "stdout",
          "text": [
            "brush\n"
          ]
        },
        {
          "output_type": "error",
          "ename": "TypeError",
          "evalue": "'tuple' object does not support item assignment",
          "traceback": [
            "\u001b[0;31m---------------------------------------------------------------------------\u001b[0m",
            "\u001b[0;31mTypeError\u001b[0m                                 Traceback (most recent call last)",
            "\u001b[0;32m/tmp/ipython-input-15-1950057544.py\u001b[0m in \u001b[0;36m<cell line: 0>\u001b[0;34m()\u001b[0m\n\u001b[1;32m      1\u001b[0m \u001b[0mmy_cart\u001b[0m \u001b[0;34m=\u001b[0m \u001b[0;34m(\u001b[0m\u001b[0;34m'brush'\u001b[0m\u001b[0;34m,\u001b[0m \u001b[0;34m'books'\u001b[0m\u001b[0;34m)\u001b[0m \u001b[0;31m#tuples are immutable whereas list are mutable(can be change)\u001b[0m\u001b[0;34m\u001b[0m\u001b[0;34m\u001b[0m\u001b[0m\n\u001b[1;32m      2\u001b[0m \u001b[0mprint\u001b[0m\u001b[0;34m(\u001b[0m\u001b[0mmy_cart\u001b[0m\u001b[0;34m[\u001b[0m\u001b[0;36m0\u001b[0m\u001b[0;34m]\u001b[0m\u001b[0;34m)\u001b[0m\u001b[0;34m\u001b[0m\u001b[0;34m\u001b[0m\u001b[0m\n\u001b[0;32m----> 3\u001b[0;31m \u001b[0mmy_cart\u001b[0m\u001b[0;34m[\u001b[0m\u001b[0;36m0\u001b[0m\u001b[0;34m]\u001b[0m \u001b[0;34m=\u001b[0m \u001b[0;34m'water'\u001b[0m\u001b[0;34m\u001b[0m\u001b[0;34m\u001b[0m\u001b[0m\n\u001b[0m\u001b[1;32m      4\u001b[0m \u001b[0mprint\u001b[0m\u001b[0;34m(\u001b[0m\u001b[0mmy_cart\u001b[0m\u001b[0;34m)\u001b[0m\u001b[0;34m\u001b[0m\u001b[0;34m\u001b[0m\u001b[0m\n",
            "\u001b[0;31mTypeError\u001b[0m: 'tuple' object does not support item assignment"
          ]
        }
      ]
    },
    {
      "cell_type": "code",
      "source": [
        "name =\"Python\"\n",
        "del name\n",
        "print(name)"
      ],
      "metadata": {
        "colab": {
          "base_uri": "https://localhost:8080/",
          "height": 176
        },
        "id": "CCoKMvH6sJd0",
        "outputId": "e6d77008-3f42-4415-86f9-e0c0db697a53"
      },
      "execution_count": null,
      "outputs": [
        {
          "output_type": "error",
          "ename": "NameError",
          "evalue": "name 'name' is not defined",
          "traceback": [
            "\u001b[0;31m---------------------------------------------------------------------------\u001b[0m",
            "\u001b[0;31mNameError\u001b[0m                                 Traceback (most recent call last)",
            "\u001b[0;32m/tmp/ipython-input-16-1276181156.py\u001b[0m in \u001b[0;36m<cell line: 0>\u001b[0;34m()\u001b[0m\n\u001b[1;32m      1\u001b[0m \u001b[0mname\u001b[0m \u001b[0;34m=\u001b[0m\u001b[0;34m\"Python\"\u001b[0m\u001b[0;34m\u001b[0m\u001b[0;34m\u001b[0m\u001b[0m\n\u001b[1;32m      2\u001b[0m \u001b[0;32mdel\u001b[0m \u001b[0mname\u001b[0m\u001b[0;34m\u001b[0m\u001b[0;34m\u001b[0m\u001b[0m\n\u001b[0;32m----> 3\u001b[0;31m \u001b[0mprint\u001b[0m\u001b[0;34m(\u001b[0m\u001b[0mname\u001b[0m\u001b[0;34m)\u001b[0m\u001b[0;34m\u001b[0m\u001b[0;34m\u001b[0m\u001b[0m\n\u001b[0m",
            "\u001b[0;31mNameError\u001b[0m: name 'name' is not defined"
          ]
        }
      ]
    },
    {
      "cell_type": "code",
      "source": [
        "my_list= []\n",
        "for i in range(1,51):\n",
        "    my_list.append(i)\n",
        "print(my_list)"
      ],
      "metadata": {
        "colab": {
          "base_uri": "https://localhost:8080/"
        },
        "id": "Q_FKlgzOsOIL",
        "outputId": "8648873f-c32e-491b-e190-d52713e8f464"
      },
      "execution_count": null,
      "outputs": [
        {
          "output_type": "stream",
          "name": "stdout",
          "text": [
            "[1, 2, 3, 4, 5, 6, 7, 8, 9, 10, 11, 12, 13, 14, 15, 16, 17, 18, 19, 20, 21, 22, 23, 24, 25, 26, 27, 28, 29, 30, 31, 32, 33, 34, 35, 36, 37, 38, 39, 40, 41, 42, 43, 44, 45, 46, 47, 48, 49, 50]\n"
          ]
        }
      ]
    },
    {
      "cell_type": "code",
      "source": [
        "my_list= []\n",
        "for i in range(1,51):\n",
        "    my_list.append(i)\n",
        "print(my_list[::2])"
      ],
      "metadata": {
        "colab": {
          "base_uri": "https://localhost:8080/"
        },
        "id": "zrpX7JTOsPXT",
        "outputId": "b6b50ba7-ade6-408c-d361-3b5a0baf11f9"
      },
      "execution_count": null,
      "outputs": [
        {
          "output_type": "stream",
          "name": "stdout",
          "text": [
            "[1, 3, 5, 7, 9, 11, 13, 15, 17, 19, 21, 23, 25, 27, 29, 31, 33, 35, 37, 39, 41, 43, 45, 47, 49]\n"
          ]
        }
      ]
    }
  ]
}