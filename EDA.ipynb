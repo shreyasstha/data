{
  "nbformat": 4,
  "nbformat_minor": 0,
  "metadata": {
    "colab": {
      "provenance": [],
      "authorship_tag": "ABX9TyOlU1Ye+YV2IVEamRlXwr5B",
      "include_colab_link": true
    },
    "kernelspec": {
      "name": "python3",
      "display_name": "Python 3"
    },
    "language_info": {
      "name": "python"
    }
  },
  "cells": [
    {
      "cell_type": "markdown",
      "metadata": {
        "id": "view-in-github",
        "colab_type": "text"
      },
      "source": [
        "<a href=\"https://colab.research.google.com/github/shreyasstha/data/blob/main/EDA.ipynb\" target=\"_parent\"><img src=\"https://colab.research.google.com/assets/colab-badge.svg\" alt=\"Open In Colab\"/></a>"
      ]
    },
    {
      "cell_type": "markdown",
      "source": [
        "#Exploratory Data Analysis (EDA)"
      ],
      "metadata": {
        "id": "nD4KROdyn0dj"
      }
    },
    {
      "cell_type": "code",
      "execution_count": 1,
      "metadata": {
        "id": "jDUsyqccm0Pm"
      },
      "outputs": [],
      "source": [
        "import seaborn as sns\n",
        "import matplotlib.pyplot as plt\n",
        "import pandas as pd\n"
      ]
    },
    {
      "cell_type": "code",
      "source": [
        "unemployment = pd.read_csv(\"/content/clean_unemployment.csv\")\n",
        "print(unemployment.head(10))"
      ],
      "metadata": {
        "colab": {
          "base_uri": "https://localhost:8080/"
        },
        "id": "LwuUzCYZm8kE",
        "outputId": "43ec3ac6-d8dd-4df1-e0ad-157beda14682"
      },
      "execution_count": 2,
      "outputs": [
        {
          "output_type": "stream",
          "name": "stdout",
          "text": [
            "  country_code          country_name      continent   2010   2011   2012  \\\n",
            "0          AFG           Afghanistan           Asia  11.35  11.05  11.34   \n",
            "1          AGO                Angola         Africa   9.43   7.36   7.35   \n",
            "2          ALB               Albania         Europe  14.09  13.48  13.38   \n",
            "3          ARE  United Arab Emirates           Asia   2.48   2.30   2.18   \n",
            "4          ARG             Argentina  South America   7.71   7.18   7.22   \n",
            "5          ARM               Armenia           Asia  19.01  18.44  17.30   \n",
            "6          AUS             Australia        Oceania   5.21   5.08   5.22   \n",
            "7          AUT               Austria         Europe   4.82   4.56   4.87   \n",
            "8          AZE            Azerbaijan           Asia   5.63   5.42   5.19   \n",
            "9          BDI               Burundi         Africa   1.61   1.60   1.59   \n",
            "\n",
            "    2013   2014   2015   2016   2017   2018   2019   2020   2021  \n",
            "0  11.19  11.14  11.13  11.16  11.18  11.15  11.22  11.71  13.28  \n",
            "1   7.37   7.37   7.39   7.41   7.41   7.42   7.42   8.33   8.53  \n",
            "2  15.87  18.05  17.19  15.42  13.62  12.30  11.47  13.33  11.82  \n",
            "3   2.04   1.91   1.77   1.64   2.46   2.35   2.23   3.19   3.36  \n",
            "4   7.10   7.27   7.52   8.11   8.35   9.22   9.84  11.46  10.90  \n",
            "5  16.18  17.50  18.26  17.62  17.70  18.97  18.30  21.21  20.90  \n",
            "6   5.66   6.08   6.05   5.71   5.59   5.30   5.16   6.46   5.11  \n",
            "7   5.33   5.62   5.72   6.01   5.50   4.85   4.49   5.36   6.30  \n",
            "8   4.97   4.91   4.96   5.00   5.00   4.90   4.85   6.46   6.58  \n",
            "9   1.58   1.57   1.60   1.59   1.59   1.59   1.59   1.71   1.79  \n"
          ]
        }
      ]
    },
    {
      "cell_type": "code",
      "source": [
        "sns.histplot(data=unemployment, x=\"2021\", binwidth=1)\n",
        "plt.show()"
      ],
      "metadata": {
        "colab": {
          "base_uri": "https://localhost:8080/",
          "height": 449
        },
        "id": "719hX0xkm8A9",
        "outputId": "fb913b32-55fa-4bd6-b171-3d8d7d58a92b"
      },
      "execution_count": 3,
      "outputs": [
        {
          "output_type": "display_data",
          "data": {
            "text/plain": [
              "<Figure size 640x480 with 1 Axes>"
            ],
            "image/png": "[encoded data removed]"
          },
          "metadata": {}
        }
      ]
    },
    {
      "cell_type": "code",
      "source": [
        "#Summarizing Data\n",
        "unemployment.info()"
      ],
      "metadata": {
        "colab": {
          "base_uri": "https://localhost:8080/"
        },
        "id": "E5PLckdBnOYV",
        "outputId": "f23e8a75-efd8-4aea-9d6c-b05af125f7ce"
      },
      "execution_count": 4,
      "outputs": [
        {
          "output_type": "stream",
          "name": "stdout",
          "text": [
            "<class 'pandas.core.frame.DataFrame'>\n",
            "RangeIndex: 182 entries, 0 to 181\n",
            "Data columns (total 15 columns):\n",
            " #   Column        Non-Null Count  Dtype  \n",
            "---  ------        --------------  -----  \n",
            " 0   country_code  182 non-null    object \n",
            " 1   country_name  182 non-null    object \n",
            " 2   continent     177 non-null    object \n",
            " 3   2010          182 non-null    float64\n",
            " 4   2011          182 non-null    float64\n",
            " 5   2012          182 non-null    float64\n",
            " 6   2013          182 non-null    float64\n",
            " 7   2014          182 non-null    float64\n",
            " 8   2015          182 non-null    float64\n",
            " 9   2016          182 non-null    float64\n",
            " 10  2017          182 non-null    float64\n",
            " 11  2018          182 non-null    float64\n",
            " 12  2019          182 non-null    float64\n",
            " 13  2020          182 non-null    float64\n",
            " 14  2021          182 non-null    float64\n",
            "dtypes: float64(12), object(3)\n",
            "memory usage: 21.5+ KB\n"
          ]
        }
      ]
    },
    {
      "cell_type": "code",
      "source": [
        "\n",
        "#Counting Categorical Values\n",
        "unemployment.value_counts()"
      ],
      "metadata": {
        "colab": {
          "base_uri": "https://localhost:8080/",
          "height": 544
        },
        "id": "y-o_CncNnVqE",
        "outputId": "f5058b00-6151-4a94-8324-27871e29c073"
      },
      "execution_count": 5,
      "outputs": [
        {
          "output_type": "execute_result",
          "data": {
            "text/plain": [
              "country_code  country_name          continent      2010   2011   2012   2013   2014   2015   2016   2017   2018   2019   2020   2021 \n",
              "AFG           Afghanistan           Asia           11.35  11.05  11.34  11.19  11.14  11.13  11.16  11.18  11.15  11.22  11.71  13.28    1\n",
              "AGO           Angola                Africa         9.43   7.36   7.35   7.37   7.37   7.39   7.41   7.41   7.42   7.42   8.33   8.53     1\n",
              "ALB           Albania               Europe         14.09  13.48  13.38  15.87  18.05  17.19  15.42  13.62  12.30  11.47  13.33  11.82    1\n",
              "ARE           United Arab Emirates  Asia           2.48   2.30   2.18   2.04   1.91   1.77   1.64   2.46   2.35   2.23   3.19   3.36     1\n",
              "ARG           Argentina             South America  7.71   7.18   7.22   7.10   7.27   7.52   8.11   8.35   9.22   9.84   11.46  10.90    1\n",
              "                                                                                                                                        ..\n",
              "WSM           Samoa                 Oceania        5.73   5.68   8.75   8.67   8.72   8.50   8.31   8.58   8.69   8.41   9.15   9.84     1\n",
              "YEM           Yemen, Rep.           Asia           12.83  13.23  13.17  13.27  13.47  13.77  13.43  13.30  13.15  13.06  13.39  13.57    1\n",
              "ZAF           South Africa          Africa         24.68  24.64  24.73  24.56  24.89  25.15  26.54  27.04  26.91  28.47  29.22  33.56    1\n",
              "ZMB           Zambia                Africa         13.19  10.55  7.85   8.61   9.36   10.13  10.87  11.63  12.01  12.52  12.85  13.03    1\n",
              "ZWE           Zimbabwe              Africa         5.21   5.37   5.15   4.98   4.77   4.78   4.79   4.78   4.80   4.83   5.35   5.17     1\n",
              "Name: count, Length: 177, dtype: int64"
            ],
            "text/html": [
              "<div>\n",
              "<style scoped>\n",
              "    .dataframe tbody tr th:only-of-type {\n",
              "        vertical-align: middle;\n",
              "    }\n",
              "\n",
              "    .dataframe tbody tr th {\n",
              "        vertical-align: top;\n",
              "    }\n",
              "\n",
              "    .dataframe thead th {\n",
              "        text-align: right;\n",
              "    }\n",
              "</style>\n",
              "<table border=\"1\" class=\"dataframe\">\n",
              "  <thead>\n",
              "    <tr style=\"text-align: right;\">\n",
              "      <th></th>\n",
              "      <th></th>\n",
              "      <th></th>\n",
              "      <th></th>\n",
              "      <th></th>\n",
              "      <th></th>\n",
              "      <th></th>\n",
              "      <th></th>\n",
              "      <th></th>\n",
              "      <th></th>\n",
              "      <th></th>\n",
              "      <th></th>\n",
              "      <th></th>\n",
              "      <th></th>\n",
              "      <th></th>\n",
              "      <th>count</th>\n",
              "    </tr>\n",
              "    <tr>\n",
              "      <th>country_code</th>\n",
              "      <th>country_name</th>\n",
              "      <th>continent</th>\n",
              "      <th>2010</th>\n",
              "      <th>2011</th>\n",
              "      <th>2012</th>\n",
              "      <th>2013</th>\n",
              "      <th>2014</th>\n",
              "      <th>2015</th>\n",
              "      <th>2016</th>\n",
              "      <th>2017</th>\n",
              "      <th>2018</th>\n",
              "      <th>2019</th>\n",
              "      <th>2020</th>\n",
              "      <th>2021</th>\n",
              "      <th></th>\n",
              "    </tr>\n",
              "  </thead>\n",
              "  <tbody>\n",
              "    <tr>\n",
              "      <th>AFG</th>\n",
              "      <th>Afghanistan</th>\n",
              "      <th>Asia</th>\n",
              "      <th>11.35</th>\n",
              "      <th>11.05</th>\n",
              "      <th>11.34</th>\n",
              "      <th>11.19</th>\n",
              "      <th>11.14</th>\n",
              "      <th>11.13</th>\n",
              "      <th>11.16</th>\n",
              "      <th>11.18</th>\n",
              "      <th>11.15</th>\n",
              "      <th>11.22</th>\n",
              "      <th>11.71</th>\n",
              "      <th>13.28</th>\n",
              "      <td>1</td>\n",
              "    </tr>\n",
              "    <tr>\n",
              "      <th>AGO</th>\n",
              "      <th>Angola</th>\n",
              "      <th>Africa</th>\n",
              "      <th>9.43</th>\n",
              "      <th>7.36</th>\n",
              "      <th>7.35</th>\n",
              "      <th>7.37</th>\n",
              "      <th>7.37</th>\n",
              "      <th>7.39</th>\n",
              "      <th>7.41</th>\n",
              "      <th>7.41</th>\n",
              "      <th>7.42</th>\n",
              "      <th>7.42</th>\n",
              "      <th>8.33</th>\n",
              "      <th>8.53</th>\n",
              "      <td>1</td>\n",
              "    </tr>\n",
              "    <tr>\n",
              "      <th>ALB</th>\n",
              "      <th>Albania</th>\n",
              "      <th>Europe</th>\n",
              "      <th>14.09</th>\n",
              "      <th>13.48</th>\n",
              "      <th>13.38</th>\n",
              "      <th>15.87</th>\n",
              "      <th>18.05</th>\n",
              "      <th>17.19</th>\n",
              "      <th>15.42</th>\n",
              "      <th>13.62</th>\n",
              "      <th>12.30</th>\n",
              "      <th>11.47</th>\n",
              "      <th>13.33</th>\n",
              "      <th>11.82</th>\n",
              "      <td>1</td>\n",
              "    </tr>\n",
              "    <tr>\n",
              "      <th>ARE</th>\n",
              "      <th>United Arab Emirates</th>\n",
              "      <th>Asia</th>\n",
              "      <th>2.48</th>\n",
              "      <th>2.30</th>\n",
              "      <th>2.18</th>\n",
              "      <th>2.04</th>\n",
              "      <th>1.91</th>\n",
              "      <th>1.77</th>\n",
              "      <th>1.64</th>\n",
              "      <th>2.46</th>\n",
              "      <th>2.35</th>\n",
              "      <th>2.23</th>\n",
              "      <th>3.19</th>\n",
              "      <th>3.36</th>\n",
              "      <td>1</td>\n",
              "    </tr>\n",
              "    <tr>\n",
              "      <th>ARG</th>\n",
              "      <th>Argentina</th>\n",
              "      <th>South America</th>\n",
              "      <th>7.71</th>\n",
              "      <th>7.18</th>\n",
              "      <th>7.22</th>\n",
              "      <th>7.10</th>\n",
              "      <th>7.27</th>\n",
              "      <th>7.52</th>\n",
              "      <th>8.11</th>\n",
              "      <th>8.35</th>\n",
              "      <th>9.22</th>\n",
              "      <th>9.84</th>\n",
              "      <th>11.46</th>\n",
              "      <th>10.90</th>\n",
              "      <td>1</td>\n",
              "    </tr>\n",
              "    <tr>\n",
              "      <th>...</th>\n",
              "      <th>...</th>\n",
              "      <th>...</th>\n",
              "      <th>...</th>\n",
              "      <th>...</th>\n",
              "      <th>...</th>\n",
              "      <th>...</th>\n",
              "      <th>...</th>\n",
              "      <th>...</th>\n",
              "      <th>...</th>\n",
              "      <th>...</th>\n",
              "      <th>...</th>\n",
              "      <th>...</th>\n",
              "      <th>...</th>\n",
              "      <th>...</th>\n",
              "      <td>...</td>\n",
              "    </tr>\n",
              "    <tr>\n",
              "      <th>WSM</th>\n",
              "      <th>Samoa</th>\n",
              "      <th>Oceania</th>\n",
              "      <th>5.73</th>\n",
              "      <th>5.68</th>\n",
              "      <th>8.75</th>\n",
              "      <th>8.67</th>\n",
              "      <th>8.72</th>\n",
              "      <th>8.50</th>\n",
              "      <th>8.31</th>\n",
              "      <th>8.58</th>\n",
              "      <th>8.69</th>\n",
              "      <th>8.41</th>\n",
              "      <th>9.15</th>\n",
              "      <th>9.84</th>\n",
              "      <td>1</td>\n",
              "    </tr>\n",
              "    <tr>\n",
              "      <th>YEM</th>\n",
              "      <th>Yemen, Rep.</th>\n",
              "      <th>Asia</th>\n",
              "      <th>12.83</th>\n",
              "      <th>13.23</th>\n",
              "      <th>13.17</th>\n",
              "      <th>13.27</th>\n",
              "      <th>13.47</th>\n",
              "      <th>13.77</th>\n",
              "      <th>13.43</th>\n",
              "      <th>13.30</th>\n",
              "      <th>13.15</th>\n",
              "      <th>13.06</th>\n",
              "      <th>13.39</th>\n",
              "      <th>13.57</th>\n",
              "      <td>1</td>\n",
              "    </tr>\n",
              "    <tr>\n",
              "      <th>ZAF</th>\n",
              "      <th>South Africa</th>\n",
              "      <th>Africa</th>\n",
              "      <th>24.68</th>\n",
              "      <th>24.64</th>\n",
              "      <th>24.73</th>\n",
              "      <th>24.56</th>\n",
              "      <th>24.89</th>\n",
              "      <th>25.15</th>\n",
              "      <th>26.54</th>\n",
              "      <th>27.04</th>\n",
              "      <th>26.91</th>\n",
              "      <th>28.47</th>\n",
              "      <th>29.22</th>\n",
              "      <th>33.56</th>\n",
              "      <td>1</td>\n",
              "    </tr>\n",
              "    <tr>\n",
              "      <th>ZMB</th>\n",
              "      <th>Zambia</th>\n",
              "      <th>Africa</th>\n",
              "      <th>13.19</th>\n",
              "      <th>10.55</th>\n",
              "      <th>7.85</th>\n",
              "      <th>8.61</th>\n",
              "      <th>9.36</th>\n",
              "      <th>10.13</th>\n",
              "      <th>10.87</th>\n",
              "      <th>11.63</th>\n",
              "      <th>12.01</th>\n",
              "      <th>12.52</th>\n",
              "      <th>12.85</th>\n",
              "      <th>13.03</th>\n",
              "      <td>1</td>\n",
              "    </tr>\n",
              "    <tr>\n",
              "      <th>ZWE</th>\n",
              "      <th>Zimbabwe</th>\n",
              "      <th>Africa</th>\n",
              "      <th>5.21</th>\n",
              "      <th>5.37</th>\n",
              "      <th>5.15</th>\n",
              "      <th>4.98</th>\n",
              "      <th>4.77</th>\n",
              "      <th>4.78</th>\n",
              "      <th>4.79</th>\n",
              "      <th>4.78</th>\n",
              "      <th>4.80</th>\n",
              "      <th>4.83</th>\n",
              "      <th>5.35</th>\n",
              "      <th>5.17</th>\n",
              "      <td>1</td>\n",
              "    </tr>\n",
              "  </tbody>\n",
              "</table>\n",
              "<p>177 rows × 1 columns</p>\n",
              "</div><br><label><b>dtype:</b> int64</label>"
            ]
          },
          "metadata": {},
          "execution_count": 5
        }
      ]
    },
    {
      "cell_type": "code",
      "source": [
        "#descibe statistic\n",
        "unemployment.describe()"
      ],
      "metadata": {
        "colab": {
          "base_uri": "https://localhost:8080/",
          "height": 320
        },
        "id": "oZvTmmaUniVl",
        "outputId": "ef6fb44f-a4de-4c79-d211-3ea64e8cfdb8"
      },
      "execution_count": 6,
      "outputs": [
        {
          "output_type": "execute_result",
          "data": {
            "text/plain": [
              "             2010        2011        2012        2013        2014        2015  \\\n",
              "count  182.000000  182.000000  182.000000  182.000000  182.000000  182.000000   \n",
              "mean     8.409286    8.315440    8.317967    8.344780    8.179670    8.058901   \n",
              "std      6.248887    6.266795    6.367270    6.416041    6.284241    6.161170   \n",
              "min      0.450000    0.320000    0.480000    0.250000    0.200000    0.170000   \n",
              "25%      4.015000    3.775000    3.742500    3.692500    3.625000    3.662500   \n",
              "50%      6.965000    6.805000    6.690000    6.395000    6.450000    6.170000   \n",
              "75%     10.957500   11.045000   11.285000   11.310000   10.695000   10.215000   \n",
              "max     32.020000   31.380000   31.020000   29.000000   28.030000   27.690000   \n",
              "\n",
              "             2016        2017        2018        2019        2020        2021  \n",
              "count  182.000000  182.000000  182.000000  182.000000  182.000000  182.000000  \n",
              "mean     7.925879    7.668626    7.426429    7.243736    8.420934    8.390879  \n",
              "std      6.045439    5.902152    5.818915    5.696573    6.040915    6.067192  \n",
              "min      0.150000    0.140000    0.110000    0.100000    0.210000    0.260000  \n",
              "25%      3.800000    3.690000    3.625000    3.487500    4.285000    4.335000  \n",
              "50%      5.925000    5.650000    5.375000    5.240000    6.695000    6.425000  \n",
              "75%     10.245000   10.315000    9.257500    9.445000   11.155000   10.840000  \n",
              "max     26.540000   27.040000   26.910000   28.470000   29.220000   33.560000  "
            ],
            "text/html": [
              "\n",
              "  <div id=\"df-3e9785bd-94e8-40aa-abac-b6c0078da3a1\" class=\"colab-df-container\">\n",
              "    <div>\n",
              "<style scoped>\n",
              "    .dataframe tbody tr th:only-of-type {\n",
              "        vertical-align: middle;\n",
              "    }\n",
              "\n",
              "    .dataframe tbody tr th {\n",
              "        vertical-align: top;\n",
              "    }\n",
              "\n",
              "    .dataframe thead th {\n",
              "        text-align: right;\n",
              "    }\n",
              "</style>\n",
              "<table border=\"1\" class=\"dataframe\">\n",
              "  <thead>\n",
              "    <tr style=\"text-align: right;\">\n",
              "      <th></th>\n",
              "      <th>2010</th>\n",
              "      <th>2011</th>\n",
              "      <th>2012</th>\n",
              "      <th>2013</th>\n",
              "      <th>2014</th>\n",
              "      <th>2015</th>\n",
              "      <th>2016</th>\n",
              "      <th>2017</th>\n",
              "      <th>2018</th>\n",
              "      <th>2019</th>\n",
              "      <th>2020</th>\n",
              "      <th>2021</th>\n",
              "    </tr>\n",
              "  </thead>\n",
              "  <tbody>\n",
              "    <tr>\n",
              "      <th>count</th>\n",
              "      <td>182.000000</td>\n",
              "      <td>182.000000</td>\n",
              "      <td>182.000000</td>\n",
              "      <td>182.000000</td>\n",
              "      <td>182.000000</td>\n",
              "      <td>182.000000</td>\n",
              "      <td>182.000000</td>\n",
              "      <td>182.000000</td>\n",
              "      <td>182.000000</td>\n",
              "      <td>182.000000</td>\n",
              "      <td>182.000000</td>\n",
              "      <td>182.000000</td>\n",
              "    </tr>\n",
              "    <tr>\n",
              "      <th>mean</th>\n",
              "      <td>8.409286</td>\n",
              "      <td>8.315440</td>\n",
              "      <td>8.317967</td>\n",
              "      <td>8.344780</td>\n",
              "      <td>8.179670</td>\n",
              "      <td>8.058901</td>\n",
              "      <td>7.925879</td>\n",
              "      <td>7.668626</td>\n",
              "      <td>7.426429</td>\n",
              "      <td>7.243736</td>\n",
              "      <td>8.420934</td>\n",
              "      <td>8.390879</td>\n",
              "    </tr>\n",
              "    <tr>\n",
              "      <th>std</th>\n",
              "      <td>6.248887</td>\n",
              "      <td>6.266795</td>\n",
              "      <td>6.367270</td>\n",
              "      <td>6.416041</td>\n",
              "      <td>6.284241</td>\n",
              "      <td>6.161170</td>\n",
              "      <td>6.045439</td>\n",
              "      <td>5.902152</td>\n",
              "      <td>5.818915</td>\n",
              "      <td>5.696573</td>\n",
              "      <td>6.040915</td>\n",
              "      <td>6.067192</td>\n",
              "    </tr>\n",
              "    <tr>\n",
              "      <th>min</th>\n",
              "      <td>0.450000</td>\n",
              "      <td>0.320000</td>\n",
              "      <td>0.480000</td>\n",
              "      <td>0.250000</td>\n",
              "      <td>0.200000</td>\n",
              "      <td>0.170000</td>\n",
              "      <td>0.150000</td>\n",
              "      <td>0.140000</td>\n",
              "      <td>0.110000</td>\n",
              "      <td>0.100000</td>\n",
              "      <td>0.210000</td>\n",
              "      <td>0.260000</td>\n",
              "    </tr>\n",
              "    <tr>\n",
              "      <th>25%</th>\n",
              "      <td>4.015000</td>\n",
              "      <td>3.775000</td>\n",
              "      <td>3.742500</td>\n",
              "      <td>3.692500</td>\n",
              "      <td>3.625000</td>\n",
              "      <td>3.662500</td>\n",
              "      <td>3.800000</td>\n",
              "      <td>3.690000</td>\n",
              "      <td>3.625000</td>\n",
              "      <td>3.487500</td>\n",
              "      <td>4.285000</td>\n",
              "      <td>4.335000</td>\n",
              "    </tr>\n",
              "    <tr>\n",
              "      <th>50%</th>\n",
              "      <td>6.965000</td>\n",
              "      <td>6.805000</td>\n",
              "      <td>6.690000</td>\n",
              "      <td>6.395000</td>\n",
              "      <td>6.450000</td>\n",
              "      <td>6.170000</td>\n",
              "      <td>5.925000</td>\n",
              "      <td>5.650000</td>\n",
              "      <td>5.375000</td>\n",
              "      <td>5.240000</td>\n",
              "      <td>6.695000</td>\n",
              "      <td>6.425000</td>\n",
              "    </tr>\n",
              "    <tr>\n",
              "      <th>75%</th>\n",
              "      <td>10.957500</td>\n",
              "      <td>11.045000</td>\n",
              "      <td>11.285000</td>\n",
              "      <td>11.310000</td>\n",
              "      <td>10.695000</td>\n",
              "      <td>10.215000</td>\n",
              "      <td>10.245000</td>\n",
              "      <td>10.315000</td>\n",
              "      <td>9.257500</td>\n",
              "      <td>9.445000</td>\n",
              "      <td>11.155000</td>\n",
              "      <td>10.840000</td>\n",
              "    </tr>\n",
              "    <tr>\n",
              "      <th>max</th>\n",
              "      <td>32.020000</td>\n",
              "      <td>31.380000</td>\n",
              "      <td>31.020000</td>\n",
              "      <td>29.000000</td>\n",
              "      <td>28.030000</td>\n",
              "      <td>27.690000</td>\n",
              "      <td>26.540000</td>\n",
              "      <td>27.040000</td>\n",
              "      <td>26.910000</td>\n",
              "      <td>28.470000</td>\n",
              "      <td>29.220000</td>\n",
              "      <td>33.560000</td>\n",
              "    </tr>\n",
              "  </tbody>\n",
              "</table>\n",
              "</div>\n",
              "    <div class=\"colab-df-buttons\">\n",
              "\n",
              "  <div class=\"colab-df-container\">\n",
              "    <button class=\"colab-df-convert\" onclick=\"convertToInteractive('df-3e9785bd-94e8-40aa-abac-b6c0078da3a1')\"\n",
              "            title=\"Convert this dataframe to an interactive table.\"\n",
              "            style=\"display:none;\">\n",
              "\n",
              "  <svg xmlns=\"http://www.w3.org/2000/svg\" height=\"24px\" viewBox=\"0 -960 960 960\">\n",
              "    <path d=\"M120-120v-720h720v720H120Zm60-500h600v-160H180v160Zm220 220h160v-160H400v160Zm0 220h160v-160H400v160ZM180-400h160v-160H180v160Zm440 0h160v-160H620v160ZM180-180h160v-160H180v160Zm440 0h160v-160H620v160Z\"/>\n",
              "  </svg>\n",
              "    </button>\n",
              "\n",
              "  <style>\n",
              "    .colab-df-container {\n",
              "      display:flex;\n",
              "      gap: 12px;\n",
              "    }\n",
              "\n",
              "    .colab-df-convert {\n",
              "      background-color: #E8F0FE;\n",
              "      border: none;\n",
              "      border-radius: 50%;\n",
              "      cursor: pointer;\n",
              "      display: none;\n",
              "      fill: #1967D2;\n",
              "      height: 32px;\n",
              "      padding: 0 0 0 0;\n",
              "      width: 32px;\n",
              "    }\n",
              "\n",
              "    .colab-df-convert:hover {\n",
              "      background-color: #E2EBFA;\n",
              "      box-shadow: 0px 1px 2px rgba(60, 64, 67, 0.3), 0px 1px 3px 1px rgba(60, 64, 67, 0.15);\n",
              "      fill: #174EA6;\n",
              "    }\n",
              "\n",
              "    .colab-df-buttons div {\n",
              "      margin-bottom: 4px;\n",
              "    }\n",
              "\n",
              "    [theme=dark] .colab-df-convert {\n",
              "      background-color: #3B4455;\n",
              "      fill: #D2E3FC;\n",
              "    }\n",
              "\n",
              "    [theme=dark] .colab-df-convert:hover {\n",
              "      background-color: #434B5C;\n",
              "      box-shadow: 0px 1px 3px 1px rgba(0, 0, 0, 0.15);\n",
              "      filter: drop-shadow(0px 1px 2px rgba(0, 0, 0, 0.3));\n",
              "      fill: #FFFFFF;\n",
              "    }\n",
              "  </style>\n",
              "\n",
              "    <script>\n",
              "      const buttonEl =\n",
              "        document.querySelector('#df-3e9785bd-94e8-40aa-abac-b6c0078da3a1 button.colab-df-convert');\n",
              "      buttonEl.style.display =\n",
              "        google.colab.kernel.accessAllowed ? 'block' : 'none';\n",
              "\n",
              "      async function convertToInteractive(key) {\n",
              "        const element = document.querySelector('#df-3e9785bd-94e8-40aa-abac-b6c0078da3a1');\n",
              "        const dataTable =\n",
              "          await google.colab.kernel.invokeFunction('convertToInteractive',\n",
              "                                                    [key], {});\n",
              "        if (!dataTable) return;\n",
              "\n",
              "        const docLinkHtml = 'Like what you see? Visit the ' +\n",
              "          '<a target=\"_blank\" href=https://colab.research.google.com/notebooks/data_table.ipynb>data table notebook</a>'\n",
              "          + ' to learn more about interactive tables.';\n",
              "        element.innerHTML = '';\n",
              "        dataTable['output_type'] = 'display_data';\n",
              "        await google.colab.output.renderOutput(dataTable, element);\n",
              "        const docLink = document.createElement('div');\n",
              "        docLink.innerHTML = docLinkHtml;\n",
              "        element.appendChild(docLink);\n",
              "      }\n",
              "    </script>\n",
              "  </div>\n",
              "\n",
              "\n",
              "    <div id=\"df-073c4359-9278-4075-b5f8-5c9621470f46\">\n",
              "      <button class=\"colab-df-quickchart\" onclick=\"quickchart('df-073c4359-9278-4075-b5f8-5c9621470f46')\"\n",
              "                title=\"Suggest charts\"\n",
              "                style=\"display:none;\">\n",
              "\n",
              "<svg xmlns=\"http://www.w3.org/2000/svg\" height=\"24px\"viewBox=\"0 0 24 24\"\n",
              "     width=\"24px\">\n",
              "    <g>\n",
              "        <path d=\"M19 3H5c-1.1 0-2 .9-2 2v14c0 1.1.9 2 2 2h14c1.1 0 2-.9 2-2V5c0-1.1-.9-2-2-2zM9 17H7v-7h2v7zm4 0h-2V7h2v10zm4 0h-2v-4h2v4z\"/>\n",
              "    </g>\n",
              "</svg>\n",
              "      </button>\n",
              "\n",
              "<style>\n",
              "  .colab-df-quickchart {\n",
              "      --bg-color: #E8F0FE;\n",
              "      --fill-color: #1967D2;\n",
              "      --hover-bg-color: #E2EBFA;\n",
              "      --hover-fill-color: #174EA6;\n",
              "      --disabled-fill-color: #AAA;\n",
              "      --disabled-bg-color: #DDD;\n",
              "  }\n",
              "\n",
              "  [theme=dark] .colab-df-quickchart {\n",
              "      --bg-color: #3B4455;\n",
              "      --fill-color: #D2E3FC;\n",
              "      --hover-bg-color: #434B5C;\n",
              "      --hover-fill-color: #FFFFFF;\n",
              "      --disabled-bg-color: #3B4455;\n",
              "      --disabled-fill-color: #666;\n",
              "  }\n",
              "\n",
              "  .colab-df-quickchart {\n",
              "    background-color: var(--bg-color);\n",
              "    border: none;\n",
              "    border-radius: 50%;\n",
              "    cursor: pointer;\n",
              "    display: none;\n",
              "    fill: var(--fill-color);\n",
              "    height: 32px;\n",
              "    padding: 0;\n",
              "    width: 32px;\n",
              "  }\n",
              "\n",
              "  .colab-df-quickchart:hover {\n",
              "    background-color: var(--hover-bg-color);\n",
              "    box-shadow: 0 1px 2px rgba(60, 64, 67, 0.3), 0 1px 3px 1px rgba(60, 64, 67, 0.15);\n",
              "    fill: var(--button-hover-fill-color);\n",
              "  }\n",
              "\n",
              "  .colab-df-quickchart-complete:disabled,\n",
              "  .colab-df-quickchart-complete:disabled:hover {\n",
              "    background-color: var(--disabled-bg-color);\n",
              "    fill: var(--disabled-fill-color);\n",
              "    box-shadow: none;\n",
              "  }\n",
              "\n",
              "  .colab-df-spinner {\n",
              "    border: 2px solid var(--fill-color);\n",
              "    border-color: transparent;\n",
              "    border-bottom-color: var(--fill-color);\n",
              "    animation:\n",
              "      spin 1s steps(1) infinite;\n",
              "  }\n",
              "\n",
              "  @keyframes spin {\n",
              "    0% {\n",
              "      border-color: transparent;\n",
              "      border-bottom-color: var(--fill-color);\n",
              "      border-left-color: var(--fill-color);\n",
              "    }\n",
              "    20% {\n",
              "      border-color: transparent;\n",
              "      border-left-color: var(--fill-color);\n",
              "      border-top-color: var(--fill-color);\n",
              "    }\n",
              "    30% {\n",
              "      border-color: transparent;\n",
              "      border-left-color: var(--fill-color);\n",
              "      border-top-color: var(--fill-color);\n",
              "      border-right-color: var(--fill-color);\n",
              "    }\n",
              "    40% {\n",
              "      border-color: transparent;\n",
              "      border-right-color: var(--fill-color);\n",
              "      border-top-color: var(--fill-color);\n",
              "    }\n",
              "    60% {\n",
              "      border-color: transparent;\n",
              "      border-right-color: var(--fill-color);\n",
              "    }\n",
              "    80% {\n",
              "      border-color: transparent;\n",
              "      border-right-color: var(--fill-color);\n",
              "      border-bottom-color: var(--fill-color);\n",
              "    }\n",
              "    90% {\n",
              "      border-color: transparent;\n",
              "      border-bottom-color: var(--fill-color);\n",
              "    }\n",
              "  }\n",
              "</style>\n",
              "\n",
              "      <script>\n",
              "        async function quickchart(key) {\n",
              "          const quickchartButtonEl =\n",
              "            document.querySelector('#' + key + ' button');\n",
              "          quickchartButtonEl.disabled = true;  // To prevent multiple clicks.\n",
              "          quickchartButtonEl.classList.add('colab-df-spinner');\n",
              "          try {\n",
              "            const charts = await google.colab.kernel.invokeFunction(\n",
              "                'suggestCharts', [key], {});\n",
              "          } catch (error) {\n",
              "            console.error('Error during call to suggestCharts:', error);\n",
              "          }\n",
              "          quickchartButtonEl.classList.remove('colab-df-spinner');\n",
              "          quickchartButtonEl.classList.add('colab-df-quickchart-complete');\n",
              "        }\n",
              "        (() => {\n",
              "          let quickchartButtonEl =\n",
              "            document.querySelector('#df-073c4359-9278-4075-b5f8-5c9621470f46 button');\n",
              "          quickchartButtonEl.style.display =\n",
              "            google.colab.kernel.accessAllowed ? 'block' : 'none';\n",
              "        })();\n",
              "      </script>\n",
              "    </div>\n",
              "\n",
              "    </div>\n",
              "  </div>\n"
            ],
            "application/vnd.google.colaboratory.intrinsic+json": {
              "type": "dataframe",
              "summary": "{\n  \"name\": \"unemployment\",\n  \"rows\": 8,\n  \"fields\": [\n    {\n      \"column\": \"2010\",\n      \"properties\": {\n        \"dtype\": \"number\",\n        \"std\": 61.60322270409657,\n        \"min\": 0.45,\n        \"max\": 182.0,\n        \"num_unique_values\": 8,\n        \"samples\": [\n          8.409285714285714,\n          6.965,\n          182.0\n        ],\n        \"semantic_type\": \"\",\n        \"description\": \"\"\n      }\n    },\n    {\n      \"column\": \"2011\",\n      \"properties\": {\n        \"dtype\": \"number\",\n        \"std\": 61.636113608786864,\n        \"min\": 0.32,\n        \"max\": 182.0,\n        \"num_unique_values\": 8,\n        \"samples\": [\n          8.31543956043956,\n          6.805,\n          182.0\n        ],\n        \"semantic_type\": \"\",\n        \"description\": \"\"\n      }\n    },\n    {\n      \"column\": \"2012\",\n      \"properties\": {\n        \"dtype\": \"number\",\n        \"std\": 61.61620020410117,\n        \"min\": 0.48,\n        \"max\": 182.0,\n        \"num_unique_values\": 8,\n        \"samples\": [\n          8.317967032967033,\n          6.6899999999999995,\n          182.0\n        ],\n        \"semantic_type\": \"\",\n        \"description\": \"\"\n      }\n    },\n    {\n      \"column\": \"2013\",\n      \"properties\": {\n        \"dtype\": \"number\",\n        \"std\": 61.652193173267015,\n        \"min\": 0.25,\n        \"max\": 182.0,\n        \"num_unique_values\": 8,\n        \"samples\": [\n          8.344780219780219,\n          6.395,\n          182.0\n        ],\n        \"semantic_type\": \"\",\n        \"description\": \"\"\n      }\n    },\n    {\n      \"column\": \"2014\",\n      \"properties\": {\n        \"dtype\": \"number\",\n        \"std\": 61.70630816927867,\n        \"min\": 0.2,\n        \"max\": 182.0,\n        \"num_unique_values\": 8,\n        \"samples\": [\n          8.17967032967033,\n          6.449999999999999,\n          182.0\n        ],\n        \"semantic_type\": \"\",\n        \"description\": \"\"\n      }\n    },\n    {\n      \"column\": \"2015\",\n      \"properties\": {\n        \"dtype\": \"number\",\n        \"std\": 61.759575372246076,\n        \"min\": 0.17,\n        \"max\": 182.0,\n        \"num_unique_values\": 8,\n        \"samples\": [\n          8.058901098901098,\n          6.17,\n          182.0\n        ],\n        \"semantic_type\": \"\",\n        \"description\": \"\"\n      }\n    },\n    {\n      \"column\": \"2016\",\n      \"properties\": {\n        \"dtype\": \"number\",\n        \"std\": 61.78710232763347,\n        \"min\": 0.15,\n        \"max\": 182.0,\n        \"num_unique_values\": 8,\n        \"samples\": [\n          7.925879120879119,\n          5.925000000000001,\n          182.0\n        ],\n        \"semantic_type\": \"\",\n        \"description\": \"\"\n      }\n    },\n    {\n      \"column\": \"2017\",\n      \"properties\": {\n        \"dtype\": \"number\",\n        \"std\": 61.82428105066819,\n        \"min\": 0.14,\n        \"max\": 182.0,\n        \"num_unique_values\": 8,\n        \"samples\": [\n          7.668626373626374,\n          5.65,\n          182.0\n        ],\n        \"semantic_type\": \"\",\n        \"description\": \"\"\n      }\n    },\n    {\n      \"column\": \"2018\",\n      \"properties\": {\n        \"dtype\": \"number\",\n        \"std\": 61.91411055510639,\n        \"min\": 0.11,\n        \"max\": 182.0,\n        \"num_unique_values\": 8,\n        \"samples\": [\n          7.426428571428571,\n          5.375,\n          182.0\n        ],\n        \"semantic_type\": \"\",\n        \"description\": \"\"\n      }\n    },\n    {\n      \"column\": \"2019\",\n      \"properties\": {\n        \"dtype\": \"number\",\n        \"std\": 61.92965978453473,\n        \"min\": 0.1,\n        \"max\": 182.0,\n        \"num_unique_values\": 8,\n        \"samples\": [\n          7.243736263736263,\n          5.24,\n          182.0\n        ],\n        \"semantic_type\": \"\",\n        \"description\": \"\"\n      }\n    },\n    {\n      \"column\": \"2020\",\n      \"properties\": {\n        \"dtype\": \"number\",\n        \"std\": 61.624682940768274,\n        \"min\": 0.21,\n        \"max\": 182.0,\n        \"num_unique_values\": 8,\n        \"samples\": [\n          8.420934065934066,\n          6.695,\n          182.0\n        ],\n        \"semantic_type\": \"\",\n        \"description\": \"\"\n      }\n    },\n    {\n      \"column\": \"2021\",\n      \"properties\": {\n        \"dtype\": \"number\",\n        \"std\": 61.64972134109378,\n        \"min\": 0.26,\n        \"max\": 182.0,\n        \"num_unique_values\": 8,\n        \"samples\": [\n          8.390879120879122,\n          6.425,\n          182.0\n        ],\n        \"semantic_type\": \"\",\n        \"description\": \"\"\n      }\n    }\n  ]\n}"
            }
          },
          "metadata": {},
          "execution_count": 6
        }
      ]
    },
    {
      "cell_type": "code",
      "source": [
        "# Update the data type of the 2019 column to a float\n",
        "unemployment[\"2019\"] = unemployment[\"2019\"].astype(float)\n",
        "# Print the dtypes to check your work\n",
        "print(unemployment.dtypes)"
      ],
      "metadata": {
        "colab": {
          "base_uri": "https://localhost:8080/"
        },
        "id": "ujDQB0BZnqA5",
        "outputId": "1a192755-d2b0-4391-beee-d69492ad416a"
      },
      "execution_count": 8,
      "outputs": [
        {
          "output_type": "stream",
          "name": "stdout",
          "text": [
            "country_code     object\n",
            "country_name     object\n",
            "continent        object\n",
            "2010            float64\n",
            "2011            float64\n",
            "2012            float64\n",
            "2013            float64\n",
            "2014            float64\n",
            "2015            float64\n",
            "2016            float64\n",
            "2017            float64\n",
            "2018            float64\n",
            "2019            float64\n",
            "2020            float64\n",
            "2021            float64\n",
            "dtype: object\n"
          ]
        }
      ]
    },
    {
      "cell_type": "code",
      "source": [
        "unemployment[\"continent\"].isin([\"Asia\"])"
      ],
      "metadata": {
        "colab": {
          "base_uri": "https://localhost:8080/",
          "height": 458
        },
        "id": "pJFRuGCMofz6",
        "outputId": "b926bc95-14d5-47c1-ca45-2d15076706f5"
      },
      "execution_count": 9,
      "outputs": [
        {
          "output_type": "execute_result",
          "data": {
            "text/plain": [
              "0       True\n",
              "1      False\n",
              "2      False\n",
              "3       True\n",
              "4      False\n",
              "       ...  \n",
              "177    False\n",
              "178     True\n",
              "179    False\n",
              "180    False\n",
              "181    False\n",
              "Name: continent, Length: 182, dtype: bool"
            ],
            "text/html": [
              "<div>\n",
              "<style scoped>\n",
              "    .dataframe tbody tr th:only-of-type {\n",
              "        vertical-align: middle;\n",
              "    }\n",
              "\n",
              "    .dataframe tbody tr th {\n",
              "        vertical-align: top;\n",
              "    }\n",
              "\n",
              "    .dataframe thead th {\n",
              "        text-align: right;\n",
              "    }\n",
              "</style>\n",
              "<table border=\"1\" class=\"dataframe\">\n",
              "  <thead>\n",
              "    <tr style=\"text-align: right;\">\n",
              "      <th></th>\n",
              "      <th>continent</th>\n",
              "    </tr>\n",
              "  </thead>\n",
              "  <tbody>\n",
              "    <tr>\n",
              "      <th>0</th>\n",
              "      <td>True</td>\n",
              "    </tr>\n",
              "    <tr>\n",
              "      <th>1</th>\n",
              "      <td>False</td>\n",
              "    </tr>\n",
              "    <tr>\n",
              "      <th>2</th>\n",
              "      <td>False</td>\n",
              "    </tr>\n",
              "    <tr>\n",
              "      <th>3</th>\n",
              "      <td>True</td>\n",
              "    </tr>\n",
              "    <tr>\n",
              "      <th>4</th>\n",
              "      <td>False</td>\n",
              "    </tr>\n",
              "    <tr>\n",
              "      <th>...</th>\n",
              "      <td>...</td>\n",
              "    </tr>\n",
              "    <tr>\n",
              "      <th>177</th>\n",
              "      <td>False</td>\n",
              "    </tr>\n",
              "    <tr>\n",
              "      <th>178</th>\n",
              "      <td>True</td>\n",
              "    </tr>\n",
              "    <tr>\n",
              "      <th>179</th>\n",
              "      <td>False</td>\n",
              "    </tr>\n",
              "    <tr>\n",
              "      <th>180</th>\n",
              "      <td>False</td>\n",
              "    </tr>\n",
              "    <tr>\n",
              "      <th>181</th>\n",
              "      <td>False</td>\n",
              "    </tr>\n",
              "  </tbody>\n",
              "</table>\n",
              "<p>182 rows × 1 columns</p>\n",
              "</div><br><label><b>dtype:</b> bool</label>"
            ]
          },
          "metadata": {},
          "execution_count": 9
        }
      ]
    },
    {
      "cell_type": "code",
      "source": [
        "unemployment[\"continent\"].isin([\"Asia\"]).head()"
      ],
      "metadata": {
        "colab": {
          "base_uri": "https://localhost:8080/",
          "height": 241
        },
        "id": "jlCCl9JNo7d_",
        "outputId": "487bd9c2-79c1-4940-a7fd-9c44b6fb05aa"
      },
      "execution_count": 10,
      "outputs": [
        {
          "output_type": "execute_result",
          "data": {
            "text/plain": [
              "0     True\n",
              "1    False\n",
              "2    False\n",
              "3     True\n",
              "4    False\n",
              "Name: continent, dtype: bool"
            ],
            "text/html": [
              "<div>\n",
              "<style scoped>\n",
              "    .dataframe tbody tr th:only-of-type {\n",
              "        vertical-align: middle;\n",
              "    }\n",
              "\n",
              "    .dataframe tbody tr th {\n",
              "        vertical-align: top;\n",
              "    }\n",
              "\n",
              "    .dataframe thead th {\n",
              "        text-align: right;\n",
              "    }\n",
              "</style>\n",
              "<table border=\"1\" class=\"dataframe\">\n",
              "  <thead>\n",
              "    <tr style=\"text-align: right;\">\n",
              "      <th></th>\n",
              "      <th>continent</th>\n",
              "    </tr>\n",
              "  </thead>\n",
              "  <tbody>\n",
              "    <tr>\n",
              "      <th>0</th>\n",
              "      <td>True</td>\n",
              "    </tr>\n",
              "    <tr>\n",
              "      <th>1</th>\n",
              "      <td>False</td>\n",
              "    </tr>\n",
              "    <tr>\n",
              "      <th>2</th>\n",
              "      <td>False</td>\n",
              "    </tr>\n",
              "    <tr>\n",
              "      <th>3</th>\n",
              "      <td>True</td>\n",
              "    </tr>\n",
              "    <tr>\n",
              "      <th>4</th>\n",
              "      <td>False</td>\n",
              "    </tr>\n",
              "  </tbody>\n",
              "</table>\n",
              "</div><br><label><b>dtype:</b> bool</label>"
            ]
          },
          "metadata": {},
          "execution_count": 10
        }
      ]
    },
    {
      "cell_type": "code",
      "source": [
        "unemployment[\"2010\"].min()"
      ],
      "metadata": {
        "colab": {
          "base_uri": "https://localhost:8080/"
        },
        "id": "ZbCzdjElpEpv",
        "outputId": "d18e876f-d83f-4b37-e4e0-ead46f69e3e0"
      },
      "execution_count": 11,
      "outputs": [
        {
          "output_type": "execute_result",
          "data": {
            "text/plain": [
              "0.45"
            ]
          },
          "metadata": {},
          "execution_count": 11
        }
      ]
    },
    {
      "cell_type": "code",
      "source": [
        "unemployment[\"2010\"].max()"
      ],
      "metadata": {
        "colab": {
          "base_uri": "https://localhost:8080/"
        },
        "id": "agbCyJV8pN94",
        "outputId": "b6cc99d9-f92c-44fe-f4ec-35ddfc9cbea5"
      },
      "execution_count": 12,
      "outputs": [
        {
          "output_type": "execute_result",
          "data": {
            "text/plain": [
              "32.02"
            ]
          },
          "metadata": {},
          "execution_count": 12
        }
      ]
    },
    {
      "cell_type": "code",
      "source": [
        "sns.boxplot(data=unemployment, x=\"continent\" , y=\"2010\")"
      ],
      "metadata": {
        "colab": {
          "base_uri": "https://localhost:8080/",
          "height": 466
        },
        "id": "X38ETrIBpP52",
        "outputId": "67f1b48c-262f-40d3-b0bd-4303e074dbe2"
      },
      "execution_count": 13,
      "outputs": [
        {
          "output_type": "execute_result",
          "data": {
            "text/plain": [
              "<Axes: xlabel='continent', ylabel='2010'>"
            ]
          },
          "metadata": {},
          "execution_count": 13
        },
        {
          "output_type": "display_data",
          "data": {
            "text/plain": [
              "<Figure size 640x480 with 1 Axes>"
            ],
            "image/png": "[encoded data removed]"
          },
          "metadata": {}
        }
      ]
    },
    {
      "cell_type": "markdown",
      "source": [
        "#data summarization"
      ],
      "metadata": {
        "id": "t4R76VHgro2i"
      }
    },
    {
      "cell_type": "code",
      "source": [
        "unemployment[[\"country_name\", \"2010\", \"2021\"]].groupby(\"country_name\").mean()"
      ],
      "metadata": {
        "colab": {
          "base_uri": "https://localhost:8080/",
          "height": 455
        },
        "id": "uWfC_HsNpU-h",
        "outputId": "173c10fe-daa2-4e7b-b128-b1605bad4fff"
      },
      "execution_count": 14,
      "outputs": [
        {
          "output_type": "execute_result",
          "data": {
            "text/plain": [
              "                     2010   2021\n",
              "country_name                    \n",
              "Afghanistan         11.35  13.28\n",
              "Albania             14.09  11.82\n",
              "Algeria              9.96  12.70\n",
              "Angola               9.43   8.53\n",
              "Argentina            7.71  10.90\n",
              "...                   ...    ...\n",
              "Vietnam              1.11   2.17\n",
              "West Bank and Gaza  21.42  24.90\n",
              "Yemen, Rep.         12.83  13.57\n",
              "Zambia              13.19  13.03\n",
              "Zimbabwe             5.21   5.17\n",
              "\n",
              "[182 rows x 2 columns]"
            ],
            "text/html": [
              "\n",
              "  <div id=\"df-0a42f8b0-b364-4721-ae22-1fe3759866e3\" class=\"colab-df-container\">\n",
              "    <div>\n",
              "<style scoped>\n",
              "    .dataframe tbody tr th:only-of-type {\n",
              "        vertical-align: middle;\n",
              "    }\n",
              "\n",
              "    .dataframe tbody tr th {\n",
              "        vertical-align: top;\n",
              "    }\n",
              "\n",
              "    .dataframe thead th {\n",
              "        text-align: right;\n",
              "    }\n",
              "</style>\n",
              "<table border=\"1\" class=\"dataframe\">\n",
              "  <thead>\n",
              "    <tr style=\"text-align: right;\">\n",
              "      <th></th>\n",
              "      <th>2010</th>\n",
              "      <th>2021</th>\n",
              "    </tr>\n",
              "    <tr>\n",
              "      <th>country_name</th>\n",
              "      <th></th>\n",
              "      <th></th>\n",
              "    </tr>\n",
              "  </thead>\n",
              "  <tbody>\n",
              "    <tr>\n",
              "      <th>Afghanistan</th>\n",
              "      <td>11.35</td>\n",
              "      <td>13.28</td>\n",
              "    </tr>\n",
              "    <tr>\n",
              "      <th>Albania</th>\n",
              "      <td>14.09</td>\n",
              "      <td>11.82</td>\n",
              "    </tr>\n",
              "    <tr>\n",
              "      <th>Algeria</th>\n",
              "      <td>9.96</td>\n",
              "      <td>12.70</td>\n",
              "    </tr>\n",
              "    <tr>\n",
              "      <th>Angola</th>\n",
              "      <td>9.43</td>\n",
              "      <td>8.53</td>\n",
              "    </tr>\n",
              "    <tr>\n",
              "      <th>Argentina</th>\n",
              "      <td>7.71</td>\n",
              "      <td>10.90</td>\n",
              "    </tr>\n",
              "    <tr>\n",
              "      <th>...</th>\n",
              "      <td>...</td>\n",
              "      <td>...</td>\n",
              "    </tr>\n",
              "    <tr>\n",
              "      <th>Vietnam</th>\n",
              "      <td>1.11</td>\n",
              "      <td>2.17</td>\n",
              "    </tr>\n",
              "    <tr>\n",
              "      <th>West Bank and Gaza</th>\n",
              "      <td>21.42</td>\n",
              "      <td>24.90</td>\n",
              "    </tr>\n",
              "    <tr>\n",
              "      <th>Yemen, Rep.</th>\n",
              "      <td>12.83</td>\n",
              "      <td>13.57</td>\n",
              "    </tr>\n",
              "    <tr>\n",
              "      <th>Zambia</th>\n",
              "      <td>13.19</td>\n",
              "      <td>13.03</td>\n",
              "    </tr>\n",
              "    <tr>\n",
              "      <th>Zimbabwe</th>\n",
              "      <td>5.21</td>\n",
              "      <td>5.17</td>\n",
              "    </tr>\n",
              "  </tbody>\n",
              "</table>\n",
              "<p>182 rows × 2 columns</p>\n",
              "</div>\n",
              "    <div class=\"colab-df-buttons\">\n",
              "\n",
              "  <div class=\"colab-df-container\">\n",
              "    <button class=\"colab-df-convert\" onclick=\"convertToInteractive('df-0a42f8b0-b364-4721-ae22-1fe3759866e3')\"\n",
              "            title=\"Convert this dataframe to an interactive table.\"\n",
              "            style=\"display:none;\">\n",
              "\n",
              "  <svg xmlns=\"http://www.w3.org/2000/svg\" height=\"24px\" viewBox=\"0 -960 960 960\">\n",
              "    <path d=\"M120-120v-720h720v720H120Zm60-500h600v-160H180v160Zm220 220h160v-160H400v160Zm0 220h160v-160H400v160ZM180-400h160v-160H180v160Zm440 0h160v-160H620v160ZM180-180h160v-160H180v160Zm440 0h160v-160H620v160Z\"/>\n",
              "  </svg>\n",
              "    </button>\n",
              "\n",
              "  <style>\n",
              "    .colab-df-container {\n",
              "      display:flex;\n",
              "      gap: 12px;\n",
              "    }\n",
              "\n",
              "    .colab-df-convert {\n",
              "      background-color: #E8F0FE;\n",
              "      border: none;\n",
              "      border-radius: 50%;\n",
              "      cursor: pointer;\n",
              "      display: none;\n",
              "      fill: #1967D2;\n",
              "      height: 32px;\n",
              "      padding: 0 0 0 0;\n",
              "      width: 32px;\n",
              "    }\n",
              "\n",
              "    .colab-df-convert:hover {\n",
              "      background-color: #E2EBFA;\n",
              "      box-shadow: 0px 1px 2px rgba(60, 64, 67, 0.3), 0px 1px 3px 1px rgba(60, 64, 67, 0.15);\n",
              "      fill: #174EA6;\n",
              "    }\n",
              "\n",
              "    .colab-df-buttons div {\n",
              "      margin-bottom: 4px;\n",
              "    }\n",
              "\n",
              "    [theme=dark] .colab-df-convert {\n",
              "      background-color: #3B4455;\n",
              "      fill: #D2E3FC;\n",
              "    }\n",
              "\n",
              "    [theme=dark] .colab-df-convert:hover {\n",
              "      background-color: #434B5C;\n",
              "      box-shadow: 0px 1px 3px 1px rgba(0, 0, 0, 0.15);\n",
              "      filter: drop-shadow(0px 1px 2px rgba(0, 0, 0, 0.3));\n",
              "      fill: #FFFFFF;\n",
              "    }\n",
              "  </style>\n",
              "\n",
              "    <script>\n",
              "      const buttonEl =\n",
              "        document.querySelector('#df-0a42f8b0-b364-4721-ae22-1fe3759866e3 button.colab-df-convert');\n",
              "      buttonEl.style.display =\n",
              "        google.colab.kernel.accessAllowed ? 'block' : 'none';\n",
              "\n",
              "      async function convertToInteractive(key) {\n",
              "        const element = document.querySelector('#df-0a42f8b0-b364-4721-ae22-1fe3759866e3');\n",
              "        const dataTable =\n",
              "          await google.colab.kernel.invokeFunction('convertToInteractive',\n",
              "                                                    [key], {});\n",
              "        if (!dataTable) return;\n",
              "\n",
              "        const docLinkHtml = 'Like what you see? Visit the ' +\n",
              "          '<a target=\"_blank\" href=https://colab.research.google.com/notebooks/data_table.ipynb>data table notebook</a>'\n",
              "          + ' to learn more about interactive tables.';\n",
              "        element.innerHTML = '';\n",
              "        dataTable['output_type'] = 'display_data';\n",
              "        await google.colab.output.renderOutput(dataTable, element);\n",
              "        const docLink = document.createElement('div');\n",
              "        docLink.innerHTML = docLinkHtml;\n",
              "        element.appendChild(docLink);\n",
              "      }\n",
              "    </script>\n",
              "  </div>\n",
              "\n",
              "\n",
              "    <div id=\"df-d17d9b84-9c05-4b16-b141-9e49396544af\">\n",
              "      <button class=\"colab-df-quickchart\" onclick=\"quickchart('df-d17d9b84-9c05-4b16-b141-9e49396544af')\"\n",
              "                title=\"Suggest charts\"\n",
              "                style=\"display:none;\">\n",
              "\n",
              "<svg xmlns=\"http://www.w3.org/2000/svg\" height=\"24px\"viewBox=\"0 0 24 24\"\n",
              "     width=\"24px\">\n",
              "    <g>\n",
              "        <path d=\"M19 3H5c-1.1 0-2 .9-2 2v14c0 1.1.9 2 2 2h14c1.1 0 2-.9 2-2V5c0-1.1-.9-2-2-2zM9 17H7v-7h2v7zm4 0h-2V7h2v10zm4 0h-2v-4h2v4z\"/>\n",
              "    </g>\n",
              "</svg>\n",
              "      </button>\n",
              "\n",
              "<style>\n",
              "  .colab-df-quickchart {\n",
              "      --bg-color: #E8F0FE;\n",
              "      --fill-color: #1967D2;\n",
              "      --hover-bg-color: #E2EBFA;\n",
              "      --hover-fill-color: #174EA6;\n",
              "      --disabled-fill-color: #AAA;\n",
              "      --disabled-bg-color: #DDD;\n",
              "  }\n",
              "\n",
              "  [theme=dark] .colab-df-quickchart {\n",
              "      --bg-color: #3B4455;\n",
              "      --fill-color: #D2E3FC;\n",
              "      --hover-bg-color: #434B5C;\n",
              "      --hover-fill-color: #FFFFFF;\n",
              "      --disabled-bg-color: #3B4455;\n",
              "      --disabled-fill-color: #666;\n",
              "  }\n",
              "\n",
              "  .colab-df-quickchart {\n",
              "    background-color: var(--bg-color);\n",
              "    border: none;\n",
              "    border-radius: 50%;\n",
              "    cursor: pointer;\n",
              "    display: none;\n",
              "    fill: var(--fill-color);\n",
              "    height: 32px;\n",
              "    padding: 0;\n",
              "    width: 32px;\n",
              "  }\n",
              "\n",
              "  .colab-df-quickchart:hover {\n",
              "    background-color: var(--hover-bg-color);\n",
              "    box-shadow: 0 1px 2px rgba(60, 64, 67, 0.3), 0 1px 3px 1px rgba(60, 64, 67, 0.15);\n",
              "    fill: var(--button-hover-fill-color);\n",
              "  }\n",
              "\n",
              "  .colab-df-quickchart-complete:disabled,\n",
              "  .colab-df-quickchart-complete:disabled:hover {\n",
              "    background-color: var(--disabled-bg-color);\n",
              "    fill: var(--disabled-fill-color);\n",
              "    box-shadow: none;\n",
              "  }\n",
              "\n",
              "  .colab-df-spinner {\n",
              "    border: 2px solid var(--fill-color);\n",
              "    border-color: transparent;\n",
              "    border-bottom-color: var(--fill-color);\n",
              "    animation:\n",
              "      spin 1s steps(1) infinite;\n",
              "  }\n",
              "\n",
              "  @keyframes spin {\n",
              "    0% {\n",
              "      border-color: transparent;\n",
              "      border-bottom-color: var(--fill-color);\n",
              "      border-left-color: var(--fill-color);\n",
              "    }\n",
              "    20% {\n",
              "      border-color: transparent;\n",
              "      border-left-color: var(--fill-color);\n",
              "      border-top-color: var(--fill-color);\n",
              "    }\n",
              "    30% {\n",
              "      border-color: transparent;\n",
              "      border-left-color: var(--fill-color);\n",
              "      border-top-color: var(--fill-color);\n",
              "      border-right-color: var(--fill-color);\n",
              "    }\n",
              "    40% {\n",
              "      border-color: transparent;\n",
              "      border-right-color: var(--fill-color);\n",
              "      border-top-color: var(--fill-color);\n",
              "    }\n",
              "    60% {\n",
              "      border-color: transparent;\n",
              "      border-right-color: var(--fill-color);\n",
              "    }\n",
              "    80% {\n",
              "      border-color: transparent;\n",
              "      border-right-color: var(--fill-color);\n",
              "      border-bottom-color: var(--fill-color);\n",
              "    }\n",
              "    90% {\n",
              "      border-color: transparent;\n",
              "      border-bottom-color: var(--fill-color);\n",
              "    }\n",
              "  }\n",
              "</style>\n",
              "\n",
              "      <script>\n",
              "        async function quickchart(key) {\n",
              "          const quickchartButtonEl =\n",
              "            document.querySelector('#' + key + ' button');\n",
              "          quickchartButtonEl.disabled = true;  // To prevent multiple clicks.\n",
              "          quickchartButtonEl.classList.add('colab-df-spinner');\n",
              "          try {\n",
              "            const charts = await google.colab.kernel.invokeFunction(\n",
              "                'suggestCharts', [key], {});\n",
              "          } catch (error) {\n",
              "            console.error('Error during call to suggestCharts:', error);\n",
              "          }\n",
              "          quickchartButtonEl.classList.remove('colab-df-spinner');\n",
              "          quickchartButtonEl.classList.add('colab-df-quickchart-complete');\n",
              "        }\n",
              "        (() => {\n",
              "          let quickchartButtonEl =\n",
              "            document.querySelector('#df-d17d9b84-9c05-4b16-b141-9e49396544af button');\n",
              "          quickchartButtonEl.style.display =\n",
              "            google.colab.kernel.accessAllowed ? 'block' : 'none';\n",
              "        })();\n",
              "      </script>\n",
              "    </div>\n",
              "\n",
              "    </div>\n",
              "  </div>\n"
            ],
            "application/vnd.google.colaboratory.intrinsic+json": {
              "type": "dataframe",
              "summary": "{\n  \"name\": \"unemployment[[\\\"country_name\\\", \\\"2010\\\", \\\"2021\\\"]]\",\n  \"rows\": 182,\n  \"fields\": [\n    {\n      \"column\": \"country_name\",\n      \"properties\": {\n        \"dtype\": \"string\",\n        \"num_unique_values\": 182,\n        \"samples\": [\n          \"Bosnia and Herzegovina\",\n          \"Czech Republic\",\n          \"Suriname\"\n        ],\n        \"semantic_type\": \"\",\n        \"description\": \"\"\n      }\n    },\n    {\n      \"column\": \"2010\",\n      \"properties\": {\n        \"dtype\": \"number\",\n        \"std\": 6.248886931667682,\n        \"min\": 0.45,\n        \"max\": 32.02,\n        \"num_unique_values\": 173,\n        \"samples\": [\n          2.48,\n          7.28,\n          2.27\n        ],\n        \"semantic_type\": \"\",\n        \"description\": \"\"\n      }\n    },\n    {\n      \"column\": \"2021\",\n      \"properties\": {\n        \"dtype\": \"number\",\n        \"std\": 6.067191846516359,\n        \"min\": 0.26,\n        \"max\": 33.56,\n        \"num_unique_values\": 172,\n        \"samples\": [\n          6.63,\n          4.42,\n          2.65\n        ],\n        \"semantic_type\": \"\",\n        \"description\": \"\"\n      }\n    }\n  ]\n}"
            }
          },
          "metadata": {},
          "execution_count": 14
        }
      ]
    },
    {
      "cell_type": "code",
      "source": [
        "unemployment[[\"2010\", \"2021\"]].agg([\"mean\", \"std\"])"
      ],
      "metadata": {
        "colab": {
          "base_uri": "https://localhost:8080/",
          "height": 112
        },
        "id": "OVQ2P5J2r2A3",
        "outputId": "b4a4ecc7-e574-4b0e-b3d1-a82f2b666dff"
      },
      "execution_count": 15,
      "outputs": [
        {
          "output_type": "execute_result",
          "data": {
            "text/plain": [
              "          2010      2021\n",
              "mean  8.409286  8.390879\n",
              "std   6.248887  6.067192"
            ],
            "text/html": [
              "\n",
              "  <div id=\"df-bcbe6ae4-ba2a-4d43-84f5-9ea45b265969\" class=\"colab-df-container\">\n",
              "    <div>\n",
              "<style scoped>\n",
              "    .dataframe tbody tr th:only-of-type {\n",
              "        vertical-align: middle;\n",
              "    }\n",
              "\n",
              "    .dataframe tbody tr th {\n",
              "        vertical-align: top;\n",
              "    }\n",
              "\n",
              "    .dataframe thead th {\n",
              "        text-align: right;\n",
              "    }\n",
              "</style>\n",
              "<table border=\"1\" class=\"dataframe\">\n",
              "  <thead>\n",
              "    <tr style=\"text-align: right;\">\n",
              "      <th></th>\n",
              "      <th>2010</th>\n",
              "      <th>2021</th>\n",
              "    </tr>\n",
              "  </thead>\n",
              "  <tbody>\n",
              "    <tr>\n",
              "      <th>mean</th>\n",
              "      <td>8.409286</td>\n",
              "      <td>8.390879</td>\n",
              "    </tr>\n",
              "    <tr>\n",
              "      <th>std</th>\n",
              "      <td>6.248887</td>\n",
              "      <td>6.067192</td>\n",
              "    </tr>\n",
              "  </tbody>\n",
              "</table>\n",
              "</div>\n",
              "    <div class=\"colab-df-buttons\">\n",
              "\n",
              "  <div class=\"colab-df-container\">\n",
              "    <button class=\"colab-df-convert\" onclick=\"convertToInteractive('df-bcbe6ae4-ba2a-4d43-84f5-9ea45b265969')\"\n",
              "            title=\"Convert this dataframe to an interactive table.\"\n",
              "            style=\"display:none;\">\n",
              "\n",
              "  <svg xmlns=\"http://www.w3.org/2000/svg\" height=\"24px\" viewBox=\"0 -960 960 960\">\n",
              "    <path d=\"M120-120v-720h720v720H120Zm60-500h600v-160H180v160Zm220 220h160v-160H400v160Zm0 220h160v-160H400v160ZM180-400h160v-160H180v160Zm440 0h160v-160H620v160ZM180-180h160v-160H180v160Zm440 0h160v-160H620v160Z\"/>\n",
              "  </svg>\n",
              "    </button>\n",
              "\n",
              "  <style>\n",
              "    .colab-df-container {\n",
              "      display:flex;\n",
              "      gap: 12px;\n",
              "    }\n",
              "\n",
              "    .colab-df-convert {\n",
              "      background-color: #E8F0FE;\n",
              "      border: none;\n",
              "      border-radius: 50%;\n",
              "      cursor: pointer;\n",
              "      display: none;\n",
              "      fill: #1967D2;\n",
              "      height: 32px;\n",
              "      padding: 0 0 0 0;\n",
              "      width: 32px;\n",
              "    }\n",
              "\n",
              "    .colab-df-convert:hover {\n",
              "      background-color: #E2EBFA;\n",
              "      box-shadow: 0px 1px 2px rgba(60, 64, 67, 0.3), 0px 1px 3px 1px rgba(60, 64, 67, 0.15);\n",
              "      fill: #174EA6;\n",
              "    }\n",
              "\n",
              "    .colab-df-buttons div {\n",
              "      margin-bottom: 4px;\n",
              "    }\n",
              "\n",
              "    [theme=dark] .colab-df-convert {\n",
              "      background-color: #3B4455;\n",
              "      fill: #D2E3FC;\n",
              "    }\n",
              "\n",
              "    [theme=dark] .colab-df-convert:hover {\n",
              "      background-color: #434B5C;\n",
              "      box-shadow: 0px 1px 3px 1px rgba(0, 0, 0, 0.15);\n",
              "      filter: drop-shadow(0px 1px 2px rgba(0, 0, 0, 0.3));\n",
              "      fill: #FFFFFF;\n",
              "    }\n",
              "  </style>\n",
              "\n",
              "    <script>\n",
              "      const buttonEl =\n",
              "        document.querySelector('#df-bcbe6ae4-ba2a-4d43-84f5-9ea45b265969 button.colab-df-convert');\n",
              "      buttonEl.style.display =\n",
              "        google.colab.kernel.accessAllowed ? 'block' : 'none';\n",
              "\n",
              "      async function convertToInteractive(key) {\n",
              "        const element = document.querySelector('#df-bcbe6ae4-ba2a-4d43-84f5-9ea45b265969');\n",
              "        const dataTable =\n",
              "          await google.colab.kernel.invokeFunction('convertToInteractive',\n",
              "                                                    [key], {});\n",
              "        if (!dataTable) return;\n",
              "\n",
              "        const docLinkHtml = 'Like what you see? Visit the ' +\n",
              "          '<a target=\"_blank\" href=https://colab.research.google.com/notebooks/data_table.ipynb>data table notebook</a>'\n",
              "          + ' to learn more about interactive tables.';\n",
              "        element.innerHTML = '';\n",
              "        dataTable['output_type'] = 'display_data';\n",
              "        await google.colab.output.renderOutput(dataTable, element);\n",
              "        const docLink = document.createElement('div');\n",
              "        docLink.innerHTML = docLinkHtml;\n",
              "        element.appendChild(docLink);\n",
              "      }\n",
              "    </script>\n",
              "  </div>\n",
              "\n",
              "\n",
              "    <div id=\"df-4aef4a14-ffbd-41d7-8ec0-43ad5fb8d9a1\">\n",
              "      <button class=\"colab-df-quickchart\" onclick=\"quickchart('df-4aef4a14-ffbd-41d7-8ec0-43ad5fb8d9a1')\"\n",
              "                title=\"Suggest charts\"\n",
              "                style=\"display:none;\">\n",
              "\n",
              "<svg xmlns=\"http://www.w3.org/2000/svg\" height=\"24px\"viewBox=\"0 0 24 24\"\n",
              "     width=\"24px\">\n",
              "    <g>\n",
              "        <path d=\"M19 3H5c-1.1 0-2 .9-2 2v14c0 1.1.9 2 2 2h14c1.1 0 2-.9 2-2V5c0-1.1-.9-2-2-2zM9 17H7v-7h2v7zm4 0h-2V7h2v10zm4 0h-2v-4h2v4z\"/>\n",
              "    </g>\n",
              "</svg>\n",
              "      </button>\n",
              "\n",
              "<style>\n",
              "  .colab-df-quickchart {\n",
              "      --bg-color: #E8F0FE;\n",
              "      --fill-color: #1967D2;\n",
              "      --hover-bg-color: #E2EBFA;\n",
              "      --hover-fill-color: #174EA6;\n",
              "      --disabled-fill-color: #AAA;\n",
              "      --disabled-bg-color: #DDD;\n",
              "  }\n",
              "\n",
              "  [theme=dark] .colab-df-quickchart {\n",
              "      --bg-color: #3B4455;\n",
              "      --fill-color: #D2E3FC;\n",
              "      --hover-bg-color: #434B5C;\n",
              "      --hover-fill-color: #FFFFFF;\n",
              "      --disabled-bg-color: #3B4455;\n",
              "      --disabled-fill-color: #666;\n",
              "  }\n",
              "\n",
              "  .colab-df-quickchart {\n",
              "    background-color: var(--bg-color);\n",
              "    border: none;\n",
              "    border-radius: 50%;\n",
              "    cursor: pointer;\n",
              "    display: none;\n",
              "    fill: var(--fill-color);\n",
              "    height: 32px;\n",
              "    padding: 0;\n",
              "    width: 32px;\n",
              "  }\n",
              "\n",
              "  .colab-df-quickchart:hover {\n",
              "    background-color: var(--hover-bg-color);\n",
              "    box-shadow: 0 1px 2px rgba(60, 64, 67, 0.3), 0 1px 3px 1px rgba(60, 64, 67, 0.15);\n",
              "    fill: var(--button-hover-fill-color);\n",
              "  }\n",
              "\n",
              "  .colab-df-quickchart-complete:disabled,\n",
              "  .colab-df-quickchart-complete:disabled:hover {\n",
              "    background-color: var(--disabled-bg-color);\n",
              "    fill: var(--disabled-fill-color);\n",
              "    box-shadow: none;\n",
              "  }\n",
              "\n",
              "  .colab-df-spinner {\n",
              "    border: 2px solid var(--fill-color);\n",
              "    border-color: transparent;\n",
              "    border-bottom-color: var(--fill-color);\n",
              "    animation:\n",
              "      spin 1s steps(1) infinite;\n",
              "  }\n",
              "\n",
              "  @keyframes spin {\n",
              "    0% {\n",
              "      border-color: transparent;\n",
              "      border-bottom-color: var(--fill-color);\n",
              "      border-left-color: var(--fill-color);\n",
              "    }\n",
              "    20% {\n",
              "      border-color: transparent;\n",
              "      border-left-color: var(--fill-color);\n",
              "      border-top-color: var(--fill-color);\n",
              "    }\n",
              "    30% {\n",
              "      border-color: transparent;\n",
              "      border-left-color: var(--fill-color);\n",
              "      border-top-color: var(--fill-color);\n",
              "      border-right-color: var(--fill-color);\n",
              "    }\n",
              "    40% {\n",
              "      border-color: transparent;\n",
              "      border-right-color: var(--fill-color);\n",
              "      border-top-color: var(--fill-color);\n",
              "    }\n",
              "    60% {\n",
              "      border-color: transparent;\n",
              "      border-right-color: var(--fill-color);\n",
              "    }\n",
              "    80% {\n",
              "      border-color: transparent;\n",
              "      border-right-color: var(--fill-color);\n",
              "      border-bottom-color: var(--fill-color);\n",
              "    }\n",
              "    90% {\n",
              "      border-color: transparent;\n",
              "      border-bottom-color: var(--fill-color);\n",
              "    }\n",
              "  }\n",
              "</style>\n",
              "\n",
              "      <script>\n",
              "        async function quickchart(key) {\n",
              "          const quickchartButtonEl =\n",
              "            document.querySelector('#' + key + ' button');\n",
              "          quickchartButtonEl.disabled = true;  // To prevent multiple clicks.\n",
              "          quickchartButtonEl.classList.add('colab-df-spinner');\n",
              "          try {\n",
              "            const charts = await google.colab.kernel.invokeFunction(\n",
              "                'suggestCharts', [key], {});\n",
              "          } catch (error) {\n",
              "            console.error('Error during call to suggestCharts:', error);\n",
              "          }\n",
              "          quickchartButtonEl.classList.remove('colab-df-spinner');\n",
              "          quickchartButtonEl.classList.add('colab-df-quickchart-complete');\n",
              "        }\n",
              "        (() => {\n",
              "          let quickchartButtonEl =\n",
              "            document.querySelector('#df-4aef4a14-ffbd-41d7-8ec0-43ad5fb8d9a1 button');\n",
              "          quickchartButtonEl.style.display =\n",
              "            google.colab.kernel.accessAllowed ? 'block' : 'none';\n",
              "        })();\n",
              "      </script>\n",
              "    </div>\n",
              "\n",
              "    </div>\n",
              "  </div>\n"
            ],
            "application/vnd.google.colaboratory.intrinsic+json": {
              "type": "dataframe",
              "summary": "{\n  \"name\": \"unemployment[[\\\"2010\\\", \\\"2021\\\"]]\",\n  \"rows\": 2,\n  \"fields\": [\n    {\n      \"column\": \"2010\",\n      \"properties\": {\n        \"dtype\": \"number\",\n        \"std\": 1.5276326292563709,\n        \"min\": 6.248886931667684,\n        \"max\": 8.409285714285714,\n        \"num_unique_values\": 2,\n        \"samples\": [\n          6.248886931667684,\n          8.409285714285714\n        ],\n        \"semantic_type\": \"\",\n        \"description\": \"\"\n      }\n    },\n    {\n      \"column\": \"2021\",\n      \"properties\": {\n        \"dtype\": \"number\",\n        \"std\": 1.6430950290587953,\n        \"min\": 6.067191846516359,\n        \"max\": 8.390879120879122,\n        \"num_unique_values\": 2,\n        \"samples\": [\n          6.067191846516359,\n          8.390879120879122\n        ],\n        \"semantic_type\": \"\",\n        \"description\": \"\"\n      }\n    }\n  ]\n}"
            }
          },
          "metadata": {},
          "execution_count": 15
        }
      ]
    },
    {
      "cell_type": "code",
      "source": [
        "unemployment.groupby(\"continent\").agg(\n",
        "   mean_2010=(\"2010\", \"mean\"),\n",
        "   std_2010=(\"2010\", \"std\"),\n",
        "   median_2021=(\"2021\",\"median\")\n",
        ")"
      ],
      "metadata": {
        "colab": {
          "base_uri": "https://localhost:8080/",
          "height": 269
        },
        "id": "mx6wg9iwsehG",
        "outputId": "6638a541-840d-4f42-c789-34b9e0e8e091"
      },
      "execution_count": 16,
      "outputs": [
        {
          "output_type": "execute_result",
          "data": {
            "text/plain": [
              "               mean_2010  std_2010  median_2021\n",
              "continent                                      \n",
              "Africa          9.343585  7.411259        7.720\n",
              "Asia            6.240638  5.146175        5.070\n",
              "Europe         11.008205  6.392063        6.300\n",
              "North America   8.663333  5.115805        8.360\n",
              "Oceania         3.622500  2.054721        4.045\n",
              "South America   6.870833  2.807058        9.595"
            ],
            "text/html": [
              "\n",
              "  <div id=\"df-32b7e72b-2d97-49db-b158-2c6d5f7763cc\" class=\"colab-df-container\">\n",
              "    <div>\n",
              "<style scoped>\n",
              "    .dataframe tbody tr th:only-of-type {\n",
              "        vertical-align: middle;\n",
              "    }\n",
              "\n",
              "    .dataframe tbody tr th {\n",
              "        vertical-align: top;\n",
              "    }\n",
              "\n",
              "    .dataframe thead th {\n",
              "        text-align: right;\n",
              "    }\n",
              "</style>\n",
              "<table border=\"1\" class=\"dataframe\">\n",
              "  <thead>\n",
              "    <tr style=\"text-align: right;\">\n",
              "      <th></th>\n",
              "      <th>mean_2010</th>\n",
              "      <th>std_2010</th>\n",
              "      <th>median_2021</th>\n",
              "    </tr>\n",
              "    <tr>\n",
              "      <th>continent</th>\n",
              "      <th></th>\n",
              "      <th></th>\n",
              "      <th></th>\n",
              "    </tr>\n",
              "  </thead>\n",
              "  <tbody>\n",
              "    <tr>\n",
              "      <th>Africa</th>\n",
              "      <td>9.343585</td>\n",
              "      <td>7.411259</td>\n",
              "      <td>7.720</td>\n",
              "    </tr>\n",
              "    <tr>\n",
              "      <th>Asia</th>\n",
              "      <td>6.240638</td>\n",
              "      <td>5.146175</td>\n",
              "      <td>5.070</td>\n",
              "    </tr>\n",
              "    <tr>\n",
              "      <th>Europe</th>\n",
              "      <td>11.008205</td>\n",
              "      <td>6.392063</td>\n",
              "      <td>6.300</td>\n",
              "    </tr>\n",
              "    <tr>\n",
              "      <th>North America</th>\n",
              "      <td>8.663333</td>\n",
              "      <td>5.115805</td>\n",
              "      <td>8.360</td>\n",
              "    </tr>\n",
              "    <tr>\n",
              "      <th>Oceania</th>\n",
              "      <td>3.622500</td>\n",
              "      <td>2.054721</td>\n",
              "      <td>4.045</td>\n",
              "    </tr>\n",
              "    <tr>\n",
              "      <th>South America</th>\n",
              "      <td>6.870833</td>\n",
              "      <td>2.807058</td>\n",
              "      <td>9.595</td>\n",
              "    </tr>\n",
              "  </tbody>\n",
              "</table>\n",
              "</div>\n",
              "    <div class=\"colab-df-buttons\">\n",
              "\n",
              "  <div class=\"colab-df-container\">\n",
              "    <button class=\"colab-df-convert\" onclick=\"convertToInteractive('df-32b7e72b-2d97-49db-b158-2c6d5f7763cc')\"\n",
              "            title=\"Convert this dataframe to an interactive table.\"\n",
              "            style=\"display:none;\">\n",
              "\n",
              "  <svg xmlns=\"http://www.w3.org/2000/svg\" height=\"24px\" viewBox=\"0 -960 960 960\">\n",
              "    <path d=\"M120-120v-720h720v720H120Zm60-500h600v-160H180v160Zm220 220h160v-160H400v160Zm0 220h160v-160H400v160ZM180-400h160v-160H180v160Zm440 0h160v-160H620v160ZM180-180h160v-160H180v160Zm440 0h160v-160H620v160Z\"/>\n",
              "  </svg>\n",
              "    </button>\n",
              "\n",
              "  <style>\n",
              "    .colab-df-container {\n",
              "      display:flex;\n",
              "      gap: 12px;\n",
              "    }\n",
              "\n",
              "    .colab-df-convert {\n",
              "      background-color: #E8F0FE;\n",
              "      border: none;\n",
              "      border-radius: 50%;\n",
              "      cursor: pointer;\n",
              "      display: none;\n",
              "      fill: #1967D2;\n",
              "      height: 32px;\n",
              "      padding: 0 0 0 0;\n",
              "      width: 32px;\n",
              "    }\n",
              "\n",
              "    .colab-df-convert:hover {\n",
              "      background-color: #E2EBFA;\n",
              "      box-shadow: 0px 1px 2px rgba(60, 64, 67, 0.3), 0px 1px 3px 1px rgba(60, 64, 67, 0.15);\n",
              "      fill: #174EA6;\n",
              "    }\n",
              "\n",
              "    .colab-df-buttons div {\n",
              "      margin-bottom: 4px;\n",
              "    }\n",
              "\n",
              "    [theme=dark] .colab-df-convert {\n",
              "      background-color: #3B4455;\n",
              "      fill: #D2E3FC;\n",
              "    }\n",
              "\n",
              "    [theme=dark] .colab-df-convert:hover {\n",
              "      background-color: #434B5C;\n",
              "      box-shadow: 0px 1px 3px 1px rgba(0, 0, 0, 0.15);\n",
              "      filter: drop-shadow(0px 1px 2px rgba(0, 0, 0, 0.3));\n",
              "      fill: #FFFFFF;\n",
              "    }\n",
              "  </style>\n",
              "\n",
              "    <script>\n",
              "      const buttonEl =\n",
              "        document.querySelector('#df-32b7e72b-2d97-49db-b158-2c6d5f7763cc button.colab-df-convert');\n",
              "      buttonEl.style.display =\n",
              "        google.colab.kernel.accessAllowed ? 'block' : 'none';\n",
              "\n",
              "      async function convertToInteractive(key) {\n",
              "        const element = document.querySelector('#df-32b7e72b-2d97-49db-b158-2c6d5f7763cc');\n",
              "        const dataTable =\n",
              "          await google.colab.kernel.invokeFunction('convertToInteractive',\n",
              "                                                    [key], {});\n",
              "        if (!dataTable) return;\n",
              "\n",
              "        const docLinkHtml = 'Like what you see? Visit the ' +\n",
              "          '<a target=\"_blank\" href=https://colab.research.google.com/notebooks/data_table.ipynb>data table notebook</a>'\n",
              "          + ' to learn more about interactive tables.';\n",
              "        element.innerHTML = '';\n",
              "        dataTable['output_type'] = 'display_data';\n",
              "        await google.colab.output.renderOutput(dataTable, element);\n",
              "        const docLink = document.createElement('div');\n",
              "        docLink.innerHTML = docLinkHtml;\n",
              "        element.appendChild(docLink);\n",
              "      }\n",
              "    </script>\n",
              "  </div>\n",
              "\n",
              "\n",
              "    <div id=\"df-dfe10653-7893-47b8-af07-41edc994b77c\">\n",
              "      <button class=\"colab-df-quickchart\" onclick=\"quickchart('df-dfe10653-7893-47b8-af07-41edc994b77c')\"\n",
              "                title=\"Suggest charts\"\n",
              "                style=\"display:none;\">\n",
              "\n",
              "<svg xmlns=\"http://www.w3.org/2000/svg\" height=\"24px\"viewBox=\"0 0 24 24\"\n",
              "     width=\"24px\">\n",
              "    <g>\n",
              "        <path d=\"M19 3H5c-1.1 0-2 .9-2 2v14c0 1.1.9 2 2 2h14c1.1 0 2-.9 2-2V5c0-1.1-.9-2-2-2zM9 17H7v-7h2v7zm4 0h-2V7h2v10zm4 0h-2v-4h2v4z\"/>\n",
              "    </g>\n",
              "</svg>\n",
              "      </button>\n",
              "\n",
              "<style>\n",
              "  .colab-df-quickchart {\n",
              "      --bg-color: #E8F0FE;\n",
              "      --fill-color: #1967D2;\n",
              "      --hover-bg-color: #E2EBFA;\n",
              "      --hover-fill-color: #174EA6;\n",
              "      --disabled-fill-color: #AAA;\n",
              "      --disabled-bg-color: #DDD;\n",
              "  }\n",
              "\n",
              "  [theme=dark] .colab-df-quickchart {\n",
              "      --bg-color: #3B4455;\n",
              "      --fill-color: #D2E3FC;\n",
              "      --hover-bg-color: #434B5C;\n",
              "      --hover-fill-color: #FFFFFF;\n",
              "      --disabled-bg-color: #3B4455;\n",
              "      --disabled-fill-color: #666;\n",
              "  }\n",
              "\n",
              "  .colab-df-quickchart {\n",
              "    background-color: var(--bg-color);\n",
              "    border: none;\n",
              "    border-radius: 50%;\n",
              "    cursor: pointer;\n",
              "    display: none;\n",
              "    fill: var(--fill-color);\n",
              "    height: 32px;\n",
              "    padding: 0;\n",
              "    width: 32px;\n",
              "  }\n",
              "\n",
              "  .colab-df-quickchart:hover {\n",
              "    background-color: var(--hover-bg-color);\n",
              "    box-shadow: 0 1px 2px rgba(60, 64, 67, 0.3), 0 1px 3px 1px rgba(60, 64, 67, 0.15);\n",
              "    fill: var(--button-hover-fill-color);\n",
              "  }\n",
              "\n",
              "  .colab-df-quickchart-complete:disabled,\n",
              "  .colab-df-quickchart-complete:disabled:hover {\n",
              "    background-color: var(--disabled-bg-color);\n",
              "    fill: var(--disabled-fill-color);\n",
              "    box-shadow: none;\n",
              "  }\n",
              "\n",
              "  .colab-df-spinner {\n",
              "    border: 2px solid var(--fill-color);\n",
              "    border-color: transparent;\n",
              "    border-bottom-color: var(--fill-color);\n",
              "    animation:\n",
              "      spin 1s steps(1) infinite;\n",
              "  }\n",
              "\n",
              "  @keyframes spin {\n",
              "    0% {\n",
              "      border-color: transparent;\n",
              "      border-bottom-color: var(--fill-color);\n",
              "      border-left-color: var(--fill-color);\n",
              "    }\n",
              "    20% {\n",
              "      border-color: transparent;\n",
              "      border-left-color: var(--fill-color);\n",
              "      border-top-color: var(--fill-color);\n",
              "    }\n",
              "    30% {\n",
              "      border-color: transparent;\n",
              "      border-left-color: var(--fill-color);\n",
              "      border-top-color: var(--fill-color);\n",
              "      border-right-color: var(--fill-color);\n",
              "    }\n",
              "    40% {\n",
              "      border-color: transparent;\n",
              "      border-right-color: var(--fill-color);\n",
              "      border-top-color: var(--fill-color);\n",
              "    }\n",
              "    60% {\n",
              "      border-color: transparent;\n",
              "      border-right-color: var(--fill-color);\n",
              "    }\n",
              "    80% {\n",
              "      border-color: transparent;\n",
              "      border-right-color: var(--fill-color);\n",
              "      border-bottom-color: var(--fill-color);\n",
              "    }\n",
              "    90% {\n",
              "      border-color: transparent;\n",
              "      border-bottom-color: var(--fill-color);\n",
              "    }\n",
              "  }\n",
              "</style>\n",
              "\n",
              "      <script>\n",
              "        async function quickchart(key) {\n",
              "          const quickchartButtonEl =\n",
              "            document.querySelector('#' + key + ' button');\n",
              "          quickchartButtonEl.disabled = true;  // To prevent multiple clicks.\n",
              "          quickchartButtonEl.classList.add('colab-df-spinner');\n",
              "          try {\n",
              "            const charts = await google.colab.kernel.invokeFunction(\n",
              "                'suggestCharts', [key], {});\n",
              "          } catch (error) {\n",
              "            console.error('Error during call to suggestCharts:', error);\n",
              "          }\n",
              "          quickchartButtonEl.classList.remove('colab-df-spinner');\n",
              "          quickchartButtonEl.classList.add('colab-df-quickchart-complete');\n",
              "        }\n",
              "        (() => {\n",
              "          let quickchartButtonEl =\n",
              "            document.querySelector('#df-dfe10653-7893-47b8-af07-41edc994b77c button');\n",
              "          quickchartButtonEl.style.display =\n",
              "            google.colab.kernel.accessAllowed ? 'block' : 'none';\n",
              "        })();\n",
              "      </script>\n",
              "    </div>\n",
              "\n",
              "    </div>\n",
              "  </div>\n"
            ],
            "application/vnd.google.colaboratory.intrinsic+json": {
              "type": "dataframe",
              "summary": "{\n  \"name\": \")\",\n  \"rows\": 6,\n  \"fields\": [\n    {\n      \"column\": \"continent\",\n      \"properties\": {\n        \"dtype\": \"string\",\n        \"num_unique_values\": 6,\n        \"samples\": [\n          \"Africa\",\n          \"Asia\",\n          \"South America\"\n        ],\n        \"semantic_type\": \"\",\n        \"description\": \"\"\n      }\n    },\n    {\n      \"column\": \"mean_2010\",\n      \"properties\": {\n        \"dtype\": \"number\",\n        \"std\": 2.607028113600332,\n        \"min\": 3.6225,\n        \"max\": 11.008205128205129,\n        \"num_unique_values\": 6,\n        \"samples\": [\n          9.343584905660377,\n          6.240638297872341,\n          6.870833333333334\n        ],\n        \"semantic_type\": \"\",\n        \"description\": \"\"\n      }\n    },\n    {\n      \"column\": \"std_2010\",\n      \"properties\": {\n        \"dtype\": \"number\",\n        \"std\": 2.0532215711831485,\n        \"min\": 2.0547210446745736,\n        \"max\": 7.411259390107736,\n        \"num_unique_values\": 6,\n        \"samples\": [\n          7.411259390107736,\n          5.146174773665395,\n          2.807057528747313\n        ],\n        \"semantic_type\": \"\",\n        \"description\": \"\"\n      }\n    },\n    {\n      \"column\": \"median_2021\",\n      \"properties\": {\n        \"dtype\": \"number\",\n        \"std\": 2.0933673033337143,\n        \"min\": 4.045,\n        \"max\": 9.595,\n        \"num_unique_values\": 6,\n        \"samples\": [\n          7.72,\n          5.07,\n          9.595\n        ],\n        \"semantic_type\": \"\",\n        \"description\": \"\"\n      }\n    }\n  ]\n}"
            }
          },
          "metadata": {},
          "execution_count": 16
        }
      ]
    },
    {
      "cell_type": "code",
      "source": [
        "sns.barplot(data=unemployment, x=\"continent\", y=\"2010\")\n",
        "plt.show()"
      ],
      "metadata": {
        "colab": {
          "base_uri": "https://localhost:8080/",
          "height": 449
        },
        "id": "7WAvec0WtQ7P",
        "outputId": "f41a4d96-dd57-46b2-9a40-2ab644cae1a3"
      },
      "execution_count": 17,
      "outputs": [
        {
          "output_type": "display_data",
          "data": {
            "text/plain": [
              "<Figure size 640x480 with 1 Axes>"
            ],
            "image/png": "[encoded data removed]"
          },
          "metadata": {}
        }
      ]
    },
    {
      "cell_type": "markdown",
      "source": [
        "#addressing missing values"
      ],
      "metadata": {
        "id": "2QjLgSO5vFmf"
      }
    },
    {
      "cell_type": "code",
      "source": [
        "plane=pd.read_csv(\"/content/planes.csv\")\n",
        "print(plane.head())"
      ],
      "metadata": {
        "colab": {
          "base_uri": "https://localhost:8080/"
        },
        "id": "spBbIHIItcyc",
        "outputId": "2ad1814c-f7f3-46ef-b86a-3583c9ded9ea"
      },
      "execution_count": 18,
      "outputs": [
        {
          "output_type": "stream",
          "name": "stdout",
          "text": [
            "       Airline Date_of_Journey    Source Destination                  Route  \\\n",
            "0  Jet Airways       9/06/2019     Delhi      Cochin  DEL → LKO → BOM → COK   \n",
            "1       IndiGo      12/05/2019   Kolkata    Banglore        CCU → NAG → BLR   \n",
            "2       IndiGo      01/03/2019  Banglore   New Delhi        BLR → NAG → DEL   \n",
            "3     SpiceJet      24/06/2019   Kolkata    Banglore              CCU → BLR   \n",
            "4  Jet Airways      12/03/2019  Banglore   New Delhi        BLR → BOM → DEL   \n",
            "\n",
            "  Dep_Time  Arrival_Time Duration Total_Stops              Additional_Info  \\\n",
            "0    09:25  04:25 10 Jun      19h     2 stops                      No info   \n",
            "1    18:05         23:30   5h 25m      1 stop                      No info   \n",
            "2    16:50         21:35   4h 45m      1 stop                      No info   \n",
            "3    09:00         11:25   2h 25m    non-stop                      No info   \n",
            "4    18:55  10:25 13 Mar  15h 30m      1 stop  In-flight meal not included   \n",
            "\n",
            "     Price  \n",
            "0  13882.0  \n",
            "1   6218.0  \n",
            "2  13302.0  \n",
            "3   3873.0  \n",
            "4  11087.0  \n"
          ]
        }
      ]
    },
    {
      "cell_type": "code",
      "source": [
        "print(plane.isna().sum())"
      ],
      "metadata": {
        "colab": {
          "base_uri": "https://localhost:8080/"
        },
        "id": "jSIYl3lnxoZJ",
        "outputId": "5585125b-1977-43bb-ccf9-6b1268f352d9"
      },
      "execution_count": 19,
      "outputs": [
        {
          "output_type": "stream",
          "name": "stdout",
          "text": [
            "Airline            427\n",
            "Date_of_Journey    322\n",
            "Source             187\n",
            "Destination        347\n",
            "Route              256\n",
            "Dep_Time           260\n",
            "Arrival_Time       194\n",
            "Duration           214\n",
            "Total_Stops        212\n",
            "Additional_Info    589\n",
            "Price              616\n",
            "dtype: int64\n"
          ]
        }
      ]
    },
    {
      "cell_type": "code",
      "source": [
        "# Find the five percent threshold\n",
        "threshold = len(plane) * 0.05\n",
        "print(threshold)"
      ],
      "metadata": {
        "colab": {
          "base_uri": "https://localhost:8080/"
        },
        "id": "--2Fn68PyBH_",
        "outputId": "98324f41-ff10-4641-a9f3-c0b84812e002"
      },
      "execution_count": 20,
      "outputs": [
        {
          "output_type": "stream",
          "name": "stdout",
          "text": [
            "533.0\n"
          ]
        }
      ]
    },
    {
      "cell_type": "code",
      "source": [
        "cols_to_drop = plane.columns[plane.isna().sum() <= threshold]\n",
        "print(cols_to_drop)"
      ],
      "metadata": {
        "colab": {
          "base_uri": "https://localhost:8080/"
        },
        "id": "FRNkNmdmy4uv",
        "outputId": "59f382e3-472a-484d-ab3b-79ff4d81d3ed"
      },
      "execution_count": 21,
      "outputs": [
        {
          "output_type": "stream",
          "name": "stdout",
          "text": [
            "Index(['Airline', 'Date_of_Journey', 'Source', 'Destination', 'Route',\n",
            "       'Dep_Time', 'Arrival_Time', 'Duration', 'Total_Stops'],\n",
            "      dtype='object')\n"
          ]
        }
      ]
    },
    {
      "cell_type": "code",
      "source": [
        "# Drop missing values for columns below the threshold\n",
        "plane.dropna(subset=cols_to_drop, inplace=True)\n",
        "\n",
        "print(plane.isna().sum())"
      ],
      "metadata": {
        "colab": {
          "base_uri": "https://localhost:8080/"
        },
        "id": "5smgZK6Y0Mdz",
        "outputId": "56f35ddd-51cd-4f65-a54e-ee107dffa4ff"
      },
      "execution_count": 22,
      "outputs": [
        {
          "output_type": "stream",
          "name": "stdout",
          "text": [
            "Airline              0\n",
            "Date_of_Journey      0\n",
            "Source               0\n",
            "Destination          0\n",
            "Route                0\n",
            "Dep_Time             0\n",
            "Arrival_Time         0\n",
            "Duration             0\n",
            "Total_Stops          0\n",
            "Additional_Info    300\n",
            "Price              368\n",
            "dtype: int64\n"
          ]
        }
      ]
    },
    {
      "cell_type": "code",
      "source": [
        "# Check the values of the Additional_Info column\n",
        "print(plane[\"Additional_Info\"].value_counts())"
      ],
      "metadata": {
        "colab": {
          "base_uri": "https://localhost:8080/"
        },
        "id": "j-3lQbg81IHe",
        "outputId": "27c28f98-5633-41ab-fd07-8ade22b35216"
      },
      "execution_count": 23,
      "outputs": [
        {
          "output_type": "stream",
          "name": "stdout",
          "text": [
            "Additional_Info\n",
            "No info                         6399\n",
            "In-flight meal not included     1525\n",
            "No check-in baggage included     258\n",
            "1 Long layover                    14\n",
            "Change airports                    7\n",
            "No Info                            2\n",
            "Business class                     1\n",
            "Red-eye flight                     1\n",
            "2 Long layover                     1\n",
            "Name: count, dtype: int64\n"
          ]
        }
      ]
    },
    {
      "cell_type": "code",
      "source": [
        "sns.boxplot(data=plane, x=\"Airline\", y=\"Price\")\n",
        "plt.show()"
      ],
      "metadata": {
        "colab": {
          "base_uri": "https://localhost:8080/",
          "height": 449
        },
        "id": "QOZRQvry1dJ8",
        "outputId": "24d4f8d3-3c87-4d99-b812-7c9c120f5fbd"
      },
      "execution_count": 24,
      "outputs": [
        {
          "output_type": "display_data",
          "data": {
            "text/plain": [
              "<Figure size 640x480 with 1 Axes>"
            ],
            "image/png": "[encoded data removed]"
          },
          "metadata": {}
        }
      ]
    },
    {
      "cell_type": "code",
      "source": [
        "# Calculate median plane ticket prices by Airline\n",
        "airline_prices = plane.groupby(\"Airline\")[\"Price\"].median()\n",
        "\n",
        "print(airline_prices)"
      ],
      "metadata": {
        "colab": {
          "base_uri": "https://localhost:8080/"
        },
        "id": "gKutqgCR1yJ_",
        "outputId": "d59a6482-ba06-41cf-fd22-234e36bd02f7"
      },
      "execution_count": 25,
      "outputs": [
        {
          "output_type": "stream",
          "name": "stdout",
          "text": [
            "Airline\n",
            "Air Asia              5192.0\n",
            "Air India             9443.0\n",
            "GoAir                 5003.5\n",
            "IndiGo                5054.0\n",
            "Jet Airways          11507.0\n",
            "Multiple carriers    10197.0\n",
            "SpiceJet              3873.0\n",
            "Vistara               8028.0\n",
            "Name: Price, dtype: float64\n"
          ]
        }
      ]
    },
    {
      "cell_type": "code",
      "source": [
        "# Convert to a dictionary\n",
        "prices_dict = airline_prices.to_dict()\n",
        "print(prices_dict)"
      ],
      "metadata": {
        "id": "ehCxQzkD2eeL",
        "colab": {
          "base_uri": "https://localhost:8080/"
        },
        "outputId": "f2940e3f-02eb-425c-9449-3c8acff73282"
      },
      "execution_count": 26,
      "outputs": [
        {
          "output_type": "stream",
          "name": "stdout",
          "text": [
            "{'Air Asia': 5192.0, 'Air India': 9443.0, 'GoAir': 5003.5, 'IndiGo': 5054.0, 'Jet Airways': 11507.0, 'Multiple carriers': 10197.0, 'SpiceJet': 3873.0, 'Vistara': 8028.0}\n"
          ]
        }
      ]
    },
    {
      "cell_type": "code",
      "source": [
        "# Map the dictionary to missing values of Price by Airline\n",
        "plane[\"Price\"] = plane[\"Price\"].fillna(plane[\"Airline\"].map(prices_dict))\n",
        "\n",
        "# Check for missing values\n",
        "print(plane.isna().sum())"
      ],
      "metadata": {
        "colab": {
          "base_uri": "https://localhost:8080/"
        },
        "id": "9QIEXZCA6K-X",
        "outputId": "02a29518-3ce3-463f-f41c-c8367160ebd9"
      },
      "execution_count": 27,
      "outputs": [
        {
          "output_type": "stream",
          "name": "stdout",
          "text": [
            "Airline              0\n",
            "Date_of_Journey      0\n",
            "Source               0\n",
            "Destination          0\n",
            "Route                0\n",
            "Dep_Time             0\n",
            "Arrival_Time         0\n",
            "Duration             0\n",
            "Total_Stops          0\n",
            "Additional_Info    300\n",
            "Price                0\n",
            "dtype: int64\n"
          ]
        }
      ]
    },
    {
      "cell_type": "code",
      "source": [
        "print(plane.select_dtypes(\"object\").head())"
      ],
      "metadata": {
        "colab": {
          "base_uri": "https://localhost:8080/"
        },
        "id": "_I-i-0m-6wLx",
        "outputId": "c8a47e03-9416-43a7-8145-648170c7466e"
      },
      "execution_count": 28,
      "outputs": [
        {
          "output_type": "stream",
          "name": "stdout",
          "text": [
            "       Airline Date_of_Journey    Source Destination                  Route  \\\n",
            "0  Jet Airways       9/06/2019     Delhi      Cochin  DEL → LKO → BOM → COK   \n",
            "1       IndiGo      12/05/2019   Kolkata    Banglore        CCU → NAG → BLR   \n",
            "2       IndiGo      01/03/2019  Banglore   New Delhi        BLR → NAG → DEL   \n",
            "3     SpiceJet      24/06/2019   Kolkata    Banglore              CCU → BLR   \n",
            "4  Jet Airways      12/03/2019  Banglore   New Delhi        BLR → BOM → DEL   \n",
            "\n",
            "  Dep_Time  Arrival_Time Duration Total_Stops              Additional_Info  \n",
            "0    09:25  04:25 10 Jun      19h     2 stops                      No info  \n",
            "1    18:05         23:30   5h 25m      1 stop                      No info  \n",
            "2    16:50         21:35   4h 45m      1 stop                      No info  \n",
            "3    09:00         11:25   2h 25m    non-stop                      No info  \n",
            "4    18:55  10:25 13 Mar  15h 30m      1 stop  In-flight meal not included  \n"
          ]
        }
      ]
    },
    {
      "cell_type": "code",
      "source": [
        "print(plane[\"Airline\"].value_counts)"
      ],
      "metadata": {
        "colab": {
          "base_uri": "https://localhost:8080/"
        },
        "id": "4yQXcXkX7J5h",
        "outputId": "4417b0d5-dcc9-4647-da9a-8a275fea38ef"
      },
      "execution_count": 29,
      "outputs": [
        {
          "output_type": "stream",
          "name": "stdout",
          "text": [
            "<bound method IndexOpsMixin.value_counts of 0        Jet Airways\n",
            "1             IndiGo\n",
            "2             IndiGo\n",
            "3           SpiceJet\n",
            "4        Jet Airways\n",
            "            ...     \n",
            "10654       SpiceJet\n",
            "10655       Air Asia\n",
            "10656      Air India\n",
            "10658        Vistara\n",
            "10659      Air India\n",
            "Name: Airline, Length: 8508, dtype: object>\n"
          ]
        }
      ]
    },
    {
      "cell_type": "code",
      "source": [
        "print(plane[\"Airline\"].nunique())"
      ],
      "metadata": {
        "colab": {
          "base_uri": "https://localhost:8080/"
        },
        "id": "KUcQgLu07Wkl",
        "outputId": "11231c9c-d3ac-4ce6-a58a-3eea4b937ec7"
      },
      "execution_count": 30,
      "outputs": [
        {
          "output_type": "stream",
          "name": "stdout",
          "text": [
            "8\n"
          ]
        }
      ]
    },
    {
      "cell_type": "code",
      "source": [
        "# Filter the DataFrame for object columns\n",
        "non_numeric = plane.select_dtypes(\"object\")\n",
        "\n",
        "# Loop through columns\n",
        "for i in non_numeric.columns:\n",
        "\n",
        "  # Print the number of unique values\n",
        "  print(f\"Number of unique values in {i} column: \", non_numeric[i].nunique())"
      ],
      "metadata": {
        "colab": {
          "base_uri": "https://localhost:8080/"
        },
        "id": "07aTGCa_-4T8",
        "outputId": "6883f2ff-d722-4311-8ab1-8127b578560e"
      },
      "execution_count": 31,
      "outputs": [
        {
          "output_type": "stream",
          "name": "stdout",
          "text": [
            "Number of unique values in Airline column:  8\n",
            "Number of unique values in Date_of_Journey column:  44\n",
            "Number of unique values in Source column:  5\n",
            "Number of unique values in Destination column:  6\n",
            "Number of unique values in Route column:  122\n",
            "Number of unique values in Dep_Time column:  218\n",
            "Number of unique values in Arrival_Time column:  1220\n",
            "Number of unique values in Duration column:  362\n",
            "Number of unique values in Total_Stops column:  5\n",
            "Number of unique values in Additional_Info column:  9\n"
          ]
        }
      ]
    },
    {
      "cell_type": "code",
      "source": [
        "plane[\"Airline\"].str.contains(\"IndiGo\")  #airline named IndiGo"
      ],
      "metadata": {
        "colab": {
          "base_uri": "https://localhost:8080/",
          "height": 458
        },
        "id": "_rF80F0_7eGQ",
        "outputId": "7c4e13e2-b82f-4b69-f08c-f117e16fb8a9"
      },
      "execution_count": 32,
      "outputs": [
        {
          "output_type": "execute_result",
          "data": {
            "text/plain": [
              "0        False\n",
              "1         True\n",
              "2         True\n",
              "3        False\n",
              "4        False\n",
              "         ...  \n",
              "10654    False\n",
              "10655    False\n",
              "10656    False\n",
              "10658    False\n",
              "10659    False\n",
              "Name: Airline, Length: 8508, dtype: bool"
            ],
            "text/html": [
              "<div>\n",
              "<style scoped>\n",
              "    .dataframe tbody tr th:only-of-type {\n",
              "        vertical-align: middle;\n",
              "    }\n",
              "\n",
              "    .dataframe tbody tr th {\n",
              "        vertical-align: top;\n",
              "    }\n",
              "\n",
              "    .dataframe thead th {\n",
              "        text-align: right;\n",
              "    }\n",
              "</style>\n",
              "<table border=\"1\" class=\"dataframe\">\n",
              "  <thead>\n",
              "    <tr style=\"text-align: right;\">\n",
              "      <th></th>\n",
              "      <th>Airline</th>\n",
              "    </tr>\n",
              "  </thead>\n",
              "  <tbody>\n",
              "    <tr>\n",
              "      <th>0</th>\n",
              "      <td>False</td>\n",
              "    </tr>\n",
              "    <tr>\n",
              "      <th>1</th>\n",
              "      <td>True</td>\n",
              "    </tr>\n",
              "    <tr>\n",
              "      <th>2</th>\n",
              "      <td>True</td>\n",
              "    </tr>\n",
              "    <tr>\n",
              "      <th>3</th>\n",
              "      <td>False</td>\n",
              "    </tr>\n",
              "    <tr>\n",
              "      <th>4</th>\n",
              "      <td>False</td>\n",
              "    </tr>\n",
              "    <tr>\n",
              "      <th>...</th>\n",
              "      <td>...</td>\n",
              "    </tr>\n",
              "    <tr>\n",
              "      <th>10654</th>\n",
              "      <td>False</td>\n",
              "    </tr>\n",
              "    <tr>\n",
              "      <th>10655</th>\n",
              "      <td>False</td>\n",
              "    </tr>\n",
              "    <tr>\n",
              "      <th>10656</th>\n",
              "      <td>False</td>\n",
              "    </tr>\n",
              "    <tr>\n",
              "      <th>10658</th>\n",
              "      <td>False</td>\n",
              "    </tr>\n",
              "    <tr>\n",
              "      <th>10659</th>\n",
              "      <td>False</td>\n",
              "    </tr>\n",
              "  </tbody>\n",
              "</table>\n",
              "<p>8508 rows × 1 columns</p>\n",
              "</div><br><label><b>dtype:</b> bool</label>"
            ]
          },
          "metadata": {},
          "execution_count": 32
        }
      ]
    },
    {
      "cell_type": "code",
      "source": [
        "#multiple phrase\n",
        "plane[\"Airline\"].str.contains(\"IndiGo|Air Asia\")"
      ],
      "metadata": {
        "colab": {
          "base_uri": "https://localhost:8080/",
          "height": 458
        },
        "id": "AOQO5idf7rRB",
        "outputId": "5e09e38a-fc98-4c7f-935a-dc44d33b43a2"
      },
      "execution_count": 33,
      "outputs": [
        {
          "output_type": "execute_result",
          "data": {
            "text/plain": [
              "0        False\n",
              "1         True\n",
              "2         True\n",
              "3        False\n",
              "4        False\n",
              "         ...  \n",
              "10654    False\n",
              "10655     True\n",
              "10656    False\n",
              "10658    False\n",
              "10659    False\n",
              "Name: Airline, Length: 8508, dtype: bool"
            ],
            "text/html": [
              "<div>\n",
              "<style scoped>\n",
              "    .dataframe tbody tr th:only-of-type {\n",
              "        vertical-align: middle;\n",
              "    }\n",
              "\n",
              "    .dataframe tbody tr th {\n",
              "        vertical-align: top;\n",
              "    }\n",
              "\n",
              "    .dataframe thead th {\n",
              "        text-align: right;\n",
              "    }\n",
              "</style>\n",
              "<table border=\"1\" class=\"dataframe\">\n",
              "  <thead>\n",
              "    <tr style=\"text-align: right;\">\n",
              "      <th></th>\n",
              "      <th>Airline</th>\n",
              "    </tr>\n",
              "  </thead>\n",
              "  <tbody>\n",
              "    <tr>\n",
              "      <th>0</th>\n",
              "      <td>False</td>\n",
              "    </tr>\n",
              "    <tr>\n",
              "      <th>1</th>\n",
              "      <td>True</td>\n",
              "    </tr>\n",
              "    <tr>\n",
              "      <th>2</th>\n",
              "      <td>True</td>\n",
              "    </tr>\n",
              "    <tr>\n",
              "      <th>3</th>\n",
              "      <td>False</td>\n",
              "    </tr>\n",
              "    <tr>\n",
              "      <th>4</th>\n",
              "      <td>False</td>\n",
              "    </tr>\n",
              "    <tr>\n",
              "      <th>...</th>\n",
              "      <td>...</td>\n",
              "    </tr>\n",
              "    <tr>\n",
              "      <th>10654</th>\n",
              "      <td>False</td>\n",
              "    </tr>\n",
              "    <tr>\n",
              "      <th>10655</th>\n",
              "      <td>True</td>\n",
              "    </tr>\n",
              "    <tr>\n",
              "      <th>10656</th>\n",
              "      <td>False</td>\n",
              "    </tr>\n",
              "    <tr>\n",
              "      <th>10658</th>\n",
              "      <td>False</td>\n",
              "    </tr>\n",
              "    <tr>\n",
              "      <th>10659</th>\n",
              "      <td>False</td>\n",
              "    </tr>\n",
              "  </tbody>\n",
              "</table>\n",
              "<p>8508 rows × 1 columns</p>\n",
              "</div><br><label><b>dtype:</b> bool</label>"
            ]
          },
          "metadata": {},
          "execution_count": 33
        }
      ]
    },
    {
      "cell_type": "code",
      "source": [
        "#multiple pharse in strings\n",
        "plane[\"Airline\"].str.contains(\"^Data\")"
      ],
      "metadata": {
        "colab": {
          "base_uri": "https://localhost:8080/",
          "height": 458
        },
        "id": "YcYWCQG08mtZ",
        "outputId": "b092b549-2edf-4da1-d57a-2a5a19350bc6"
      },
      "execution_count": 34,
      "outputs": [
        {
          "output_type": "execute_result",
          "data": {
            "text/plain": [
              "0        False\n",
              "1        False\n",
              "2        False\n",
              "3        False\n",
              "4        False\n",
              "         ...  \n",
              "10654    False\n",
              "10655    False\n",
              "10656    False\n",
              "10658    False\n",
              "10659    False\n",
              "Name: Airline, Length: 8508, dtype: bool"
            ],
            "text/html": [
              "<div>\n",
              "<style scoped>\n",
              "    .dataframe tbody tr th:only-of-type {\n",
              "        vertical-align: middle;\n",
              "    }\n",
              "\n",
              "    .dataframe tbody tr th {\n",
              "        vertical-align: top;\n",
              "    }\n",
              "\n",
              "    .dataframe thead th {\n",
              "        text-align: right;\n",
              "    }\n",
              "</style>\n",
              "<table border=\"1\" class=\"dataframe\">\n",
              "  <thead>\n",
              "    <tr style=\"text-align: right;\">\n",
              "      <th></th>\n",
              "      <th>Airline</th>\n",
              "    </tr>\n",
              "  </thead>\n",
              "  <tbody>\n",
              "    <tr>\n",
              "      <th>0</th>\n",
              "      <td>False</td>\n",
              "    </tr>\n",
              "    <tr>\n",
              "      <th>1</th>\n",
              "      <td>False</td>\n",
              "    </tr>\n",
              "    <tr>\n",
              "      <th>2</th>\n",
              "      <td>False</td>\n",
              "    </tr>\n",
              "    <tr>\n",
              "      <th>3</th>\n",
              "      <td>False</td>\n",
              "    </tr>\n",
              "    <tr>\n",
              "      <th>4</th>\n",
              "      <td>False</td>\n",
              "    </tr>\n",
              "    <tr>\n",
              "      <th>...</th>\n",
              "      <td>...</td>\n",
              "    </tr>\n",
              "    <tr>\n",
              "      <th>10654</th>\n",
              "      <td>False</td>\n",
              "    </tr>\n",
              "    <tr>\n",
              "      <th>10655</th>\n",
              "      <td>False</td>\n",
              "    </tr>\n",
              "    <tr>\n",
              "      <th>10656</th>\n",
              "      <td>False</td>\n",
              "    </tr>\n",
              "    <tr>\n",
              "      <th>10658</th>\n",
              "      <td>False</td>\n",
              "    </tr>\n",
              "    <tr>\n",
              "      <th>10659</th>\n",
              "      <td>False</td>\n",
              "    </tr>\n",
              "  </tbody>\n",
              "</table>\n",
              "<p>8508 rows × 1 columns</p>\n",
              "</div><br><label><b>dtype:</b> bool</label>"
            ]
          },
          "metadata": {},
          "execution_count": 34
        }
      ]
    },
    {
      "cell_type": "code",
      "source": [
        "airline_name=[\"Air Nepal\"]\n",
        "air_nepal = \"Air Nepal\""
      ],
      "metadata": {
        "id": "j_9Ztb-H83k4"
      },
      "execution_count": 35,
      "outputs": []
    },
    {
      "cell_type": "code",
      "source": [
        "conditions=[\n",
        "    (plane[\"Airline\"].str.contains(air_nepal))\n",
        "]\n"
      ],
      "metadata": {
        "id": "b2zFDYMw9QJk"
      },
      "execution_count": 36,
      "outputs": []
    },
    {
      "cell_type": "code",
      "source": [
        "import numpy as np\n",
        "plane[\"airline_name\"] = np.select(conditions, airline_name, default=\"Other\")"
      ],
      "metadata": {
        "id": "E2u0dFmJ9Yti"
      },
      "execution_count": 37,
      "outputs": []
    },
    {
      "cell_type": "code",
      "source": [
        "sns.countplot(data=plane, x=\"airline_name\")\n",
        "plt.show()"
      ],
      "metadata": {
        "colab": {
          "base_uri": "https://localhost:8080/",
          "height": 450
        },
        "id": "XRunGy839lPN",
        "outputId": "26801900-a31d-4a7b-f734-bc208e9b56a8"
      },
      "execution_count": 38,
      "outputs": [
        {
          "output_type": "display_data",
          "data": {
            "text/plain": [
              "<Figure size 640x480 with 1 Axes>"
            ],
            "image/png": "[encoded data removed]"
          },
          "metadata": {}
        }
      ]
    },
    {
      "cell_type": "code",
      "source": [
        "\n",
        "# Create a list of categories\n",
        "flight_categories = [\"Short-haul\", \"Medium\", \"Long-haul\"]"
      ],
      "metadata": {
        "id": "_f6kf98j9wYy"
      },
      "execution_count": 39,
      "outputs": []
    },
    {
      "cell_type": "code",
      "source": [
        "# Create short-haul values\n",
        "short_flights = \"0h|1h|2h|3h|4h\"\n",
        "\n",
        "# Create medium-haul values\n",
        "medium_flights = \"5h|6h|7h|8h|9h\"\n",
        "\n",
        "# Create long-haul values\n",
        "long_flights = \"10h|11h|12h|13h|14h|16h\" #not right"
      ],
      "metadata": {
        "id": "mo4EWAol_Hh6"
      },
      "execution_count": 40,
      "outputs": []
    },
    {
      "cell_type": "code",
      "source": [
        "# Create short-haul values\n",
        "short_flights = \"^0h|^1h|^2h|^3h|^4h\"\n",
        "\n",
        "# Create medium-haul values\n",
        "medium_flights = \"^5h|^6h|^7h|^8h|^9h\"\n",
        "\n",
        "# Create long-haul values\n",
        "long_flights = \"^10h|^11h|^12h|^13h|^14h|^15h|^16h\""
      ],
      "metadata": {
        "id": "_L1vIIma_bov"
      },
      "execution_count": 41,
      "outputs": []
    },
    {
      "cell_type": "code",
      "source": [
        "# Create conditions for values in flight_categories to be created\n",
        "conditions = [\n",
        "    (plane[\"Duration\"].str.contains(short_flights)),\n",
        "        (plane[\"Duration\"].str.contains(medium_flights)),\n",
        "            (plane[\"Duration\"].str.contains(long_flights))\n",
        "]\n",
        "\n",
        "# Apply the conditions list to the flight_categories\n",
        "plane[\"Duration_Category\"] = np.select(conditions, flight_categories,\n",
        "                                        default=(\"Extreme duration\"))\n",
        "\n",
        "# Plot the counts of each category\n",
        "sns.countplot(data=plane, x=\"Duration_Category\")\n",
        "plt.show()"
      ],
      "metadata": {
        "colab": {
          "base_uri": "https://localhost:8080/",
          "height": 450
        },
        "id": "fCUv-f72Azf2",
        "outputId": "8b2180bf-bc1b-4958-c126-6aaecf55a301"
      },
      "execution_count": 42,
      "outputs": [
        {
          "output_type": "display_data",
          "data": {
            "text/plain": [
              "<Figure size 640x480 with 1 Axes>"
            ],
            "image/png": "[encoded data removed]"
          },
          "metadata": {}
        }
      ]
    },
    {
      "cell_type": "code",
      "source": [
        "plane.info()"
      ],
      "metadata": {
        "id": "hMTonJDuA0FS",
        "colab": {
          "base_uri": "https://localhost:8080/"
        },
        "outputId": "543359c8-da42-438d-815b-13396655330d"
      },
      "execution_count": 43,
      "outputs": [
        {
          "output_type": "stream",
          "name": "stdout",
          "text": [
            "<class 'pandas.core.frame.DataFrame'>\n",
            "Index: 8508 entries, 0 to 10659\n",
            "Data columns (total 13 columns):\n",
            " #   Column             Non-Null Count  Dtype  \n",
            "---  ------             --------------  -----  \n",
            " 0   Airline            8508 non-null   object \n",
            " 1   Date_of_Journey    8508 non-null   object \n",
            " 2   Source             8508 non-null   object \n",
            " 3   Destination        8508 non-null   object \n",
            " 4   Route              8508 non-null   object \n",
            " 5   Dep_Time           8508 non-null   object \n",
            " 6   Arrival_Time       8508 non-null   object \n",
            " 7   Duration           8508 non-null   object \n",
            " 8   Total_Stops        8508 non-null   object \n",
            " 9   Additional_Info    8208 non-null   object \n",
            " 10  Price              8508 non-null   float64\n",
            " 11  airline_name       8508 non-null   object \n",
            " 12  Duration_Category  8508 non-null   object \n",
            "dtypes: float64(1), object(12)\n",
            "memory usage: 930.6+ KB\n"
          ]
        }
      ]
    },
    {
      "cell_type": "code",
      "source": [
        "#coverting string to number\n",
        "pd.Series.str.replace(\"character to replace\", \"character to replace with\")"
      ],
      "metadata": {
        "colab": {
          "base_uri": "https://localhost:8080/",
          "height": 315
        },
        "id": "H8Jppi71SNtF",
        "outputId": "08bf65f1-1f93-4597-b832-f40226fc01d7"
      },
      "execution_count": 44,
      "outputs": [
        {
          "output_type": "error",
          "ename": "AttributeError",
          "evalue": "'str' object has no attribute '_inferred_dtype'",
          "traceback": [
            "\u001b[0;31m---------------------------------------------------------------------------\u001b[0m",
            "\u001b[0;31mAttributeError\u001b[0m                            Traceback (most recent call last)",
            "\u001b[0;32m/tmp/ipython-input-3429718746.py\u001b[0m in \u001b[0;36m<cell line: 0>\u001b[0;34m()\u001b[0m\n\u001b[1;32m      1\u001b[0m \u001b[0;31m#coverting string to number\u001b[0m\u001b[0;34m\u001b[0m\u001b[0;34m\u001b[0m\u001b[0m\n\u001b[0;32m----> 2\u001b[0;31m \u001b[0mpd\u001b[0m\u001b[0;34m.\u001b[0m\u001b[0mSeries\u001b[0m\u001b[0;34m.\u001b[0m\u001b[0mstr\u001b[0m\u001b[0;34m.\u001b[0m\u001b[0mreplace\u001b[0m\u001b[0;34m(\u001b[0m\u001b[0;34m\"character to replace\"\u001b[0m\u001b[0;34m,\u001b[0m \u001b[0;34m\"character to replace with\"\u001b[0m\u001b[0;34m)\u001b[0m\u001b[0;34m\u001b[0m\u001b[0;34m\u001b[0m\u001b[0m\n\u001b[0m",
            "\u001b[0;32m/usr/local/lib/python3.12/dist-packages/pandas/core/strings/accessor.py\u001b[0m in \u001b[0;36mwrapper\u001b[0;34m(self, *args, **kwargs)\u001b[0m\n\u001b[1;32m    129\u001b[0m         \u001b[0;34m@\u001b[0m\u001b[0mwraps\u001b[0m\u001b[0;34m(\u001b[0m\u001b[0mfunc\u001b[0m\u001b[0;34m)\u001b[0m\u001b[0;34m\u001b[0m\u001b[0;34m\u001b[0m\u001b[0m\n\u001b[1;32m    130\u001b[0m         \u001b[0;32mdef\u001b[0m \u001b[0mwrapper\u001b[0m\u001b[0;34m(\u001b[0m\u001b[0mself\u001b[0m\u001b[0;34m,\u001b[0m \u001b[0;34m*\u001b[0m\u001b[0margs\u001b[0m\u001b[0;34m,\u001b[0m \u001b[0;34m**\u001b[0m\u001b[0mkwargs\u001b[0m\u001b[0;34m)\u001b[0m\u001b[0;34m:\u001b[0m\u001b[0;34m\u001b[0m\u001b[0;34m\u001b[0m\u001b[0m\n\u001b[0;32m--> 131\u001b[0;31m             \u001b[0;32mif\u001b[0m \u001b[0mself\u001b[0m\u001b[0;34m.\u001b[0m\u001b[0m_inferred_dtype\u001b[0m \u001b[0;32mnot\u001b[0m \u001b[0;32min\u001b[0m \u001b[0mallowed_types\u001b[0m\u001b[0;34m:\u001b[0m\u001b[0;34m\u001b[0m\u001b[0;34m\u001b[0m\u001b[0m\n\u001b[0m\u001b[1;32m    132\u001b[0m                 msg = (\n\u001b[1;32m    133\u001b[0m                     \u001b[0;34mf\"Cannot use .str.{func_name} with values of \"\u001b[0m\u001b[0;34m\u001b[0m\u001b[0;34m\u001b[0m\u001b[0m\n",
            "\u001b[0;31mAttributeError\u001b[0m: 'str' object has no attribute '_inferred_dtype'"
          ]
        }
      ]
    },
    {
      "cell_type": "code",
      "source": [
        "plane[\"Airline\"] = plane[\"Airline\"].str.replace(\",\", \"\")\n",
        "print(plane[\"Airline\"].head())"
      ],
      "metadata": {
        "id": "mHU2AlM0SmFE",
        "colab": {
          "base_uri": "https://localhost:8080/"
        },
        "outputId": "eaad9a9e-1a2c-48ea-d09a-80d99df16ea0"
      },
      "execution_count": 45,
      "outputs": [
        {
          "output_type": "stream",
          "name": "stdout",
          "text": [
            "0    Jet Airways\n",
            "1         IndiGo\n",
            "2         IndiGo\n",
            "3       SpiceJet\n",
            "4    Jet Airways\n",
            "Name: Airline, dtype: object\n"
          ]
        }
      ]
    },
    {
      "cell_type": "code",
      "source": [
        "plane[\"Price\"] = plane[\"Price\"].astype(float)\n",
        "print(plane[\"Price\"].head())"
      ],
      "metadata": {
        "colab": {
          "base_uri": "https://localhost:8080/"
        },
        "id": "uO9M0pEwVDE-",
        "outputId": "807156e8-2b68-4bf8-fe4c-ef4c49436a28"
      },
      "execution_count": 46,
      "outputs": [
        {
          "output_type": "stream",
          "name": "stdout",
          "text": [
            "0    13882.0\n",
            "1     6218.0\n",
            "2    13302.0\n",
            "3     3873.0\n",
            "4    11087.0\n",
            "Name: Price, dtype: float64\n"
          ]
        }
      ]
    },
    {
      "cell_type": "code",
      "source": [
        "print(plane[[\"Airline\", \"Price\"]].value_counts)"
      ],
      "metadata": {
        "colab": {
          "base_uri": "https://localhost:8080/"
        },
        "id": "fmG6eZaHVSTF",
        "outputId": "e2f69c2d-4c1c-49fa-9852-7f6a29695926"
      },
      "execution_count": 47,
      "outputs": [
        {
          "output_type": "stream",
          "name": "stdout",
          "text": [
            "<bound method DataFrame.value_counts of            Airline    Price\n",
            "0      Jet Airways  13882.0\n",
            "1           IndiGo   6218.0\n",
            "2           IndiGo  13302.0\n",
            "3         SpiceJet   3873.0\n",
            "4      Jet Airways  11087.0\n",
            "...            ...      ...\n",
            "10654     SpiceJet   3257.0\n",
            "10655     Air Asia   4107.0\n",
            "10656    Air India   4145.0\n",
            "10658      Vistara  12648.0\n",
            "10659    Air India  11753.0\n",
            "\n",
            "[8508 rows x 2 columns]>\n"
          ]
        }
      ]
    },
    {
      "cell_type": "code",
      "source": [
        "# Preview the column\n",
        "print(plane[\"Duration\"].head())"
      ],
      "metadata": {
        "colab": {
          "base_uri": "https://localhost:8080/"
        },
        "id": "w_-U4WivVyBD",
        "outputId": "dcd8cc45-bf55-4e46-b698-041ce6783c0d"
      },
      "execution_count": 48,
      "outputs": [
        {
          "output_type": "stream",
          "name": "stdout",
          "text": [
            "0        19h\n",
            "1     5h 25m\n",
            "2     4h 45m\n",
            "3     2h 25m\n",
            "4    15h 30m\n",
            "Name: Duration, dtype: object\n"
          ]
        }
      ]
    },
    {
      "cell_type": "code",
      "source": [
        "\n",
        "# Remove the string character\n",
        "plane[\"Duration\"] = plane[\"Duration\"].str.replace(\"h\", \"\")\n",
        "print(plane[\"Duration\"])"
      ],
      "metadata": {
        "colab": {
          "base_uri": "https://localhost:8080/"
        },
        "id": "051XaMwxWDuf",
        "outputId": "74ff89f2-bc65-45cf-c376-8b2f0d9db9e2"
      },
      "execution_count": 49,
      "outputs": [
        {
          "output_type": "stream",
          "name": "stdout",
          "text": [
            "0            19\n",
            "1         5 25m\n",
            "2         4 45m\n",
            "3         2 25m\n",
            "4        15 30m\n",
            "          ...  \n",
            "10654     2 40m\n",
            "10655     2 30m\n",
            "10656     2 35m\n",
            "10658     2 40m\n",
            "10659     8 20m\n",
            "Name: Duration, Length: 8508, dtype: object\n"
          ]
        }
      ]
    },
    {
      "cell_type": "code",
      "source": [
        "\n",
        "# Plot a histogram\n",
        "sns.histplot(data=plane , x=\"Duration\")\n",
        "plt.show()"
      ],
      "metadata": {
        "colab": {
          "base_uri": "https://localhost:8080/",
          "height": 449
        },
        "id": "ekRKCTJnWPbg",
        "outputId": "17402c11-eb05-4abd-b6ff-6bbeba1a205e"
      },
      "execution_count": 50,
      "outputs": [
        {
          "output_type": "display_data",
          "data": {
            "text/plain": [
              "<Figure size 640x480 with 1 Axes>"
            ],
            "image/png": "[encoded data removed]"
          },
          "metadata": {}
        }
      ]
    },
    {
      "cell_type": "code",
      "source": [
        "# Price standard deviation by Airline\n",
        "plane[\"airline_price_st_dev\"] = plane.groupby(\"Airline\")[\"Price\"].transform(lambda x: x.std())\n",
        "\n",
        "print(plane[[\"Airline\", \"airline_price_st_dev\"]].value_counts())"
      ],
      "metadata": {
        "colab": {
          "base_uri": "https://localhost:8080/"
        },
        "id": "zvjNYYL4We9s",
        "outputId": "bbd11c5c-9edf-4575-f94a-edeb2f1b5d5d"
      },
      "execution_count": 51,
      "outputs": [
        {
          "output_type": "stream",
          "name": "stdout",
          "text": [
            "Airline            airline_price_st_dev\n",
            "Jet Airways        4159.846432             3082\n",
            "IndiGo             2245.529140             1632\n",
            "Air India          3692.609285             1399\n",
            "Multiple carriers  3558.323763              959\n",
            "SpiceJet           1798.900648              653\n",
            "Vistara            2888.915498              376\n",
            "Air Asia           1979.826234              260\n",
            "GoAir              2764.926625              147\n",
            "Name: count, dtype: int64\n"
          ]
        }
      ]
    },
    {
      "cell_type": "code",
      "source": [
        "# Median Duration by Airline\n",
        "plane[\"airline_median_duration\"] = plane.groupby(\"Airline\")[\"Price\"].transform(lambda x: x.median())\n",
        "\n",
        "print(plane[[\"Airline\",\"airline_median_duration\"]].value_counts())"
      ],
      "metadata": {
        "colab": {
          "base_uri": "https://localhost:8080/"
        },
        "id": "zC9PPRzeXdn5",
        "outputId": "f53777a6-384a-43ba-9720-2ad9dddd6a66"
      },
      "execution_count": 52,
      "outputs": [
        {
          "output_type": "stream",
          "name": "stdout",
          "text": [
            "Airline            airline_median_duration\n",
            "Jet Airways        11507.0                    3082\n",
            "IndiGo             5054.0                     1632\n",
            "Air India          9443.0                     1399\n",
            "Multiple carriers  10197.0                     959\n",
            "SpiceJet           3873.0                      653\n",
            "Vistara            8028.0                      376\n",
            "Air Asia           5192.0                      260\n",
            "GoAir              5003.5                      147\n",
            "Name: count, dtype: int64\n"
          ]
        }
      ]
    },
    {
      "cell_type": "code",
      "source": [
        "# Mean Price by Destination\n",
        "plane[\"price_destination_mean\"] = plane.groupby(\"Destination\")[\"Price\"].transform(lambda x: x.mean())\n",
        "\n",
        "print(plane[[\"Destination\",\"price_destination_mean\"]].value_counts())"
      ],
      "metadata": {
        "colab": {
          "base_uri": "https://localhost:8080/"
        },
        "id": "Xtxhruh_Xwjg",
        "outputId": "30cb911b-bce3-46e1-aba0-4295240b8f1f"
      },
      "execution_count": 53,
      "outputs": [
        {
          "output_type": "stream",
          "name": "stdout",
          "text": [
            "Destination  price_destination_mean\n",
            "Cochin       10473.585927              3631\n",
            "Banglore     9093.622872               2291\n",
            "Delhi        5248.541082                998\n",
            "New Delhi    11579.306944               720\n",
            "Hyderabad    5190.274021                562\n",
            "Kolkata      4907.156863                306\n",
            "Name: count, dtype: int64\n"
          ]
        }
      ]
    },
    {
      "cell_type": "markdown",
      "source": [
        "#headliner"
      ],
      "metadata": {
        "id": "LRoW4FNiYDST"
      }
    },
    {
      "cell_type": "code",
      "source": [
        "print(plane[\"Price\"].describe())"
      ],
      "metadata": {
        "colab": {
          "base_uri": "https://localhost:8080/"
        },
        "id": "HYMd92klX_pB",
        "outputId": "0d16ce6b-1987-426a-a465-87240fcf7795"
      },
      "execution_count": 54,
      "outputs": [
        {
          "output_type": "stream",
          "name": "stdout",
          "text": [
            "count     8508.000000\n",
            "mean      9033.468441\n",
            "std       4366.382574\n",
            "min       1759.000000\n",
            "25%       5228.000000\n",
            "50%       8452.000000\n",
            "75%      12242.000000\n",
            "max      54826.000000\n",
            "Name: Price, dtype: float64\n"
          ]
        }
      ]
    },
    {
      "cell_type": "code",
      "source": [
        "sns.boxplot(data=plane, x=\"Price\")\n",
        "plt.show()"
      ],
      "metadata": {
        "colab": {
          "base_uri": "https://localhost:8080/",
          "height": 449
        },
        "id": "sIWCTAuVYLs1",
        "outputId": "4b5b3c7a-fa29-437b-dd2e-dd341a15a7b9"
      },
      "execution_count": 55,
      "outputs": [
        {
          "output_type": "display_data",
          "data": {
            "text/plain": [
              "<Figure size 640x480 with 1 Axes>"
            ],
            "image/png": "[encoded data removed]"
          },
          "metadata": {}
        }
      ]
    },
    {
      "cell_type": "code",
      "source": [
        "#75th percentile\n",
        "price_seventy_fifth = plane[\"Price\"].quantile(0.75)\n",
        "\n",
        "#75th percentile\n",
        "price_twenty_fifth = plane[\"Price\"].quantile(0.25)"
      ],
      "metadata": {
        "id": "cCuT3HU7YTe7"
      },
      "execution_count": 67,
      "outputs": []
    },
    {
      "cell_type": "code",
      "source": [
        "# Calculate iqr\n",
        "prices_iqr = price_seventy_fifth - price_twenty_fifth"
      ],
      "metadata": {
        "id": "aAYKcif2Loyw"
      },
      "execution_count": 68,
      "outputs": []
    },
    {
      "cell_type": "code",
      "source": [
        "# Calculate the thresholds\n",
        "upper = price_seventy_fifth + (1.5 * prices_iqr)\n",
        "lower = price_twenty_fifth - (1.5 * prices_iqr)\n",
        "\n",
        "print(upper)\n",
        "print(lower)"
      ],
      "metadata": {
        "colab": {
          "base_uri": "https://localhost:8080/"
        },
        "id": "EAIeMOGNMB7m",
        "outputId": "c0a27469-3a30-4073-b370-0aead94da757"
      },
      "execution_count": 70,
      "outputs": [
        {
          "output_type": "stream",
          "name": "stdout",
          "text": [
            "22763.0\n",
            "-5293.0\n"
          ]
        }
      ]
    },
    {
      "cell_type": "code",
      "source": [
        "# Subset the data\n",
        "planes = plane[(plane[\"Price\"] > lower) & (plane[\"Price\"] < upper)]\n",
        "\n",
        "print(plane[\"Price\"].describe())"
      ],
      "metadata": {
        "id": "C_2gwT7PYzBt",
        "colab": {
          "base_uri": "https://localhost:8080/"
        },
        "outputId": "075b0a3d-c022-46d7-8050-eaf91832e1e0"
      },
      "execution_count": 71,
      "outputs": [
        {
          "output_type": "stream",
          "name": "stdout",
          "text": [
            "count     8508.000000\n",
            "mean      9033.468441\n",
            "std       4366.382574\n",
            "min       1759.000000\n",
            "25%       5228.000000\n",
            "50%       8452.000000\n",
            "75%      12242.000000\n",
            "max      54826.000000\n",
            "Name: Price, dtype: float64\n"
          ]
        }
      ]
    },
    {
      "cell_type": "markdown",
      "source": [
        "#outliners exe\n"
      ],
      "metadata": {
        "id": "-vVHJVf9Ktha"
      }
    },
    {
      "cell_type": "code",
      "source": [
        "# Plot a histogram of flight prices\n",
        "sns.histplot(data=plane, x=\"Price\")\n",
        "plt.show()"
      ],
      "metadata": {
        "colab": {
          "base_uri": "https://localhost:8080/",
          "height": 449
        },
        "id": "mIL-_tG7KGop",
        "outputId": "2ee05700-e8c2-4ae3-d591-8b41174331d5"
      },
      "execution_count": 62,
      "outputs": [
        {
          "output_type": "display_data",
          "data": {
            "text/plain": [
              "<Figure size 640x480 with 1 Axes>"
            ],
            "image/png": "[encoded data removed]"
          },
          "metadata": {}
        }
      ]
    },
    {
      "cell_type": "code",
      "source": [
        "# Display descriptive statistics for flight duration\n",
        "print(plane.describe())"
      ],
      "metadata": {
        "colab": {
          "base_uri": "https://localhost:8080/"
        },
        "id": "VkeIPA7yKrJ5",
        "outputId": "0b7daacf-18b6-45a0-829d-99a8defd22cb"
      },
      "execution_count": 63,
      "outputs": [
        {
          "output_type": "stream",
          "name": "stdout",
          "text": [
            "              Price  airline_price_st_dev  airline_median_duration  \\\n",
            "count   8508.000000           8508.000000              8508.000000   \n",
            "mean    9033.468441           3319.917316              8737.119593   \n",
            "std     4366.382574            867.344960              2857.887664   \n",
            "min     1759.000000           1798.900648              3873.000000   \n",
            "25%     5228.000000           2245.529140              5054.000000   \n",
            "50%     8452.000000           3692.609285              9443.000000   \n",
            "75%    12242.000000           4159.846432             11507.000000   \n",
            "max    54826.000000           4159.846432             11507.000000   \n",
            "\n",
            "       price_destination_mean  \n",
            "count             8508.000000  \n",
            "mean              9033.468441  \n",
            "std               2168.770430  \n",
            "min               4907.156863  \n",
            "25%               9093.622872  \n",
            "50%              10473.585927  \n",
            "75%              10473.585927  \n",
            "max              11579.306944  \n"
          ]
        }
      ]
    },
    {
      "cell_type": "code",
      "source": [
        "# Display descriptive statistics for flight duration\n",
        "print(plane[\"Duration\"].describe())"
      ],
      "metadata": {
        "colab": {
          "base_uri": "https://localhost:8080/"
        },
        "id": "JyygHEvRLDDm",
        "outputId": "7bb0cf46-d71c-4f5b-b808-1c82e6af42bf"
      },
      "execution_count": 64,
      "outputs": [
        {
          "output_type": "stream",
          "name": "stdout",
          "text": [
            "count      8508\n",
            "unique      362\n",
            "top       2 50m\n",
            "freq        425\n",
            "Name: Duration, dtype: object\n"
          ]
        }
      ]
    },
    {
      "cell_type": "code",
      "source": [],
      "metadata": {
        "id": "LM3eq9nFLMHs"
      },
      "execution_count": null,
      "outputs": []
    }
  ]
}