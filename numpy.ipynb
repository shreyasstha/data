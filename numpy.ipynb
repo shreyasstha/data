{
  "nbformat": 4,
  "nbformat_minor": 0,
  "metadata": {
    "colab": {
      "provenance": [],
      "toc_visible": true,
      "authorship_tag": "ABX9TyMbZ+r7siDClCoGiHCo6LRz",
      "include_colab_link": true
    },
    "kernelspec": {
      "name": "python3",
      "display_name": "Python 3"
    },
    "language_info": {
      "name": "python"
    }
  },
  "cells": [
    {
      "cell_type": "markdown",
      "metadata": {
        "id": "view-in-github",
        "colab_type": "text"
      },
      "source": [
        "<a href=\"https://colab.research.google.com/github/shreyasstha/data/blob/main/numpy.ipynb\" target=\"_parent\"><img src=\"https://colab.research.google.com/assets/colab-badge.svg\" alt=\"Open In Colab\"/></a>"
      ]
    },
    {
      "cell_type": "markdown",
      "source": [
        "#NumPy"
      ],
      "metadata": {
        "id": "KcnkopIk7uRG"
      }
    },
    {
      "cell_type": "code",
      "execution_count": null,
      "metadata": {
        "colab": {
          "base_uri": "https://localhost:8080/"
        },
        "id": "6WRpLcau6ncX",
        "outputId": "af99f39f-cd30-4708-e623-3472ca408bcc"
      },
      "outputs": [
        {
          "output_type": "stream",
          "name": "stdout",
          "text": [
            "[1 2 3 4]\n",
            "[[1 2]\n",
            " [3 4]]\n"
          ]
        }
      ],
      "source": [
        "import numpy as np\n",
        "arr = np.array([1, 2, 3, 4])\n",
        "mat = np.array([[1,2], [3,4]])\n",
        "print(arr)\n",
        "print(mat)"
      ]
    },
    {
      "cell_type": "code",
      "source": [
        "print(arr.shape)      # (4,) → 1D with 4 elements\n",
        "print(mat.shape)      # (2, 2)\n",
        "print(arr.dtype)"
      ],
      "metadata": {
        "colab": {
          "base_uri": "https://localhost:8080/"
        },
        "id": "dbQJa2mh6p73",
        "outputId": "2b2ff926-f0d0-47dc-dfb5-78845d0cf4c5"
      },
      "execution_count": null,
      "outputs": [
        {
          "output_type": "stream",
          "name": "stdout",
          "text": [
            "(4,)\n",
            "(2, 2)\n",
            "int64\n"
          ]
        }
      ]
    },
    {
      "cell_type": "code",
      "source": [
        "np.zeros((2,3))"
      ],
      "metadata": {
        "colab": {
          "base_uri": "https://localhost:8080/"
        },
        "id": "sVdPBF057tG1",
        "outputId": "95f1a081-f380-40c7-8e6c-dcb5cb12ec07"
      },
      "execution_count": null,
      "outputs": [
        {
          "output_type": "execute_result",
          "data": {
            "text/plain": [
              "array([[0., 0., 0.],\n",
              "       [0., 0., 0.]])"
            ]
          },
          "metadata": {},
          "execution_count": 7
        }
      ]
    },
    {
      "cell_type": "code",
      "source": [
        "np.ones((2,2))"
      ],
      "metadata": {
        "colab": {
          "base_uri": "https://localhost:8080/"
        },
        "id": "qaFVGIcz732D",
        "outputId": "6c6b85e2-87f9-4fa9-d366-82fdff7fd329"
      },
      "execution_count": null,
      "outputs": [
        {
          "output_type": "execute_result",
          "data": {
            "text/plain": [
              "array([[1., 1.],\n",
              "       [1., 1.]])"
            ]
          },
          "metadata": {},
          "execution_count": 8
        }
      ]
    },
    {
      "cell_type": "markdown",
      "source": [],
      "metadata": {
        "id": "H39C8Mz27sny"
      }
    },
    {
      "cell_type": "code",
      "source": [
        "np.eye(3)"
      ],
      "metadata": {
        "colab": {
          "base_uri": "https://localhost:8080/"
        },
        "id": "6R4Y5FnV7_6T",
        "outputId": "a2e70f8a-f11d-4513-cc1f-e044c528a366"
      },
      "execution_count": null,
      "outputs": [
        {
          "output_type": "execute_result",
          "data": {
            "text/plain": [
              "array([[1., 0., 0.],\n",
              "       [0., 1., 0.],\n",
              "       [0., 0., 1.]])"
            ]
          },
          "metadata": {},
          "execution_count": 9
        }
      ]
    },
    {
      "cell_type": "code",
      "source": [
        "np.arange(0,10,2)\n"
      ],
      "metadata": {
        "colab": {
          "base_uri": "https://localhost:8080/"
        },
        "id": "mvcHF9XB8Crw",
        "outputId": "63886bb3-c3a4-4e9e-98ea-31f6691a01b2"
      },
      "execution_count": null,
      "outputs": [
        {
          "output_type": "execute_result",
          "data": {
            "text/plain": [
              "array([0, 2, 4, 6, 8])"
            ]
          },
          "metadata": {},
          "execution_count": 14
        }
      ]
    },
    {
      "cell_type": "code",
      "source": [
        "np.linspace(0,1,5)"
      ],
      "metadata": {
        "colab": {
          "base_uri": "https://localhost:8080/"
        },
        "id": "lkLBbzqe8Kph",
        "outputId": "93580a82-5c61-4119-c658-c00e2a22810b"
      },
      "execution_count": null,
      "outputs": [
        {
          "output_type": "execute_result",
          "data": {
            "text/plain": [
              "array([0.  , 0.25, 0.5 , 0.75, 1.  ])"
            ]
          },
          "metadata": {},
          "execution_count": 13
        }
      ]
    },
    {
      "cell_type": "code",
      "source": [
        "a=np.array([10,20,30,40,50,60,70])\n",
        "print(a[0])\n",
        "print(a[-2])"
      ],
      "metadata": {
        "colab": {
          "base_uri": "https://localhost:8080/"
        },
        "id": "5PSQLlrF8ZC9",
        "outputId": "af892e22-c0b9-4f3e-d878-d2f94a0b7168"
      },
      "execution_count": null,
      "outputs": [
        {
          "output_type": "stream",
          "name": "stdout",
          "text": [
            "10\n",
            "30\n"
          ]
        }
      ]
    },
    {
      "cell_type": "code",
      "source": [
        "print(a[2]+a[3])"
      ],
      "metadata": {
        "colab": {
          "base_uri": "https://localhost:8080/"
        },
        "id": "0vFMswEMTsb4",
        "outputId": "7645f46c-53f8-45b1-a0c4-0c9b9f3e9245"
      },
      "execution_count": null,
      "outputs": [
        {
          "output_type": "stream",
          "name": "stdout",
          "text": [
            "70\n"
          ]
        }
      ]
    },
    {
      "cell_type": "code",
      "source": [
        "#slicing\n",
        "print(a[1:3])\n",
        "print(a[1:])\n",
        "print(a[:1])\n",
        "print(a[::2])\n",
        "print(a[1:6:2])\n"
      ],
      "metadata": {
        "colab": {
          "base_uri": "https://localhost:8080/"
        },
        "id": "_HXKxRqHT0LL",
        "outputId": "f47dcc2c-24ad-4374-dea9-78f079cf0d97"
      },
      "execution_count": null,
      "outputs": [
        {
          "output_type": "stream",
          "name": "stdout",
          "text": [
            "[20 30]\n",
            "[20 30 40]\n",
            "[10]\n",
            "[10 30]\n",
            "[20 40]\n"
          ]
        }
      ]
    },
    {
      "cell_type": "code",
      "source": [
        "#for 2D\n",
        "arr = np.array([[1, 2, 3, 4, 5], [6, 7, 8, 9, 10]])\n",
        "print(arr[0,1])\n",
        "print(arr[1,3])"
      ],
      "metadata": {
        "colab": {
          "base_uri": "https://localhost:8080/"
        },
        "id": "nqrjabPqT6ak",
        "outputId": "8d3890c5-9493-47f7-e0ba-683badc41ac2"
      },
      "execution_count": null,
      "outputs": [
        {
          "output_type": "stream",
          "name": "stdout",
          "text": [
            "2\n",
            "9\n"
          ]
        }
      ]
    },
    {
      "cell_type": "code",
      "source": [
        "print(arr[1, 1:3])\n",
        "print(arr[0, 2:])\n",
        "print(arr[0, 1:4:2])"
      ],
      "metadata": {
        "colab": {
          "base_uri": "https://localhost:8080/"
        },
        "id": "_EYSk_22UvHM",
        "outputId": "38776716-08bf-434b-90e1-0774248cbdf0"
      },
      "execution_count": null,
      "outputs": [
        {
          "output_type": "stream",
          "name": "stdout",
          "text": [
            "[7 8]\n",
            "[3 4 5]\n",
            "[2 4]\n"
          ]
        }
      ]
    },
    {
      "cell_type": "code",
      "source": [
        "#shape and reshape\n",
        "arr=np.array([0,1,2,3,4,5])\n",
        "newarr=arr.reshape(2,3)\n",
        "print(newarr)"
      ],
      "metadata": {
        "colab": {
          "base_uri": "https://localhost:8080/"
        },
        "id": "N-ipUh0wUzsq",
        "outputId": "7d998785-fab3-4686-ef0c-e2d88f27ddaf"
      },
      "execution_count": null,
      "outputs": [
        {
          "output_type": "stream",
          "name": "stdout",
          "text": [
            "[[0 1 2]\n",
            " [3 4 5]]\n"
          ]
        }
      ]
    },
    {
      "cell_type": "code",
      "source": [
        "a=np.arange(6)\n",
        "a=a.reshape(2,3)\n",
        "print(a)"
      ],
      "metadata": {
        "colab": {
          "base_uri": "https://localhost:8080/"
        },
        "id": "A_RIXSzzZzeP",
        "outputId": "d564c785-6a7a-4869-e423-719c39f9f5a1"
      },
      "execution_count": null,
      "outputs": [
        {
          "output_type": "stream",
          "name": "stdout",
          "text": [
            "[[0 1 2]\n",
            " [3 4 5]]\n"
          ]
        }
      ]
    },
    {
      "cell_type": "code",
      "source": [
        "arr = np.array([[1, 2, 3, 4, 5], [6, 7, 8, 9, 10]])\n",
        "print(arr.shape)\n",
        "newarr=arr.reshape(-1)\n",
        "print(newarr)"
      ],
      "metadata": {
        "colab": {
          "base_uri": "https://localhost:8080/"
        },
        "id": "NAdpJPqEaeZH",
        "outputId": "0922d219-d5ee-45ee-f7da-6808955e7af0"
      },
      "execution_count": null,
      "outputs": [
        {
          "output_type": "stream",
          "name": "stdout",
          "text": [
            "(2, 5)\n",
            "[ 1  2  3  4  5  6  7  8  9 10]\n"
          ]
        }
      ]
    },
    {
      "cell_type": "code",
      "source": [
        "#sort\n",
        "arr=np.array([3,6,1,8,0,2,5,7,4])\n",
        "print(np.sort(arr))"
      ],
      "metadata": {
        "colab": {
          "base_uri": "https://localhost:8080/"
        },
        "id": "h6YRSXGwau0p",
        "outputId": "f79032e5-1b8c-4509-c961-f1d27b7c86b6"
      },
      "execution_count": null,
      "outputs": [
        {
          "output_type": "stream",
          "name": "stdout",
          "text": [
            "[0 1 2 3 4 5 6 7 8]\n"
          ]
        }
      ]
    },
    {
      "cell_type": "code",
      "source": [
        "#adding=join\n",
        "a=np.array([0,1,2])\n",
        "b=np.array([3,4,5])\n",
        "arr=np.concatenate((a,b))\n",
        "print(arr)"
      ],
      "metadata": {
        "colab": {
          "base_uri": "https://localhost:8080/"
        },
        "id": "R6gpoiGVa6UX",
        "outputId": "15ddf1d9-87c5-4a00-e2a9-93eba400b80a"
      },
      "execution_count": null,
      "outputs": [
        {
          "output_type": "stream",
          "name": "stdout",
          "text": [
            "[0 1 2 3 4 5]\n"
          ]
        }
      ]
    },
    {
      "cell_type": "code",
      "source": [
        "arr1=np.hstack((a,b))  #horizontal/row\n",
        "arr2=np.vstack((a,b))  #vertical\n",
        "arr3=np.dstack((a,b))  #along height\n",
        "print(arr1)\n",
        "print(arr2)\n",
        "print(arr3)"
      ],
      "metadata": {
        "colab": {
          "base_uri": "https://localhost:8080/"
        },
        "id": "MQyaVfuhcKou",
        "outputId": "cf7f8b2d-47aa-488c-fce3-f65a587228f6"
      },
      "execution_count": null,
      "outputs": [
        {
          "output_type": "stream",
          "name": "stdout",
          "text": [
            "[0 1 2 3 4 5]\n",
            "[[0 1 2]\n",
            " [3 4 5]]\n",
            "[[[0 3]\n",
            "  [1 4]\n",
            "  [2 5]]]\n"
          ]
        }
      ]
    },
    {
      "cell_type": "markdown",
      "source": [
        "data type\n"
      ],
      "metadata": {
        "id": "eZdCE2SSdsHt"
      }
    },
    {
      "cell_type": "code",
      "source": [
        "arr = np.array([1.1, 2.1, 3.1])\n",
        "newarr = arr.astype('i')\n",
        "\n",
        "print(newarr)\n",
        "print(newarr.dtype)\n"
      ],
      "metadata": {
        "colab": {
          "base_uri": "https://localhost:8080/"
        },
        "id": "82aNy9dWcXko",
        "outputId": "3cc388e6-86ec-4fd3-e309-924b69ef47e2"
      },
      "execution_count": null,
      "outputs": [
        {
          "output_type": "stream",
          "name": "stdout",
          "text": [
            "[1 2 3]\n",
            "int32\n"
          ]
        }
      ]
    },
    {
      "cell_type": "code",
      "source": [
        "arr = np.array([1, 0, 3])\n",
        "newarr = arr.astype(bool)\n",
        "\n",
        "print(newarr)\n",
        "print(newarr.dtype)"
      ],
      "metadata": {
        "colab": {
          "base_uri": "https://localhost:8080/"
        },
        "id": "GmSZujP7duJI",
        "outputId": "69de6322-a719-4b0c-9cec-95aa3b673b7e"
      },
      "execution_count": null,
      "outputs": [
        {
          "output_type": "stream",
          "name": "stdout",
          "text": [
            "[ True False  True]\n",
            "bool\n"
          ]
        }
      ]
    },
    {
      "cell_type": "code",
      "source": [
        "arr = np.array([1, 2, 3, 4], dtype='S')\n",
        "print(arr)"
      ],
      "metadata": {
        "colab": {
          "base_uri": "https://localhost:8080/"
        },
        "id": "cwzV0_VKeaTb",
        "outputId": "21700ee4-6217-447d-82bb-02fef4d192e4"
      },
      "execution_count": null,
      "outputs": [
        {
          "output_type": "stream",
          "name": "stdout",
          "text": [
            "[b'1' b'2' b'3' b'4']\n"
          ]
        }
      ]
    },
    {
      "cell_type": "code",
      "source": [],
      "metadata": {
        "id": "74wg_xopecXH"
      },
      "execution_count": null,
      "outputs": []
    }
  ]
}