{
  "nbformat": 4,
  "nbformat_minor": 0,
  "metadata": {
    "colab": {
      "provenance": [],
      "toc_visible": true,
      "authorship_tag": "ABX9TyMzlo5Gns67QSeNoxIW/0ae",
      "include_colab_link": true
    },
    "kernelspec": {
      "name": "python3",
      "display_name": "Python 3"
    },
    "language_info": {
      "name": "python"
    }
  },
  "cells": [
    {
      "cell_type": "markdown",
      "metadata": {
        "id": "view-in-github",
        "colab_type": "text"
      },
      "source": [
        "<a href=\"https://colab.research.google.com/github/shreyasstha/data/blob/main/numpy.ipynb\" target=\"_parent\"><img src=\"https://colab.research.google.com/assets/colab-badge.svg\" alt=\"Open In Colab\"/></a>"
      ]
    },
    {
      "cell_type": "markdown",
      "source": [
        "#NumPy"
      ],
      "metadata": {
        "id": "KcnkopIk7uRG"
      }
    },
    {
      "cell_type": "code",
      "execution_count": null,
      "metadata": {
        "colab": {
          "base_uri": "https://localhost:8080/"
        },
        "id": "6WRpLcau6ncX",
        "outputId": "9b9b9ad4-0add-4a69-fbbc-dcd5030a156a"
      },
      "outputs": [
        {
          "output_type": "stream",
          "name": "stdout",
          "text": [
            "[1 2 3 4]\n",
            "[[1 2]\n",
            " [3 4]]\n"
          ]
        }
      ],
      "source": [
        "import numpy as np\n",
        "arr = np.array([1, 2, 3, 4])\n",
        "mat = np.array([[1,2], [3,4]])\n",
        "print(arr)\n",
        "print(mat)"
      ]
    },
    {
      "cell_type": "code",
      "source": [
        "print(arr.shape)      # (4,) → 1D with 4 elements\n",
        "print(mat.shape)      # (2, 2)\n",
        "print(arr.dtype)"
      ],
      "metadata": {
        "colab": {
          "base_uri": "https://localhost:8080/"
        },
        "id": "dbQJa2mh6p73",
        "outputId": "2b2ff926-f0d0-47dc-dfb5-78845d0cf4c5"
      },
      "execution_count": null,
      "outputs": [
        {
          "output_type": "stream",
          "name": "stdout",
          "text": [
            "(4,)\n",
            "(2, 2)\n",
            "int64\n"
          ]
        }
      ]
    },
    {
      "cell_type": "code",
      "source": [
        "np.zeros((2,3))"
      ],
      "metadata": {
        "colab": {
          "base_uri": "https://localhost:8080/"
        },
        "id": "sVdPBF057tG1",
        "outputId": "95f1a081-f380-40c7-8e6c-dcb5cb12ec07"
      },
      "execution_count": null,
      "outputs": [
        {
          "output_type": "execute_result",
          "data": {
            "text/plain": [
              "array([[0., 0., 0.],\n",
              "       [0., 0., 0.]])"
            ]
          },
          "metadata": {},
          "execution_count": 7
        }
      ]
    },
    {
      "cell_type": "code",
      "source": [
        "np.ones((2,2))"
      ],
      "metadata": {
        "colab": {
          "base_uri": "https://localhost:8080/"
        },
        "id": "qaFVGIcz732D",
        "outputId": "6c6b85e2-87f9-4fa9-d366-82fdff7fd329"
      },
      "execution_count": null,
      "outputs": [
        {
          "output_type": "execute_result",
          "data": {
            "text/plain": [
              "array([[1., 1.],\n",
              "       [1., 1.]])"
            ]
          },
          "metadata": {},
          "execution_count": 8
        }
      ]
    },
    {
      "cell_type": "markdown",
      "source": [],
      "metadata": {
        "id": "H39C8Mz27sny"
      }
    },
    {
      "cell_type": "code",
      "source": [
        "np.eye(3)"
      ],
      "metadata": {
        "colab": {
          "base_uri": "https://localhost:8080/"
        },
        "id": "6R4Y5FnV7_6T",
        "outputId": "a2e70f8a-f11d-4513-cc1f-e044c528a366"
      },
      "execution_count": null,
      "outputs": [
        {
          "output_type": "execute_result",
          "data": {
            "text/plain": [
              "array([[1., 0., 0.],\n",
              "       [0., 1., 0.],\n",
              "       [0., 0., 1.]])"
            ]
          },
          "metadata": {},
          "execution_count": 9
        }
      ]
    },
    {
      "cell_type": "code",
      "source": [
        "np.arange(0,10,2)\n"
      ],
      "metadata": {
        "colab": {
          "base_uri": "https://localhost:8080/"
        },
        "id": "mvcHF9XB8Crw",
        "outputId": "63886bb3-c3a4-4e9e-98ea-31f6691a01b2"
      },
      "execution_count": null,
      "outputs": [
        {
          "output_type": "execute_result",
          "data": {
            "text/plain": [
              "array([0, 2, 4, 6, 8])"
            ]
          },
          "metadata": {},
          "execution_count": 14
        }
      ]
    },
    {
      "cell_type": "code",
      "source": [
        "np.linspace(0,1,5)"
      ],
      "metadata": {
        "colab": {
          "base_uri": "https://localhost:8080/"
        },
        "id": "lkLBbzqe8Kph",
        "outputId": "93580a82-5c61-4119-c658-c00e2a22810b"
      },
      "execution_count": null,
      "outputs": [
        {
          "output_type": "execute_result",
          "data": {
            "text/plain": [
              "array([0.  , 0.25, 0.5 , 0.75, 1.  ])"
            ]
          },
          "metadata": {},
          "execution_count": 13
        }
      ]
    },
    {
      "cell_type": "code",
      "source": [
        "a=np.array([10,20,30,40,50,60,70])\n",
        "print(a[0])\n",
        "print(a[-2])"
      ],
      "metadata": {
        "colab": {
          "base_uri": "https://localhost:8080/"
        },
        "id": "5PSQLlrF8ZC9",
        "outputId": "af892e22-c0b9-4f3e-d878-d2f94a0b7168"
      },
      "execution_count": null,
      "outputs": [
        {
          "output_type": "stream",
          "name": "stdout",
          "text": [
            "10\n",
            "30\n"
          ]
        }
      ]
    },
    {
      "cell_type": "code",
      "source": [
        "print(a[2]+a[3])"
      ],
      "metadata": {
        "colab": {
          "base_uri": "https://localhost:8080/"
        },
        "id": "0vFMswEMTsb4",
        "outputId": "7645f46c-53f8-45b1-a0c4-0c9b9f3e9245"
      },
      "execution_count": null,
      "outputs": [
        {
          "output_type": "stream",
          "name": "stdout",
          "text": [
            "70\n"
          ]
        }
      ]
    },
    {
      "cell_type": "code",
      "source": [
        "#slicing\n",
        "print(a[1:3])\n",
        "print(a[1:])\n",
        "print(a[:1])\n",
        "print(a[::2])\n",
        "print(a[1:6:2])\n"
      ],
      "metadata": {
        "colab": {
          "base_uri": "https://localhost:8080/"
        },
        "id": "_HXKxRqHT0LL",
        "outputId": "f47dcc2c-24ad-4374-dea9-78f079cf0d97"
      },
      "execution_count": null,
      "outputs": [
        {
          "output_type": "stream",
          "name": "stdout",
          "text": [
            "[20 30]\n",
            "[20 30 40]\n",
            "[10]\n",
            "[10 30]\n",
            "[20 40]\n"
          ]
        }
      ]
    },
    {
      "cell_type": "code",
      "source": [
        "#for 2D\n",
        "arr = np.array([[1, 2, 3, 4, 5], [6, 7, 8, 9, 10]])\n",
        "print(arr[0,1])\n",
        "print(arr[1,3])"
      ],
      "metadata": {
        "colab": {
          "base_uri": "https://localhost:8080/"
        },
        "id": "nqrjabPqT6ak",
        "outputId": "8d3890c5-9493-47f7-e0ba-683badc41ac2"
      },
      "execution_count": null,
      "outputs": [
        {
          "output_type": "stream",
          "name": "stdout",
          "text": [
            "2\n",
            "9\n"
          ]
        }
      ]
    },
    {
      "cell_type": "code",
      "source": [
        "print(arr[1, 1:3])\n",
        "print(arr[0, 2:])\n",
        "print(arr[0, 1:4:2])"
      ],
      "metadata": {
        "colab": {
          "base_uri": "https://localhost:8080/"
        },
        "id": "_EYSk_22UvHM",
        "outputId": "38776716-08bf-434b-90e1-0774248cbdf0"
      },
      "execution_count": null,
      "outputs": [
        {
          "output_type": "stream",
          "name": "stdout",
          "text": [
            "[7 8]\n",
            "[3 4 5]\n",
            "[2 4]\n"
          ]
        }
      ]
    },
    {
      "cell_type": "code",
      "source": [
        "#shape and reshape\n",
        "arr=np.array([0,1,2,3,4,5])\n",
        "newarr=arr.reshape(2,3)\n",
        "print(newarr)"
      ],
      "metadata": {
        "colab": {
          "base_uri": "https://localhost:8080/"
        },
        "id": "N-ipUh0wUzsq",
        "outputId": "7d998785-fab3-4686-ef0c-e2d88f27ddaf"
      },
      "execution_count": null,
      "outputs": [
        {
          "output_type": "stream",
          "name": "stdout",
          "text": [
            "[[0 1 2]\n",
            " [3 4 5]]\n"
          ]
        }
      ]
    },
    {
      "cell_type": "code",
      "source": [
        "a=np.arange(6)\n",
        "a=a.reshape(2,3)\n",
        "print(a)"
      ],
      "metadata": {
        "colab": {
          "base_uri": "https://localhost:8080/"
        },
        "id": "A_RIXSzzZzeP",
        "outputId": "d564c785-6a7a-4869-e423-719c39f9f5a1"
      },
      "execution_count": null,
      "outputs": [
        {
          "output_type": "stream",
          "name": "stdout",
          "text": [
            "[[0 1 2]\n",
            " [3 4 5]]\n"
          ]
        }
      ]
    },
    {
      "cell_type": "code",
      "source": [
        "arr = np.array([[1, 2, 3, 4, 5], [6, 7, 8, 9, 10]])\n",
        "print(arr.shape)\n",
        "newarr=arr.reshape(-1)\n",
        "print(newarr)"
      ],
      "metadata": {
        "colab": {
          "base_uri": "https://localhost:8080/"
        },
        "id": "NAdpJPqEaeZH",
        "outputId": "0922d219-d5ee-45ee-f7da-6808955e7af0"
      },
      "execution_count": null,
      "outputs": [
        {
          "output_type": "stream",
          "name": "stdout",
          "text": [
            "(2, 5)\n",
            "[ 1  2  3  4  5  6  7  8  9 10]\n"
          ]
        }
      ]
    },
    {
      "cell_type": "code",
      "source": [
        "#sort\n",
        "arr=np.array([3,6,1,8,0,2,5,7,4])\n",
        "print(np.sort(arr))"
      ],
      "metadata": {
        "colab": {
          "base_uri": "https://localhost:8080/"
        },
        "id": "h6YRSXGwau0p",
        "outputId": "f79032e5-1b8c-4509-c961-f1d27b7c86b6"
      },
      "execution_count": null,
      "outputs": [
        {
          "output_type": "stream",
          "name": "stdout",
          "text": [
            "[0 1 2 3 4 5 6 7 8]\n"
          ]
        }
      ]
    },
    {
      "cell_type": "code",
      "source": [
        "#adding=join\n",
        "a=np.array([0,1,2])\n",
        "b=np.array([3,4,5])\n",
        "arr=np.concatenate((a,b))\n",
        "print(arr)"
      ],
      "metadata": {
        "colab": {
          "base_uri": "https://localhost:8080/"
        },
        "id": "R6gpoiGVa6UX",
        "outputId": "15ddf1d9-87c5-4a00-e2a9-93eba400b80a"
      },
      "execution_count": null,
      "outputs": [
        {
          "output_type": "stream",
          "name": "stdout",
          "text": [
            "[0 1 2 3 4 5]\n"
          ]
        }
      ]
    },
    {
      "cell_type": "code",
      "source": [
        "arr1=np.hstack((a,b))  #horizontal/row\n",
        "arr2=np.vstack((a,b))  #vertical\n",
        "arr3=np.dstack((a,b))  #along height\n",
        "print(arr1)\n",
        "print(arr2)\n",
        "print(arr3)"
      ],
      "metadata": {
        "colab": {
          "base_uri": "https://localhost:8080/"
        },
        "id": "MQyaVfuhcKou",
        "outputId": "cf7f8b2d-47aa-488c-fce3-f65a587228f6"
      },
      "execution_count": null,
      "outputs": [
        {
          "output_type": "stream",
          "name": "stdout",
          "text": [
            "[0 1 2 3 4 5]\n",
            "[[0 1 2]\n",
            " [3 4 5]]\n",
            "[[[0 3]\n",
            "  [1 4]\n",
            "  [2 5]]]\n"
          ]
        }
      ]
    },
    {
      "cell_type": "markdown",
      "source": [
        "data type\n"
      ],
      "metadata": {
        "id": "eZdCE2SSdsHt"
      }
    },
    {
      "cell_type": "code",
      "source": [
        "arr = np.array([1.1, 2.1, 3.1])\n",
        "newarr = arr.astype('i')\n",
        "\n",
        "print(newarr)\n",
        "print(newarr.dtype)\n"
      ],
      "metadata": {
        "colab": {
          "base_uri": "https://localhost:8080/"
        },
        "id": "82aNy9dWcXko",
        "outputId": "3cc388e6-86ec-4fd3-e309-924b69ef47e2"
      },
      "execution_count": null,
      "outputs": [
        {
          "output_type": "stream",
          "name": "stdout",
          "text": [
            "[1 2 3]\n",
            "int32\n"
          ]
        }
      ]
    },
    {
      "cell_type": "code",
      "source": [
        "arr = np.array([1, 0, 3])\n",
        "newarr = arr.astype(bool)\n",
        "\n",
        "print(newarr)\n",
        "print(newarr.dtype)"
      ],
      "metadata": {
        "colab": {
          "base_uri": "https://localhost:8080/"
        },
        "id": "GmSZujP7duJI",
        "outputId": "69de6322-a719-4b0c-9cec-95aa3b673b7e"
      },
      "execution_count": null,
      "outputs": [
        {
          "output_type": "stream",
          "name": "stdout",
          "text": [
            "[ True False  True]\n",
            "bool\n"
          ]
        }
      ]
    },
    {
      "cell_type": "code",
      "source": [
        "arr = np.array([1, 2, 3, 4], dtype='S')\n",
        "print(arr)"
      ],
      "metadata": {
        "colab": {
          "base_uri": "https://localhost:8080/"
        },
        "id": "cwzV0_VKeaTb",
        "outputId": "21700ee4-6217-447d-82bb-02fef4d192e4"
      },
      "execution_count": null,
      "outputs": [
        {
          "output_type": "stream",
          "name": "stdout",
          "text": [
            "[b'1' b'2' b'3' b'4']\n"
          ]
        }
      ]
    },
    {
      "cell_type": "markdown",
      "source": [
        "##numpy random"
      ],
      "metadata": {
        "id": "9UzuRxsjt50t"
      }
    },
    {
      "cell_type": "code",
      "source": [
        "import numpy as np\n",
        "np.random.rand()"
      ],
      "metadata": {
        "id": "74wg_xopecXH"
      },
      "execution_count": null,
      "outputs": []
    },
    {
      "cell_type": "code",
      "source": [
        "#for random float- array\n",
        "np.random.rand(2,3)"
      ],
      "metadata": {
        "colab": {
          "base_uri": "https://localhost:8080/"
        },
        "id": "vOqtTyL5vQMA",
        "outputId": "85b56600-2711-40c8-8291-f95fb8bbc337"
      },
      "execution_count": null,
      "outputs": [
        {
          "output_type": "execute_result",
          "data": {
            "text/plain": [
              "array([[0.05309127, 0.98257576, 0.38607325],\n",
              "       [0.85528795, 0.70058212, 0.64441921]])"
            ]
          },
          "metadata": {},
          "execution_count": 9
        }
      ]
    },
    {
      "cell_type": "code",
      "source": [
        "#for random interger\n",
        "np.random.randint(1,10)"
      ],
      "metadata": {
        "colab": {
          "base_uri": "https://localhost:8080/"
        },
        "id": "OPBxymhXun0_",
        "outputId": "58d23bb2-c170-4f96-84c3-bab2c28cee0a"
      },
      "execution_count": null,
      "outputs": [
        {
          "output_type": "execute_result",
          "data": {
            "text/plain": [
              "4"
            ]
          },
          "metadata": {},
          "execution_count": 7
        }
      ]
    },
    {
      "cell_type": "code",
      "source": [
        "import numpy as np\n",
        "print(np.random.randint(1,10, size =5))"
      ],
      "metadata": {
        "colab": {
          "base_uri": "https://localhost:8080/"
        },
        "id": "DIq1saDcuyMG",
        "outputId": "3fffdf7f-8893-4c49-c509-8702322a6e9a"
      },
      "execution_count": null,
      "outputs": [
        {
          "output_type": "stream",
          "name": "stdout",
          "text": [
            "[5 5 9 8 2]\n"
          ]
        }
      ]
    },
    {
      "cell_type": "code",
      "source": [
        "# Import numpy and set seed\n",
        "import numpy as np\n",
        "np.random.seed(123)\n",
        "\n",
        "# Use randint() to simulate a dice\n",
        "print(np.random.randint(1,7))\n",
        "# Use randint() again\n",
        "print(np.random.randint(1,7))"
      ],
      "metadata": {
        "colab": {
          "base_uri": "https://localhost:8080/"
        },
        "id": "kKO8VjGeGsga",
        "outputId": "0e3da14f-e813-4f2e-f822-a6142c64824f"
      },
      "execution_count": null,
      "outputs": [
        {
          "output_type": "stream",
          "name": "stdout",
          "text": [
            "6\n",
            "3\n"
          ]
        }
      ]
    },
    {
      "cell_type": "code",
      "source": [
        "# NumPy is imported, seed is set\n",
        "\n",
        "# Initialize random_walk\n",
        "random_walk = [0]\n",
        "for x in range(10) :\n",
        "    # Set step: last element in random_walk\n",
        "    step = random_walk[-1]\n",
        "\n",
        "    # Roll the dice\n",
        "    dice = np.random.randint(1,7)\n",
        "\n",
        "    # Determine next step\n",
        "    if dice <= 2:\n",
        "        step = step - 1\n",
        "    elif dice <= 5:\n",
        "        step = step + 1\n",
        "    else:\n",
        "        step = step + np.random.randint(1,7)\n",
        "\n",
        "    # append next_step to random_walk\n",
        "    random_walk.append(step)\n",
        "\n",
        "# Print random_walk\n",
        "print(random_walk)\n"
      ],
      "metadata": {
        "colab": {
          "base_uri": "https://localhost:8080/"
        },
        "id": "bMvVI5HWLsuQ",
        "outputId": "709b9a94-54d8-4e45-9f58-abcdedaa1cfd"
      },
      "execution_count": null,
      "outputs": [
        {
          "output_type": "stream",
          "name": "stdout",
          "text": [
            "[0, 1, 2, 1, 2, 3, 4, 3, 2, 1, 0]\n"
          ]
        }
      ]
    },
    {
      "cell_type": "code",
      "source": [
        "# NumPy is imported, seed is set\n",
        "\n",
        "# Initialization\n",
        "random_walk = [0]\n",
        "\n",
        "for x in range(10) :\n",
        "    step = random_walk[-1]\n",
        "    dice = np.random.randint(1,7)\n",
        "\n",
        "    if dice <= 2:\n",
        "        step = max(0, step - 1)\n",
        "    elif dice <= 5:\n",
        "        step = step + 1\n",
        "    else:\n",
        "        step = step + np.random.randint(1,7)\n",
        "\n",
        "    random_walk.append(step)\n",
        "\n",
        "# Import matplotlib.pyplot as plt\n",
        "import matplotlib.pyplot as plt\n",
        "\n",
        "# Plot random_walk\n",
        "plt.plot(random_walk)\n",
        "\n",
        "# Show the plot\n",
        "plt.show()"
      ],
      "metadata": {
        "colab": {
          "base_uri": "https://localhost:8080/",
          "height": 430
        },
        "id": "oyReeMGqMTqy",
        "outputId": "6c7fad6b-de90-4ab1-ee83-e4bb11ba2fff"
      },
      "execution_count": null,
      "outputs": [
        {
          "output_type": "display_data",
          "data": {
            "text/plain": [
              "<Figure size 640x480 with 1 Axes>"
            ],
            "image/png": "[encoded data removed]"
          },
          "metadata": {}
        }
      ]
    },
    {
      "cell_type": "code",
      "source": [
        "# NumPy is imported; seed is set\n",
        "\n",
        "# Initialize all_walks (don't change this line)\n",
        "all_walks = []\n",
        "\n",
        "# Simulate random walk five times\n",
        "for i in range(5) :\n",
        "    random_walk = [0] #start from 0\n",
        "    for x in range(5) :\n",
        "        step = random_walk[-1] #last step\n",
        "        dice = np.random.randint(1,7) #dice roll bet 1 to 6\n",
        "\n",
        "        if dice <= 2:\n",
        "            step = max(0, step - 1) # Move 1 step back (but not below 0)\n",
        "        elif dice <= 5:\n",
        "            step = step + 1  #move forward\n",
        "        else:\n",
        "            step = step + np.random.randint(1,7)\n",
        "\n",
        "        random_walk.append(step)  # adds an item to the end of a list\n",
        "\n",
        "    # Append random_walk to all_walks\n",
        "    all_walks.append(random_walk)\n",
        "\n",
        "# Print all_walks\n",
        "print(all_walks)"
      ],
      "metadata": {
        "colab": {
          "base_uri": "https://localhost:8080/"
        },
        "id": "zws_x536ND0P",
        "outputId": "1d878be5-63a0-47c9-dd46-ee5b40a428ae"
      },
      "execution_count": null,
      "outputs": [
        {
          "output_type": "stream",
          "name": "stdout",
          "text": [
            "[[0, 1, 0, 1, 2, 3], [0, 4, 3, 2, 3, 4], [0, 1, 0, 1, 0, 1], [0, 2, 7, 6, 7, 8], [0, 1, 2, 3, 4, 3]]\n"
          ]
        }
      ]
    },
    {
      "cell_type": "code",
      "source": [
        "#random choice\n",
        "import random\n",
        "x = random.choice([10, 20, 30, 40, 50])\n",
        "print(x)"
      ],
      "metadata": {
        "colab": {
          "base_uri": "https://localhost:8080/"
        },
        "id": "MlLP1deRvG9j",
        "outputId": "83965265-75f1-4c22-b70a-9132a1b7c5ab"
      },
      "execution_count": null,
      "outputs": [
        {
          "output_type": "stream",
          "name": "stdout",
          "text": [
            "40\n"
          ]
        }
      ]
    },
    {
      "cell_type": "code",
      "source": [
        "#random distribution\n",
        "from numpy import random\n",
        "x = random.choice([3, 5, 7, 9], p=[0.1, 0.3, 0.6, 0.0], size=(100))\n",
        "print(x)"
      ],
      "metadata": {
        "colab": {
          "base_uri": "https://localhost:8080/"
        },
        "id": "_WQzQ_C9vobB",
        "outputId": "8cca4e8b-2400-4d8e-ee17-8f6026368603"
      },
      "execution_count": null,
      "outputs": [
        {
          "output_type": "stream",
          "name": "stdout",
          "text": [
            "[3 5 7 7 5 5 3 5 5 3 7 7 7 7 7 5 5 7 7 7 5 7 7 5 7 7 5 7 7 7 7 7 7 5 7 5 7\n",
            " 5 5 7 7 5 3 7 7 5 5 7 5 5 7 5 7 7 5 7 7 7 7 7 5 3 7 5 7 7 7 5 5 7 7 5 3 7\n",
            " 7 5 5 5 7 5 7 7 7 7 5 7 7 5 5 7 7 3 5 7 7 7 7 5 5 5]\n"
          ]
        }
      ]
    },
    {
      "cell_type": "code",
      "source": [
        "np.random.choice([10, 20, 30, 40], p=[0.1, 0.3, 0.6, 0.0], size= (2,3))"
      ],
      "metadata": {
        "colab": {
          "base_uri": "https://localhost:8080/"
        },
        "id": "Ni6P99eLwCfb",
        "outputId": "27e6d347-c6b6-4b70-c65a-495cbe211387"
      },
      "execution_count": null,
      "outputs": [
        {
          "output_type": "execute_result",
          "data": {
            "text/plain": [
              "array([[30, 30, 30],\n",
              "       [30, 30, 10]])"
            ]
          },
          "metadata": {},
          "execution_count": 28
        }
      ]
    },
    {
      "cell_type": "code",
      "source": [
        "#shuffle\n",
        "x= np.array([10, 20, 30, 40])\n",
        "random.shuffle(x)\n",
        "print(x)"
      ],
      "metadata": {
        "colab": {
          "base_uri": "https://localhost:8080/"
        },
        "id": "vbWK7WIdx-MC",
        "outputId": "6e063b22-077f-4309-de53-e899e493528c"
      },
      "execution_count": null,
      "outputs": [
        {
          "output_type": "stream",
          "name": "stdout",
          "text": [
            "[30 40 10 20]\n"
          ]
        }
      ]
    },
    {
      "cell_type": "markdown",
      "source": [
        "##seaborn module\n"
      ],
      "metadata": {
        "id": "aCZmjS9_2-l_"
      }
    },
    {
      "cell_type": "code",
      "source": [
        "import matplotlib.pyplot as plt\n",
        "import seaborn as sns\n",
        "\n",
        "sns.displot([0, 1, 2, 3, 4, 5])\n",
        "\n",
        "plt.show()\n"
      ],
      "metadata": {
        "colab": {
          "base_uri": "https://localhost:8080/",
          "height": 506
        },
        "id": "4e9sS4Bdyvk9",
        "outputId": "643b631c-3bf9-46d3-91a1-59699099aaaa"
      },
      "execution_count": null,
      "outputs": [
        {
          "output_type": "display_data",
          "data": {
            "text/plain": [
              "<Figure size 500x500 with 1 Axes>"
            ],
            "image/png": "[encoded data removed]"
          },
          "metadata": {}
        }
      ]
    },
    {
      "cell_type": "code",
      "source": [
        "sns.displot([0,1,2,3,4,5], kind=\"kde\")\n",
        "plt.show()"
      ],
      "metadata": {
        "colab": {
          "base_uri": "https://localhost:8080/",
          "height": 506
        },
        "id": "X1KWpQo01ZAm",
        "outputId": "adc3ed15-8d3e-4aea-eb40-370bff3c6904"
      },
      "execution_count": null,
      "outputs": [
        {
          "output_type": "display_data",
          "data": {
            "text/plain": [
              "<Figure size 500x500 with 1 Axes>"
            ],
            "image/png": "[encoded data removed]"
          },
          "metadata": {}
        }
      ]
    },
    {
      "cell_type": "markdown",
      "source": [
        "#discrete dist"
      ],
      "metadata": {
        "id": "bQRsoZDIOblz"
      }
    },
    {
      "cell_type": "code",
      "source": [
        "min = 0\n",
        "max = 30"
      ],
      "metadata": {
        "id": "ocbm8eRSOemD"
      },
      "execution_count": null,
      "outputs": []
    },
    {
      "cell_type": "code",
      "source": [
        "from scipy.stats import uniform\n",
        "df = uniform.cdf(7,0,30)   #less than 7\n",
        "\n",
        "plt.hist(df)"
      ],
      "metadata": {
        "colab": {
          "base_uri": "https://localhost:8080/",
          "height": 517
        },
        "id": "HhnteYjtOob9",
        "outputId": "d7bb1382-0452-4865-dd53-0325775f8486"
      },
      "execution_count": null,
      "outputs": [
        {
          "output_type": "execute_result",
          "data": {
            "text/plain": [
              "(array([0., 0., 0., 0., 0., 1., 0., 0., 0., 0.]),\n",
              " array([-0.26666667, -0.16666667, -0.06666667,  0.03333333,  0.13333333,\n",
              "         0.23333333,  0.33333333,  0.43333333,  0.53333333,  0.63333333,\n",
              "         0.73333333]),\n",
              " <BarContainer object of 10 artists>)"
            ]
          },
          "metadata": {},
          "execution_count": 9
        },
        {
          "output_type": "display_data",
          "data": {
            "text/plain": [
              "<Figure size 640x480 with 1 Axes>"
            ],
            "image/png": "[encoded data removed]"
          },
          "metadata": {}
        }
      ]
    },
    {
      "cell_type": "code",
      "source": [
        "1 - uniform.cdf(7,0,30) #greater than 7\n",
        "plt.hist(uniform.rvs(0,30,size=50))\n",
        "plt.show()"
      ],
      "metadata": {
        "colab": {
          "base_uri": "https://localhost:8080/",
          "height": 430
        },
        "id": "0c-A9SLdOw0D",
        "outputId": "b2ce7427-94cd-402e-da38-a8461c5ca3a9"
      },
      "execution_count": null,
      "outputs": [
        {
          "output_type": "display_data",
          "data": {
            "text/plain": [
              "<Figure size 640x480 with 1 Axes>"
            ],
            "image/png": "[encoded data removed]"
          },
          "metadata": {}
        }
      ]
    },
    {
      "cell_type": "markdown",
      "source": [
        "##normal distribution\n",
        "\n"
      ],
      "metadata": {
        "id": "C2ADcTWH3Edo"
      }
    },
    {
      "cell_type": "code",
      "source": [
        "from numpy import random\n",
        "x = random.normal(size = (2,3))\n",
        "print(x)"
      ],
      "metadata": {
        "colab": {
          "base_uri": "https://localhost:8080/"
        },
        "id": "fs3YIQ1X12TI",
        "outputId": "b4d5b8c8-04d9-4098-9aee-e5a5610fdd3f"
      },
      "execution_count": null,
      "outputs": [
        {
          "output_type": "stream",
          "name": "stdout",
          "text": [
            "[[-0.03622518 -1.76737834  0.0151323 ]\n",
            " [-1.32401039 -1.03477057 -0.34341569]]\n"
          ]
        }
      ]
    },
    {
      "cell_type": "code",
      "source": [
        "from numpy import random\n",
        "x = random.normal(loc=1, scale=2, size = (2,3))\n",
        "print(x)"
      ],
      "metadata": {
        "colab": {
          "base_uri": "https://localhost:8080/"
        },
        "id": "tKshlGD33Sox",
        "outputId": "fbece468-4e86-4499-9c51-abe6d79bca16"
      },
      "execution_count": null,
      "outputs": [
        {
          "output_type": "stream",
          "name": "stdout",
          "text": [
            "[[1.16813676 0.16190177 3.37314543]\n",
            " [2.77439553 1.3287112  0.83314697]]\n"
          ]
        }
      ]
    },
    {
      "cell_type": "code",
      "source": [
        "import matplotlib.pyplot as plt\n",
        "import seaborn as sns\n",
        "sns.displot(random.normal(size=1000), kind=\"kde\")\n",
        "plt.show()"
      ],
      "metadata": {
        "colab": {
          "base_uri": "https://localhost:8080/",
          "height": 506
        },
        "id": "PLNsBT843h7J",
        "outputId": "e9874bd6-7509-409c-c13c-f5f495ddae45"
      },
      "execution_count": null,
      "outputs": [
        {
          "output_type": "display_data",
          "data": {
            "text/plain": [
              "<Figure size 500x500 with 1 Axes>"
            ],
            "image/png": "[encoded data removed]"
          },
          "metadata": {}
        }
      ]
    },
    {
      "cell_type": "markdown",
      "source": [
        "#also normal dist"
      ],
      "metadata": {
        "id": "f1m6hyc9zXjw"
      }
    },
    {
      "cell_type": "code",
      "source": [
        "from scipy.stats import norm\n",
        "# Probability of deal between 3000 and 7000\n",
        "prob_3000_to_7000 = norm.cdf(7000, 5000, 2000) - norm.cdf(3000, 5000, 2000)\n",
        "\n",
        "print(prob_3000_to_7000)"
      ],
      "metadata": {
        "colab": {
          "base_uri": "https://localhost:8080/"
        },
        "id": "_ruC8ALEzZkv",
        "outputId": "1a4598e0-781e-4f72-cda2-96295b5be783"
      },
      "execution_count": null,
      "outputs": [
        {
          "output_type": "stream",
          "name": "stdout",
          "text": [
            "0.6826894921370859\n"
          ]
        }
      ]
    },
    {
      "cell_type": "code",
      "source": [
        "# Calculate new average amount\n",
        "new_mean = 5000 * 0.20\n",
        "\n",
        "# Calculate new standard deviation\n",
        "new_sd = 2000 * 0.30\n",
        "\n",
        "# Simulate 36 new sales\n",
        "new_sales = norm.rvs(new_mean, new_sd, size=36)\n",
        "\n",
        "import matplotlib.pyplot as plt\n",
        "\n",
        "# Create histogram and show\n",
        "plt.hist(new_sales)\n",
        "plt.show()"
      ],
      "metadata": {
        "colab": {
          "base_uri": "https://localhost:8080/",
          "height": 430
        },
        "id": "GErZw45t0MTw",
        "outputId": "08e5024e-f710-4b0b-f4e5-45f84445ec2a"
      },
      "execution_count": null,
      "outputs": [
        {
          "output_type": "display_data",
          "data": {
            "text/plain": [
              "<Figure size 640x480 with 1 Axes>"
            ],
            "image/png": "[encoded data removed]"
          },
          "metadata": {}
        }
      ]
    },
    {
      "cell_type": "markdown",
      "source": [
        "#central limit theorem"
      ],
      "metadata": {
        "id": "Di_noN1MzVdz"
      }
    },
    {
      "cell_type": "code",
      "source": [
        "import pandas as pd\n",
        "import numpy as np\n",
        "#df = pd.read_csv(\"/content/LungDisease.csv\")\n",
        "die = pd.Series([1,2,3,4,5,6])\n",
        "\n",
        "# Set seed to 104 =>  print same result every time\n",
        "np.random.seed(104)\n",
        "\n",
        "samp_5 = die.sample(5, replace=True)\n",
        "print(np.mean(samp_5))"
      ],
      "metadata": {
        "colab": {
          "base_uri": "https://localhost:8080/"
        },
        "id": "fuuRCYf92UNw",
        "outputId": "e05479c7-be9c-4f95-e90a-fdaf08b7811a"
      },
      "execution_count": null,
      "outputs": [
        {
          "output_type": "stream",
          "name": "stdout",
          "text": [
            "3.0\n"
          ]
        }
      ]
    },
    {
      "cell_type": "code",
      "source": [
        "print(np.mean(samp_5))"
      ],
      "metadata": {
        "colab": {
          "base_uri": "https://localhost:8080/"
        },
        "id": "IvHMctyV0Ra5",
        "outputId": "da3ac0d4-cce2-4b37-acac-ec72e98ec313"
      },
      "execution_count": null,
      "outputs": [
        {
          "output_type": "stream",
          "name": "stdout",
          "text": [
            "3.0\n"
          ]
        }
      ]
    },
    {
      "cell_type": "code",
      "source": [
        "print(np.mean(samp_5))"
      ],
      "metadata": {
        "colab": {
          "base_uri": "https://localhost:8080/"
        },
        "id": "e-MiSkyg0SkZ",
        "outputId": "b95ecdc6-d656-4b5f-a986-5b3f24267bfa"
      },
      "execution_count": null,
      "outputs": [
        {
          "output_type": "stream",
          "name": "stdout",
          "text": [
            "3.0\n"
          ]
        }
      ]
    },
    {
      "cell_type": "code",
      "source": [
        "sample_means = []\n",
        "# Loop 100 times\n",
        "for i in range(100):\n",
        "  # Take sample of 20 num_users\n",
        "  samp_20 = die.sample(20, replace=True)\n",
        "  # Calculate mean of samp_20\n",
        "  samp_20_mean = np.mean(samp_20)\n",
        "  # Append samp_20_mean to sample_means\n",
        "  sample_means.append(samp_20_mean)\n",
        "\n",
        "print(sample_means)"
      ],
      "metadata": {
        "colab": {
          "base_uri": "https://localhost:8080/"
        },
        "id": "-XB068Ec0DtJ",
        "outputId": "d589267d-621b-4e92-d91b-21808409f180"
      },
      "execution_count": null,
      "outputs": [
        {
          "output_type": "stream",
          "name": "stdout",
          "text": [
            "[np.float64(3.2), np.float64(3.4), np.float64(3.9), np.float64(3.65), np.float64(3.45), np.float64(3.2), np.float64(3.75), np.float64(3.3), np.float64(3.85), np.float64(3.25), np.float64(3.5), np.float64(3.5), np.float64(3.5), np.float64(3.4), np.float64(3.2), np.float64(3.4), np.float64(3.6), np.float64(3.8), np.float64(3.65), np.float64(3.1), np.float64(3.95), np.float64(3.5), np.float64(2.75), np.float64(2.95), np.float64(3.85), np.float64(4.2), np.float64(3.6), np.float64(3.9), np.float64(3.6), np.float64(3.1), np.float64(3.0), np.float64(3.45), np.float64(3.15), np.float64(3.65), np.float64(3.65), np.float64(4.1), np.float64(3.7), np.float64(3.2), np.float64(3.9), np.float64(3.65), np.float64(3.75), np.float64(3.6), np.float64(3.95), np.float64(3.65), np.float64(3.3), np.float64(3.75), np.float64(3.55), np.float64(3.35), np.float64(3.35), np.float64(2.75), np.float64(3.65), np.float64(3.0), np.float64(3.55), np.float64(3.35), np.float64(3.6), np.float64(3.45), np.float64(3.8), np.float64(2.8), np.float64(4.25), np.float64(3.65), np.float64(3.25), np.float64(3.1), np.float64(3.95), np.float64(3.7), np.float64(3.3), np.float64(4.0), np.float64(3.45), np.float64(2.65), np.float64(3.25), np.float64(3.2), np.float64(3.45), np.float64(3.3), np.float64(3.9), np.float64(3.25), np.float64(3.2), np.float64(3.55), np.float64(3.55), np.float64(3.4), np.float64(3.25), np.float64(3.7), np.float64(3.7), np.float64(3.1), np.float64(4.2), np.float64(3.95), np.float64(3.2), np.float64(4.05), np.float64(3.35), np.float64(3.65), np.float64(3.15), np.float64(3.0), np.float64(3.6), np.float64(3.8), np.float64(3.85), np.float64(2.7), np.float64(3.5), np.float64(3.65), np.float64(3.8), np.float64(3.4), np.float64(3.3), np.float64(3.7)]\n"
          ]
        }
      ]
    },
    {
      "cell_type": "code",
      "source": [
        "sample_series = pd.Series(sample_means)\n",
        "sample_series.hist()\n",
        "plt.show()"
      ],
      "metadata": {
        "colab": {
          "base_uri": "https://localhost:8080/",
          "height": 430
        },
        "id": "zxOFeU9b0-MJ",
        "outputId": "75b9f410-69e8-40bc-e86e-4b3cb254f26a"
      },
      "execution_count": null,
      "outputs": [
        {
          "output_type": "display_data",
          "data": {
            "text/plain": [
              "<Figure size 640x480 with 1 Axes>"
            ],
            "image/png": "[encoded data removed]"
          },
          "metadata": {}
        }
      ]
    },
    {
      "cell_type": "markdown",
      "source": [
        "##binomial dist\n",
        "used when there are only two outcomes\n"
      ],
      "metadata": {
        "id": "ck_M7zsNm2mG"
      }
    },
    {
      "cell_type": "code",
      "source": [
        "from numpy import random\n",
        "x =random.binomial(n=2, p=0.5, size=10)\n",
        "print(x)"
      ],
      "metadata": {
        "id": "8zDCtePi30gJ",
        "colab": {
          "base_uri": "https://localhost:8080/"
        },
        "outputId": "27edc476-e975-493d-e3e7-a36d7e581b14"
      },
      "execution_count": null,
      "outputs": [
        {
          "output_type": "stream",
          "name": "stdout",
          "text": [
            "[0 0 1 0 1 1 0 2 1 0]\n"
          ]
        }
      ]
    },
    {
      "cell_type": "code",
      "source": [
        "from numpy import random\n",
        "import matplotlib.pyplot as plt\n",
        "import seaborn as sns\n",
        "\n",
        "sns.displot(random.binomial(n=10, p=0.5, size=1000))\n",
        "plt.show()"
      ],
      "metadata": {
        "colab": {
          "base_uri": "https://localhost:8080/",
          "height": 506
        },
        "id": "ndJgr9KwnAwH",
        "outputId": "86f1a9ab-7918-4709-c1de-1d0f85f03ada"
      },
      "execution_count": null,
      "outputs": [
        {
          "output_type": "display_data",
          "data": {
            "text/plain": [
              "<Figure size 500x500 with 1 Axes>"
            ],
            "image/png": "[encoded data removed]"
          },
          "metadata": {}
        }
      ]
    },
    {
      "cell_type": "code",
      "source": [
        "from numpy import random\n",
        "import matplotlib.pyplot as plt\n",
        "import seaborn as sns\n",
        "\n",
        "data = {\n",
        "  \"normal\": random.normal(loc=50, scale=5, size=1000),\n",
        "  \"binomial\": random.binomial(n=100, p=0.5, size=1000),\n",
        "\n",
        "}\n",
        "\n",
        "sns.displot(data, kind=\"kde\")\n",
        "\n",
        "plt.show()"
      ],
      "metadata": {
        "colab": {
          "base_uri": "https://localhost:8080/",
          "height": 506
        },
        "id": "lvJvy92Mnm--",
        "outputId": "e2d663c7-854a-4c3b-aa72-2e997bd1bd95"
      },
      "execution_count": null,
      "outputs": [
        {
          "output_type": "display_data",
          "data": {
            "text/plain": [
              "<Figure size 609.875x500 with 1 Axes>"
            ],
            "image/png": "[encoded data removed]"
          },
          "metadata": {}
        }
      ]
    },
    {
      "cell_type": "code",
      "source": [
        "import numpy as np\n",
        "from numpy import random\n",
        "data = np.random.binomial(n=10, p=0.5, size=1000)\n",
        "\n",
        "plt.hist(data, bins=10, color='slateblue', edgecolor='black')\n",
        "plt.title(\"Binomial Distribution\")\n",
        "plt.show()\n"
      ],
      "metadata": {
        "colab": {
          "base_uri": "https://localhost:8080/",
          "height": 452
        },
        "id": "UNfSQb2sn7o-",
        "outputId": "91ff0f09-c3cf-4b98-e7c5-eda062a1f65b"
      },
      "execution_count": null,
      "outputs": [
        {
          "output_type": "display_data",
          "data": {
            "text/plain": [
              "<Figure size 640x480 with 1 Axes>"
            ],
            "image/png": "[encoded data removed]"
          },
          "metadata": {}
        }
      ]
    },
    {
      "cell_type": "markdown",
      "source": [
        "#also binomial dist\n"
      ],
      "metadata": {
        "id": "C5fYsWMJswih"
      }
    },
    {
      "cell_type": "code",
      "source": [
        "#also binominal\n",
        "from scipy.stats import binom\n",
        "np.random.seed(10)"
      ],
      "metadata": {
        "id": "OeMIV3dpsQYY"
      },
      "execution_count": null,
      "outputs": []
    },
    {
      "cell_type": "code",
      "source": [
        "print(binom.rvs(10, 0.5, size=10))"
      ],
      "metadata": {
        "colab": {
          "base_uri": "https://localhost:8080/"
        },
        "id": "VI8A1kiwsqCG",
        "outputId": "6a775734-4bf9-4499-e5e8-cf4f0785550f"
      },
      "execution_count": null,
      "outputs": [
        {
          "output_type": "stream",
          "name": "stdout",
          "text": [
            "[6 2 6 6 5 4 4 6 3 3]\n"
          ]
        }
      ]
    },
    {
      "cell_type": "code",
      "source": [
        "deals = binom.rvs(3, 0.3, size=52)\n",
        "print(deals)"
      ],
      "metadata": {
        "colab": {
          "base_uri": "https://localhost:8080/"
        },
        "id": "S3l5Hm2wts2B",
        "outputId": "04fe0650-f997-42e1-f70e-448b7fbee17b"
      },
      "execution_count": null,
      "outputs": [
        {
          "output_type": "stream",
          "name": "stdout",
          "text": [
            "[1 1 0 1 0 0 0 1 0 1 0 1 1 0 2 1 2 1 1 1 1 0 0 0 0 0 1 1 1 0 0 3 0 1 3 1 0\n",
            " 1 1 2 0 1 1 1 1 0 1 1 0 1 1 0]\n"
          ]
        }
      ]
    },
    {
      "cell_type": "code",
      "source": [
        "binom.pmf(3,10,0.3)  #probabilty for exactly 3 out of 10=> p(head = 3)"
      ],
      "metadata": {
        "colab": {
          "base_uri": "https://localhost:8080/"
        },
        "id": "1N-mLHL5ubKv",
        "outputId": "3e12d09c-2a20-47de-8fe8-9ef17a1a38e1"
      },
      "execution_count": null,
      "outputs": [
        {
          "output_type": "execute_result",
          "data": {
            "text/plain": [
              "np.float64(0.26682793199999977)"
            ]
          },
          "metadata": {},
          "execution_count": 10
        }
      ]
    },
    {
      "cell_type": "code",
      "source": [
        "binom.cdf(3,10,0.3)  #p(head<= 3)"
      ],
      "metadata": {
        "colab": {
          "base_uri": "https://localhost:8080/"
        },
        "id": "32E1GL3zuzLy",
        "outputId": "4451a881-3b21-4bf8-cf36-2083ab95519d"
      },
      "execution_count": null,
      "outputs": [
        {
          "output_type": "execute_result",
          "data": {
            "text/plain": [
              "np.float64(0.6496107184000002)"
            ]
          },
          "metadata": {},
          "execution_count": 13
        }
      ]
    },
    {
      "cell_type": "code",
      "source": [
        "# Expected number won with 30% win rate\n",
        "won_30pct = 3 * 0.30\n",
        "print(won_30pct)"
      ],
      "metadata": {
        "colab": {
          "base_uri": "https://localhost:8080/"
        },
        "id": "LJqfwRFGu5Xm",
        "outputId": "6b57d921-0d9d-4764-84b8-8d56eae8fa87"
      },
      "execution_count": null,
      "outputs": [
        {
          "output_type": "stream",
          "name": "stdout",
          "text": [
            "0.8999999999999999\n"
          ]
        }
      ]
    },
    {
      "cell_type": "code",
      "source": [
        "plt.hist(deals, bins=10)\n",
        "plt.show()"
      ],
      "metadata": {
        "colab": {
          "base_uri": "https://localhost:8080/",
          "height": 430
        },
        "id": "wugeCetwyKqg",
        "outputId": "10f7e141-b0ae-455d-c94a-3f2e6fec0c0a"
      },
      "execution_count": null,
      "outputs": [
        {
          "output_type": "display_data",
          "data": {
            "text/plain": [
              "<Figure size 640x480 with 1 Axes>"
            ],
            "image/png": "[encoded data removed]"
          },
          "metadata": {}
        }
      ]
    },
    {
      "cell_type": "markdown",
      "source": [],
      "metadata": {
        "id": "GTCgYO_Qspke"
      }
    },
    {
      "cell_type": "markdown",
      "source": [
        "##poisson dist\n",
        "Used for counting events in a fixed interval (e.g., number of emails per hour).\n",
        "\n"
      ],
      "metadata": {
        "id": "l9feaeis_iz2"
      }
    },
    {
      "cell_type": "code",
      "source": [
        "from numpy import random\n",
        "x= random.poisson(lam=2, size =10)\n",
        "print(x)"
      ],
      "metadata": {
        "id": "z5tEfEp0rZA4",
        "colab": {
          "base_uri": "https://localhost:8080/"
        },
        "outputId": "db65c121-4abe-46af-c8be-c19395419642"
      },
      "execution_count": null,
      "outputs": [
        {
          "output_type": "stream",
          "name": "stdout",
          "text": [
            "[2 0 1 1 2 2 1 3 4 3]\n"
          ]
        }
      ]
    },
    {
      "cell_type": "code",
      "source": [
        "from numpy import random\n",
        "import matplotlib.pyplot as plt\n",
        "import seaborn as sns\n",
        "\n",
        "x= sns.displot(random.poisson(lam=2, size=1000))\n",
        "plt.show()"
      ],
      "metadata": {
        "colab": {
          "base_uri": "https://localhost:8080/",
          "height": 506
        },
        "id": "2qS3XfKN_0El",
        "outputId": "0c68a793-dbad-4674-b5fe-8d5dca22fdb2"
      },
      "execution_count": null,
      "outputs": [
        {
          "output_type": "display_data",
          "data": {
            "text/plain": [
              "<Figure size 500x500 with 1 Axes>"
            ],
            "image/png": "[encoded data removed]"
          },
          "metadata": {}
        }
      ]
    },
    {
      "cell_type": "code",
      "source": [
        "from numpy import random\n",
        "import matplotlib.pyplot as plt\n",
        "import seaborn as sns\n",
        "\n",
        "data = {\n",
        "  \"normal\": random.normal(loc=50, scale=5, size=1000),\n",
        "  \"poisson\" : random.poisson(lam=50, size =1000)\n",
        "}\n",
        "\n",
        "sns.displot(data, kind=\"kde\")\n",
        "\n",
        "plt.show()"
      ],
      "metadata": {
        "colab": {
          "base_uri": "https://localhost:8080/",
          "height": 507
        },
        "id": "z5LnfREIAV8h",
        "outputId": "ee83fe2d-3fbd-43a0-e4c8-7f41fff82551"
      },
      "execution_count": null,
      "outputs": [
        {
          "output_type": "display_data",
          "data": {
            "text/plain": [
              "<Figure size 602.75x500 with 1 Axes>"
            ],
            "image/png": "[encoded data removed]"
          },
          "metadata": {}
        }
      ]
    },
    {
      "cell_type": "code",
      "source": [
        "from numpy import random\n",
        "import matplotlib.pyplot as plt\n",
        "import seaborn as sns\n",
        "\n",
        "data = {\n",
        "  \"binomial\": random.binomial(n=1000, p=0.01, size=1000),\n",
        "  \"poisson\" : random.poisson(lam=10, size =1000)  #n*p=lam\n",
        "}\n",
        "\n",
        "sns.displot(data, kind=\"kde\")\n",
        "\n",
        "plt.show()"
      ],
      "metadata": {
        "colab": {
          "base_uri": "https://localhost:8080/",
          "height": 506
        },
        "id": "JQXDY4v8BO8T",
        "outputId": "2bded78d-e594-44dc-9723-fe1ff392bae1"
      },
      "execution_count": null,
      "outputs": [
        {
          "output_type": "display_data",
          "data": {
            "text/plain": [
              "<Figure size 609.875x500 with 1 Axes>"
            ],
            "image/png": "[encoded data removed]"
          },
          "metadata": {}
        }
      ]
    },
    {
      "cell_type": "markdown",
      "source": [
        "#also possion"
      ],
      "metadata": {
        "id": "7F7_l1qh5UlP"
      }
    },
    {
      "cell_type": "code",
      "source": [
        "from scipy.stats import poisson\n",
        "poisson.pmf(5,4)   #p(adopted=5) in 4 week"
      ],
      "metadata": {
        "colab": {
          "base_uri": "https://localhost:8080/"
        },
        "id": "ZvduSmy35XLJ",
        "outputId": "94e86e8f-9f99-4d0e-f9a4-bb29d06de1a1"
      },
      "execution_count": null,
      "outputs": [
        {
          "output_type": "execute_result",
          "data": {
            "text/plain": [
              "np.float64(0.1562934518505317)"
            ]
          },
          "metadata": {},
          "execution_count": 3
        }
      ]
    },
    {
      "cell_type": "code",
      "source": [
        "poisson.pmf(5,5.5) #an average of 5.5 leads per day. What is the probability that she answers 5 leads in a day?\n",
        "\n"
      ],
      "metadata": {
        "colab": {
          "base_uri": "https://localhost:8080/"
        },
        "id": "3tC6ls4S5buU",
        "outputId": "5becaddf-7643-4db0-d567-57bd46c51c8a"
      },
      "execution_count": null,
      "outputs": [
        {
          "output_type": "execute_result",
          "data": {
            "text/plain": [
              "np.float64(0.17140068409793663)"
            ]
          },
          "metadata": {},
          "execution_count": 4
        }
      ]
    },
    {
      "cell_type": "code",
      "source": [
        "# Probability of 2 or fewer responses\n",
        "prob_2_or_less = poisson.cdf(2,4)\n",
        "print(prob_2_or_less)"
      ],
      "metadata": {
        "colab": {
          "base_uri": "https://localhost:8080/"
        },
        "id": "d2-BnOVq6AT2",
        "outputId": "d079f2b1-b221-4d1a-ad6b-fd0147f3af0d"
      },
      "execution_count": null,
      "outputs": [
        {
          "output_type": "stream",
          "name": "stdout",
          "text": [
            "0.23810330555354436\n"
          ]
        }
      ]
    },
    {
      "cell_type": "code",
      "source": [
        "# Probability of > 10 responses\n",
        "prob_over_10 = 1 - poisson.cdf(10,4)\n",
        "\n",
        "print(prob_over_10)"
      ],
      "metadata": {
        "colab": {
          "base_uri": "https://localhost:8080/"
        },
        "id": "wtReureQ6Ho9",
        "outputId": "ba251fde-cf4e-4ad8-f31a-1ff19fd51a70"
      },
      "execution_count": null,
      "outputs": [
        {
          "output_type": "stream",
          "name": "stdout",
          "text": [
            "0.0028397661205137315\n"
          ]
        }
      ]
    },
    {
      "cell_type": "code",
      "source": [
        "poisson.rvs(8,10)"
      ],
      "metadata": {
        "colab": {
          "base_uri": "https://localhost:8080/"
        },
        "id": "B9NpFJo16dtO",
        "outputId": "c904da9d-cfa3-4a46-b60e-aee6605a84df"
      },
      "execution_count": null,
      "outputs": [
        {
          "output_type": "execute_result",
          "data": {
            "text/plain": [
              "21"
            ]
          },
          "metadata": {},
          "execution_count": 10
        }
      ]
    },
    {
      "cell_type": "markdown",
      "source": [
        "#exponential"
      ],
      "metadata": {
        "id": "Lu5sY9lcg46G"
      }
    },
    {
      "cell_type": "code",
      "source": [
        "# Import expon from scipy.stats\n",
        "from scipy.stats import expon\n",
        "\n",
        "# Print probability response takes < 1 hour\n",
        "print(expon.cdf(1, scale=2.5))"
      ],
      "metadata": {
        "id": "r2VJXwoc6mEf",
        "colab": {
          "base_uri": "https://localhost:8080/"
        },
        "outputId": "a18bfc21-0804-4a7d-ea66-4ee117ae2baa"
      },
      "execution_count": null,
      "outputs": [
        {
          "output_type": "stream",
          "name": "stdout",
          "text": [
            "0.3296799539643607\n"
          ]
        }
      ]
    },
    {
      "cell_type": "code",
      "source": [
        "# Import expon from scipy.stats\n",
        "from scipy.stats import expon\n",
        "\n",
        "# Print probability response takes > 4 hours\n",
        "print(1- expon.cdf(4, scale=2.5))"
      ],
      "metadata": {
        "colab": {
          "base_uri": "https://localhost:8080/"
        },
        "id": "px90Vf1Tg8Pj",
        "outputId": "e733fb15-b381-4761-f4f4-a5034d52f84a"
      },
      "execution_count": null,
      "outputs": [
        {
          "output_type": "stream",
          "name": "stdout",
          "text": [
            "0.20189651799465536\n"
          ]
        }
      ]
    },
    {
      "cell_type": "code",
      "source": [
        "# Import expon from scipy.stats\n",
        "from scipy.stats import expon\n",
        "\n",
        "# Print probability response takes 3-4 hours\n",
        "print(expon.cdf(4,scale=2.5) - expon.cdf(3,scale=2.5))"
      ],
      "metadata": {
        "colab": {
          "base_uri": "https://localhost:8080/"
        },
        "id": "yZobK0SYhi5M",
        "outputId": "dc96e1dc-fd8a-4e05-baee-de73f2d1b76c"
      },
      "execution_count": null,
      "outputs": [
        {
          "output_type": "stream",
          "name": "stdout",
          "text": [
            "0.09929769391754684\n"
          ]
        }
      ]
    },
    {
      "cell_type": "code",
      "source": [],
      "metadata": {
        "id": "ZOneeUxXhwid"
      },
      "execution_count": null,
      "outputs": []
    }
  ]
}