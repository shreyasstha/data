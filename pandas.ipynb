{
  "nbformat": 4,
  "nbformat_minor": 0,
  "metadata": {
    "colab": {
      "provenance": [],
      "authorship_tag": "ABX9TyOqiyvcjtGb+gUnKLmAOmI2",
      "include_colab_link": true
    },
    "kernelspec": {
      "name": "python3",
      "display_name": "Python 3"
    },
    "language_info": {
      "name": "python"
    }
  },
  "cells": [
    {
      "cell_type": "markdown",
      "metadata": {
        "id": "view-in-github",
        "colab_type": "text"
      },
      "source": [
        "<a href=\"https://colab.research.google.com/github/shreyasstha/data/blob/main/pandas.ipynb\" target=\"_parent\"><img src=\"https://colab.research.google.com/assets/colab-badge.svg\" alt=\"Open In Colab\"/></a>"
      ]
    },
    {
      "cell_type": "markdown",
      "source": [
        "#pandas"
      ],
      "metadata": {
        "id": "ZRea3iYthxFL"
      }
    },
    {
      "cell_type": "code",
      "execution_count": null,
      "metadata": {
        "colab": {
          "base_uri": "https://localhost:8080/"
        },
        "id": "8EBd8Qskt55_",
        "outputId": "1c5f4d40-cb22-47c5-fbf3-f334b8431ab6"
      },
      "outputs": [
        {
          "output_type": "stream",
          "name": "stdout",
          "text": [
            "    cars  passings\n",
            "0    BMW         3\n",
            "1  Volvo         7\n",
            "2   Ford         2\n"
          ]
        }
      ],
      "source": [
        "import pandas as pd\n",
        "\n",
        "dataset = {\n",
        "  'cars': [\"BMW\", \"Volvo\", \"Ford\"],\n",
        "  'passings': [3, 7, 2]\n",
        "}\n",
        "\n",
        "myvar = pd.DataFrame(dataset)\n",
        "\n",
        "print(myvar)\n"
      ]
    },
    {
      "cell_type": "code",
      "source": [
        "myvar.index=[\"A\", \"B\", \"C\"]\n",
        "print(myvar)"
      ],
      "metadata": {
        "colab": {
          "base_uri": "https://localhost:8080/"
        },
        "id": "ngJT1OeHuF1T",
        "outputId": "2523cca7-d95e-49ee-cb26-1d3a6e076249"
      },
      "execution_count": null,
      "outputs": [
        {
          "output_type": "stream",
          "name": "stdout",
          "text": [
            "    cars  passings\n",
            "A    BMW         3\n",
            "B  Volvo         7\n",
            "C   Ford         2\n"
          ]
        }
      ]
    },
    {
      "cell_type": "code",
      "source": [
        "# Pre-defined lists\n",
        "names = ['United States', 'Australia', 'Japan', 'India', 'Russia', 'Morocco', 'Egypt']\n",
        "dr =  [True, False, False, False, True, True, True]\n",
        "cpc = [809, 731, 588, 18, 200, 70, 45]\n",
        "\n",
        "# Import pandas as pd\n",
        "import pandas as pd\n",
        "\n",
        "# Create dictionary my_dict with three key:value pairs: my_dict\n",
        "my_dict = {'country' :names, 'drives_right': dr,\n",
        "'cars_per_cap':cpc}\n",
        "\n",
        "# Build a DataFrame cars from my_dict: cars\n",
        "cars = pd.DataFrame(my_dict)\n",
        "\n",
        "# Print cars\n",
        "print(cars)\n",
        "cars.to_csv(\"cars.csv\", index=False)\n"
      ],
      "metadata": {
        "colab": {
          "base_uri": "https://localhost:8080/"
        },
        "id": "OMATL5gquQLL",
        "outputId": "f658dcee-5741-400f-d70d-78a86ba39a16"
      },
      "execution_count": 14,
      "outputs": [
        {
          "output_type": "stream",
          "name": "stdout",
          "text": [
            "         country  drives_right  cars_per_cap\n",
            "0  United States          True           809\n",
            "1      Australia         False           731\n",
            "2          Japan         False           588\n",
            "3          India         False            18\n",
            "4         Russia          True           200\n",
            "5        Morocco          True            70\n",
            "6          Egypt          True            45\n"
          ]
        }
      ]
    },
    {
      "cell_type": "code",
      "source": [
        "import pandas as pd\n",
        "row_labels = ['US', 'AUS', 'JPN', 'IN', 'RU', 'MOR', 'EG']\n",
        "\n",
        "cars.index =[row_labels]\n",
        "\n",
        "print(cars)"
      ],
      "metadata": {
        "colab": {
          "base_uri": "https://localhost:8080/"
        },
        "id": "Fp3pjsBCuc_R",
        "outputId": "adf30d6b-ef47-4a5f-c155-67d1538bdfd6"
      },
      "execution_count": null,
      "outputs": [
        {
          "output_type": "stream",
          "name": "stdout",
          "text": [
            "           country  drives_right  cars_per_cap\n",
            "US   United States          True           809\n",
            "AUS      Australia         False           731\n",
            "JPN          Japan         False           588\n",
            "IN           India         False            18\n",
            "RU          Russia          True           200\n",
            "MOR        Morocco          True            70\n",
            "EG           Egypt          True            45\n"
          ]
        }
      ]
    },
    {
      "cell_type": "code",
      "source": [
        "cars.loc[[\"AUS\"]]"
      ],
      "metadata": {
        "colab": {
          "base_uri": "https://localhost:8080/",
          "height": 81
        },
        "id": "wX5vDZms3TcN",
        "outputId": "e16006e0-7436-42c8-8663-8ede0c978b28"
      },
      "execution_count": null,
      "outputs": [
        {
          "output_type": "execute_result",
          "data": {
            "text/plain": [
              "       country  drives_right  cars_per_cap\n",
              "AUS  Australia         False           731"
            ],
            "text/html": [
              "\n",
              "  <div id=\"df-cda57395-ada1-4744-b7b4-663d69fe6d0c\" class=\"colab-df-container\">\n",
              "    <div>\n",
              "<style scoped>\n",
              "    .dataframe tbody tr th:only-of-type {\n",
              "        vertical-align: middle;\n",
              "    }\n",
              "\n",
              "    .dataframe tbody tr th {\n",
              "        vertical-align: top;\n",
              "    }\n",
              "\n",
              "    .dataframe thead th {\n",
              "        text-align: right;\n",
              "    }\n",
              "</style>\n",
              "<table border=\"1\" class=\"dataframe\">\n",
              "  <thead>\n",
              "    <tr style=\"text-align: right;\">\n",
              "      <th></th>\n",
              "      <th>country</th>\n",
              "      <th>drives_right</th>\n",
              "      <th>cars_per_cap</th>\n",
              "    </tr>\n",
              "  </thead>\n",
              "  <tbody>\n",
              "    <tr>\n",
              "      <th>AUS</th>\n",
              "      <td>Australia</td>\n",
              "      <td>False</td>\n",
              "      <td>731</td>\n",
              "    </tr>\n",
              "  </tbody>\n",
              "</table>\n",
              "</div>\n",
              "    <div class=\"colab-df-buttons\">\n",
              "\n",
              "  <div class=\"colab-df-container\">\n",
              "    <button class=\"colab-df-convert\" onclick=\"convertToInteractive('df-cda57395-ada1-4744-b7b4-663d69fe6d0c')\"\n",
              "            title=\"Convert this dataframe to an interactive table.\"\n",
              "            style=\"display:none;\">\n",
              "\n",
              "  <svg xmlns=\"http://www.w3.org/2000/svg\" height=\"24px\" viewBox=\"0 -960 960 960\">\n",
              "    <path d=\"M120-120v-720h720v720H120Zm60-500h600v-160H180v160Zm220 220h160v-160H400v160Zm0 220h160v-160H400v160ZM180-400h160v-160H180v160Zm440 0h160v-160H620v160ZM180-180h160v-160H180v160Zm440 0h160v-160H620v160Z\"/>\n",
              "  </svg>\n",
              "    </button>\n",
              "\n",
              "  <style>\n",
              "    .colab-df-container {\n",
              "      display:flex;\n",
              "      gap: 12px;\n",
              "    }\n",
              "\n",
              "    .colab-df-convert {\n",
              "      background-color: #E8F0FE;\n",
              "      border: none;\n",
              "      border-radius: 50%;\n",
              "      cursor: pointer;\n",
              "      display: none;\n",
              "      fill: #1967D2;\n",
              "      height: 32px;\n",
              "      padding: 0 0 0 0;\n",
              "      width: 32px;\n",
              "    }\n",
              "\n",
              "    .colab-df-convert:hover {\n",
              "      background-color: #E2EBFA;\n",
              "      box-shadow: 0px 1px 2px rgba(60, 64, 67, 0.3), 0px 1px 3px 1px rgba(60, 64, 67, 0.15);\n",
              "      fill: #174EA6;\n",
              "    }\n",
              "\n",
              "    .colab-df-buttons div {\n",
              "      margin-bottom: 4px;\n",
              "    }\n",
              "\n",
              "    [theme=dark] .colab-df-convert {\n",
              "      background-color: #3B4455;\n",
              "      fill: #D2E3FC;\n",
              "    }\n",
              "\n",
              "    [theme=dark] .colab-df-convert:hover {\n",
              "      background-color: #434B5C;\n",
              "      box-shadow: 0px 1px 3px 1px rgba(0, 0, 0, 0.15);\n",
              "      filter: drop-shadow(0px 1px 2px rgba(0, 0, 0, 0.3));\n",
              "      fill: #FFFFFF;\n",
              "    }\n",
              "  </style>\n",
              "\n",
              "    <script>\n",
              "      const buttonEl =\n",
              "        document.querySelector('#df-cda57395-ada1-4744-b7b4-663d69fe6d0c button.colab-df-convert');\n",
              "      buttonEl.style.display =\n",
              "        google.colab.kernel.accessAllowed ? 'block' : 'none';\n",
              "\n",
              "      async function convertToInteractive(key) {\n",
              "        const element = document.querySelector('#df-cda57395-ada1-4744-b7b4-663d69fe6d0c');\n",
              "        const dataTable =\n",
              "          await google.colab.kernel.invokeFunction('convertToInteractive',\n",
              "                                                    [key], {});\n",
              "        if (!dataTable) return;\n",
              "\n",
              "        const docLinkHtml = 'Like what you see? Visit the ' +\n",
              "          '<a target=\"_blank\" href=https://colab.research.google.com/notebooks/data_table.ipynb>data table notebook</a>'\n",
              "          + ' to learn more about interactive tables.';\n",
              "        element.innerHTML = '';\n",
              "        dataTable['output_type'] = 'display_data';\n",
              "        await google.colab.output.renderOutput(dataTable, element);\n",
              "        const docLink = document.createElement('div');\n",
              "        docLink.innerHTML = docLinkHtml;\n",
              "        element.appendChild(docLink);\n",
              "      }\n",
              "    </script>\n",
              "  </div>\n",
              "\n",
              "\n",
              "    </div>\n",
              "  </div>\n"
            ],
            "application/vnd.google.colaboratory.intrinsic+json": {
              "type": "dataframe",
              "summary": "{\n  \"name\": \"cars\",\n  \"rows\": 1,\n  \"fields\": [\n    {\n      \"column\": \"country\",\n      \"properties\": {\n        \"dtype\": \"string\",\n        \"num_unique_values\": 1,\n        \"samples\": [\n          \"Australia\"\n        ],\n        \"semantic_type\": \"\",\n        \"description\": \"\"\n      }\n    },\n    {\n      \"column\": \"drives_right\",\n      \"properties\": {\n        \"dtype\": \"boolean\",\n        \"num_unique_values\": 1,\n        \"samples\": [\n          false\n        ],\n        \"semantic_type\": \"\",\n        \"description\": \"\"\n      }\n    },\n    {\n      \"column\": \"cars_per_cap\",\n      \"properties\": {\n        \"dtype\": \"number\",\n        \"std\": null,\n        \"min\": 731,\n        \"max\": 731,\n        \"num_unique_values\": 1,\n        \"samples\": [\n          731\n        ],\n        \"semantic_type\": \"\",\n        \"description\": \"\"\n      }\n    }\n  ]\n}"
            }
          },
          "metadata": {},
          "execution_count": 36
        }
      ]
    },
    {
      "cell_type": "markdown",
      "source": [
        "to read the dataframe:\n",
        "cars = pd.read_csv(cars.csv)\n"
      ],
      "metadata": {
        "id": "F2eIi_GVxGQN"
      }
    },
    {
      "cell_type": "code",
      "source": [
        "cars = pd.read_csv('/content/cars.csv')\n",
        "print(cars['country'])"
      ],
      "metadata": {
        "colab": {
          "base_uri": "https://localhost:8080/"
        },
        "id": "UT-kdYv7wZlj",
        "outputId": "cf869bc0-a048-4978-8306-573bff98e904"
      },
      "execution_count": null,
      "outputs": [
        {
          "output_type": "stream",
          "name": "stdout",
          "text": [
            "0    United States\n",
            "1        Australia\n",
            "2            Japan\n",
            "3            India\n",
            "4           Russia\n",
            "5          Morocco\n",
            "6            Egypt\n",
            "Name: country, dtype: object\n"
          ]
        }
      ]
    },
    {
      "cell_type": "code",
      "source": [
        "cars = pd.read_csv('/content/cars.csv')\n",
        "# Print out first 3 observations\n",
        "print(cars[0:3])\n",
        "\n",
        "# Print out fourth, fifth and sixth observation\n",
        "print(cars[3:6])"
      ],
      "metadata": {
        "id": "_U9z8_H3woc6",
        "colab": {
          "base_uri": "https://localhost:8080/"
        },
        "outputId": "d564fe25-37ae-4e10-9786-5e2c34146111"
      },
      "execution_count": null,
      "outputs": [
        {
          "output_type": "stream",
          "name": "stdout",
          "text": [
            "         country  drives_right  cars_per_cap\n",
            "0  United States          True           809\n",
            "1      Australia         False           731\n",
            "2          Japan         False           588\n",
            "   country  drives_right  cars_per_cap\n",
            "3    India         False            18\n",
            "4   Russia          True           200\n",
            "5  Morocco          True            70\n"
          ]
        }
      ]
    },
    {
      "cell_type": "code",
      "source": [
        "# Import cars data\n",
        "import pandas as pd\n",
        "cars = pd.read_csv('/content/cars.csv')\n",
        "\n",
        "# Print out observation for Japan\n",
        "cars.iloc[[2]]\n",
        "\n",
        "# Print out observations for Australia and Egypt\n",
        "print(cars.iloc[[1,6]])"
      ],
      "metadata": {
        "colab": {
          "base_uri": "https://localhost:8080/"
        },
        "id": "FO5jA3yf2yw9",
        "outputId": "5b99938b-8dab-4ee6-831e-2d3d20f25057"
      },
      "execution_count": null,
      "outputs": [
        {
          "output_type": "stream",
          "name": "stdout",
          "text": [
            "     country  drives_right  cars_per_cap\n",
            "1  Australia         False           731\n",
            "6      Egypt          True            45\n"
          ]
        }
      ]
    },
    {
      "cell_type": "code",
      "source": [
        "# Import cars data\n",
        "import pandas as pd\n",
        "cars = pd.read_csv('/content/cars.csv', index_col = 0)   # prints country row\n",
        "\n",
        "# Print out drives_right column as Series\n",
        "print(cars.loc[: , 'drives_right'])  # : =select all rows\n",
        "\n",
        "# Print out drives_right column as DataFrame\n",
        "print(cars.loc[: , ['drives_right']])\n",
        "\n",
        "# Print out cars_per_cap and drives_right as DataFrame\n",
        "print(cars.loc[:,['cars_per_cap', 'drives_right']])\n"
      ],
      "metadata": {
        "colab": {
          "base_uri": "https://localhost:8080/"
        },
        "id": "uJpN6Ggp2zYR",
        "outputId": "43c06858-4fb0-486a-c791-12caabf2df83"
      },
      "execution_count": 9,
      "outputs": [
        {
          "output_type": "stream",
          "name": "stdout",
          "text": [
            "country\n",
            "United States     True\n",
            "Australia        False\n",
            "Japan            False\n",
            "India            False\n",
            "Russia            True\n",
            "Morocco           True\n",
            "Egypt             True\n",
            "Name: drives_right, dtype: bool\n",
            "               drives_right\n",
            "country                    \n",
            "United States          True\n",
            "Australia             False\n",
            "Japan                 False\n",
            "India                 False\n",
            "Russia                 True\n",
            "Morocco                True\n",
            "Egypt                  True\n",
            "               cars_per_cap  drives_right\n",
            "country                                  \n",
            "United States           809          True\n",
            "Australia               731         False\n",
            "Japan                   588         False\n",
            "India                    18         False\n",
            "Russia                  200          True\n",
            "Morocco                  70          True\n",
            "Egypt                    45          True\n"
          ]
        }
      ]
    },
    {
      "cell_type": "markdown",
      "source": [
        "#filtering pandas dataframe"
      ],
      "metadata": {
        "id": "aqxpTdBHlBnT"
      }
    },
    {
      "cell_type": "code",
      "source": [
        "# Import cars data\n",
        "import pandas as pd\n",
        "cars = pd.read_csv('cars.csv', index_col = 0)\n",
        "\n",
        "# Extract drives_right column as Series: dr\n",
        "dr = cars.loc[:, 'drives_right']\n",
        "sel = cars[dr]\n",
        "\n",
        "print(sel)"
      ],
      "metadata": {
        "id": "dRCmHVvH4vW1",
        "colab": {
          "base_uri": "https://localhost:8080/"
        },
        "outputId": "8f02de11-14c7-4666-a344-a9cd4bf37993"
      },
      "execution_count": 10,
      "outputs": [
        {
          "output_type": "stream",
          "name": "stdout",
          "text": [
            "               drives_right  cars_per_cap\n",
            "country                                  \n",
            "United States          True           809\n",
            "Russia                 True           200\n",
            "Morocco                True            70\n",
            "Egypt                  True            45\n"
          ]
        }
      ]
    },
    {
      "cell_type": "code",
      "source": [
        "# Import cars data\n",
        "import pandas as pd\n",
        "cars = pd.read_csv('cars.csv', index_col = 0)\n",
        "\n",
        "sel =cars[cars['drives_right']]\n",
        "print(sel)"
      ],
      "metadata": {
        "colab": {
          "base_uri": "https://localhost:8080/"
        },
        "id": "6KgQ6deZlWBd",
        "outputId": "b4bae2e4-c0c3-4889-95c0-04c256e6bb76"
      },
      "execution_count": 15,
      "outputs": [
        {
          "output_type": "stream",
          "name": "stdout",
          "text": [
            "               drives_right  cars_per_cap\n",
            "country                                  \n",
            "United States          True           809\n",
            "Russia                 True           200\n",
            "Morocco                True            70\n",
            "Egypt                  True            45\n"
          ]
        }
      ]
    },
    {
      "cell_type": "code",
      "source": [
        "# Import cars data\n",
        "import pandas as pd\n",
        "cars = pd.read_csv('cars.csv', index_col = 0)\n",
        "\n",
        "# Create car_maniac: observations that have a cars_per_cap over 500\n",
        "cpc = cars.loc[:, 'cars_per_cap']\n",
        "many_cars =cpc > 500\n",
        "car_maniac = cars[many_cars]\n",
        "\n",
        "print(car_maniac)"
      ],
      "metadata": {
        "colab": {
          "base_uri": "https://localhost:8080/"
        },
        "id": "QSljOd5ylawj",
        "outputId": "3242d41d-a151-4fdb-daaf-2e692514dd56"
      },
      "execution_count": 18,
      "outputs": [
        {
          "output_type": "stream",
          "name": "stdout",
          "text": [
            "               drives_right  cars_per_cap\n",
            "country                                  \n",
            "United States          True           809\n",
            "Australia             False           731\n",
            "Japan                 False           588\n"
          ]
        }
      ]
    },
    {
      "cell_type": "code",
      "source": [
        "print(cars)"
      ],
      "metadata": {
        "colab": {
          "base_uri": "https://localhost:8080/"
        },
        "id": "qZh1znIZoAI6",
        "outputId": "1b9901a5-2f8b-4b7a-8aec-c0b6eb00075e"
      },
      "execution_count": 20,
      "outputs": [
        {
          "output_type": "stream",
          "name": "stdout",
          "text": [
            "               drives_right  cars_per_cap\n",
            "country                                  \n",
            "United States          True           809\n",
            "Australia             False           731\n",
            "Japan                 False           588\n",
            "India                 False            18\n",
            "Russia                 True           200\n",
            "Morocco                True            70\n",
            "Egypt                  True            45\n"
          ]
        }
      ]
    },
    {
      "cell_type": "code",
      "source": [
        "# Import cars data\n",
        "import pandas as pd\n",
        "cars = pd.read_csv('cars.csv', index_col = 0)\n",
        "\n",
        "# Import numpy, you'll need this\n",
        "import numpy as np\n",
        "\n",
        "# Create medium: observations with cars_per_cap between 100 and 500\n",
        "cpc = cars['cars_per_cap']  # Access the column directly\n",
        "between = np.logical_and(cpc > 100, cpc < 500)  # This creates a boolean Series\n",
        "medium = cars[between]  # Use the boolean Series to filter the DataFrame\n",
        "\n",
        "# Print medium\n",
        "print(medium)"
      ],
      "metadata": {
        "colab": {
          "base_uri": "https://localhost:8080/"
        },
        "id": "OkImpG-6nChO",
        "outputId": "1cfb0d85-d950-42e0-f96b-b844c1a74f52"
      },
      "execution_count": 19,
      "outputs": [
        {
          "output_type": "stream",
          "name": "stdout",
          "text": [
            "         drives_right  cars_per_cap\n",
            "country                            \n",
            "Russia           True           200\n"
          ]
        }
      ]
    },
    {
      "cell_type": "markdown",
      "source": [
        "#loop : while\n"
      ],
      "metadata": {
        "id": "NZWRfcqI66_i"
      }
    },
    {
      "cell_type": "code",
      "source": [
        "# Initialize offset\n",
        "offset = -6\n",
        "\n",
        "# Code the while loop\n",
        "while offset != 0 :\n",
        "    print(\"correcting...\")\n",
        "    if offset > 0 :\n",
        "      offset = offset -1\n",
        "    else :\n",
        "      offset = offset+1\n",
        "    print(offset)"
      ],
      "metadata": {
        "colab": {
          "base_uri": "https://localhost:8080/"
        },
        "id": "k6C5y5f1n9uX",
        "outputId": "c476ece0-41af-4540-f04d-f93907fe9a1a"
      },
      "execution_count": 1,
      "outputs": [
        {
          "output_type": "stream",
          "name": "stdout",
          "text": [
            "correcting...\n",
            "-5\n",
            "correcting...\n",
            "-4\n",
            "correcting...\n",
            "-3\n",
            "correcting...\n",
            "-2\n",
            "correcting...\n",
            "-1\n",
            "correcting...\n",
            "0\n"
          ]
        }
      ]
    },
    {
      "cell_type": "markdown",
      "source": [
        "##for loop"
      ],
      "metadata": {
        "id": "dh4qBFpR7-3h"
      }
    },
    {
      "cell_type": "code",
      "source": [
        "# areas list\n",
        "areas = [11.25, 18.0, 20.0, 10.75, 9.50]\n",
        "\n",
        "# Code the for loop\n",
        "for elemets in areas:\n",
        "    print(elemets)"
      ],
      "metadata": {
        "colab": {
          "base_uri": "https://localhost:8080/"
        },
        "id": "C5Dz3wGP6-Xl",
        "outputId": "647849d1-dcd5-4b97-a448-7ae485baac17"
      },
      "execution_count": 2,
      "outputs": [
        {
          "output_type": "stream",
          "name": "stdout",
          "text": [
            "11.25\n",
            "18.0\n",
            "20.0\n",
            "10.75\n",
            "9.5\n"
          ]
        }
      ]
    },
    {
      "cell_type": "code",
      "source": [
        "# areas list\n",
        "areas = [11.25, 18.0, 20.0, 10.75, 9.50]\n",
        "\n",
        "# Change for loop to use enumerate() and update print()\n",
        "for index, a in enumerate(areas) :\n",
        "    print(\"room\" + str(index) + \": \"+ str(a))"
      ],
      "metadata": {
        "colab": {
          "base_uri": "https://localhost:8080/"
        },
        "id": "6lg9-_9o8Ad2",
        "outputId": "0173481b-41b9-4c95-9dd1-abd26bb7da93"
      },
      "execution_count": 3,
      "outputs": [
        {
          "output_type": "stream",
          "name": "stdout",
          "text": [
            "room0: 11.25\n",
            "room1: 18.0\n",
            "room2: 20.0\n",
            "room3: 10.75\n",
            "room4: 9.5\n"
          ]
        }
      ]
    },
    {
      "cell_type": "code",
      "source": [
        "#to start from room1\n",
        "for index, area in enumerate(areas) :\n",
        "    print(\"room \" + str(index+1) + \": \" + str(area))"
      ],
      "metadata": {
        "colab": {
          "base_uri": "https://localhost:8080/"
        },
        "id": "FLpMAd2y8lSH",
        "outputId": "2147b25e-9799-4d55-d8c2-804a5b648d3c"
      },
      "execution_count": 6,
      "outputs": [
        {
          "output_type": "stream",
          "name": "stdout",
          "text": [
            "room 1: 11.25\n",
            "room 2: 18.0\n",
            "room 3: 20.0\n",
            "room 4: 10.75\n",
            "room 5: 9.5\n"
          ]
        }
      ]
    },
    {
      "cell_type": "code",
      "source": [
        "# house list of lists\n",
        "house = [[\"hallway\", 11.25],\n",
        "         [\"kitchen\", 18.0],\n",
        "         [\"living room\", 20.0],\n",
        "         [\"bedroom\", 10.75],\n",
        "         [\"bathroom\", 9.50]]\n",
        "\n",
        "for x in (house):\n",
        "    print(\"the \"+ x[0] + \" is \" + str(x[1]) + \" sqm\")"
      ],
      "metadata": {
        "colab": {
          "base_uri": "https://localhost:8080/"
        },
        "id": "3LeKrol58woT",
        "outputId": "46b0f8be-dbad-4f88-9ab8-97db2d36dbbe"
      },
      "execution_count": 7,
      "outputs": [
        {
          "output_type": "stream",
          "name": "stdout",
          "text": [
            "the hallway is 11.25 sqm\n",
            "the kitchen is 18.0 sqm\n",
            "the living room is 20.0 sqm\n",
            "the bedroom is 10.75 sqm\n",
            "the bathroom is 9.5 sqm\n"
          ]
        }
      ]
    },
    {
      "cell_type": "code",
      "source": [
        "#in dictionary\n",
        "# Definition of dictionary\n",
        "europe = {'spain':'madrid', 'france':'paris', 'germany':'berlin',\n",
        "          'norway':'oslo', 'italy':'rome', 'poland':'warsaw', 'austria':'vienna' }\n",
        "\n",
        "for key, value in europe.items():\n",
        "    print(\"the capital of \"+ key +\" is \"+ value)"
      ],
      "metadata": {
        "colab": {
          "base_uri": "https://localhost:8080/"
        },
        "id": "rT5AtxMu92O_",
        "outputId": "6e7b73d0-9508-422e-9573-1d60a45e9c94"
      },
      "execution_count": 8,
      "outputs": [
        {
          "output_type": "stream",
          "name": "stdout",
          "text": [
            "the capital of spain is madrid\n",
            "the capital of france is paris\n",
            "the capital of germany is berlin\n",
            "the capital of norway is oslo\n",
            "the capital of italy is rome\n",
            "the capital of poland is warsaw\n",
            "the capital of austria is vienna\n"
          ]
        }
      ]
    },
    {
      "cell_type": "code",
      "source": [
        "np_height= ([10, 20, 30, 45, 9, 50])\n",
        "np_baseball = ([2,5,8,9,4,7])\n",
        "\n",
        "# For loop over np_height\n",
        "for elements in np_height:\n",
        "    print(str(elements) + \" inches \")\n",
        "\n",
        "# For loop over np_baseball\n",
        "for elements in np.nditer(np_baseball):\n",
        "    print(elements)"
      ],
      "metadata": {
        "colab": {
          "base_uri": "https://localhost:8080/"
        },
        "id": "aXqL19kl_XZV",
        "outputId": "64968cb2-9626-4199-b8d3-20da155d1951"
      },
      "execution_count": 11,
      "outputs": [
        {
          "output_type": "stream",
          "name": "stdout",
          "text": [
            "10 inches \n",
            "20 inches \n",
            "30 inches \n",
            "45 inches \n",
            "9 inches \n",
            "50 inches \n",
            "(array(2), array(5), array(8), array(9), array(4), array(7))\n"
          ]
        }
      ]
    },
    {
      "cell_type": "code",
      "source": [
        "# Import cars data\n",
        "import pandas as pd\n",
        "cars = pd.read_csv('/content/cars.csv', index_col = 0)\n",
        "\n",
        "# Iterate over rows of cars\n",
        "for lab, row in cars.iterrows():\n",
        "    print(lab)\n",
        "    print(row)"
      ],
      "metadata": {
        "colab": {
          "base_uri": "https://localhost:8080/"
        },
        "id": "SJmuHlH1ABrt",
        "outputId": "527a49f9-71c4-402c-d182-1ca617025b75"
      },
      "execution_count": 20,
      "outputs": [
        {
          "output_type": "stream",
          "name": "stdout",
          "text": [
            "United States\n",
            "drives_right    True\n",
            "cars_per_cap     809\n",
            "Name: United States, dtype: object\n",
            "Australia\n",
            "drives_right    False\n",
            "cars_per_cap      731\n",
            "Name: Australia, dtype: object\n",
            "Japan\n",
            "drives_right    False\n",
            "cars_per_cap      588\n",
            "Name: Japan, dtype: object\n",
            "India\n",
            "drives_right    False\n",
            "cars_per_cap       18\n",
            "Name: India, dtype: object\n",
            "Russia\n",
            "drives_right    True\n",
            "cars_per_cap     200\n",
            "Name: Russia, dtype: object\n",
            "Morocco\n",
            "drives_right    True\n",
            "cars_per_cap      70\n",
            "Name: Morocco, dtype: object\n",
            "Egypt\n",
            "drives_right    True\n",
            "cars_per_cap      45\n",
            "Name: Egypt, dtype: object\n"
          ]
        }
      ]
    },
    {
      "cell_type": "code",
      "source": [
        "# Import cars data\n",
        "import pandas as pd\n",
        "cars = pd.read_csv('cars.csv')\n",
        "\n",
        "# Use .apply(str.upper)\n",
        "for lab, row in cars.iterrows() :\n",
        "    cars[\"COUNTRY\"] = cars[\"country\"].apply(str.upper)\n",
        "\n",
        "print(cars)"
      ],
      "metadata": {
        "colab": {
          "base_uri": "https://localhost:8080/"
        },
        "id": "U20No_5PD9Mn",
        "outputId": "3d55e937-498c-4925-db6a-5778b2884e9e"
      },
      "execution_count": 27,
      "outputs": [
        {
          "output_type": "stream",
          "name": "stdout",
          "text": [
            "         country  drives_right  cars_per_cap        COUNTRY\n",
            "0  United States          True           809  UNITED STATES\n",
            "1      Australia         False           731      AUSTRALIA\n",
            "2          Japan         False           588          JAPAN\n",
            "3          India         False            18          INDIA\n",
            "4         Russia          True           200         RUSSIA\n",
            "5        Morocco          True            70        MOROCCO\n",
            "6          Egypt          True            45          EGYPT\n"
          ]
        }
      ]
    }
  ]
}