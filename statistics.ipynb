{
  "nbformat": 4,
  "nbformat_minor": 0,
  "metadata": {
    "colab": {
      "provenance": [],
      "authorship_tag": "ABX9TyOc5AJ3ah2yiQr8VRbyxGdq",
      "include_colab_link": true
    },
    "kernelspec": {
      "name": "python3",
      "display_name": "Python 3"
    },
    "language_info": {
      "name": "python"
    }
  },
  "cells": [
    {
      "cell_type": "markdown",
      "metadata": {
        "id": "view-in-github",
        "colab_type": "text"
      },
      "source": [
        "<a href=\"https://colab.research.google.com/github/shreyasstha/data/blob/main/statistics.ipynb\" target=\"_parent\"><img src=\"https://colab.research.google.com/assets/colab-badge.svg\" alt=\"Open In Colab\"/></a>"
      ]
    },
    {
      "cell_type": "markdown",
      "source": [
        "#first"
      ],
      "metadata": {
        "id": "GDwARFpBEAPd"
      }
    },
    {
      "cell_type": "code",
      "source": [
        "import pandas as pd\n",
        "import numpy as np\n",
        "import matplotlib.pyplot as plt\n",
        "\n",
        "\n",
        "df = pd.read_csv(\"LungDisease.csv\")\n",
        "print(df.head(10))"
      ],
      "metadata": {
        "colab": {
          "base_uri": "https://localhost:8080/"
        },
        "id": "S6P8Ml_8ZiLw",
        "outputId": "87729f97-d503-42c0-b69e-3ce948e68578"
      },
      "execution_count": 2,
      "outputs": [
        {
          "output_type": "stream",
          "name": "stdout",
          "text": [
            "   PEFR  Exposure\n",
            "0   390         0\n",
            "1   410         0\n",
            "2   430         0\n",
            "3   460         0\n",
            "4   420         1\n",
            "5   280         2\n",
            "6   420         2\n",
            "7   520         2\n",
            "8   610         3\n",
            "9   590         3\n"
          ]
        }
      ]
    },
    {
      "cell_type": "code",
      "source": [
        "np.mean(df[\"PEFR\"])"
      ],
      "metadata": {
        "colab": {
          "base_uri": "https://localhost:8080/"
        },
        "id": "BDrUKdnraS08",
        "outputId": "eeace225-98b2-41f5-ea9f-f0fd36f2ed48"
      },
      "execution_count": 3,
      "outputs": [
        {
          "output_type": "execute_result",
          "data": {
            "text/plain": [
              "np.float64(365.655737704918)"
            ]
          },
          "metadata": {},
          "execution_count": 3
        }
      ]
    },
    {
      "cell_type": "code",
      "source": [
        "print(np.median(df[\"PEFR\"]))"
      ],
      "metadata": {
        "colab": {
          "base_uri": "https://localhost:8080/"
        },
        "id": "K-PozfoeacN8",
        "outputId": "5f0911d0-4076-4f2e-af78-2cef17f613e5"
      },
      "execution_count": 4,
      "outputs": [
        {
          "output_type": "stream",
          "name": "stdout",
          "text": [
            "365.0\n"
          ]
        }
      ]
    },
    {
      "cell_type": "code",
      "source": [
        "import statistics\n",
        "statistics.mode(df[\"PEFR\"])"
      ],
      "metadata": {
        "colab": {
          "base_uri": "https://localhost:8080/"
        },
        "id": "PjGQ7oR-afah",
        "outputId": "5d597946-a377-4280-eaf1-639f386be14f"
      },
      "execution_count": 5,
      "outputs": [
        {
          "output_type": "execute_result",
          "data": {
            "text/plain": [
              "360"
            ]
          },
          "metadata": {},
          "execution_count": 5
        }
      ]
    },
    {
      "cell_type": "code",
      "source": [
        "mean_val =df[df[\"PEFR\"] == 420]\n",
        "\n",
        "print(np.mean(mean_val[\"Exposure\"]))"
      ],
      "metadata": {
        "colab": {
          "base_uri": "https://localhost:8080/"
        },
        "id": "GhtcC_I3ag1U",
        "outputId": "ce445443-bf1c-485b-c701-346bbe7f2284"
      },
      "execution_count": 6,
      "outputs": [
        {
          "output_type": "stream",
          "name": "stdout",
          "text": [
            "5.25\n"
          ]
        }
      ]
    },
    {
      "cell_type": "code",
      "source": [
        "df[\"PEFR\"].hist()\n",
        "plt.show()"
      ],
      "metadata": {
        "colab": {
          "base_uri": "https://localhost:8080/",
          "height": 430
        },
        "id": "QKLRlWL7a4XZ",
        "outputId": "f01c37a6-c88e-4924-d60d-3248831d75fa"
      },
      "execution_count": 7,
      "outputs": [
        {
          "output_type": "display_data",
          "data": {
            "text/plain": [
              "<Figure size 640x480 with 1 Axes>"
            ],
            "image/png": "[encoded data removed]"
          },
          "metadata": {}
        }
      ]
    },
    {
      "cell_type": "code",
      "source": [
        "print(df[\"PEFR\"].agg([np.mean, np.median]))"
      ],
      "metadata": {
        "colab": {
          "base_uri": "https://localhost:8080/"
        },
        "id": "fGJXDIcEcKJl",
        "outputId": "7749dd5c-3828-490d-a959-faedfb59b37a"
      },
      "execution_count": 8,
      "outputs": [
        {
          "output_type": "stream",
          "name": "stdout",
          "text": [
            "mean      365.655738\n",
            "median    365.000000\n",
            "Name: PEFR, dtype: float64\n"
          ]
        },
        {
          "output_type": "stream",
          "name": "stderr",
          "text": [
            "/tmp/ipython-input-4227090278.py:1: FutureWarning: The provided callable <function mean at 0x785bb0b12700> is currently using Series.mean. In a future version of pandas, the provided callable will be used directly. To keep current behavior pass the string \"mean\" instead.\n",
            "  print(df[\"PEFR\"].agg([np.mean, np.median]))\n",
            "/tmp/ipython-input-4227090278.py:1: FutureWarning: The provided callable <function median at 0x785bb0a77d80> is currently using Series.median. In a future version of pandas, the provided callable will be used directly. To keep current behavior pass the string \"median\" instead.\n",
            "  print(df[\"PEFR\"].agg([np.mean, np.median]))\n"
          ]
        }
      ]
    },
    {
      "cell_type": "code",
      "source": [
        "pefr_per_exposure = df.groupby('PEFR')['Exposure'].sum()\n",
        "\n",
        "# Compute the first and third quantiles and IQR of emissions_by_country\n",
        "q1 = np.quantile(pefr_per_exposure, 0.25)\n",
        "q3 = np.quantile(pefr_per_exposure, 0.75)\n",
        "iqr = q3 - q1\n",
        "\n",
        "# Calculate the lower and upper cutoffs for outliers\n",
        "lower = q1 - 1.5 * iqr\n",
        "upper = q3 + 1.5 * iqr\n",
        "\n",
        "# Subset emissions_by_country to find outliers\n",
        "outliers = pefr_per_exposure[(pefr_per_exposure < lower) | (pefr_per_exposure > upper )]\n",
        "print(outliers)"
      ],
      "metadata": {
        "id": "9wpnKOW5cttS",
        "colab": {
          "base_uri": "https://localhost:8080/"
        },
        "outputId": "734d7de4-cb77-4d44-a941-607656a89441"
      },
      "execution_count": 11,
      "outputs": [
        {
          "output_type": "stream",
          "name": "stdout",
          "text": [
            "PEFR\n",
            "360    132\n",
            "Name: Exposure, dtype: int64\n"
          ]
        }
      ]
    },
    {
      "cell_type": "markdown",
      "source": [
        "#variance"
      ],
      "metadata": {
        "id": "Yf-jJOWgElIR"
      }
    },
    {
      "cell_type": "code",
      "source": [
        "distance = df[\"PEFR\"] - np.mean(df[\"PEFR\"])\n",
        "print(distance)"
      ],
      "metadata": {
        "colab": {
          "base_uri": "https://localhost:8080/"
        },
        "id": "u4oeUNY9EEoh",
        "outputId": "6a788c41-d0e8-4baa-85a3-106051ac7b9b"
      },
      "execution_count": 13,
      "outputs": [
        {
          "output_type": "stream",
          "name": "stdout",
          "text": [
            "0       24.344262\n",
            "1       44.344262\n",
            "2       64.344262\n",
            "3       94.344262\n",
            "4       54.344262\n",
            "          ...    \n",
            "117     84.344262\n",
            "118    124.344262\n",
            "119    134.344262\n",
            "120      4.344262\n",
            "121     24.344262\n",
            "Name: PEFR, Length: 122, dtype: float64\n"
          ]
        }
      ]
    },
    {
      "cell_type": "code",
      "source": [
        "np.var(df[\"PEFR\"])"
      ],
      "metadata": {
        "colab": {
          "base_uri": "https://localhost:8080/"
        },
        "id": "0w8RsZW-EpRe",
        "outputId": "5ed3ed90-7d13-441e-b759-af6a0ae694d7"
      },
      "execution_count": 14,
      "outputs": [
        {
          "output_type": "execute_result",
          "data": {
            "text/plain": [
              "10962.274926095137"
            ]
          },
          "metadata": {},
          "execution_count": 14
        }
      ]
    },
    {
      "cell_type": "code",
      "source": [
        "np.var(df[\"PEFR\"], ddof = 1)"
      ],
      "metadata": {
        "colab": {
          "base_uri": "https://localhost:8080/"
        },
        "id": "wdUTlXcPE6cC",
        "outputId": "12c6bb6f-5d8b-4b35-d7d0-8f66c681cb3e"
      },
      "execution_count": 15,
      "outputs": [
        {
          "output_type": "execute_result",
          "data": {
            "text/plain": [
              "11052.87223953394"
            ]
          },
          "metadata": {},
          "execution_count": 15
        }
      ]
    },
    {
      "cell_type": "markdown",
      "source": [
        "#sd"
      ],
      "metadata": {
        "id": "5FX05QiMFDym"
      }
    },
    {
      "cell_type": "code",
      "source": [
        "np.std(df[\"PEFR\"])"
      ],
      "metadata": {
        "colab": {
          "base_uri": "https://localhost:8080/"
        },
        "id": "g_51PaqkFBjR",
        "outputId": "7790d13a-2fb8-455f-ff84-7dbd6c0058eb"
      },
      "execution_count": 16,
      "outputs": [
        {
          "output_type": "execute_result",
          "data": {
            "text/plain": [
              "104.70088311993905"
            ]
          },
          "metadata": {},
          "execution_count": 16
        }
      ]
    },
    {
      "cell_type": "code",
      "source": [
        "np.std(df[\"PEFR\"], ddof=1)"
      ],
      "metadata": {
        "colab": {
          "base_uri": "https://localhost:8080/"
        },
        "id": "zLEmAl_1FH4M",
        "outputId": "2197ffa3-e3f0-4697-a41e-1f1d867f3830"
      },
      "execution_count": 17,
      "outputs": [
        {
          "output_type": "execute_result",
          "data": {
            "text/plain": [
              "105.13264117073221"
            ]
          },
          "metadata": {},
          "execution_count": 17
        }
      ]
    },
    {
      "cell_type": "code",
      "source": [
        "plt.boxplot(df[\"PEFR\"])"
      ],
      "metadata": {
        "colab": {
          "base_uri": "https://localhost:8080/",
          "height": 569
        },
        "id": "caeQIOdyFLjE",
        "outputId": "2982d5d5-d866-4015-db3b-495cc57f5ae0"
      },
      "execution_count": 18,
      "outputs": [
        {
          "output_type": "execute_result",
          "data": {
            "text/plain": [
              "{'whiskers': [<matplotlib.lines.Line2D at 0x785b83252450>,\n",
              "  <matplotlib.lines.Line2D at 0x785b83250910>],\n",
              " 'caps': [<matplotlib.lines.Line2D at 0x785b8312c950>,\n",
              "  <matplotlib.lines.Line2D at 0x785b8312f710>],\n",
              " 'boxes': [<matplotlib.lines.Line2D at 0x785b83252210>],\n",
              " 'medians': [<matplotlib.lines.Line2D at 0x785b8312d650>],\n",
              " 'fliers': [<matplotlib.lines.Line2D at 0x785b8312f310>],\n",
              " 'means': []}"
            ]
          },
          "metadata": {},
          "execution_count": 18
        },
        {
          "output_type": "display_data",
          "data": {
            "text/plain": [
              "<Figure size 640x480 with 1 Axes>"
            ],
            "image/png": "[encoded data removed]"
          },
          "metadata": {}
        }
      ]
    },
    {
      "cell_type": "code",
      "source": [],
      "metadata": {
        "id": "JsfQngbdFRE4"
      },
      "execution_count": null,
      "outputs": []
    }
  ]
}