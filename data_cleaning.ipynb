{
  "nbformat": 4,
  "nbformat_minor": 0,
  "metadata": {
    "colab": {
      "provenance": [],
      "toc_visible": true,
      "authorship_tag": "ABX9TyOl0JqYrvhD869H6TdPjwmJ",
      "include_colab_link": true
    },
    "kernelspec": {
      "name": "python3",
      "display_name": "Python 3"
    },
    "language_info": {
      "name": "python"
    }
  },
  "cells": [
    {
      "cell_type": "markdown",
      "metadata": {
        "id": "view-in-github",
        "colab_type": "text"
      },
      "source": [
        "<a href=\"https://colab.research.google.com/github/shreyasstha/data/blob/main/data_cleaning.ipynb\" target=\"_parent\"><img src=\"https://colab.research.google.com/assets/colab-badge.svg\" alt=\"Open In Colab\"/></a>"
      ]
    },
    {
      "cell_type": "markdown",
      "source": [
        "#data cleaning"
      ],
      "metadata": {
        "id": "CKxNbK5EqC-2"
      }
    },
    {
      "cell_type": "code",
      "execution_count": 2,
      "metadata": {
        "colab": {
          "base_uri": "https://localhost:8080/"
        },
        "id": "L5vrohYJh29O",
        "outputId": "5738a949-6b2c-44bf-c82e-e77320f85d43"
      },
      "outputs": [
        {
          "output_type": "stream",
          "name": "stdout",
          "text": [
            "     Name   Age Grade  Gender  Subject  Score\n",
            "0   Alice  20.0     A  Female    Maths   88.0\n",
            "1     Bob  19.0   NaN    Male      NaN   75.0\n",
            "2   Alice   NaN     B    Male  Science    NaN\n",
            "3   David  21.0     A     NaN  English   92.0\n",
            "4     Bob  22.0     C  Female   Nepali   68.0\n",
            "5   Frank  20.0     B    Male   Social   80.0\n",
            "6   David   NaN     A  Female      NaN   85.0\n",
            "7  Hannah  23.0   NaN  Female   Health    NaN\n",
            "8  Hannah  21.0     B     NaN  English   77.0\n",
            "9   David  20.0     C    Male   Nepali   79.0\n"
          ]
        }
      ],
      "source": [
        "import pandas as pd\n",
        "df = pd.read_csv('/content/student_info.csv')\n",
        "print(df)"
      ]
    },
    {
      "cell_type": "code",
      "source": [
        "print(df.columns)\n"
      ],
      "metadata": {
        "colab": {
          "base_uri": "https://localhost:8080/"
        },
        "id": "jaoV0QgNiZym",
        "outputId": "08a7129b-9214-41e5-8e7e-5a0ed807c6cd"
      },
      "execution_count": 3,
      "outputs": [
        {
          "output_type": "stream",
          "name": "stdout",
          "text": [
            "Index(['Name', 'Age', 'Grade', 'Gender', 'Subject', 'Score'], dtype='object')\n"
          ]
        }
      ]
    },
    {
      "cell_type": "code",
      "source": [
        "print(df.isnull().sum())\n"
      ],
      "metadata": {
        "colab": {
          "base_uri": "https://localhost:8080/"
        },
        "id": "_--xGG-FlaD8",
        "outputId": "e1710056-dde8-447a-d260-08e816986400"
      },
      "execution_count": 4,
      "outputs": [
        {
          "output_type": "stream",
          "name": "stdout",
          "text": [
            "Name       0\n",
            "Age        2\n",
            "Grade      2\n",
            "Gender     2\n",
            "Subject    2\n",
            "Score      2\n",
            "dtype: int64\n"
          ]
        }
      ]
    },
    {
      "cell_type": "code",
      "source": [
        "#dropped the column with NaN\n",
        "df_cleaned = df.dropna()\n",
        "print(df_cleaned)\n"
      ],
      "metadata": {
        "colab": {
          "base_uri": "https://localhost:8080/"
        },
        "id": "jpuIoiJpldiN",
        "outputId": "ede57289-42f1-4520-acb6-1b2ee1840f7f"
      },
      "execution_count": 5,
      "outputs": [
        {
          "output_type": "stream",
          "name": "stdout",
          "text": [
            "    Name   Age Grade  Gender Subject  Score\n",
            "0  Alice  20.0     A  Female   Maths   88.0\n",
            "4    Bob  22.0     C  Female  Nepali   68.0\n",
            "5  Frank  20.0     B    Male  Social   80.0\n",
            "9  David  20.0     C    Male  Nepali   79.0\n"
          ]
        }
      ]
    },
    {
      "cell_type": "code",
      "source": [
        "df['Age'] = df['Age'].fillna(df['Age'].mean())\n"
      ],
      "metadata": {
        "id": "4HWRh4vfnLxT"
      },
      "execution_count": 6,
      "outputs": []
    },
    {
      "cell_type": "code",
      "source": [
        "df['Grade']= df['Grade'].fillna(df['Grade'].mode()[0])\n",
        "\n"
      ],
      "metadata": {
        "id": "AuUPl7p8mo33"
      },
      "execution_count": 7,
      "outputs": []
    },
    {
      "cell_type": "code",
      "source": [
        "df['Gender']= df['Gender'].fillna('Not Specified')\n"
      ],
      "metadata": {
        "id": "0TIZQutMm1QE"
      },
      "execution_count": 8,
      "outputs": []
    },
    {
      "cell_type": "code",
      "source": [
        "df['Score'] = df['Score'].fillna(df['Score'].median())\n"
      ],
      "metadata": {
        "id": "wT_VZDDInhjt"
      },
      "execution_count": 9,
      "outputs": []
    },
    {
      "cell_type": "code",
      "source": [
        "df['Subject'] = df['Subject'].fillna(\"Moral\")"
      ],
      "metadata": {
        "id": "v0b4LOFlED8p"
      },
      "execution_count": 11,
      "outputs": []
    },
    {
      "cell_type": "code",
      "source": [
        "#df['Age'] = df['Age'].fillna(13)\n"
      ],
      "metadata": {
        "id": "p9O-QOcDohJh"
      },
      "execution_count": null,
      "outputs": []
    },
    {
      "cell_type": "code",
      "source": [
        "print(df)"
      ],
      "metadata": {
        "colab": {
          "base_uri": "https://localhost:8080/"
        },
        "id": "SsHEwebJo5fm",
        "outputId": "da64cb8f-42f3-46e2-92b2-b02ff63dc0bf"
      },
      "execution_count": 12,
      "outputs": [
        {
          "output_type": "stream",
          "name": "stdout",
          "text": [
            "     Name    Age Grade         Gender  Subject  Score\n",
            "0   Alice  20.00     A         Female    Maths   88.0\n",
            "1     Bob  19.00     A           Male    Moral   75.0\n",
            "2   Alice  20.75     B           Male  Science   79.5\n",
            "3   David  21.00     A  Not Specified  English   92.0\n",
            "4     Bob  22.00     C         Female   Nepali   68.0\n",
            "5   Frank  20.00     B           Male   Social   80.0\n",
            "6   David  20.75     A         Female    Moral   85.0\n",
            "7  Hannah  23.00     A         Female   Health   79.5\n",
            "8  Hannah  21.00     B  Not Specified  English   77.0\n",
            "9   David  20.00     C           Male   Nepali   79.0\n"
          ]
        }
      ]
    },
    {
      "cell_type": "code",
      "source": [
        "df.to_csv(\"cleaned_students.csv\", index=False)\n"
      ],
      "metadata": {
        "id": "-aG1A2v4pDyf"
      },
      "execution_count": 13,
      "outputs": []
    },
    {
      "cell_type": "markdown",
      "source": [
        "#grouped by"
      ],
      "metadata": {
        "id": "nUtQE5NiEVcq"
      }
    },
    {
      "cell_type": "code",
      "source": [
        "#sales_A = sales[sales[\"type\"] == \"A\"][\"weekly_sales\"].sum()\n",
        "grouped = df[df[\"Subject\"] == \"English\"][\"Score\"].mean()\n",
        "print(grouped)\n",
        "print(df)"
      ],
      "metadata": {
        "colab": {
          "base_uri": "https://localhost:8080/"
        },
        "id": "9gp0tIwwEXeo",
        "outputId": "4a4d8da8-8456-43be-dd9a-7a1bc8379be9"
      },
      "execution_count": 16,
      "outputs": [
        {
          "output_type": "stream",
          "name": "stdout",
          "text": [
            "84.5\n",
            "     Name    Age Grade         Gender  Subject  Score\n",
            "0   Alice  20.00     A         Female    Maths   88.0\n",
            "1     Bob  19.00     A           Male    Moral   75.0\n",
            "2   Alice  20.75     B           Male  Science   79.5\n",
            "3   David  21.00     A  Not Specified  English   92.0\n",
            "4     Bob  22.00     C         Female   Nepali   68.0\n",
            "5   Frank  20.00     B           Male   Social   80.0\n",
            "6   David  20.75     A         Female    Moral   85.0\n",
            "7  Hannah  23.00     A         Female   Health   79.5\n",
            "8  Hannah  21.00     B  Not Specified  English   77.0\n",
            "9   David  20.00     C           Male   Nepali   79.0\n"
          ]
        }
      ]
    },
    {
      "cell_type": "code",
      "source": [
        "grouped = df.groupby(['Subject'])[\"Score\"].sum()\n",
        "print(grouped)"
      ],
      "metadata": {
        "colab": {
          "base_uri": "https://localhost:8080/"
        },
        "id": "draGp1diGd2K",
        "outputId": "997cd1ce-faae-4981-b17e-d96e32485875"
      },
      "execution_count": 24,
      "outputs": [
        {
          "output_type": "stream",
          "name": "stdout",
          "text": [
            "Subject\n",
            "English    169.0\n",
            "Health      79.5\n",
            "Maths       88.0\n",
            "Moral      160.0\n",
            "Nepali     147.0\n",
            "Science     79.5\n",
            "Social      80.0\n",
            "Name: Score, dtype: float64\n"
          ]
        }
      ]
    },
    {
      "cell_type": "code",
      "source": [
        "grouped = df.groupby(['Subject'])[\"Score\"].agg([max, min, sum])\n",
        "print(grouped)"
      ],
      "metadata": {
        "colab": {
          "base_uri": "https://localhost:8080/"
        },
        "id": "Z5KITY1oIDs7",
        "outputId": "7c8e6b0d-5163-41f7-918e-d966e9115ac0"
      },
      "execution_count": 26,
      "outputs": [
        {
          "output_type": "stream",
          "name": "stdout",
          "text": [
            "[          max   min    sum\n",
            "Subject                   \n",
            "English  92.0  77.0  169.0\n",
            "Health   79.5  79.5   79.5\n",
            "Maths    88.0  88.0   88.0\n",
            "Moral    85.0  75.0  160.0\n",
            "Nepali   79.0  68.0  147.0\n",
            "Science  79.5  79.5   79.5\n",
            "Social   80.0  80.0   80.0]\n"
          ]
        },
        {
          "output_type": "stream",
          "name": "stderr",
          "text": [
            "/tmp/ipython-input-4273034962.py:1: FutureWarning: The provided callable <built-in function max> is currently using SeriesGroupBy.max. In a future version of pandas, the provided callable will be used directly. To keep current behavior pass the string \"max\" instead.\n",
            "  grouped = df.groupby(['Subject'])[\"Score\"].agg([max, min, sum])\n",
            "/tmp/ipython-input-4273034962.py:1: FutureWarning: The provided callable <built-in function min> is currently using SeriesGroupBy.min. In a future version of pandas, the provided callable will be used directly. To keep current behavior pass the string \"min\" instead.\n",
            "  grouped = df.groupby(['Subject'])[\"Score\"].agg([max, min, sum])\n",
            "/tmp/ipython-input-4273034962.py:1: FutureWarning: The provided callable <built-in function sum> is currently using SeriesGroupBy.sum. In a future version of pandas, the provided callable will be used directly. To keep current behavior pass the string \"sum\" instead.\n",
            "  grouped = df.groupby(['Subject'])[\"Score\"].agg([max, min, sum])\n"
          ]
        }
      ]
    },
    {
      "cell_type": "code",
      "source": [
        "#group by pivot table\n",
        "pivoted= df.pivot_table(values=\"Score\", index=\"Subject\", aggfunc=\"sum\")\n",
        "print(pivoted)"
      ],
      "metadata": {
        "colab": {
          "base_uri": "https://localhost:8080/"
        },
        "id": "6I01Xa2sKlqy",
        "outputId": "810a5b76-ed55-4e6c-cf36-55dec50b733a"
      },
      "execution_count": 29,
      "outputs": [
        {
          "output_type": "stream",
          "name": "stdout",
          "text": [
            "         Score\n",
            "Subject       \n",
            "English  169.0\n",
            "Health    79.5\n",
            "Maths     88.0\n",
            "Moral    160.0\n",
            "Nepali   147.0\n",
            "Science   79.5\n",
            "Social    80.0\n"
          ]
        }
      ]
    },
    {
      "cell_type": "code",
      "source": [
        "pivoted = df.pivot_table(values=\"Score\", index=\"Subject\", aggfunc=\"sum\", margins=True)\n",
        "print(pivoted)"
      ],
      "metadata": {
        "colab": {
          "base_uri": "https://localhost:8080/"
        },
        "id": "mz5IfI-LK1gM",
        "outputId": "d55e753f-827a-46f3-c713-71f6cf321792"
      },
      "execution_count": 30,
      "outputs": [
        {
          "output_type": "stream",
          "name": "stdout",
          "text": [
            "         Score\n",
            "Subject       \n",
            "English  169.0\n",
            "Health    79.5\n",
            "Maths     88.0\n",
            "Moral    160.0\n",
            "Nepali   147.0\n",
            "Science   79.5\n",
            "Social    80.0\n",
            "All      803.0\n"
          ]
        }
      ]
    },
    {
      "cell_type": "code",
      "source": [
        "df.pivot_table(values=\"Age\", index=\"Name\", fill_value=0)"
      ],
      "metadata": {
        "colab": {
          "base_uri": "https://localhost:8080/",
          "height": 238
        },
        "id": "q1-jjrEvLCQI",
        "outputId": "8330e8e6-5a9b-4b42-f513-cd21da1ee9ff"
      },
      "execution_count": 34,
      "outputs": [
        {
          "output_type": "execute_result",
          "data": {
            "text/plain": [
              "              Age\n",
              "Name             \n",
              "Alice   20.375000\n",
              "Bob     20.500000\n",
              "David   20.583333\n",
              "Frank   20.000000\n",
              "Hannah  22.000000"
            ],
            "text/html": [
              "\n",
              "  <div id=\"df-22c21675-aa14-47de-bded-ec32a5ce79f1\" class=\"colab-df-container\">\n",
              "    <div>\n",
              "<style scoped>\n",
              "    .dataframe tbody tr th:only-of-type {\n",
              "        vertical-align: middle;\n",
              "    }\n",
              "\n",
              "    .dataframe tbody tr th {\n",
              "        vertical-align: top;\n",
              "    }\n",
              "\n",
              "    .dataframe thead th {\n",
              "        text-align: right;\n",
              "    }\n",
              "</style>\n",
              "<table border=\"1\" class=\"dataframe\">\n",
              "  <thead>\n",
              "    <tr style=\"text-align: right;\">\n",
              "      <th></th>\n",
              "      <th>Age</th>\n",
              "    </tr>\n",
              "    <tr>\n",
              "      <th>Name</th>\n",
              "      <th></th>\n",
              "    </tr>\n",
              "  </thead>\n",
              "  <tbody>\n",
              "    <tr>\n",
              "      <th>Alice</th>\n",
              "      <td>20.375000</td>\n",
              "    </tr>\n",
              "    <tr>\n",
              "      <th>Bob</th>\n",
              "      <td>20.500000</td>\n",
              "    </tr>\n",
              "    <tr>\n",
              "      <th>David</th>\n",
              "      <td>20.583333</td>\n",
              "    </tr>\n",
              "    <tr>\n",
              "      <th>Frank</th>\n",
              "      <td>20.000000</td>\n",
              "    </tr>\n",
              "    <tr>\n",
              "      <th>Hannah</th>\n",
              "      <td>22.000000</td>\n",
              "    </tr>\n",
              "  </tbody>\n",
              "</table>\n",
              "</div>\n",
              "    <div class=\"colab-df-buttons\">\n",
              "\n",
              "  <div class=\"colab-df-container\">\n",
              "    <button class=\"colab-df-convert\" onclick=\"convertToInteractive('df-22c21675-aa14-47de-bded-ec32a5ce79f1')\"\n",
              "            title=\"Convert this dataframe to an interactive table.\"\n",
              "            style=\"display:none;\">\n",
              "\n",
              "  <svg xmlns=\"http://www.w3.org/2000/svg\" height=\"24px\" viewBox=\"0 -960 960 960\">\n",
              "    <path d=\"M120-120v-720h720v720H120Zm60-500h600v-160H180v160Zm220 220h160v-160H400v160Zm0 220h160v-160H400v160ZM180-400h160v-160H180v160Zm440 0h160v-160H620v160ZM180-180h160v-160H180v160Zm440 0h160v-160H620v160Z\"/>\n",
              "  </svg>\n",
              "    </button>\n",
              "\n",
              "  <style>\n",
              "    .colab-df-container {\n",
              "      display:flex;\n",
              "      gap: 12px;\n",
              "    }\n",
              "\n",
              "    .colab-df-convert {\n",
              "      background-color: #E8F0FE;\n",
              "      border: none;\n",
              "      border-radius: 50%;\n",
              "      cursor: pointer;\n",
              "      display: none;\n",
              "      fill: #1967D2;\n",
              "      height: 32px;\n",
              "      padding: 0 0 0 0;\n",
              "      width: 32px;\n",
              "    }\n",
              "\n",
              "    .colab-df-convert:hover {\n",
              "      background-color: #E2EBFA;\n",
              "      box-shadow: 0px 1px 2px rgba(60, 64, 67, 0.3), 0px 1px 3px 1px rgba(60, 64, 67, 0.15);\n",
              "      fill: #174EA6;\n",
              "    }\n",
              "\n",
              "    .colab-df-buttons div {\n",
              "      margin-bottom: 4px;\n",
              "    }\n",
              "\n",
              "    [theme=dark] .colab-df-convert {\n",
              "      background-color: #3B4455;\n",
              "      fill: #D2E3FC;\n",
              "    }\n",
              "\n",
              "    [theme=dark] .colab-df-convert:hover {\n",
              "      background-color: #434B5C;\n",
              "      box-shadow: 0px 1px 3px 1px rgba(0, 0, 0, 0.15);\n",
              "      filter: drop-shadow(0px 1px 2px rgba(0, 0, 0, 0.3));\n",
              "      fill: #FFFFFF;\n",
              "    }\n",
              "  </style>\n",
              "\n",
              "    <script>\n",
              "      const buttonEl =\n",
              "        document.querySelector('#df-22c21675-aa14-47de-bded-ec32a5ce79f1 button.colab-df-convert');\n",
              "      buttonEl.style.display =\n",
              "        google.colab.kernel.accessAllowed ? 'block' : 'none';\n",
              "\n",
              "      async function convertToInteractive(key) {\n",
              "        const element = document.querySelector('#df-22c21675-aa14-47de-bded-ec32a5ce79f1');\n",
              "        const dataTable =\n",
              "          await google.colab.kernel.invokeFunction('convertToInteractive',\n",
              "                                                    [key], {});\n",
              "        if (!dataTable) return;\n",
              "\n",
              "        const docLinkHtml = 'Like what you see? Visit the ' +\n",
              "          '<a target=\"_blank\" href=https://colab.research.google.com/notebooks/data_table.ipynb>data table notebook</a>'\n",
              "          + ' to learn more about interactive tables.';\n",
              "        element.innerHTML = '';\n",
              "        dataTable['output_type'] = 'display_data';\n",
              "        await google.colab.output.renderOutput(dataTable, element);\n",
              "        const docLink = document.createElement('div');\n",
              "        docLink.innerHTML = docLinkHtml;\n",
              "        element.appendChild(docLink);\n",
              "      }\n",
              "    </script>\n",
              "  </div>\n",
              "\n",
              "\n",
              "    <div id=\"df-75c17076-c576-44df-abac-1cccce5192bf\">\n",
              "      <button class=\"colab-df-quickchart\" onclick=\"quickchart('df-75c17076-c576-44df-abac-1cccce5192bf')\"\n",
              "                title=\"Suggest charts\"\n",
              "                style=\"display:none;\">\n",
              "\n",
              "<svg xmlns=\"http://www.w3.org/2000/svg\" height=\"24px\"viewBox=\"0 0 24 24\"\n",
              "     width=\"24px\">\n",
              "    <g>\n",
              "        <path d=\"M19 3H5c-1.1 0-2 .9-2 2v14c0 1.1.9 2 2 2h14c1.1 0 2-.9 2-2V5c0-1.1-.9-2-2-2zM9 17H7v-7h2v7zm4 0h-2V7h2v10zm4 0h-2v-4h2v4z\"/>\n",
              "    </g>\n",
              "</svg>\n",
              "      </button>\n",
              "\n",
              "<style>\n",
              "  .colab-df-quickchart {\n",
              "      --bg-color: #E8F0FE;\n",
              "      --fill-color: #1967D2;\n",
              "      --hover-bg-color: #E2EBFA;\n",
              "      --hover-fill-color: #174EA6;\n",
              "      --disabled-fill-color: #AAA;\n",
              "      --disabled-bg-color: #DDD;\n",
              "  }\n",
              "\n",
              "  [theme=dark] .colab-df-quickchart {\n",
              "      --bg-color: #3B4455;\n",
              "      --fill-color: #D2E3FC;\n",
              "      --hover-bg-color: #434B5C;\n",
              "      --hover-fill-color: #FFFFFF;\n",
              "      --disabled-bg-color: #3B4455;\n",
              "      --disabled-fill-color: #666;\n",
              "  }\n",
              "\n",
              "  .colab-df-quickchart {\n",
              "    background-color: var(--bg-color);\n",
              "    border: none;\n",
              "    border-radius: 50%;\n",
              "    cursor: pointer;\n",
              "    display: none;\n",
              "    fill: var(--fill-color);\n",
              "    height: 32px;\n",
              "    padding: 0;\n",
              "    width: 32px;\n",
              "  }\n",
              "\n",
              "  .colab-df-quickchart:hover {\n",
              "    background-color: var(--hover-bg-color);\n",
              "    box-shadow: 0 1px 2px rgba(60, 64, 67, 0.3), 0 1px 3px 1px rgba(60, 64, 67, 0.15);\n",
              "    fill: var(--button-hover-fill-color);\n",
              "  }\n",
              "\n",
              "  .colab-df-quickchart-complete:disabled,\n",
              "  .colab-df-quickchart-complete:disabled:hover {\n",
              "    background-color: var(--disabled-bg-color);\n",
              "    fill: var(--disabled-fill-color);\n",
              "    box-shadow: none;\n",
              "  }\n",
              "\n",
              "  .colab-df-spinner {\n",
              "    border: 2px solid var(--fill-color);\n",
              "    border-color: transparent;\n",
              "    border-bottom-color: var(--fill-color);\n",
              "    animation:\n",
              "      spin 1s steps(1) infinite;\n",
              "  }\n",
              "\n",
              "  @keyframes spin {\n",
              "    0% {\n",
              "      border-color: transparent;\n",
              "      border-bottom-color: var(--fill-color);\n",
              "      border-left-color: var(--fill-color);\n",
              "    }\n",
              "    20% {\n",
              "      border-color: transparent;\n",
              "      border-left-color: var(--fill-color);\n",
              "      border-top-color: var(--fill-color);\n",
              "    }\n",
              "    30% {\n",
              "      border-color: transparent;\n",
              "      border-left-color: var(--fill-color);\n",
              "      border-top-color: var(--fill-color);\n",
              "      border-right-color: var(--fill-color);\n",
              "    }\n",
              "    40% {\n",
              "      border-color: transparent;\n",
              "      border-right-color: var(--fill-color);\n",
              "      border-top-color: var(--fill-color);\n",
              "    }\n",
              "    60% {\n",
              "      border-color: transparent;\n",
              "      border-right-color: var(--fill-color);\n",
              "    }\n",
              "    80% {\n",
              "      border-color: transparent;\n",
              "      border-right-color: var(--fill-color);\n",
              "      border-bottom-color: var(--fill-color);\n",
              "    }\n",
              "    90% {\n",
              "      border-color: transparent;\n",
              "      border-bottom-color: var(--fill-color);\n",
              "    }\n",
              "  }\n",
              "</style>\n",
              "\n",
              "      <script>\n",
              "        async function quickchart(key) {\n",
              "          const quickchartButtonEl =\n",
              "            document.querySelector('#' + key + ' button');\n",
              "          quickchartButtonEl.disabled = true;  // To prevent multiple clicks.\n",
              "          quickchartButtonEl.classList.add('colab-df-spinner');\n",
              "          try {\n",
              "            const charts = await google.colab.kernel.invokeFunction(\n",
              "                'suggestCharts', [key], {});\n",
              "          } catch (error) {\n",
              "            console.error('Error during call to suggestCharts:', error);\n",
              "          }\n",
              "          quickchartButtonEl.classList.remove('colab-df-spinner');\n",
              "          quickchartButtonEl.classList.add('colab-df-quickchart-complete');\n",
              "        }\n",
              "        (() => {\n",
              "          let quickchartButtonEl =\n",
              "            document.querySelector('#df-75c17076-c576-44df-abac-1cccce5192bf button');\n",
              "          quickchartButtonEl.style.display =\n",
              "            google.colab.kernel.accessAllowed ? 'block' : 'none';\n",
              "        })();\n",
              "      </script>\n",
              "    </div>\n",
              "\n",
              "    </div>\n",
              "  </div>\n"
            ],
            "application/vnd.google.colaboratory.intrinsic+json": {
              "type": "dataframe",
              "summary": "{\n  \"name\": \"df\",\n  \"rows\": 5,\n  \"fields\": [\n    {\n      \"column\": \"Name\",\n      \"properties\": {\n        \"dtype\": \"string\",\n        \"num_unique_values\": 5,\n        \"samples\": [\n          \"Bob\",\n          \"Hannah\",\n          \"David\"\n        ],\n        \"semantic_type\": \"\",\n        \"description\": \"\"\n      }\n    },\n    {\n      \"column\": \"Age\",\n      \"properties\": {\n        \"dtype\": \"number\",\n        \"std\": 0.764671316463631,\n        \"min\": 20.0,\n        \"max\": 22.0,\n        \"num_unique_values\": 5,\n        \"samples\": [\n          20.5,\n          22.0,\n          20.583333333333332\n        ],\n        \"semantic_type\": \"\",\n        \"description\": \"\"\n      }\n    }\n  ]\n}"
            }
          },
          "metadata": {},
          "execution_count": 34
        }
      ]
    },
    {
      "cell_type": "markdown",
      "source": [
        "#data visulatization\n"
      ],
      "metadata": {
        "id": "ISRjszr-p_uq"
      }
    },
    {
      "cell_type": "code",
      "source": [
        "import matplotlib.pyplot as plt\n",
        "import seaborn as sns\n",
        "import pandas as pd\n"
      ],
      "metadata": {
        "id": "j_J5K473pqi1"
      },
      "execution_count": null,
      "outputs": []
    },
    {
      "cell_type": "code",
      "source": [
        "# Set style\n",
        "sns.set(style=\"whitegrid\")\n",
        "\n",
        "# Group by Gender and plot average Score\n",
        "sns.barplot(data=df, x='Gender', y='Score', estimator='mean')\n",
        "plt.title(\"Average Score by Gender\")\n",
        "plt.ylabel(\"Average Score\")\n",
        "plt.xlabel(\"Gender\")\n",
        "plt.show()\n"
      ],
      "metadata": {
        "colab": {
          "base_uri": "https://localhost:8080/",
          "height": 480
        },
        "id": "ltd7IDvkqLxh",
        "outputId": "86b76ad5-5bcf-4f4d-8f33-1512c996aae7"
      },
      "execution_count": null,
      "outputs": [
        {
          "output_type": "display_data",
          "data": {
            "text/plain": [
              "<Figure size 640x480 with 1 Axes>"
            ],
            "image/png": "[encoded data removed]"
          },
          "metadata": {}
        }
      ]
    },
    {
      "cell_type": "code",
      "source": [
        "#histogram\n",
        "sns.histplot(data=df, x='Score', bins=5, kde=True, color='skyblue')\n",
        "plt.title(\"Histogram of Student Scores\")\n",
        "plt.xlabel(\"Score\")\n",
        "plt.ylabel(\"Frequency\")\n",
        "plt.show()\n"
      ],
      "metadata": {
        "colab": {
          "base_uri": "https://localhost:8080/",
          "height": 480
        },
        "id": "fvmtyPK8qQoy",
        "outputId": "fb1fe9c7-2226-49fb-9b2d-923581f47340"
      },
      "execution_count": null,
      "outputs": [
        {
          "output_type": "display_data",
          "data": {
            "text/plain": [
              "<Figure size 640x480 with 1 Axes>"
            ],
            "image/png": "[encoded data removed]"
          },
          "metadata": {}
        }
      ]
    },
    {
      "cell_type": "code",
      "source": [
        "plt.figure(figsize=(8, 5))\n",
        "sns.scatterplot(data=df, x='Age', y='Score', hue='Gender')\n",
        "plt.title(\"Age vs Score (colored by Gender)\")\n",
        "plt.xlabel(\"Age\")\n",
        "plt.ylabel(\"Score\")\n",
        "plt.legend()\n",
        "plt.show()\n"
      ],
      "metadata": {
        "colab": {
          "base_uri": "https://localhost:8080/",
          "height": 496
        },
        "id": "4yjzwUaPqfxc",
        "outputId": "76a87611-0718-479c-f6bf-9bd32f24bd9e"
      },
      "execution_count": null,
      "outputs": [
        {
          "output_type": "display_data",
          "data": {
            "text/plain": [
              "<Figure size 800x500 with 1 Axes>"
            ],
            "image/png": "[encoded data removed]"
          },
          "metadata": {}
        }
      ]
    },
    {
      "cell_type": "code",
      "source": [],
      "metadata": {
        "id": "adbDE-Jxqmrr"
      },
      "execution_count": null,
      "outputs": []
    }
  ]
}