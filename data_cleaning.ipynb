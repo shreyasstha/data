{
  "nbformat": 4,
  "nbformat_minor": 0,
  "metadata": {
    "colab": {
      "provenance": [],
      "authorship_tag": "ABX9TyPQC8wLITTWTpeE5LZRhExD",
      "include_colab_link": true
    },
    "kernelspec": {
      "name": "python3",
      "display_name": "Python 3"
    },
    "language_info": {
      "name": "python"
    }
  },
  "cells": [
    {
      "cell_type": "markdown",
      "metadata": {
        "id": "view-in-github",
        "colab_type": "text"
      },
      "source": [
        "<a href=\"https://colab.research.google.com/github/shreyasstha/data/blob/main/data_cleaning.ipynb\" target=\"_parent\"><img src=\"https://colab.research.google.com/assets/colab-badge.svg\" alt=\"Open In Colab\"/></a>"
      ]
    },
    {
      "cell_type": "code",
      "execution_count": 18,
      "metadata": {
        "colab": {
          "base_uri": "https://localhost:8080/"
        },
        "id": "L5vrohYJh29O",
        "outputId": "a2f31614-d612-413a-c37f-1fa72d2bab4f"
      },
      "outputs": [
        {
          "output_type": "stream",
          "name": "stdout",
          "text": [
            "      Name   Age Grade  Gender  Score\n",
            "0    Alice  20.0     A  Female   88.0\n",
            "1      Bob  19.0   NaN    Male   75.0\n",
            "2  Charlie   NaN     B    Male    NaN\n",
            "3    David  21.0     A     NaN   92.0\n",
            "4      Eva  22.0     C  Female   68.0\n",
            "5    Frank  20.0     B    Male   80.0\n",
            "6    Grace   NaN     A  Female   85.0\n",
            "7   Hannah  23.0   NaN  Female    NaN\n",
            "8      Ian  21.0     B     NaN   77.0\n",
            "9     Jack  20.0     C    Male   79.0\n"
          ]
        }
      ],
      "source": [
        "import pandas as pd\n",
        "df = pd.read_csv('/content/student_info.csv')\n",
        "print(df)"
      ]
    },
    {
      "cell_type": "code",
      "source": [
        "print(df.columns)\n"
      ],
      "metadata": {
        "colab": {
          "base_uri": "https://localhost:8080/"
        },
        "id": "jaoV0QgNiZym",
        "outputId": "74ec07da-5c0c-410b-a32f-eb8dd4161d50"
      },
      "execution_count": 9,
      "outputs": [
        {
          "output_type": "stream",
          "name": "stdout",
          "text": [
            "Index(['Name', 'Age', 'Grade', 'Gender', 'Score'], dtype='object')\n"
          ]
        }
      ]
    },
    {
      "cell_type": "code",
      "source": [
        "print(df.isnull().sum())\n"
      ],
      "metadata": {
        "colab": {
          "base_uri": "https://localhost:8080/"
        },
        "id": "_--xGG-FlaD8",
        "outputId": "a9d2709f-2124-4844-9bd5-8f41d76f072b"
      },
      "execution_count": 10,
      "outputs": [
        {
          "output_type": "stream",
          "name": "stdout",
          "text": [
            "Name      0\n",
            "Age       2\n",
            "Grade     2\n",
            "Gender    2\n",
            "Score     2\n",
            "dtype: int64\n"
          ]
        }
      ]
    },
    {
      "cell_type": "code",
      "source": [
        "#dropped the column with NaN\n",
        "df_cleaned = df.dropna()\n",
        "print(df_cleaned)\n"
      ],
      "metadata": {
        "colab": {
          "base_uri": "https://localhost:8080/"
        },
        "id": "jpuIoiJpldiN",
        "outputId": "78ec7fdc-2144-4254-91be-d04b4910d97a"
      },
      "execution_count": 21,
      "outputs": [
        {
          "output_type": "stream",
          "name": "stdout",
          "text": [
            "    Name    Age Grade  Gender  Score\n",
            "0  Alice  20.00     A  Female   88.0\n",
            "4    Eva  22.00     C  Female   68.0\n",
            "5  Frank  20.00     B    Male   80.0\n",
            "6  Grace  20.75     A  Female   85.0\n",
            "9   Jack  20.00     C    Male   79.0\n"
          ]
        }
      ]
    },
    {
      "cell_type": "code",
      "source": [
        "df['Age'] = df['Age'].fillna(df['Age'].mean())\n"
      ],
      "metadata": {
        "id": "4HWRh4vfnLxT"
      },
      "execution_count": 54,
      "outputs": []
    },
    {
      "cell_type": "code",
      "source": [
        "df['Grade']= df['Grade'].fillna(df['Grade'].mode()[0])\n",
        "\n"
      ],
      "metadata": {
        "id": "AuUPl7p8mo33"
      },
      "execution_count": 50,
      "outputs": []
    },
    {
      "cell_type": "code",
      "source": [
        "df['Gender']= df['Gender'].fillna('Not Specified')\n"
      ],
      "metadata": {
        "id": "0TIZQutMm1QE"
      },
      "execution_count": 51,
      "outputs": []
    },
    {
      "cell_type": "code",
      "source": [
        "df['Score'] = df['Score'].fillna(df['Score'].median())\n"
      ],
      "metadata": {
        "id": "wT_VZDDInhjt"
      },
      "execution_count": 52,
      "outputs": []
    },
    {
      "cell_type": "code",
      "source": [
        "#df['Age'] = df['Age'].fillna(13)\n"
      ],
      "metadata": {
        "id": "p9O-QOcDohJh"
      },
      "execution_count": 47,
      "outputs": []
    },
    {
      "cell_type": "code",
      "source": [
        "print(df)"
      ],
      "metadata": {
        "colab": {
          "base_uri": "https://localhost:8080/"
        },
        "id": "SsHEwebJo5fm",
        "outputId": "d25d915d-ade2-4a49-8e70-401765fe40cf"
      },
      "execution_count": 55,
      "outputs": [
        {
          "output_type": "stream",
          "name": "stdout",
          "text": [
            "      Name    Age Grade         Gender  Score\n",
            "0    Alice  20.00     A         Female   88.0\n",
            "1      Bob  19.00     A           Male   75.0\n",
            "2  Charlie  20.75     B           Male   79.5\n",
            "3    David  21.00     A  Not Specified   92.0\n",
            "4      Eva  22.00     C         Female   68.0\n",
            "5    Frank  20.00     B           Male   80.0\n",
            "6    Grace  20.75     A         Female   85.0\n",
            "7   Hannah  23.00     A         Female   79.5\n",
            "8      Ian  21.00     B  Not Specified   77.0\n",
            "9     Jack  20.00     C           Male   79.0\n"
          ]
        }
      ]
    },
    {
      "cell_type": "code",
      "source": [
        "df.to_csv(\"cleaned_students.csv\", index=False)\n"
      ],
      "metadata": {
        "id": "-aG1A2v4pDyf"
      },
      "execution_count": 56,
      "outputs": []
    },
    {
      "cell_type": "code",
      "source": [],
      "metadata": {
        "id": "j_J5K473pqi1"
      },
      "execution_count": null,
      "outputs": []
    }
  ]
}