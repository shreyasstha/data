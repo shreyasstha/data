{
  "nbformat": 4,
  "nbformat_minor": 0,
  "metadata": {
    "colab": {
      "provenance": [],
      "toc_visible": true,
      "authorship_tag": "ABX9TyPQidMgYzvYfGS6fPpfDElX",
      "include_colab_link": true
    },
    "kernelspec": {
      "name": "python3",
      "display_name": "Python 3"
    },
    "language_info": {
      "name": "python"
    }
  },
  "cells": [
    {
      "cell_type": "markdown",
      "metadata": {
        "id": "view-in-github",
        "colab_type": "text"
      },
      "source": [
        "<a href=\"https://colab.research.google.com/github/shreyasstha/data/blob/main/data_cleaning.ipynb\" target=\"_parent\"><img src=\"https://colab.research.google.com/assets/colab-badge.svg\" alt=\"Open In Colab\"/></a>"
      ]
    },
    {
      "cell_type": "markdown",
      "source": [
        "#data cleaning"
      ],
      "metadata": {
        "id": "CKxNbK5EqC-2"
      }
    },
    {
      "cell_type": "code",
      "execution_count": 3,
      "metadata": {
        "colab": {
          "base_uri": "https://localhost:8080/"
        },
        "id": "L5vrohYJh29O",
        "outputId": "7d98ad6e-7dda-4955-82f4-7767487b8ae6"
      },
      "outputs": [
        {
          "output_type": "stream",
          "name": "stdout",
          "text": [
            "     Name   Age Grade  Gender  Subject  Score\n",
            "0   Alice  20.0     A  Female    Maths   88.0\n",
            "1     Bob  19.0   NaN    Male      NaN   75.0\n",
            "2   Alice   NaN     B    Male  Science    NaN\n",
            "3   David  21.0     A     NaN  English   92.0\n",
            "4     Bob  22.0     C  Female   Nepali   68.0\n",
            "5   Frank  20.0     B    Male   Social   80.0\n",
            "6   David   NaN     A  Female      NaN   85.0\n",
            "7  Hannah  23.0   NaN  Female   Health    NaN\n",
            "8  Hannah  21.0     B     NaN  English   77.0\n",
            "9   David  20.0     C    Male   Nepali   79.0\n"
          ]
        }
      ],
      "source": [
        "import pandas as pd\n",
        "df = pd.read_csv('/content/student_info.csv')\n",
        "print(df)"
      ]
    },
    {
      "cell_type": "code",
      "source": [
        "print(df.columns)\n"
      ],
      "metadata": {
        "colab": {
          "base_uri": "https://localhost:8080/"
        },
        "id": "jaoV0QgNiZym",
        "outputId": "baabcbe2-ddcb-4338-eb31-af1fa16a6b14"
      },
      "execution_count": null,
      "outputs": [
        {
          "output_type": "stream",
          "name": "stdout",
          "text": [
            "Index(['Name', 'Age', 'Grade', 'Gender', 'Subject', 'Score'], dtype='object')\n"
          ]
        }
      ]
    },
    {
      "cell_type": "code",
      "source": [
        "print(df.isnull().sum())\n"
      ],
      "metadata": {
        "colab": {
          "base_uri": "https://localhost:8080/"
        },
        "id": "_--xGG-FlaD8",
        "outputId": "7be0c900-3157-4fde-b04c-91b5be6a4738"
      },
      "execution_count": null,
      "outputs": [
        {
          "output_type": "stream",
          "name": "stdout",
          "text": [
            "Name       0\n",
            "Age        2\n",
            "Grade      2\n",
            "Gender     2\n",
            "Subject    2\n",
            "Score      2\n",
            "dtype: int64\n"
          ]
        }
      ]
    },
    {
      "cell_type": "code",
      "source": [
        "#dropped the column with NaN\n",
        "df_cleaned = df.dropna()\n",
        "print(df_cleaned)\n"
      ],
      "metadata": {
        "colab": {
          "base_uri": "https://localhost:8080/"
        },
        "id": "jpuIoiJpldiN",
        "outputId": "df66b821-5ac3-4ede-c311-39c9605d5b25"
      },
      "execution_count": null,
      "outputs": [
        {
          "output_type": "stream",
          "name": "stdout",
          "text": [
            "    Name   Age Grade  Gender Subject  Score\n",
            "0  Alice  20.0     A  Female   Maths   88.0\n",
            "4    Bob  22.0     C  Female  Nepali   68.0\n",
            "5  Frank  20.0     B    Male  Social   80.0\n",
            "9  David  20.0     C    Male  Nepali   79.0\n"
          ]
        }
      ]
    },
    {
      "cell_type": "code",
      "source": [
        "df['Age'] = df['Age'].fillna(df['Age'].mean())"
      ],
      "metadata": {
        "id": "4HWRh4vfnLxT"
      },
      "execution_count": 4,
      "outputs": []
    },
    {
      "cell_type": "code",
      "source": [
        "df['Grade']= df['Grade'].fillna(df['Grade'].mode()[0])"
      ],
      "metadata": {
        "id": "AuUPl7p8mo33"
      },
      "execution_count": 5,
      "outputs": []
    },
    {
      "cell_type": "code",
      "source": [
        "df['Gender']= df['Gender'].fillna('Not Specified')"
      ],
      "metadata": {
        "id": "0TIZQutMm1QE"
      },
      "execution_count": 6,
      "outputs": []
    },
    {
      "cell_type": "code",
      "source": [
        "df['Score'] = df['Score'].fillna(df['Score'].median())"
      ],
      "metadata": {
        "id": "wT_VZDDInhjt"
      },
      "execution_count": 7,
      "outputs": []
    },
    {
      "cell_type": "code",
      "source": [
        "df['Subject'] = df['Subject'].fillna(\"Moral\")\n",
        "#df['Subject'].fillna('Unknown', inplace=True) => inplace return NULL values"
      ],
      "metadata": {
        "id": "v0b4LOFlED8p"
      },
      "execution_count": 8,
      "outputs": []
    },
    {
      "cell_type": "code",
      "source": [
        "#df['Age'] = df['Age'].fillna(13)\n"
      ],
      "metadata": {
        "id": "p9O-QOcDohJh"
      },
      "execution_count": null,
      "outputs": []
    },
    {
      "cell_type": "code",
      "source": [
        "print(df)"
      ],
      "metadata": {
        "colab": {
          "base_uri": "https://localhost:8080/"
        },
        "id": "SsHEwebJo5fm",
        "outputId": "6e4b224d-a224-489d-aa41-5b1a6724120d"
      },
      "execution_count": 9,
      "outputs": [
        {
          "output_type": "stream",
          "name": "stdout",
          "text": [
            "     Name    Age Grade         Gender  Subject  Score\n",
            "0   Alice  20.00     A         Female    Maths   88.0\n",
            "1     Bob  19.00     A           Male    Moral   75.0\n",
            "2   Alice  20.75     B           Male  Science   79.5\n",
            "3   David  21.00     A  Not Specified  English   92.0\n",
            "4     Bob  22.00     C         Female   Nepali   68.0\n",
            "5   Frank  20.00     B           Male   Social   80.0\n",
            "6   David  20.75     A         Female    Moral   85.0\n",
            "7  Hannah  23.00     A         Female   Health   79.5\n",
            "8  Hannah  21.00     B  Not Specified  English   77.0\n",
            "9   David  20.00     C           Male   Nepali   79.0\n"
          ]
        }
      ]
    },
    {
      "cell_type": "code",
      "source": [
        "df.to_csv(\"cleaned_students.csv\", index=False)\n"
      ],
      "metadata": {
        "id": "-aG1A2v4pDyf"
      },
      "execution_count": 10,
      "outputs": []
    },
    {
      "cell_type": "code",
      "source": [
        "# Ensure Age and Score are numeric\n",
        "df['Age'] = df['Age'].astype(int)\n",
        "df['Score'] = df['Score'].astype(int)\n",
        "print(df)\n"
      ],
      "metadata": {
        "colab": {
          "base_uri": "https://localhost:8080/"
        },
        "id": "5yNgvGvH1F4m",
        "outputId": "03cf1192-f4c3-40de-d916-ad2aa9cc68d9"
      },
      "execution_count": null,
      "outputs": [
        {
          "output_type": "stream",
          "name": "stdout",
          "text": [
            "     Name  Age Grade         Gender  Subject  Score\n",
            "0   Alice   20     A         Female    Maths     88\n",
            "1     Bob   19     A           Male    Moral     75\n",
            "2   Alice   20     B           Male  Science     79\n",
            "3   David   21     A  Not Specified  English     92\n",
            "4     Bob   22     C         Female   Nepali     68\n",
            "5   Frank   20     B           Male   Social     80\n",
            "6   David   20     A         Female    Moral     85\n",
            "7  Hannah   23     A         Female   Health     79\n",
            "8  Hannah   21     B  Not Specified  English     77\n",
            "9   David   20     C           Male   Nepali     79\n"
          ]
        }
      ]
    },
    {
      "cell_type": "code",
      "source": [
        "df.drop_duplicates(inplace=True)\n",
        "print(df)\n"
      ],
      "metadata": {
        "colab": {
          "base_uri": "https://localhost:8080/"
        },
        "id": "jyU7POoL1RXf",
        "outputId": "47e93d5a-fa8a-48f7-b4d5-2bfafaf9f641"
      },
      "execution_count": null,
      "outputs": [
        {
          "output_type": "stream",
          "name": "stdout",
          "text": [
            "     Name  Age Grade         Gender  Subject  Score\n",
            "0   Alice   20     A         Female    Maths     88\n",
            "1     Bob   19     A           Male    Moral     75\n",
            "2   Alice   20     B           Male  Science     79\n",
            "3   David   21     A  Not Specified  English     92\n",
            "4     Bob   22     C         Female   Nepali     68\n",
            "5   Frank   20     B           Male   Social     80\n",
            "6   David   20     A         Female    Moral     85\n",
            "7  Hannah   23     A         Female   Health     79\n",
            "8  Hannah   21     B  Not Specified  English     77\n",
            "9   David   20     C           Male   Nepali     79\n"
          ]
        }
      ]
    },
    {
      "cell_type": "markdown",
      "source": [
        "#grouped by"
      ],
      "metadata": {
        "id": "nUtQE5NiEVcq"
      }
    },
    {
      "cell_type": "code",
      "source": [
        "#sales_A = sales[sales[\"type\"] == \"A\"][\"weekly_sales\"].sum()\n",
        "grouped = df[df[\"Subject\"] == \"English\"][\"Score\"].mean()\n",
        "print(grouped)\n",
        "print(df)"
      ],
      "metadata": {
        "colab": {
          "base_uri": "https://localhost:8080/"
        },
        "id": "9gp0tIwwEXeo",
        "outputId": "4a4d8da8-8456-43be-dd9a-7a1bc8379be9"
      },
      "execution_count": null,
      "outputs": [
        {
          "output_type": "stream",
          "name": "stdout",
          "text": [
            "84.5\n",
            "     Name    Age Grade         Gender  Subject  Score\n",
            "0   Alice  20.00     A         Female    Maths   88.0\n",
            "1     Bob  19.00     A           Male    Moral   75.0\n",
            "2   Alice  20.75     B           Male  Science   79.5\n",
            "3   David  21.00     A  Not Specified  English   92.0\n",
            "4     Bob  22.00     C         Female   Nepali   68.0\n",
            "5   Frank  20.00     B           Male   Social   80.0\n",
            "6   David  20.75     A         Female    Moral   85.0\n",
            "7  Hannah  23.00     A         Female   Health   79.5\n",
            "8  Hannah  21.00     B  Not Specified  English   77.0\n",
            "9   David  20.00     C           Male   Nepali   79.0\n"
          ]
        }
      ]
    },
    {
      "cell_type": "code",
      "source": [
        "grouped_byname = df.groupby('Name')['Subject'].count()\n",
        "print(grouped_byname)"
      ],
      "metadata": {
        "colab": {
          "base_uri": "https://localhost:8080/"
        },
        "id": "GU_yqV8d2B7G",
        "outputId": "bbe17cb8-08c6-4818-b418-47239b19347e"
      },
      "execution_count": null,
      "outputs": [
        {
          "output_type": "stream",
          "name": "stdout",
          "text": [
            "Name\n",
            "Alice     2\n",
            "Bob       2\n",
            "David     3\n",
            "Frank     1\n",
            "Hannah    2\n",
            "Name: Subject, dtype: int64\n"
          ]
        }
      ]
    },
    {
      "cell_type": "code",
      "source": [
        "df['Subject_Index'] = df.groupby('Name').cumcount()\n",
        "pivoted = df.pivot( values='Subject' ,index='Name', columns='Subject_Index')\n",
        "print(pivoted)"
      ],
      "metadata": {
        "colab": {
          "base_uri": "https://localhost:8080/"
        },
        "id": "mjPeUKGd20dX",
        "outputId": "e908e2c3-a4e3-4da1-c6fd-265af32d79fd"
      },
      "execution_count": null,
      "outputs": [
        {
          "output_type": "stream",
          "name": "stdout",
          "text": [
            "Subject_Index        0        1       2\n",
            "Name                                   \n",
            "Alice            Maths  Science     NaN\n",
            "Bob              Moral   Nepali     NaN\n",
            "David          English    Moral  Nepali\n",
            "Frank           Social      NaN     NaN\n",
            "Hannah          Health  English     NaN\n"
          ]
        }
      ]
    },
    {
      "cell_type": "code",
      "source": [
        "grouped = df.groupby(['Subject'])[\"Score\"].sum()\n",
        "print(grouped)"
      ],
      "metadata": {
        "colab": {
          "base_uri": "https://localhost:8080/"
        },
        "id": "draGp1diGd2K",
        "outputId": "997cd1ce-faae-4981-b17e-d96e32485875"
      },
      "execution_count": null,
      "outputs": [
        {
          "output_type": "stream",
          "name": "stdout",
          "text": [
            "Subject\n",
            "English    169.0\n",
            "Health      79.5\n",
            "Maths       88.0\n",
            "Moral      160.0\n",
            "Nepali     147.0\n",
            "Science     79.5\n",
            "Social      80.0\n",
            "Name: Score, dtype: float64\n"
          ]
        }
      ]
    },
    {
      "cell_type": "code",
      "source": [
        "grouped = df.groupby(['Subject'])[\"Score\"].agg([max, min, sum])\n",
        "print(grouped)"
      ],
      "metadata": {
        "colab": {
          "base_uri": "https://localhost:8080/"
        },
        "id": "Z5KITY1oIDs7",
        "outputId": "7c8e6b0d-5163-41f7-918e-d966e9115ac0"
      },
      "execution_count": null,
      "outputs": [
        {
          "output_type": "stream",
          "name": "stdout",
          "text": [
            "[          max   min    sum\n",
            "Subject                   \n",
            "English  92.0  77.0  169.0\n",
            "Health   79.5  79.5   79.5\n",
            "Maths    88.0  88.0   88.0\n",
            "Moral    85.0  75.0  160.0\n",
            "Nepali   79.0  68.0  147.0\n",
            "Science  79.5  79.5   79.5\n",
            "Social   80.0  80.0   80.0]\n"
          ]
        },
        {
          "output_type": "stream",
          "name": "stderr",
          "text": [
            "/tmp/ipython-input-4273034962.py:1: FutureWarning: The provided callable <built-in function max> is currently using SeriesGroupBy.max. In a future version of pandas, the provided callable will be used directly. To keep current behavior pass the string \"max\" instead.\n",
            "  grouped = df.groupby(['Subject'])[\"Score\"].agg([max, min, sum])\n",
            "/tmp/ipython-input-4273034962.py:1: FutureWarning: The provided callable <built-in function min> is currently using SeriesGroupBy.min. In a future version of pandas, the provided callable will be used directly. To keep current behavior pass the string \"min\" instead.\n",
            "  grouped = df.groupby(['Subject'])[\"Score\"].agg([max, min, sum])\n",
            "/tmp/ipython-input-4273034962.py:1: FutureWarning: The provided callable <built-in function sum> is currently using SeriesGroupBy.sum. In a future version of pandas, the provided callable will be used directly. To keep current behavior pass the string \"sum\" instead.\n",
            "  grouped = df.groupby(['Subject'])[\"Score\"].agg([max, min, sum])\n"
          ]
        }
      ]
    },
    {
      "cell_type": "code",
      "source": [
        "#group by pivot table\n",
        "pivoted= df.pivot_table(values=\"Score\", index=\"Subject\", aggfunc=\"sum\")\n",
        "print(pivoted)"
      ],
      "metadata": {
        "colab": {
          "base_uri": "https://localhost:8080/"
        },
        "id": "6I01Xa2sKlqy",
        "outputId": "810a5b76-ed55-4e6c-cf36-55dec50b733a"
      },
      "execution_count": null,
      "outputs": [
        {
          "output_type": "stream",
          "name": "stdout",
          "text": [
            "         Score\n",
            "Subject       \n",
            "English  169.0\n",
            "Health    79.5\n",
            "Maths     88.0\n",
            "Moral    160.0\n",
            "Nepali   147.0\n",
            "Science   79.5\n",
            "Social    80.0\n"
          ]
        }
      ]
    },
    {
      "cell_type": "code",
      "source": [
        "df[\"Score_index\"] = df.groupby(\"Name\").cumcount(0)\n",
        "pivoted = df.pivot_table(values=\"Score\", index=\"Name\", columns=\"Score_index\" , aggfunc=\"sum\", margins=True)\n",
        "print(pivoted)"
      ],
      "metadata": {
        "colab": {
          "base_uri": "https://localhost:8080/"
        },
        "id": "mz5IfI-LK1gM",
        "outputId": "fab26be7-ac6c-4a5c-9b54-0d91bb20b6f6"
      },
      "execution_count": null,
      "outputs": [
        {
          "output_type": "stream",
          "name": "stdout",
          "text": [
            "Score_index      0      1     2  All\n",
            "Name                                \n",
            "Alice         79.0   88.0   NaN  167\n",
            "Bob           68.0   75.0   NaN  143\n",
            "David         79.0   85.0  92.0  256\n",
            "Frank         80.0    NaN   NaN   80\n",
            "Hannah        77.0   79.0   NaN  156\n",
            "All          383.0  327.0  92.0  802\n"
          ]
        }
      ]
    },
    {
      "cell_type": "code",
      "source": [
        "print(df.pivot_table(values=\"Age\", index=\"Name\", fill_value=0))"
      ],
      "metadata": {
        "colab": {
          "base_uri": "https://localhost:8080/"
        },
        "id": "q1-jjrEvLCQI",
        "outputId": "b51e2b3f-e030-4d0d-fa9e-420b69970384"
      },
      "execution_count": null,
      "outputs": [
        {
          "output_type": "stream",
          "name": "stdout",
          "text": [
            "              Age\n",
            "Name             \n",
            "Alice   20.000000\n",
            "Bob     20.500000\n",
            "David   20.333333\n",
            "Frank   20.000000\n",
            "Hannah  22.000000\n"
          ]
        }
      ]
    },
    {
      "cell_type": "markdown",
      "source": [
        "#index"
      ],
      "metadata": {
        "id": "PKd-h6xcT2G0"
      }
    },
    {
      "cell_type": "code",
      "source": [
        "df_ind = df.set_index(\"Name\")\n",
        "print(df_ind)"
      ],
      "metadata": {
        "colab": {
          "base_uri": "https://localhost:8080/"
        },
        "id": "WdgUk3HCT330",
        "outputId": "984bc541-ed41-4d9f-a051-e5858297f184"
      },
      "execution_count": null,
      "outputs": [
        {
          "output_type": "stream",
          "name": "stdout",
          "text": [
            "          Age Grade         Gender  Subject  Score\n",
            "Name                                              \n",
            "Alice   20.00     A         Female    Maths   88.0\n",
            "Bob     19.00     A           Male    Moral   75.0\n",
            "Alice   20.75     B           Male  Science   79.5\n",
            "David   21.00     A  Not Specified  English   92.0\n",
            "Bob     22.00     C         Female   Nepali   68.0\n",
            "Frank   20.00     B           Male   Social   80.0\n",
            "David   20.75     A         Female    Moral   85.0\n",
            "Hannah  23.00     A         Female   Health   79.5\n",
            "Hannah  21.00     B  Not Specified  English   77.0\n",
            "David   20.00     C           Male   Nepali   79.0\n"
          ]
        }
      ]
    },
    {
      "cell_type": "code",
      "source": [
        "print(df_ind.reset_index())"
      ],
      "metadata": {
        "colab": {
          "base_uri": "https://localhost:8080/"
        },
        "id": "Yk3KOVVNUKdf",
        "outputId": "cd7a5a9f-4695-46c8-b193-70465113cec2"
      },
      "execution_count": null,
      "outputs": [
        {
          "output_type": "stream",
          "name": "stdout",
          "text": [
            "     Name    Age Grade         Gender  Subject  Score\n",
            "0   Alice  20.00     A         Female    Maths   88.0\n",
            "1     Bob  19.00     A           Male    Moral   75.0\n",
            "2   Alice  20.75     B           Male  Science   79.5\n",
            "3   David  21.00     A  Not Specified  English   92.0\n",
            "4     Bob  22.00     C         Female   Nepali   68.0\n",
            "5   Frank  20.00     B           Male   Social   80.0\n",
            "6   David  20.75     A         Female    Moral   85.0\n",
            "7  Hannah  23.00     A         Female   Health   79.5\n",
            "8  Hannah  21.00     B  Not Specified  English   77.0\n",
            "9   David  20.00     C           Male   Nepali   79.0\n"
          ]
        }
      ]
    },
    {
      "cell_type": "code",
      "source": [
        "print(df_ind.reset_index(drop=True))   #drops the name column"
      ],
      "metadata": {
        "colab": {
          "base_uri": "https://localhost:8080/"
        },
        "id": "K09yMTJgUUeO",
        "outputId": "4aafab61-164a-4f60-c5bb-43260496f939"
      },
      "execution_count": null,
      "outputs": [
        {
          "output_type": "stream",
          "name": "stdout",
          "text": [
            "     Age Grade         Gender  Subject  Score\n",
            "0  20.00     A         Female    Maths   88.0\n",
            "1  19.00     A           Male    Moral   75.0\n",
            "2  20.75     B           Male  Science   79.5\n",
            "3  21.00     A  Not Specified  English   92.0\n",
            "4  22.00     C         Female   Nepali   68.0\n",
            "5  20.00     B           Male   Social   80.0\n",
            "6  20.75     A         Female    Moral   85.0\n",
            "7  23.00     A         Female   Health   79.5\n",
            "8  21.00     B  Not Specified  English   77.0\n",
            "9  20.00     C           Male   Nepali   79.0\n"
          ]
        }
      ]
    },
    {
      "cell_type": "markdown",
      "source": [
        "#sort_index"
      ],
      "metadata": {
        "id": "b9l7cLGg5eqN"
      }
    },
    {
      "cell_type": "code",
      "source": [
        "df_ind = df.set_index([\"Age\" ,\"Gender\"])\n",
        "\n",
        "# List of tuples\n",
        "rows_to_keep = [(20, \"Female\" ),(19,\"Male\")]\n",
        "\n",
        "print(df_ind.loc[rows_to_keep])"
      ],
      "metadata": {
        "colab": {
          "base_uri": "https://localhost:8080/"
        },
        "id": "8-BCgFg1Vx1x",
        "outputId": "7d0510f4-bb23-4a30-8035-9e2ccc652820"
      },
      "execution_count": null,
      "outputs": [
        {
          "output_type": "stream",
          "name": "stdout",
          "text": [
            "             Name Grade Subject  Score  Subject_Index  Score_index\n",
            "Age Gender                                                        \n",
            "20  Female  Alice     A   Maths     88              0            1\n",
            "    Female  David     A   Moral     85              1            1\n",
            "19  Male      Bob     A   Moral     75              0            1\n"
          ]
        }
      ]
    },
    {
      "cell_type": "code",
      "source": [
        "df_multi = df.set_index([\"Name\", \"Age\", \"Score\"])\n",
        "\n",
        "print(\"Sort by Name:\")\n",
        "print(df_multi.sort_index(level=\"Name\"))\n",
        "print(\"\\n\")"
      ],
      "metadata": {
        "id": "WqvQ4FT-WzX8",
        "colab": {
          "base_uri": "https://localhost:8080/"
        },
        "outputId": "a45a26e9-8c19-4a2f-af50-b3145289b2d2"
      },
      "execution_count": null,
      "outputs": [
        {
          "output_type": "stream",
          "name": "stdout",
          "text": [
            "Sort by Name:\n",
            "                 Grade         Gender  Subject  Subject_Index  Score_index\n",
            "Name   Age Score                                                          \n",
            "Alice  20  79        B           Male  Science              1            0\n",
            "           88        A         Female    Maths              0            1\n",
            "Bob    19  75        A           Male    Moral              0            1\n",
            "       22  68        C         Female   Nepali              1            0\n",
            "David  20  79        C           Male   Nepali              2            0\n",
            "           85        A         Female    Moral              1            1\n",
            "       21  92        A  Not Specified  English              0            2\n",
            "Frank  20  80        B           Male   Social              0            0\n",
            "Hannah 21  77        B  Not Specified  English              1            0\n",
            "       23  79        A         Female   Health              0            1\n",
            "\n",
            "\n"
          ]
        }
      ]
    },
    {
      "cell_type": "code",
      "source": [
        "print(\" Sort by Score:\")\n",
        "print(df_multi.sort_index(level=\"Score\"))\n",
        "print(\"\\n\")"
      ],
      "metadata": {
        "colab": {
          "base_uri": "https://localhost:8080/"
        },
        "id": "4yDiOgaf5uMg",
        "outputId": "6d1b04ca-9f3d-4424-8007-7c66ab2c179d"
      },
      "execution_count": null,
      "outputs": [
        {
          "output_type": "stream",
          "name": "stdout",
          "text": [
            " Sort by Score:\n",
            "                 Grade         Gender  Subject  Subject_Index  Score_index\n",
            "Name   Age Score                                                          \n",
            "Bob    22  68        C         Female   Nepali              1            0\n",
            "       19  75        A           Male    Moral              0            1\n",
            "Hannah 21  77        B  Not Specified  English              1            0\n",
            "Alice  20  79        B           Male  Science              1            0\n",
            "David  20  79        C           Male   Nepali              2            0\n",
            "Hannah 23  79        A         Female   Health              0            1\n",
            "Frank  20  80        B           Male   Social              0            0\n",
            "David  20  85        A         Female    Moral              1            1\n",
            "Alice  20  88        A         Female    Maths              0            1\n",
            "David  21  92        A  Not Specified  English              0            2\n",
            "\n",
            "\n"
          ]
        }
      ]
    },
    {
      "cell_type": "code",
      "source": [
        "print(df_multi.sort_index(level=[\"Age\", \"Score\"], ascending=[True, False]))"
      ],
      "metadata": {
        "colab": {
          "base_uri": "https://localhost:8080/"
        },
        "id": "i0guHGdU5090",
        "outputId": "e8bec6ce-ec06-47e8-cd9c-f7bb3f20af0e"
      },
      "execution_count": null,
      "outputs": [
        {
          "output_type": "stream",
          "name": "stdout",
          "text": [
            "                 Grade         Gender  Subject  Subject_Index  Score_index\n",
            "Name   Age Score                                                          \n",
            "Bob    19  75        A           Male    Moral              0            1\n",
            "Alice  20  88        A         Female    Maths              0            1\n",
            "David  20  85        A         Female    Moral              1            1\n",
            "Frank  20  80        B           Male   Social              0            0\n",
            "Alice  20  79        B           Male  Science              1            0\n",
            "David  20  79        C           Male   Nepali              2            0\n",
            "       21  92        A  Not Specified  English              0            2\n",
            "Hannah 21  77        B  Not Specified  English              1            0\n",
            "Bob    22  68        C         Female   Nepali              1            0\n",
            "Hannah 23  79        A         Female   Health              0            1\n"
          ]
        }
      ]
    },
    {
      "cell_type": "markdown",
      "source": [
        "#slicing"
      ],
      "metadata": {
        "id": "UJT6BOba9srP"
      }
    },
    {
      "cell_type": "code",
      "source": [
        "df_sort = df.set_index([\"Name\",\"Subject\"]).sort_index()\n",
        "\n",
        "print(df_sort.loc[\"Alice\":\"Frank\"])\n",
        "print(df_sort.loc[\"English\":\"Moral\"])\n",
        "\n"
      ],
      "metadata": {
        "id": "MqCw2C1C5P5P",
        "colab": {
          "base_uri": "https://localhost:8080/"
        },
        "outputId": "260ee7c5-ee1e-4ce4-b99e-24e092363e39"
      },
      "execution_count": null,
      "outputs": [
        {
          "output_type": "stream",
          "name": "stdout",
          "text": [
            "                Age Grade  Gender  Score\n",
            "Name  Subject                           \n",
            "Alice Maths    20.0     A  Female   88.0\n",
            "      Science   NaN     B    Male    NaN\n",
            "Bob   Nepali   22.0     C  Female   68.0\n",
            "      NaN      19.0   NaN    Male   75.0\n",
            "David English  21.0     A     NaN   92.0\n",
            "      Nepali   20.0     C    Male   79.0\n",
            "      NaN       NaN     A  Female   85.0\n",
            "Frank Social   20.0     B    Male   80.0\n",
            "                 Age Grade  Gender  Score\n",
            "Name   Subject                           \n",
            "Frank  Social   20.0     B    Male   80.0\n",
            "Hannah English  21.0     B     NaN   77.0\n",
            "       Health   23.0   NaN  Female    NaN\n"
          ]
        }
      ]
    },
    {
      "cell_type": "markdown",
      "source": [
        "#data visulatization\n"
      ],
      "metadata": {
        "id": "ISRjszr-p_uq"
      }
    },
    {
      "cell_type": "code",
      "source": [
        "import matplotlib.pyplot as plt\n",
        "import seaborn as sns\n",
        "import pandas as pd\n"
      ],
      "metadata": {
        "id": "j_J5K473pqi1"
      },
      "execution_count": 11,
      "outputs": []
    },
    {
      "cell_type": "code",
      "source": [
        "avg = df.groupby('Gender')['Score'].mean()\n",
        "print(avg)\n",
        "avg.plot(kind=\"bar\")\n",
        "\n",
        "plt.title(\"Average Score by Gender\")\n",
        "plt.ylabel(\"Average Score\")\n",
        "plt.xlabel(\"Gender\")\n",
        "plt.show()\n"
      ],
      "metadata": {
        "colab": {
          "base_uri": "https://localhost:8080/",
          "height": 637
        },
        "id": "ltd7IDvkqLxh",
        "outputId": "6a36dc4c-1c9a-4bee-d80f-b96ea1818c69"
      },
      "execution_count": 12,
      "outputs": [
        {
          "output_type": "stream",
          "name": "stdout",
          "text": [
            "Gender\n",
            "Female           80.125\n",
            "Male             78.375\n",
            "Not Specified    84.500\n",
            "Name: Score, dtype: float64\n"
          ]
        },
        {
          "output_type": "display_data",
          "data": {
            "text/plain": [
              "<Figure size 640x480 with 1 Axes>"
            ],
            "image/png": "[encoded data removed]"
          },
          "metadata": {}
        }
      ]
    },
    {
      "cell_type": "code",
      "source": [
        "# Set style\n",
        "sns.set(style=\"whitegrid\")\n",
        "sns.barplot(data=df, x='Gender', y='Score', estimator='mean')"
      ],
      "metadata": {
        "colab": {
          "base_uri": "https://localhost:8080/",
          "height": 475
        },
        "id": "aTNQHOZAGAa1",
        "outputId": "e11c2a33-1976-4ae9-bf7a-54851a4eb6ae"
      },
      "execution_count": 13,
      "outputs": [
        {
          "output_type": "execute_result",
          "data": {
            "text/plain": [
              "<Axes: xlabel='Gender', ylabel='Score'>"
            ]
          },
          "metadata": {},
          "execution_count": 13
        },
        {
          "output_type": "display_data",
          "data": {
            "text/plain": [
              "<Figure size 640x480 with 1 Axes>"
            ],
            "image/png": "[encoded data removed]"
          },
          "metadata": {}
        }
      ]
    },
    {
      "cell_type": "code",
      "source": [
        "#histogram\n",
        "sns.histplot(data=df, x='Score', bins=5, kde=True, color='skyblue')\n",
        "plt.title(\"Histogram of Student Scores\")\n",
        "plt.xlabel(\"Score\")\n",
        "plt.ylabel(\"Frequency\")\n",
        "plt.show()\n"
      ],
      "metadata": {
        "colab": {
          "base_uri": "https://localhost:8080/",
          "height": 480
        },
        "id": "fvmtyPK8qQoy",
        "outputId": "fb1fe9c7-2226-49fb-9b2d-923581f47340"
      },
      "execution_count": null,
      "outputs": [
        {
          "output_type": "display_data",
          "data": {
            "text/plain": [
              "<Figure size 640x480 with 1 Axes>"
            ],
            "image/png": "[encoded data removed]"
          },
          "metadata": {}
        }
      ]
    },
    {
      "cell_type": "code",
      "source": [
        "df.plot(x=\"Age\", y=\"Score\", kind=\"scatter\")\n",
        "plt.show()"
      ],
      "metadata": {
        "colab": {
          "base_uri": "https://localhost:8080/",
          "height": 458
        },
        "id": "OxaB02QSHG80",
        "outputId": "e94f7972-b606-4318-e734-e7dd54a27a9e"
      },
      "execution_count": 15,
      "outputs": [
        {
          "output_type": "display_data",
          "data": {
            "text/plain": [
              "<Figure size 640x480 with 1 Axes>"
            ],
            "image/png": "[encoded data removed]"
          },
          "metadata": {}
        }
      ]
    },
    {
      "cell_type": "code",
      "source": [
        "df[df[\"Gender\"] == \"Female\"][\"Score\"].hist(alpha=0.5)\n",
        "df[df[\"Gender\"] == \"Male\"][\"Score\"].hist()\n",
        "\n",
        "plt.legend([\"Female\", \"Male\"])\n",
        "plt.show()\n"
      ],
      "metadata": {
        "colab": {
          "base_uri": "https://localhost:8080/",
          "height": 434
        },
        "id": "uh77tekBHm3V",
        "outputId": "86f663f6-f4f7-4366-f3ff-87fe0a73e979"
      },
      "execution_count": 20,
      "outputs": [
        {
          "output_type": "display_data",
          "data": {
            "text/plain": [
              "<Figure size 640x480 with 1 Axes>"
            ],
            "image/png": "[encoded data removed]"
          },
          "metadata": {}
        }
      ]
    },
    {
      "cell_type": "code",
      "source": [
        "sns.scatterplot(data=df, x='Age', y='Score', hue='Gender')\n",
        "plt.title(\"Age vs Score (colored by Gender)\")\n",
        "plt.xlabel(\"Age\")\n",
        "plt.ylabel(\"Score\")\n",
        "plt.legend()\n",
        "plt.show()\n"
      ],
      "metadata": {
        "colab": {
          "base_uri": "https://localhost:8080/",
          "height": 480
        },
        "id": "4yjzwUaPqfxc",
        "outputId": "1d52b477-2c42-4cde-c534-f65b860650c6"
      },
      "execution_count": 17,
      "outputs": [
        {
          "output_type": "display_data",
          "data": {
            "text/plain": [
              "<Figure size 640x480 with 1 Axes>"
            ],
            "image/png": "[encoded data removed]"
          },
          "metadata": {}
        }
      ]
    },
    {
      "cell_type": "code",
      "source": [
        "plot_byScore = df.groupby(\"Subject\")[\"Score\"].sum()\n",
        "\n",
        "# Create a line plot of the number of avocados sold by date\n",
        "plot_byScore.plot(kind=\"line\")\n",
        "\n",
        "plt.show()"
      ],
      "metadata": {
        "id": "adbDE-Jxqmrr",
        "colab": {
          "base_uri": "https://localhost:8080/",
          "height": 458
        },
        "outputId": "e8f6cd79-eee4-4435-c985-8e171fcd0dcd"
      },
      "execution_count": 22,
      "outputs": [
        {
          "output_type": "display_data",
          "data": {
            "text/plain": [
              "<Figure size 640x480 with 1 Axes>"
            ],
            "image/png": "[encoded data removed]"
          },
          "metadata": {}
        }
      ]
    },
    {
      "cell_type": "code",
      "source": [],
      "metadata": {
        "id": "z3w-RfQ6IKcL"
      },
      "execution_count": null,
      "outputs": []
    }
  ]
}